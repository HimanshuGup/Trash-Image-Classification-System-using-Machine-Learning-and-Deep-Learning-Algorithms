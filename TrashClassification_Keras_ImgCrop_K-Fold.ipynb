{
 "cells": [
  {
   "cell_type": "code",
   "execution_count": 85,
   "metadata": {},
   "outputs": [],
   "source": [
    "%matplotlib inline\n",
    "import json\n",
    "import numpy as np\n",
    "import pandas as pd\n",
    "import matplotlib.pyplot as plt\n",
    "import seaborn as sns; sns.set() \n",
    "from matplotlib import pyplot\n",
    "\n",
    "# Data Splitting \n",
    "import os.path\n",
    "import argparse\n",
    "import random\n",
    "import datetime as dt\n",
    "import copy\n",
    "\n",
    "# Data Augmentation \n",
    "import PIL\n",
    "import cv2\n",
    "import glob\n",
    "import xml.etree.ElementTree as ET # for parsing XML\n",
    "from PIL import Image # to read images\n",
    "import os"
   ]
  },
  {
   "cell_type": "markdown",
   "metadata": {},
   "source": [
    "### Use Keras Model Architecture "
   ]
  },
  {
   "cell_type": "code",
   "execution_count": 86,
   "metadata": {},
   "outputs": [],
   "source": [
    "#For Keras model\n",
    "import keras\n",
    "from keras.models import Sequential\n",
    "from keras.layers import Dense, Dropout, Flatten, Activation, BatchNormalization\n",
    "from keras.layers import Conv2D, MaxPooling2D\n",
    "from keras.utils import to_categorical\n",
    "from keras.preprocessing import image\n",
    "from sklearn.model_selection import train_test_split\n",
    "from keras.preprocessing.image import ImageDataGenerator, load_img\n",
    "from keras import regularizers, optimizers\n",
    "from keras.optimizers import SGD,Adam\n",
    "from tensorflow.keras.losses import categorical_crossentropy\n",
    "import tensorflow as tf"
   ]
  },
  {
   "cell_type": "code",
   "execution_count": 87,
   "metadata": {},
   "outputs": [],
   "source": [
    "from sklearn.model_selection import KFold"
   ]
  },
  {
   "cell_type": "markdown",
   "metadata": {},
   "source": [
    "### Dataset Preparation "
   ]
  },
  {
   "cell_type": "code",
   "execution_count": 133,
   "metadata": {},
   "outputs": [],
   "source": [
    "dataset_path = './data'\n",
    "anns_file_path = dataset_path + '/' + 'annotations.json'"
   ]
  },
  {
   "cell_type": "code",
   "execution_count": 134,
   "metadata": {},
   "outputs": [],
   "source": [
    "# Read Annotations\n",
    "with open(anns_file_path , 'r') as f:\n",
    "    dataset = json.loads(f.read())"
   ]
  },
  {
   "cell_type": "code",
   "execution_count": 135,
   "metadata": {},
   "outputs": [
    {
     "name": "stdout",
     "output_type": "stream",
     "text": [
      "1500\n"
     ]
    }
   ],
   "source": [
    "categories = dataset['categories']\n",
    "anns = dataset['annotations']\n",
    "imgs = dataset['images']\n",
    "nr_cats = len(categories)\n",
    "nr_annotations = len(anns)\n",
    "nr_images = len(imgs)\n",
    "\n",
    "print(nr_images) # Total Number of images"
   ]
  },
  {
   "cell_type": "code",
   "execution_count": 137,
   "metadata": {},
   "outputs": [],
   "source": [
    "# category Dataframe and  Select 'six new Category(ouput classes)' for category Dataframe\n",
    "cat_df = pd.DataFrame(categories)\n",
    "keyValList = ['Cigarette','Clear plastic bottle','Drink can','Plastic straw','Glass bottle']\n",
    "category_df = pd.DataFrame([d for d in categories if d['name'] in keyValList])\n",
    "\n",
    "# Annotation Dataframe\n",
    "ann_df = pd.DataFrame(anns)\n",
    "# Images Dataframe\n",
    "image_df = pd.DataFrame(imgs)"
   ]
  },
  {
   "cell_type": "code",
   "execution_count": 138,
   "metadata": {},
   "outputs": [],
   "source": [
    "# Dropping unncessary columns for Keras fundamental CNN model\n",
    "category_df = category_df.drop(['supercategory'], axis = 1)\n",
    "image_df = image_df.drop(['license','flickr_url','coco_url','date_captured','flickr_640_url'], axis=1)\n",
    "ann_df = ann_df.drop(['id'], axis=1)"
   ]
  },
  {
   "cell_type": "code",
   "execution_count": 139,
   "metadata": {},
   "outputs": [
    {
     "data": {
      "text/html": [
       "<div>\n",
       "<style scoped>\n",
       "    .dataframe tbody tr th:only-of-type {\n",
       "        vertical-align: middle;\n",
       "    }\n",
       "\n",
       "    .dataframe tbody tr th {\n",
       "        vertical-align: top;\n",
       "    }\n",
       "\n",
       "    .dataframe thead th {\n",
       "        text-align: right;\n",
       "    }\n",
       "</style>\n",
       "<table border=\"1\" class=\"dataframe\">\n",
       "  <thead>\n",
       "    <tr style=\"text-align: right;\">\n",
       "      <th></th>\n",
       "      <th>filename</th>\n",
       "      <th>segmentation</th>\n",
       "      <th>area</th>\n",
       "      <th>bbox</th>\n",
       "      <th>iscrowd</th>\n",
       "      <th>category</th>\n",
       "    </tr>\n",
       "  </thead>\n",
       "  <tbody>\n",
       "    <tr>\n",
       "      <th>0</th>\n",
       "      <td>batch_1/000006.jpg</td>\n",
       "      <td>[[561.0, 1238.0, 568.0, 1201.0, 567.0, 1175.0,...</td>\n",
       "      <td>403954.0</td>\n",
       "      <td>[517.0, 127.0, 447.0, 1322.0]</td>\n",
       "      <td>0</td>\n",
       "      <td>Glass bottle</td>\n",
       "    </tr>\n",
       "    <tr>\n",
       "      <th>1</th>\n",
       "      <td>batch_1/000012.jpg</td>\n",
       "      <td>[[481.0, 1148.0, 505.0, 1163.0, 519.0, 1172.0,...</td>\n",
       "      <td>43489.0</td>\n",
       "      <td>[379.0, 1127.0, 425.0, 318.0]</td>\n",
       "      <td>0</td>\n",
       "      <td>Glass bottle</td>\n",
       "    </tr>\n",
       "    <tr>\n",
       "      <th>2</th>\n",
       "      <td>batch_1/000048.jpg</td>\n",
       "      <td>[[586.0, 820.0, 581.0, 851.0, 579.0, 889.0, 58...</td>\n",
       "      <td>324005.0</td>\n",
       "      <td>[211.0, 1.0, 417.0, 1417.0]</td>\n",
       "      <td>0</td>\n",
       "      <td>Glass bottle</td>\n",
       "    </tr>\n",
       "    <tr>\n",
       "      <th>3</th>\n",
       "      <td>batch_1/000021.jpg</td>\n",
       "      <td>[[1001.0, 867.0, 1163.0, 905.0, 1199.0, 913.0,...</td>\n",
       "      <td>95494.5</td>\n",
       "      <td>[852.0, 638.0, 687.0, 291.0]</td>\n",
       "      <td>0</td>\n",
       "      <td>Glass bottle</td>\n",
       "    </tr>\n",
       "    <tr>\n",
       "      <th>4</th>\n",
       "      <td>batch_1/000022.jpg</td>\n",
       "      <td>[[919.0, 1125.0, 968.0, 1111.0, 1000.0, 1100.0...</td>\n",
       "      <td>142823.0</td>\n",
       "      <td>[647.0, 1033.0, 820.0, 376.0]</td>\n",
       "      <td>0</td>\n",
       "      <td>Glass bottle</td>\n",
       "    </tr>\n",
       "  </tbody>\n",
       "</table>\n",
       "</div>"
      ],
      "text/plain": [
       "             filename                                       segmentation  \\\n",
       "0  batch_1/000006.jpg  [[561.0, 1238.0, 568.0, 1201.0, 567.0, 1175.0,...   \n",
       "1  batch_1/000012.jpg  [[481.0, 1148.0, 505.0, 1163.0, 519.0, 1172.0,...   \n",
       "2  batch_1/000048.jpg  [[586.0, 820.0, 581.0, 851.0, 579.0, 889.0, 58...   \n",
       "3  batch_1/000021.jpg  [[1001.0, 867.0, 1163.0, 905.0, 1199.0, 913.0,...   \n",
       "4  batch_1/000022.jpg  [[919.0, 1125.0, 968.0, 1111.0, 1000.0, 1100.0...   \n",
       "\n",
       "       area                           bbox  iscrowd      category  \n",
       "0  403954.0  [517.0, 127.0, 447.0, 1322.0]        0  Glass bottle  \n",
       "1   43489.0  [379.0, 1127.0, 425.0, 318.0]        0  Glass bottle  \n",
       "2  324005.0    [211.0, 1.0, 417.0, 1417.0]        0  Glass bottle  \n",
       "3   95494.5   [852.0, 638.0, 687.0, 291.0]        0  Glass bottle  \n",
       "4  142823.0  [647.0, 1033.0, 820.0, 376.0]        0  Glass bottle  "
      ]
     },
     "execution_count": 139,
     "metadata": {},
     "output_type": "execute_result"
    }
   ],
   "source": [
    "merged_img_ann_df = pd.merge(left=image_df, right=ann_df, left_on='id', right_on='image_id')\n",
    "final_merged_df = pd.merge(left=merged_img_ann_df, right=category_df, left_on='category_id', right_on='id') \n",
    "final_merged_df = final_merged_df.drop(['id_x','id_y','category_id','image_id','width','height'], axis = 1 )\n",
    "final_merged_df = final_merged_df.rename(columns={\"file_name\": \"filename\", \"name\": \"category\"})\n",
    "final_merged_df.head()"
   ]
  },
  {
   "cell_type": "code",
   "execution_count": 140,
   "metadata": {},
   "outputs": [],
   "source": [
    "# New Dataframe with selective columns\n",
    "df = final_merged_df[['filename','bbox','category']]"
   ]
  },
  {
   "cell_type": "code",
   "execution_count": 141,
   "metadata": {},
   "outputs": [],
   "source": [
    "# storing bounding box values as seperate columns\n",
    "df = pd.concat([df , df['bbox'].apply(pd.Series)], axis = 1)\n",
    "df.columns = ['filename','bbox','category', 'x_min','y_min','x_max', 'y_max'] # x_max : width and y_max : height\n",
    "df = df.drop(['bbox',], axis=1)"
   ]
  },
  {
   "cell_type": "code",
   "execution_count": 142,
   "metadata": {},
   "outputs": [
    {
     "data": {
      "text/html": [
       "<div>\n",
       "<style scoped>\n",
       "    .dataframe tbody tr th:only-of-type {\n",
       "        vertical-align: middle;\n",
       "    }\n",
       "\n",
       "    .dataframe tbody tr th {\n",
       "        vertical-align: top;\n",
       "    }\n",
       "\n",
       "    .dataframe thead th {\n",
       "        text-align: right;\n",
       "    }\n",
       "</style>\n",
       "<table border=\"1\" class=\"dataframe\">\n",
       "  <thead>\n",
       "    <tr style=\"text-align: right;\">\n",
       "      <th></th>\n",
       "      <th>filename</th>\n",
       "      <th>category</th>\n",
       "      <th>x_min</th>\n",
       "      <th>y_min</th>\n",
       "      <th>x_max</th>\n",
       "      <th>y_max</th>\n",
       "    </tr>\n",
       "  </thead>\n",
       "  <tbody>\n",
       "    <tr>\n",
       "      <th>0</th>\n",
       "      <td>batch_1/000006.jpg</td>\n",
       "      <td>Glass bottle</td>\n",
       "      <td>517.0</td>\n",
       "      <td>127.0</td>\n",
       "      <td>447.0</td>\n",
       "      <td>1322.0</td>\n",
       "    </tr>\n",
       "    <tr>\n",
       "      <th>1</th>\n",
       "      <td>batch_1/000012.jpg</td>\n",
       "      <td>Glass bottle</td>\n",
       "      <td>379.0</td>\n",
       "      <td>1127.0</td>\n",
       "      <td>425.0</td>\n",
       "      <td>318.0</td>\n",
       "    </tr>\n",
       "    <tr>\n",
       "      <th>2</th>\n",
       "      <td>batch_1/000048.jpg</td>\n",
       "      <td>Glass bottle</td>\n",
       "      <td>211.0</td>\n",
       "      <td>1.0</td>\n",
       "      <td>417.0</td>\n",
       "      <td>1417.0</td>\n",
       "    </tr>\n",
       "    <tr>\n",
       "      <th>3</th>\n",
       "      <td>batch_1/000021.jpg</td>\n",
       "      <td>Glass bottle</td>\n",
       "      <td>852.0</td>\n",
       "      <td>638.0</td>\n",
       "      <td>687.0</td>\n",
       "      <td>291.0</td>\n",
       "    </tr>\n",
       "    <tr>\n",
       "      <th>4</th>\n",
       "      <td>batch_1/000022.jpg</td>\n",
       "      <td>Glass bottle</td>\n",
       "      <td>647.0</td>\n",
       "      <td>1033.0</td>\n",
       "      <td>820.0</td>\n",
       "      <td>376.0</td>\n",
       "    </tr>\n",
       "  </tbody>\n",
       "</table>\n",
       "</div>"
      ],
      "text/plain": [
       "             filename      category  x_min   y_min  x_max   y_max\n",
       "0  batch_1/000006.jpg  Glass bottle  517.0   127.0  447.0  1322.0\n",
       "1  batch_1/000012.jpg  Glass bottle  379.0  1127.0  425.0   318.0\n",
       "2  batch_1/000048.jpg  Glass bottle  211.0     1.0  417.0  1417.0\n",
       "3  batch_1/000021.jpg  Glass bottle  852.0   638.0  687.0   291.0\n",
       "4  batch_1/000022.jpg  Glass bottle  647.0  1033.0  820.0   376.0"
      ]
     },
     "execution_count": 142,
     "metadata": {},
     "output_type": "execute_result"
    }
   ],
   "source": [
    "df.head()"
   ]
  },
  {
   "cell_type": "code",
   "execution_count": 143,
   "metadata": {},
   "outputs": [],
   "source": [
    "# Calculate maximum x and maximum y points\n",
    "df['x_max'] = df['x_max']+df['x_min']\n",
    "df['y_max'] = df['y_max']+df['y_min']\n",
    "# Convert float columns to integer\n",
    "for col in  df.columns[2:]:\n",
    "    df[col] = df[col].astype(int)\n",
    "    "
   ]
  },
  {
   "cell_type": "code",
   "execution_count": 148,
   "metadata": {},
   "outputs": [
    {
     "data": {
      "text/plain": [
       "<AxesSubplot:>"
      ]
     },
     "execution_count": 148,
     "metadata": {},
     "output_type": "execute_result"
    },
    {
     "data": {
      "image/png": "[encoded data removed]",
      "text/plain": [
       "<Figure size 432x288 with 1 Axes>"
      ]
     },
     "metadata": {},
     "output_type": "display_data"
    }
   ],
   "source": [
    "df['category'].value_counts().plot.bar()"
   ]
  },
  {
   "cell_type": "code",
   "execution_count": 145,
   "metadata": {},
   "outputs": [
    {
     "data": {
      "text/plain": [
       "Cigarette               667\n",
       "Clear plastic bottle    285\n",
       "Drink can               229\n",
       "Broken glass            138\n",
       "Glass bottle            104\n",
       "Garbage bag              31\n",
       "Name: category, dtype: int64"
      ]
     },
     "execution_count": 145,
     "metadata": {},
     "output_type": "execute_result"
    }
   ],
   "source": [
    "df['category'].value_counts()"
   ]
  },
  {
   "cell_type": "markdown",
   "metadata": {},
   "source": [
    "### Fetch, crop and store image data"
   ]
  },
  {
   "cell_type": "code",
   "execution_count": 146,
   "metadata": {},
   "outputs": [],
   "source": [
    "# Reading all the images from multiple folders and added to the list\n",
    "folders = glob.glob(dataset_path +'//*')\n",
    "imagenames_list = []\n",
    "for folder in folders:\n",
    "    for f in glob.glob(folder+'/*'):   \n",
    "        imagenames_list.append(f)"
   ]
  },
  {
   "cell_type": "code",
   "execution_count": 147,
   "metadata": {},
   "outputs": [
    {
     "ename": "KeyboardInterrupt",
     "evalue": "",
     "output_type": "error",
     "traceback": [
      "\u001b[0;31m---------------------------------------------------------------------------\u001b[0m",
      "\u001b[0;31mKeyboardInterrupt\u001b[0m                         Traceback (most recent call last)",
      "\u001b[0;32m<ipython-input-147-b3ff326d5f00>\u001b[0m in \u001b[0;36m<module>\u001b[0;34m\u001b[0m\n\u001b[1;32m      3\u001b[0m     \u001b[0mbbox\u001b[0m \u001b[0;34m=\u001b[0m \u001b[0;34m(\u001b[0m\u001b[0mdf\u001b[0m\u001b[0;34m[\u001b[0m\u001b[0;34m'x_min'\u001b[0m\u001b[0;34m]\u001b[0m\u001b[0;34m[\u001b[0m\u001b[0mind\u001b[0m\u001b[0;34m]\u001b[0m\u001b[0;34m,\u001b[0m\u001b[0mdf\u001b[0m\u001b[0;34m[\u001b[0m\u001b[0;34m'y_min'\u001b[0m\u001b[0;34m]\u001b[0m\u001b[0;34m[\u001b[0m\u001b[0mind\u001b[0m\u001b[0;34m]\u001b[0m\u001b[0;34m,\u001b[0m\u001b[0mdf\u001b[0m\u001b[0;34m[\u001b[0m\u001b[0;34m'x_max'\u001b[0m\u001b[0;34m]\u001b[0m\u001b[0;34m[\u001b[0m\u001b[0mind\u001b[0m\u001b[0;34m]\u001b[0m\u001b[0;34m,\u001b[0m\u001b[0mdf\u001b[0m\u001b[0;34m[\u001b[0m\u001b[0;34m'y_max'\u001b[0m\u001b[0;34m]\u001b[0m\u001b[0;34m[\u001b[0m\u001b[0mind\u001b[0m\u001b[0;34m]\u001b[0m\u001b[0;34m)\u001b[0m\u001b[0;34m\u001b[0m\u001b[0;34m\u001b[0m\u001b[0m\n\u001b[1;32m      4\u001b[0m     \u001b[0mimg\u001b[0m\u001b[0;34m=\u001b[0m\u001b[0mImage\u001b[0m\u001b[0;34m.\u001b[0m\u001b[0mopen\u001b[0m\u001b[0;34m(\u001b[0m\u001b[0mos\u001b[0m\u001b[0;34m.\u001b[0m\u001b[0mpath\u001b[0m\u001b[0;34m.\u001b[0m\u001b[0mjoin\u001b[0m\u001b[0;34m(\u001b[0m\u001b[0mdataset_path\u001b[0m\u001b[0;34m,\u001b[0m\u001b[0mdf\u001b[0m\u001b[0;34m[\u001b[0m\u001b[0;34m'filename'\u001b[0m\u001b[0;34m]\u001b[0m\u001b[0;34m[\u001b[0m\u001b[0mind\u001b[0m\u001b[0;34m]\u001b[0m\u001b[0;34m)\u001b[0m\u001b[0;34m)\u001b[0m\u001b[0;34m\u001b[0m\u001b[0;34m\u001b[0m\u001b[0m\n\u001b[0;32m----> 5\u001b[0;31m     \u001b[0mimg\u001b[0m\u001b[0;34m=\u001b[0m\u001b[0mimg\u001b[0m\u001b[0;34m.\u001b[0m\u001b[0mcrop\u001b[0m\u001b[0;34m(\u001b[0m\u001b[0mbbox\u001b[0m\u001b[0;34m)\u001b[0m\u001b[0;34m\u001b[0m\u001b[0;34m\u001b[0m\u001b[0m\n\u001b[0m\u001b[1;32m      6\u001b[0m     \u001b[0mimg\u001b[0m \u001b[0;34m=\u001b[0m \u001b[0mimg\u001b[0m\u001b[0;34m.\u001b[0m\u001b[0mresize\u001b[0m\u001b[0;34m(\u001b[0m\u001b[0;34m(\u001b[0m\u001b[0;36m128\u001b[0m\u001b[0;34m,\u001b[0m \u001b[0;36m128\u001b[0m\u001b[0;34m)\u001b[0m\u001b[0;34m,\u001b[0m \u001b[0mImage\u001b[0m\u001b[0;34m.\u001b[0m\u001b[0mANTIALIAS\u001b[0m\u001b[0;34m)\u001b[0m\u001b[0;34m\u001b[0m\u001b[0;34m\u001b[0m\u001b[0m\n\u001b[1;32m      7\u001b[0m     \u001b[0mimg\u001b[0m \u001b[0;34m=\u001b[0m \u001b[0mimage\u001b[0m\u001b[0;34m.\u001b[0m\u001b[0mimg_to_array\u001b[0m\u001b[0;34m(\u001b[0m\u001b[0mimg\u001b[0m\u001b[0;34m)\u001b[0m\u001b[0;34m\u001b[0m\u001b[0;34m\u001b[0m\u001b[0m\n",
      "\u001b[0;32m/Applications/anaconda3/lib/python3.7/site-packages/PIL/Image.py\u001b[0m in \u001b[0;36mcrop\u001b[0;34m(self, box)\u001b[0m\n\u001b[1;32m   1134\u001b[0m             \u001b[0;32mreturn\u001b[0m \u001b[0mself\u001b[0m\u001b[0;34m.\u001b[0m\u001b[0mcopy\u001b[0m\u001b[0;34m(\u001b[0m\u001b[0;34m)\u001b[0m\u001b[0;34m\u001b[0m\u001b[0;34m\u001b[0m\u001b[0m\n\u001b[1;32m   1135\u001b[0m \u001b[0;34m\u001b[0m\u001b[0m\n\u001b[0;32m-> 1136\u001b[0;31m         \u001b[0mself\u001b[0m\u001b[0;34m.\u001b[0m\u001b[0mload\u001b[0m\u001b[0;34m(\u001b[0m\u001b[0;34m)\u001b[0m\u001b[0;34m\u001b[0m\u001b[0;34m\u001b[0m\u001b[0m\n\u001b[0m\u001b[1;32m   1137\u001b[0m         \u001b[0;32mreturn\u001b[0m \u001b[0mself\u001b[0m\u001b[0;34m.\u001b[0m\u001b[0m_new\u001b[0m\u001b[0;34m(\u001b[0m\u001b[0mself\u001b[0m\u001b[0;34m.\u001b[0m\u001b[0m_crop\u001b[0m\u001b[0;34m(\u001b[0m\u001b[0mself\u001b[0m\u001b[0;34m.\u001b[0m\u001b[0mim\u001b[0m\u001b[0;34m,\u001b[0m \u001b[0mbox\u001b[0m\u001b[0;34m)\u001b[0m\u001b[0;34m)\u001b[0m\u001b[0;34m\u001b[0m\u001b[0;34m\u001b[0m\u001b[0m\n\u001b[1;32m   1138\u001b[0m \u001b[0;34m\u001b[0m\u001b[0m\n",
      "\u001b[0;32m/Applications/anaconda3/lib/python3.7/site-packages/PIL/ImageFile.py\u001b[0m in \u001b[0;36mload\u001b[0;34m(self)\u001b[0m\n\u001b[1;32m    259\u001b[0m \u001b[0;34m\u001b[0m\u001b[0m\n\u001b[1;32m    260\u001b[0m                             \u001b[0mb\u001b[0m \u001b[0;34m=\u001b[0m \u001b[0mb\u001b[0m \u001b[0;34m+\u001b[0m \u001b[0ms\u001b[0m\u001b[0;34m\u001b[0m\u001b[0;34m\u001b[0m\u001b[0m\n\u001b[0;32m--> 261\u001b[0;31m                             \u001b[0mn\u001b[0m\u001b[0;34m,\u001b[0m \u001b[0merr_code\u001b[0m \u001b[0;34m=\u001b[0m \u001b[0mdecoder\u001b[0m\u001b[0;34m.\u001b[0m\u001b[0mdecode\u001b[0m\u001b[0;34m(\u001b[0m\u001b[0mb\u001b[0m\u001b[0;34m)\u001b[0m\u001b[0;34m\u001b[0m\u001b[0;34m\u001b[0m\u001b[0m\n\u001b[0m\u001b[1;32m    262\u001b[0m                             \u001b[0;32mif\u001b[0m \u001b[0mn\u001b[0m \u001b[0;34m<\u001b[0m \u001b[0;36m0\u001b[0m\u001b[0;34m:\u001b[0m\u001b[0;34m\u001b[0m\u001b[0;34m\u001b[0m\u001b[0m\n\u001b[1;32m    263\u001b[0m                                 \u001b[0;32mbreak\u001b[0m\u001b[0;34m\u001b[0m\u001b[0;34m\u001b[0m\u001b[0m\n",
      "\u001b[0;31mKeyboardInterrupt\u001b[0m: "
     ]
    }
   ],
   "source": [
    "train_data = []  \n",
    "for ind in df.index:\n",
    "    bbox = (df['x_min'][ind],df['y_min'][ind],df['x_max'][ind],df['y_max'][ind])\n",
    "    img=Image.open(os.path.join(dataset_path,df['filename'][ind]))\n",
    "    img=img.crop(bbox)\n",
    "    img = img.resize((128, 128), Image.ANTIALIAS)\n",
    "    img = image.img_to_array(img)\n",
    "    train_data.append(img)\n",
    "\n",
    "X = np.array(train_data)"
   ]
  },
  {
   "cell_type": "code",
   "execution_count": 21,
   "metadata": {},
   "outputs": [],
   "source": [
    "df = df.drop(['x_min','x_max','y_min','y_max'], axis=1)"
   ]
  },
  {
   "cell_type": "code",
   "execution_count": 22,
   "metadata": {},
   "outputs": [
    {
     "data": {
      "text/html": [
       "<div>\n",
       "<style scoped>\n",
       "    .dataframe tbody tr th:only-of-type {\n",
       "        vertical-align: middle;\n",
       "    }\n",
       "\n",
       "    .dataframe tbody tr th {\n",
       "        vertical-align: top;\n",
       "    }\n",
       "\n",
       "    .dataframe thead th {\n",
       "        text-align: right;\n",
       "    }\n",
       "</style>\n",
       "<table border=\"1\" class=\"dataframe\">\n",
       "  <thead>\n",
       "    <tr style=\"text-align: right;\">\n",
       "      <th></th>\n",
       "      <th>filename</th>\n",
       "      <th>category</th>\n",
       "    </tr>\n",
       "  </thead>\n",
       "  <tbody>\n",
       "    <tr>\n",
       "      <th>0</th>\n",
       "      <td>batch_1/000010.jpg</td>\n",
       "      <td>Clear plastic bottle</td>\n",
       "    </tr>\n",
       "    <tr>\n",
       "      <th>1</th>\n",
       "      <td>batch_1/000019.jpg</td>\n",
       "      <td>Clear plastic bottle</td>\n",
       "    </tr>\n",
       "    <tr>\n",
       "      <th>2</th>\n",
       "      <td>batch_1/000019.jpg</td>\n",
       "      <td>Clear plastic bottle</td>\n",
       "    </tr>\n",
       "    <tr>\n",
       "      <th>3</th>\n",
       "      <td>batch_1/000001.jpg</td>\n",
       "      <td>Clear plastic bottle</td>\n",
       "    </tr>\n",
       "    <tr>\n",
       "      <th>4</th>\n",
       "      <td>batch_1/000005.jpg</td>\n",
       "      <td>Clear plastic bottle</td>\n",
       "    </tr>\n",
       "  </tbody>\n",
       "</table>\n",
       "</div>"
      ],
      "text/plain": [
       "             filename              category\n",
       "0  batch_1/000010.jpg  Clear plastic bottle\n",
       "1  batch_1/000019.jpg  Clear plastic bottle\n",
       "2  batch_1/000019.jpg  Clear plastic bottle\n",
       "3  batch_1/000001.jpg  Clear plastic bottle\n",
       "4  batch_1/000005.jpg  Clear plastic bottle"
      ]
     },
     "execution_count": 22,
     "metadata": {},
     "output_type": "execute_result"
    }
   ],
   "source": [
    "df.head()"
   ]
  },
  {
   "cell_type": "code",
   "execution_count": 23,
   "metadata": {},
   "outputs": [
    {
     "data": {
      "text/html": [
       "<div>\n",
       "<style scoped>\n",
       "    .dataframe tbody tr th:only-of-type {\n",
       "        vertical-align: middle;\n",
       "    }\n",
       "\n",
       "    .dataframe tbody tr th {\n",
       "        vertical-align: top;\n",
       "    }\n",
       "\n",
       "    .dataframe thead th {\n",
       "        text-align: right;\n",
       "    }\n",
       "</style>\n",
       "<table border=\"1\" class=\"dataframe\">\n",
       "  <thead>\n",
       "    <tr style=\"text-align: right;\">\n",
       "      <th></th>\n",
       "      <th>filename</th>\n",
       "      <th>category_Cigarette</th>\n",
       "      <th>category_Clear plastic bottle</th>\n",
       "      <th>category_Drink can</th>\n",
       "      <th>category_Paper cup</th>\n",
       "      <th>category_Unlabeled litter</th>\n",
       "    </tr>\n",
       "  </thead>\n",
       "  <tbody>\n",
       "    <tr>\n",
       "      <th>0</th>\n",
       "      <td>batch_1/000010.jpg</td>\n",
       "      <td>0</td>\n",
       "      <td>1</td>\n",
       "      <td>0</td>\n",
       "      <td>0</td>\n",
       "      <td>0</td>\n",
       "    </tr>\n",
       "    <tr>\n",
       "      <th>1</th>\n",
       "      <td>batch_1/000019.jpg</td>\n",
       "      <td>0</td>\n",
       "      <td>1</td>\n",
       "      <td>0</td>\n",
       "      <td>0</td>\n",
       "      <td>0</td>\n",
       "    </tr>\n",
       "    <tr>\n",
       "      <th>2</th>\n",
       "      <td>batch_1/000019.jpg</td>\n",
       "      <td>0</td>\n",
       "      <td>1</td>\n",
       "      <td>0</td>\n",
       "      <td>0</td>\n",
       "      <td>0</td>\n",
       "    </tr>\n",
       "    <tr>\n",
       "      <th>3</th>\n",
       "      <td>batch_1/000001.jpg</td>\n",
       "      <td>0</td>\n",
       "      <td>1</td>\n",
       "      <td>0</td>\n",
       "      <td>0</td>\n",
       "      <td>0</td>\n",
       "    </tr>\n",
       "    <tr>\n",
       "      <th>4</th>\n",
       "      <td>batch_1/000005.jpg</td>\n",
       "      <td>0</td>\n",
       "      <td>1</td>\n",
       "      <td>0</td>\n",
       "      <td>0</td>\n",
       "      <td>0</td>\n",
       "    </tr>\n",
       "  </tbody>\n",
       "</table>\n",
       "</div>"
      ],
      "text/plain": [
       "             filename  category_Cigarette  category_Clear plastic bottle  \\\n",
       "0  batch_1/000010.jpg                   0                              1   \n",
       "1  batch_1/000019.jpg                   0                              1   \n",
       "2  batch_1/000019.jpg                   0                              1   \n",
       "3  batch_1/000001.jpg                   0                              1   \n",
       "4  batch_1/000005.jpg                   0                              1   \n",
       "\n",
       "   category_Drink can  category_Paper cup  category_Unlabeled litter  \n",
       "0                   0                   0                          0  \n",
       "1                   0                   0                          0  \n",
       "2                   0                   0                          0  \n",
       "3                   0                   0                          0  \n",
       "4                   0                   0                          0  "
      ]
     },
     "execution_count": 23,
     "metadata": {},
     "output_type": "execute_result"
    }
   ],
   "source": [
    "df1 = pd.get_dummies(df, columns=[\"category\"])\n",
    "df1.head()"
   ]
  },
  {
   "cell_type": "code",
   "execution_count": 24,
   "metadata": {},
   "outputs": [
    {
     "name": "stdout",
     "output_type": "stream",
     "text": [
      "(1765, 5)\n",
      "(1765, 128, 128, 3)\n"
     ]
    }
   ],
   "source": [
    "# \n",
    "y = np.array(df1.drop(['filename'],axis=1))\n",
    "print(y.shape)\n",
    "print(X.shape)"
   ]
  },
  {
   "cell_type": "markdown",
   "metadata": {},
   "source": [
    "### Data Split "
   ]
  },
  {
   "cell_type": "code",
   "execution_count": 69,
   "metadata": {},
   "outputs": [],
   "source": [
    "# Data split Randomly\n",
    "X_train, X_test, y_train, y_test = train_test_split(X, y, random_state=42, test_size=0.2)"
   ]
  },
  {
   "cell_type": "markdown",
   "metadata": {},
   "source": [
    "### Build Model using k-fold technique"
   ]
  },
  {
   "cell_type": "code",
   "execution_count": 80,
   "metadata": {},
   "outputs": [],
   "source": [
    "num_folds = 10\n",
    "# Model configuration\n",
    "batch_size = 50\n",
    "img_width, img_height, img_num_channels = 128, 128, 3\n",
    "loss_function = categorical_crossentropy\n",
    "no_classes = 5\n",
    "no_epochs = 100\n",
    "optimizer = Adam()\n",
    "verbosity = 0\n",
    "# Determine shape of the data\n",
    "input_shape = (img_width, img_height, img_num_channels)"
   ]
  },
  {
   "cell_type": "code",
   "execution_count": 81,
   "metadata": {},
   "outputs": [],
   "source": [
    "# Normalize data\n",
    "input_train = X_train / 255\n",
    "input_test = X_test / 255\n",
    "\n",
    "# Define per-fold score containers <-- these are new\n",
    "acc_per_fold = []\n",
    "loss_per_fold = []"
   ]
  },
  {
   "cell_type": "code",
   "execution_count": 82,
   "metadata": {},
   "outputs": [],
   "source": [
    "# Merge inputs and targets\n",
    "inputs = np.concatenate((input_train, input_test), axis=0)\n",
    "targets = np.concatenate((y_train, y_test), axis=0)"
   ]
  },
  {
   "cell_type": "code",
   "execution_count": 83,
   "metadata": {},
   "outputs": [
    {
     "name": "stdout",
     "output_type": "stream",
     "text": [
      "(1765, 128, 128, 3)\n",
      "(1765, 5)\n"
     ]
    }
   ],
   "source": [
    "print(inputs.shape)\n",
    "print(targets.shape)"
   ]
  },
  {
   "cell_type": "code",
   "execution_count": 79,
   "metadata": {},
   "outputs": [
    {
     "name": "stdout",
     "output_type": "stream",
     "text": [
      "------------------------------------------------------------------------\n",
      "Training for fold 1 ...\n",
      "Score for fold 1: loss of 1.3859135660074524; accuracy of 54.23728823661804%\n",
      "------------------------------------------------------------------------\n",
      "Training for fold 2 ...\n",
      "Score for fold 2: loss of 1.356912359679486; accuracy of 48.58756959438324%\n",
      "------------------------------------------------------------------------\n",
      "Training for fold 3 ...\n",
      "Score for fold 3: loss of 1.2717786616524733; accuracy of 37.288135290145874%\n",
      "------------------------------------------------------------------------\n",
      "Training for fold 4 ...\n",
      "Score for fold 4: loss of 1.4675128621570135; accuracy of 38.41807842254639%\n",
      "------------------------------------------------------------------------\n",
      "Training for fold 5 ...\n",
      "Score for fold 5: loss of 1.3910166052101696; accuracy of 44.632768630981445%\n",
      "------------------------------------------------------------------------\n",
      "Training for fold 6 ...\n",
      "Score for fold 6: loss of 1.3915978128259832; accuracy of 39.20454680919647%\n",
      "------------------------------------------------------------------------\n",
      "Training for fold 7 ...\n",
      "Score for fold 7: loss of 1.4361129240556196; accuracy of 36.36363744735718%\n",
      "------------------------------------------------------------------------\n",
      "Training for fold 8 ...\n",
      "Score for fold 8: loss of 1.4170082699168811; accuracy of 35.22727191448212%\n",
      "------------------------------------------------------------------------\n",
      "Training for fold 9 ...\n",
      "Score for fold 9: loss of 1.419076453555714; accuracy of 38.06818127632141%\n",
      "------------------------------------------------------------------------\n",
      "Training for fold 10 ...\n",
      "Score for fold 10: loss of 1.4176882288672707; accuracy of 44.88636255264282%\n",
      "------------------------------------------------------------------------\n",
      "Score per fold\n",
      "------------------------------------------------------------------------\n",
      "> Fold 1 - Loss: 1.3859135660074524 - Accuracy: 54.23728823661804%\n",
      "------------------------------------------------------------------------\n",
      "> Fold 2 - Loss: 1.356912359679486 - Accuracy: 48.58756959438324%\n",
      "------------------------------------------------------------------------\n",
      "> Fold 3 - Loss: 1.2717786616524733 - Accuracy: 37.288135290145874%\n",
      "------------------------------------------------------------------------\n",
      "> Fold 4 - Loss: 1.4675128621570135 - Accuracy: 38.41807842254639%\n",
      "------------------------------------------------------------------------\n",
      "> Fold 5 - Loss: 1.3910166052101696 - Accuracy: 44.632768630981445%\n",
      "------------------------------------------------------------------------\n",
      "> Fold 6 - Loss: 1.3915978128259832 - Accuracy: 39.20454680919647%\n",
      "------------------------------------------------------------------------\n",
      "> Fold 7 - Loss: 1.4361129240556196 - Accuracy: 36.36363744735718%\n",
      "------------------------------------------------------------------------\n",
      "> Fold 8 - Loss: 1.4170082699168811 - Accuracy: 35.22727191448212%\n",
      "------------------------------------------------------------------------\n",
      "> Fold 9 - Loss: 1.419076453555714 - Accuracy: 38.06818127632141%\n",
      "------------------------------------------------------------------------\n",
      "> Fold 10 - Loss: 1.4176882288672707 - Accuracy: 44.88636255264282%\n",
      "------------------------------------------------------------------------\n",
      "Average scores for all folds:\n",
      "> Accuracy: 41.6913840174675 (+- 5.860046369644042)\n",
      "> Loss: 1.3954617743928064\n",
      "------------------------------------------------------------------------\n"
     ]
    }
   ],
   "source": [
    "\n",
    "# Define the K-fold Cross Validator\n",
    "kfold = KFold(n_splits=num_folds, shuffle=True)\n",
    "\n",
    "# K-fold Cross Validation model evaluation\n",
    "fold_no = 1\n",
    "for train, test in kfold.split(inputs, targets):\n",
    "    # Define the model architecture\n",
    "    model = Sequential()\n",
    "    model.add(Conv2D(filters=16, kernel_size=(5, 5), activation=\"relu\", input_shape=input_shape))\n",
    "    model.add(MaxPooling2D(pool_size=(2, 2)))\n",
    "    model.add(Dropout(0.25))\n",
    "    model.add(Conv2D(filters=32, kernel_size=(5, 5), activation='relu'))\n",
    "    model.add(MaxPooling2D(pool_size=(2, 2)))\n",
    "    model.add(Dropout(0.25))\n",
    "    model.add(Conv2D(filters=64, kernel_size=(5, 5), activation=\"relu\"))\n",
    "    model.add(MaxPooling2D(pool_size=(2, 2)))\n",
    "    model.add(Dropout(0.25))\n",
    "\n",
    "    model.add(Conv2D(filters=64, kernel_size=(5, 5), activation='relu'))\n",
    "    model.add(MaxPooling2D(pool_size=(2, 2)))\n",
    "    model.add(Dropout(0.25))\n",
    "\n",
    "    model.add(Flatten())\n",
    "    model.add(Dense(128, activation='relu'))\n",
    "    model.add(Dropout(0.5))\n",
    "    model.add(Dense(64, activation='relu'))\n",
    "    model.add(Dropout(0.5))\n",
    "    model.add(Dense(5, activation='softmax'))\n",
    "\n",
    "    # Compile the model\n",
    "    model.compile(loss=loss_function,\n",
    "                optimizer=optimizer,\n",
    "                metrics=['accuracy'])\n",
    "\n",
    "\n",
    "    # Generate a print\n",
    "    print('------------------------------------------------------------------------')\n",
    "    print(f'Training for fold {fold_no} ...')\n",
    "\n",
    "    # Fit data to model\n",
    "    history = model.fit(inputs[train], targets[train],\n",
    "              batch_size=batch_size,\n",
    "              epochs=no_epochs,\n",
    "              verbose=verbosity)\n",
    "\n",
    "    # Generate generalization metrics\n",
    "    scores = model.evaluate(inputs[test], targets[test], verbose=0)\n",
    "    print(f'Score for fold {fold_no}: {model.metrics_names[0]} of {scores[0]}; {model.metrics_names[1]} of {scores[1]*100}%')\n",
    "    acc_per_fold.append(scores[1] * 100)\n",
    "    loss_per_fold.append(scores[0])\n",
    "\n",
    "    # Increase fold number\n",
    "    fold_no = fold_no + 1\n",
    "\n",
    "# == Provide average scores ==\n",
    "print('------------------------------------------------------------------------')\n",
    "print('Score per fold')\n",
    "for i in range(0, len(acc_per_fold)):\n",
    "    print('------------------------------------------------------------------------')\n",
    "    print(f'> Fold {i+1} - Loss: {loss_per_fold[i]} - Accuracy: {acc_per_fold[i]}%')\n",
    "print('------------------------------------------------------------------------')\n",
    "print('Average scores for all folds:')\n",
    "print(f'> Accuracy: {np.mean(acc_per_fold)} (+- {np.std(acc_per_fold)})')\n",
    "print(f'> Loss: {np.mean(loss_per_fold)}')\n",
    "print('------------------------------------------------------------------------')"
   ]
  },
  {
   "cell_type": "code",
   "execution_count": null,
   "metadata": {},
   "outputs": [],
   "source": []
  }
 ],
 "metadata": {
  "kernelspec": {
   "display_name": "Python 3",
   "language": "python",
   "name": "python3"
  },
  "language_info": {
   "codemirror_mode": {
    "name": "ipython",
    "version": 3
   },
   "file_extension": ".py",
   "mimetype": "text/x-python",
   "name": "python",
   "nbconvert_exporter": "python",
   "pygments_lexer": "ipython3",
   "version": "3.7.7"
  }
 },
 "nbformat": 4,
 "nbformat_minor": 4
}
