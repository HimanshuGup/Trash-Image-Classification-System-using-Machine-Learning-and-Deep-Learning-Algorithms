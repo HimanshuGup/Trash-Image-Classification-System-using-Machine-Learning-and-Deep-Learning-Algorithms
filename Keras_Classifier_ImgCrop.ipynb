{
 "cells": [
  {
   "cell_type": "code",
   "execution_count": 1,
   "metadata": {},
   "outputs": [],
   "source": [
    "%matplotlib inline\n",
    "import json\n",
    "import numpy as np\n",
    "import pandas as pd\n",
    "import matplotlib.pyplot as plt\n",
    "import seaborn as sns; sns.set() \n",
    "from matplotlib import pyplot\n",
    "\n",
    "# Data Processing \n",
    "import os\n",
    "import os.path\n",
    "import random\n",
    "import PIL\n",
    "import glob\n",
    "from PIL import Image # to read images\n"
   ]
  },
  {
   "cell_type": "markdown",
   "metadata": {},
   "source": [
    "### Use Keras Model Architecture "
   ]
  },
  {
   "cell_type": "code",
   "execution_count": 2,
   "metadata": {},
   "outputs": [
    {
     "name": "stderr",
     "output_type": "stream",
     "text": [
      "Using TensorFlow backend.\n"
     ]
    }
   ],
   "source": [
    "#For Keras model\n",
    "import keras\n",
    "from keras.models import Sequential\n",
    "from keras.layers import Dense, Dropout, Flatten, Activation, BatchNormalization\n",
    "from keras.layers import Conv2D, MaxPooling2D\n",
    "from keras.utils import to_categorical\n",
    "from keras.preprocessing import image\n",
    "import tensorflow as tf"
   ]
  },
  {
   "cell_type": "code",
   "execution_count": 3,
   "metadata": {},
   "outputs": [],
   "source": [
    "from sklearn.model_selection import train_test_split\n",
    "from sklearn.metrics import accuracy_score\n",
    "from sklearn.metrics import confusion_matrix,classification_report"
   ]
  },
  {
   "cell_type": "markdown",
   "metadata": {},
   "source": [
    "### Dataset Preparation "
   ]
  },
  {
   "cell_type": "code",
   "execution_count": 4,
   "metadata": {},
   "outputs": [],
   "source": [
    "dataset_path = './data'\n",
    "anns_file_path = dataset_path + '/' + 'annotations.json'"
   ]
  },
  {
   "cell_type": "code",
   "execution_count": 5,
   "metadata": {},
   "outputs": [],
   "source": [
    "# Read Annotations\n",
    "with open(anns_file_path , 'r') as f:\n",
    "    dataset = json.loads(f.read())"
   ]
  },
  {
   "cell_type": "code",
   "execution_count": 6,
   "metadata": {},
   "outputs": [
    {
     "name": "stdout",
     "output_type": "stream",
     "text": [
      "1500\n"
     ]
    }
   ],
   "source": [
    "categories = dataset['categories']\n",
    "anns = dataset['annotations']\n",
    "imgs = dataset['images']\n",
    "nr_cats = len(categories)\n",
    "nr_annotations = len(anns)\n",
    "nr_images = len(imgs)\n",
    "\n",
    "print(nr_images) # Total Number of images"
   ]
  },
  {
   "cell_type": "code",
   "execution_count": 7,
   "metadata": {},
   "outputs": [],
   "source": [
    "# category Dataframe and  Select 'six new Category(ouput classes)' for category Dataframe\n",
    "cat_df = pd.DataFrame(categories)\n",
    "keyValList = ['Cigarette','Clear plastic bottle','Drink can','Plastic straw','Glass bottle']\n",
    "category_df = pd.DataFrame([d for d in categories if d['name'] in keyValList])\n",
    "\n",
    "# Annotation Dataframe\n",
    "ann_df = pd.DataFrame(anns)\n",
    "# Images Dataframe\n",
    "image_df = pd.DataFrame(imgs)"
   ]
  },
  {
   "cell_type": "code",
   "execution_count": 8,
   "metadata": {},
   "outputs": [],
   "source": [
    "# Dropping unncessary columns for Keras fundamental CNN model\n",
    "category_df = category_df.drop(['supercategory'], axis = 1)\n",
    "image_df = image_df.drop(['license','flickr_url','coco_url','date_captured','flickr_640_url'], axis=1)\n",
    "ann_df = ann_df.drop(['id'], axis=1)"
   ]
  },
  {
   "cell_type": "code",
   "execution_count": 9,
   "metadata": {},
   "outputs": [
    {
     "data": {
      "text/html": [
       "<div>\n",
       "<style scoped>\n",
       "    .dataframe tbody tr th:only-of-type {\n",
       "        vertical-align: middle;\n",
       "    }\n",
       "\n",
       "    .dataframe tbody tr th {\n",
       "        vertical-align: top;\n",
       "    }\n",
       "\n",
       "    .dataframe thead th {\n",
       "        text-align: right;\n",
       "    }\n",
       "</style>\n",
       "<table border=\"1\" class=\"dataframe\">\n",
       "  <thead>\n",
       "    <tr style=\"text-align: right;\">\n",
       "      <th></th>\n",
       "      <th>filename</th>\n",
       "      <th>segmentation</th>\n",
       "      <th>area</th>\n",
       "      <th>bbox</th>\n",
       "      <th>iscrowd</th>\n",
       "      <th>category</th>\n",
       "    </tr>\n",
       "  </thead>\n",
       "  <tbody>\n",
       "    <tr>\n",
       "      <th>0</th>\n",
       "      <td>batch_1/000006.jpg</td>\n",
       "      <td>[[561.0, 1238.0, 568.0, 1201.0, 567.0, 1175.0,...</td>\n",
       "      <td>403954.0</td>\n",
       "      <td>[517.0, 127.0, 447.0, 1322.0]</td>\n",
       "      <td>0</td>\n",
       "      <td>Glass bottle</td>\n",
       "    </tr>\n",
       "    <tr>\n",
       "      <th>1</th>\n",
       "      <td>batch_1/000012.jpg</td>\n",
       "      <td>[[481.0, 1148.0, 505.0, 1163.0, 519.0, 1172.0,...</td>\n",
       "      <td>43489.0</td>\n",
       "      <td>[379.0, 1127.0, 425.0, 318.0]</td>\n",
       "      <td>0</td>\n",
       "      <td>Glass bottle</td>\n",
       "    </tr>\n",
       "    <tr>\n",
       "      <th>2</th>\n",
       "      <td>batch_1/000048.jpg</td>\n",
       "      <td>[[586.0, 820.0, 581.0, 851.0, 579.0, 889.0, 58...</td>\n",
       "      <td>324005.0</td>\n",
       "      <td>[211.0, 1.0, 417.0, 1417.0]</td>\n",
       "      <td>0</td>\n",
       "      <td>Glass bottle</td>\n",
       "    </tr>\n",
       "    <tr>\n",
       "      <th>3</th>\n",
       "      <td>batch_1/000021.jpg</td>\n",
       "      <td>[[1001.0, 867.0, 1163.0, 905.0, 1199.0, 913.0,...</td>\n",
       "      <td>95494.5</td>\n",
       "      <td>[852.0, 638.0, 687.0, 291.0]</td>\n",
       "      <td>0</td>\n",
       "      <td>Glass bottle</td>\n",
       "    </tr>\n",
       "    <tr>\n",
       "      <th>4</th>\n",
       "      <td>batch_1/000022.jpg</td>\n",
       "      <td>[[919.0, 1125.0, 968.0, 1111.0, 1000.0, 1100.0...</td>\n",
       "      <td>142823.0</td>\n",
       "      <td>[647.0, 1033.0, 820.0, 376.0]</td>\n",
       "      <td>0</td>\n",
       "      <td>Glass bottle</td>\n",
       "    </tr>\n",
       "  </tbody>\n",
       "</table>\n",
       "</div>"
      ],
      "text/plain": [
       "             filename                                       segmentation  \\\n",
       "0  batch_1/000006.jpg  [[561.0, 1238.0, 568.0, 1201.0, 567.0, 1175.0,...   \n",
       "1  batch_1/000012.jpg  [[481.0, 1148.0, 505.0, 1163.0, 519.0, 1172.0,...   \n",
       "2  batch_1/000048.jpg  [[586.0, 820.0, 581.0, 851.0, 579.0, 889.0, 58...   \n",
       "3  batch_1/000021.jpg  [[1001.0, 867.0, 1163.0, 905.0, 1199.0, 913.0,...   \n",
       "4  batch_1/000022.jpg  [[919.0, 1125.0, 968.0, 1111.0, 1000.0, 1100.0...   \n",
       "\n",
       "       area                           bbox  iscrowd      category  \n",
       "0  403954.0  [517.0, 127.0, 447.0, 1322.0]        0  Glass bottle  \n",
       "1   43489.0  [379.0, 1127.0, 425.0, 318.0]        0  Glass bottle  \n",
       "2  324005.0    [211.0, 1.0, 417.0, 1417.0]        0  Glass bottle  \n",
       "3   95494.5   [852.0, 638.0, 687.0, 291.0]        0  Glass bottle  \n",
       "4  142823.0  [647.0, 1033.0, 820.0, 376.0]        0  Glass bottle  "
      ]
     },
     "execution_count": 9,
     "metadata": {},
     "output_type": "execute_result"
    }
   ],
   "source": [
    "merged_img_ann_df = pd.merge(left=image_df, right=ann_df, left_on='id', right_on='image_id')\n",
    "final_merged_df = pd.merge(left=merged_img_ann_df, right=category_df, left_on='category_id', right_on='id') \n",
    "final_merged_df = final_merged_df.drop(['id_x','id_y','category_id','image_id','width','height'], axis = 1 )\n",
    "final_merged_df = final_merged_df.rename(columns={\"file_name\": \"filename\", \"name\": \"category\"})\n",
    "final_merged_df.head()"
   ]
  },
  {
   "cell_type": "code",
   "execution_count": 10,
   "metadata": {},
   "outputs": [],
   "source": [
    "# New Dataframe with selective columns\n",
    "df = final_merged_df[['filename','bbox','category']]"
   ]
  },
  {
   "cell_type": "code",
   "execution_count": 11,
   "metadata": {},
   "outputs": [],
   "source": [
    "# storing bounding box values as seperate columns\n",
    "df = pd.concat([df , df['bbox'].apply(pd.Series)], axis = 1)\n",
    "df.columns = ['filename','bbox','category', 'x_min','y_min','x_max', 'y_max'] # x_max : width and y_max : height\n",
    "df = df.drop(['bbox',], axis=1)"
   ]
  },
  {
   "cell_type": "code",
   "execution_count": 12,
   "metadata": {},
   "outputs": [
    {
     "data": {
      "text/html": [
       "<div>\n",
       "<style scoped>\n",
       "    .dataframe tbody tr th:only-of-type {\n",
       "        vertical-align: middle;\n",
       "    }\n",
       "\n",
       "    .dataframe tbody tr th {\n",
       "        vertical-align: top;\n",
       "    }\n",
       "\n",
       "    .dataframe thead th {\n",
       "        text-align: right;\n",
       "    }\n",
       "</style>\n",
       "<table border=\"1\" class=\"dataframe\">\n",
       "  <thead>\n",
       "    <tr style=\"text-align: right;\">\n",
       "      <th></th>\n",
       "      <th>filename</th>\n",
       "      <th>category</th>\n",
       "      <th>x_min</th>\n",
       "      <th>y_min</th>\n",
       "      <th>x_max</th>\n",
       "      <th>y_max</th>\n",
       "    </tr>\n",
       "  </thead>\n",
       "  <tbody>\n",
       "    <tr>\n",
       "      <th>0</th>\n",
       "      <td>batch_1/000006.jpg</td>\n",
       "      <td>Glass bottle</td>\n",
       "      <td>517.0</td>\n",
       "      <td>127.0</td>\n",
       "      <td>447.0</td>\n",
       "      <td>1322.0</td>\n",
       "    </tr>\n",
       "    <tr>\n",
       "      <th>1</th>\n",
       "      <td>batch_1/000012.jpg</td>\n",
       "      <td>Glass bottle</td>\n",
       "      <td>379.0</td>\n",
       "      <td>1127.0</td>\n",
       "      <td>425.0</td>\n",
       "      <td>318.0</td>\n",
       "    </tr>\n",
       "    <tr>\n",
       "      <th>2</th>\n",
       "      <td>batch_1/000048.jpg</td>\n",
       "      <td>Glass bottle</td>\n",
       "      <td>211.0</td>\n",
       "      <td>1.0</td>\n",
       "      <td>417.0</td>\n",
       "      <td>1417.0</td>\n",
       "    </tr>\n",
       "    <tr>\n",
       "      <th>3</th>\n",
       "      <td>batch_1/000021.jpg</td>\n",
       "      <td>Glass bottle</td>\n",
       "      <td>852.0</td>\n",
       "      <td>638.0</td>\n",
       "      <td>687.0</td>\n",
       "      <td>291.0</td>\n",
       "    </tr>\n",
       "    <tr>\n",
       "      <th>4</th>\n",
       "      <td>batch_1/000022.jpg</td>\n",
       "      <td>Glass bottle</td>\n",
       "      <td>647.0</td>\n",
       "      <td>1033.0</td>\n",
       "      <td>820.0</td>\n",
       "      <td>376.0</td>\n",
       "    </tr>\n",
       "  </tbody>\n",
       "</table>\n",
       "</div>"
      ],
      "text/plain": [
       "             filename      category  x_min   y_min  x_max   y_max\n",
       "0  batch_1/000006.jpg  Glass bottle  517.0   127.0  447.0  1322.0\n",
       "1  batch_1/000012.jpg  Glass bottle  379.0  1127.0  425.0   318.0\n",
       "2  batch_1/000048.jpg  Glass bottle  211.0     1.0  417.0  1417.0\n",
       "3  batch_1/000021.jpg  Glass bottle  852.0   638.0  687.0   291.0\n",
       "4  batch_1/000022.jpg  Glass bottle  647.0  1033.0  820.0   376.0"
      ]
     },
     "execution_count": 12,
     "metadata": {},
     "output_type": "execute_result"
    }
   ],
   "source": [
    "df.head()"
   ]
  },
  {
   "cell_type": "code",
   "execution_count": 13,
   "metadata": {},
   "outputs": [],
   "source": [
    "# Calculate maximum x and maximum y points\n",
    "df['x_max'] = df['x_max']+df['x_min']\n",
    "df['y_max'] = df['y_max']+df['y_min']\n",
    "# Convert float columns to integer\n",
    "for col in  df.columns[2:]:\n",
    "    df[col] = df[col].astype(int)\n",
    "    "
   ]
  },
  {
   "cell_type": "code",
   "execution_count": 14,
   "metadata": {},
   "outputs": [
    {
     "data": {
      "text/plain": [
       "<matplotlib.axes._subplots.AxesSubplot at 0x7fde566b9d10>"
      ]
     },
     "execution_count": 14,
     "metadata": {},
     "output_type": "execute_result"
    },
    {
     "data": {
      "image/png": "[encoded data removed]",
      "text/plain": [
       "<Figure size 432x288 with 1 Axes>"
      ]
     },
     "metadata": {},
     "output_type": "display_data"
    }
   ],
   "source": [
    "df['category'].value_counts().plot.bar()"
   ]
  },
  {
   "cell_type": "markdown",
   "metadata": {},
   "source": [
    "Data splitting into train and test data and keep this test data aside for model prediction\n",
    "train_df, test_df = train_test_split(df, test_size=0.10, random_state=42)\n",
    "train_df = train_df.reset_index(drop=True)\n",
    "test_df = test_df.reset_index(drop=True)"
   ]
  },
  {
   "cell_type": "markdown",
   "metadata": {},
   "source": [
    "### Fetch, crop and store image data"
   ]
  },
  {
   "cell_type": "code",
   "execution_count": 15,
   "metadata": {},
   "outputs": [],
   "source": [
    "# Reading all the images from multiple folders and added to the list\n",
    "folders = glob.glob(dataset_path +'//*')\n",
    "imagenames_list = []\n",
    "for folder in folders:\n",
    "    for f in glob.glob(folder+'/*'):   \n",
    "        imagenames_list.append(f)"
   ]
  },
  {
   "cell_type": "code",
   "execution_count": 16,
   "metadata": {},
   "outputs": [],
   "source": [
    "train_data = []  \n",
    "for ind in df.index:\n",
    "    bbox = (df['x_min'][ind],df['y_min'][ind],df['x_max'][ind],df['y_max'][ind])\n",
    "    img=Image.open(os.path.join(dataset_path,df['filename'][ind]))\n",
    "    img=img.crop(bbox)\n",
    "    img = img.resize((128, 128), Image.ANTIALIAS)\n",
    "    img = image.img_to_array(img)\n",
    "    train_data.append(img)\n",
    "\n",
    "X = np.array(train_data)"
   ]
  },
  {
   "cell_type": "code",
   "execution_count": 17,
   "metadata": {},
   "outputs": [],
   "source": [
    "df = df.drop(['x_min','x_max','y_min','y_max'], axis=1)\n",
    "#test_df = test_df.drop(['x_min','x_max','y_min','y_max'], axis=1)"
   ]
  },
  {
   "cell_type": "code",
   "execution_count": 18,
   "metadata": {},
   "outputs": [
    {
     "data": {
      "text/html": [
       "<div>\n",
       "<style scoped>\n",
       "    .dataframe tbody tr th:only-of-type {\n",
       "        vertical-align: middle;\n",
       "    }\n",
       "\n",
       "    .dataframe tbody tr th {\n",
       "        vertical-align: top;\n",
       "    }\n",
       "\n",
       "    .dataframe thead th {\n",
       "        text-align: right;\n",
       "    }\n",
       "</style>\n",
       "<table border=\"1\" class=\"dataframe\">\n",
       "  <thead>\n",
       "    <tr style=\"text-align: right;\">\n",
       "      <th></th>\n",
       "      <th>filename</th>\n",
       "      <th>category</th>\n",
       "    </tr>\n",
       "  </thead>\n",
       "  <tbody>\n",
       "    <tr>\n",
       "      <th>0</th>\n",
       "      <td>batch_1/000006.jpg</td>\n",
       "      <td>Glass bottle</td>\n",
       "    </tr>\n",
       "    <tr>\n",
       "      <th>1</th>\n",
       "      <td>batch_1/000012.jpg</td>\n",
       "      <td>Glass bottle</td>\n",
       "    </tr>\n",
       "    <tr>\n",
       "      <th>2</th>\n",
       "      <td>batch_1/000048.jpg</td>\n",
       "      <td>Glass bottle</td>\n",
       "    </tr>\n",
       "    <tr>\n",
       "      <th>3</th>\n",
       "      <td>batch_1/000021.jpg</td>\n",
       "      <td>Glass bottle</td>\n",
       "    </tr>\n",
       "    <tr>\n",
       "      <th>4</th>\n",
       "      <td>batch_1/000022.jpg</td>\n",
       "      <td>Glass bottle</td>\n",
       "    </tr>\n",
       "  </tbody>\n",
       "</table>\n",
       "</div>"
      ],
      "text/plain": [
       "             filename      category\n",
       "0  batch_1/000006.jpg  Glass bottle\n",
       "1  batch_1/000012.jpg  Glass bottle\n",
       "2  batch_1/000048.jpg  Glass bottle\n",
       "3  batch_1/000021.jpg  Glass bottle\n",
       "4  batch_1/000022.jpg  Glass bottle"
      ]
     },
     "execution_count": 18,
     "metadata": {},
     "output_type": "execute_result"
    }
   ],
   "source": [
    "df.head()"
   ]
  },
  {
   "cell_type": "code",
   "execution_count": 19,
   "metadata": {},
   "outputs": [
    {
     "data": {
      "text/html": [
       "<div>\n",
       "<style scoped>\n",
       "    .dataframe tbody tr th:only-of-type {\n",
       "        vertical-align: middle;\n",
       "    }\n",
       "\n",
       "    .dataframe tbody tr th {\n",
       "        vertical-align: top;\n",
       "    }\n",
       "\n",
       "    .dataframe thead th {\n",
       "        text-align: right;\n",
       "    }\n",
       "</style>\n",
       "<table border=\"1\" class=\"dataframe\">\n",
       "  <thead>\n",
       "    <tr style=\"text-align: right;\">\n",
       "      <th></th>\n",
       "      <th>filename</th>\n",
       "      <th>category_Cigarette</th>\n",
       "      <th>category_Clear plastic bottle</th>\n",
       "      <th>category_Drink can</th>\n",
       "      <th>category_Glass bottle</th>\n",
       "      <th>category_Plastic straw</th>\n",
       "    </tr>\n",
       "  </thead>\n",
       "  <tbody>\n",
       "    <tr>\n",
       "      <th>0</th>\n",
       "      <td>batch_1/000006.jpg</td>\n",
       "      <td>0</td>\n",
       "      <td>0</td>\n",
       "      <td>0</td>\n",
       "      <td>1</td>\n",
       "      <td>0</td>\n",
       "    </tr>\n",
       "    <tr>\n",
       "      <th>1</th>\n",
       "      <td>batch_1/000012.jpg</td>\n",
       "      <td>0</td>\n",
       "      <td>0</td>\n",
       "      <td>0</td>\n",
       "      <td>1</td>\n",
       "      <td>0</td>\n",
       "    </tr>\n",
       "    <tr>\n",
       "      <th>2</th>\n",
       "      <td>batch_1/000048.jpg</td>\n",
       "      <td>0</td>\n",
       "      <td>0</td>\n",
       "      <td>0</td>\n",
       "      <td>1</td>\n",
       "      <td>0</td>\n",
       "    </tr>\n",
       "    <tr>\n",
       "      <th>3</th>\n",
       "      <td>batch_1/000021.jpg</td>\n",
       "      <td>0</td>\n",
       "      <td>0</td>\n",
       "      <td>0</td>\n",
       "      <td>1</td>\n",
       "      <td>0</td>\n",
       "    </tr>\n",
       "    <tr>\n",
       "      <th>4</th>\n",
       "      <td>batch_1/000022.jpg</td>\n",
       "      <td>0</td>\n",
       "      <td>0</td>\n",
       "      <td>0</td>\n",
       "      <td>1</td>\n",
       "      <td>0</td>\n",
       "    </tr>\n",
       "  </tbody>\n",
       "</table>\n",
       "</div>"
      ],
      "text/plain": [
       "             filename  category_Cigarette  category_Clear plastic bottle  \\\n",
       "0  batch_1/000006.jpg                   0                              0   \n",
       "1  batch_1/000012.jpg                   0                              0   \n",
       "2  batch_1/000048.jpg                   0                              0   \n",
       "3  batch_1/000021.jpg                   0                              0   \n",
       "4  batch_1/000022.jpg                   0                              0   \n",
       "\n",
       "   category_Drink can  category_Glass bottle  category_Plastic straw  \n",
       "0                   0                      1                       0  \n",
       "1                   0                      1                       0  \n",
       "2                   0                      1                       0  \n",
       "3                   0                      1                       0  \n",
       "4                   0                      1                       0  "
      ]
     },
     "execution_count": 19,
     "metadata": {},
     "output_type": "execute_result"
    }
   ],
   "source": [
    "df = pd.get_dummies(df, columns=[\"category\"])\n",
    "df.head()"
   ]
  },
  {
   "cell_type": "code",
   "execution_count": 20,
   "metadata": {},
   "outputs": [
    {
     "name": "stdout",
     "output_type": "stream",
     "text": [
      "(1442, 5)\n",
      "(1442, 128, 128, 3)\n"
     ]
    }
   ],
   "source": [
    "# \n",
    "y = np.array(df.drop(['filename'],axis=1))\n",
    "print(y.shape)\n",
    "print(X.shape)"
   ]
  },
  {
   "cell_type": "markdown",
   "metadata": {},
   "source": [
    "### Data Split "
   ]
  },
  {
   "cell_type": "code",
   "execution_count": 21,
   "metadata": {},
   "outputs": [],
   "source": [
    "# Data split Randomly\n",
    "X_train, X_test, y_train, y_test = train_test_split(X, y, random_state=42, test_size=0.1)"
   ]
  },
  {
   "cell_type": "markdown",
   "metadata": {},
   "source": [
    "### Build Keras Model "
   ]
  },
  {
   "cell_type": "code",
   "execution_count": 22,
   "metadata": {},
   "outputs": [],
   "source": [
    "model = Sequential()\n",
    "model.add(Conv2D(filters=16, kernel_size=(5, 5), activation=\"relu\", input_shape=(128,128,3)))\n",
    "model.add(MaxPooling2D(pool_size=(2, 2)))\n",
    "model.add(Dropout(0.25))\n",
    "model.add(Conv2D(filters=32, kernel_size=(5, 5), activation='relu'))\n",
    "model.add(MaxPooling2D(pool_size=(2, 2)))\n",
    "model.add(Dropout(0.25))\n",
    "model.add(Conv2D(filters=64, kernel_size=(5, 5), activation=\"relu\"))\n",
    "model.add(MaxPooling2D(pool_size=(2, 2)))\n",
    "model.add(Dropout(0.25))\n",
    "\n",
    "model.add(Conv2D(filters=64, kernel_size=(5, 5), activation='relu'))\n",
    "model.add(MaxPooling2D(pool_size=(2, 2)))\n",
    "model.add(Dropout(0.25))\n",
    "\n",
    "model.add(Flatten())\n",
    "model.add(Dense(128, activation='relu'))\n",
    "model.add(Dropout(0.5))\n",
    "model.add(Dense(64, activation='relu'))\n",
    "model.add(Dropout(0.5))\n",
    "model.add(Dense(5, activation='softmax'))"
   ]
  },
  {
   "cell_type": "code",
   "execution_count": 23,
   "metadata": {},
   "outputs": [
    {
     "name": "stdout",
     "output_type": "stream",
     "text": [
      "Model: \"sequential_1\"\n",
      "_________________________________________________________________\n",
      "Layer (type)                 Output Shape              Param #   \n",
      "=================================================================\n",
      "conv2d_1 (Conv2D)            (None, 124, 124, 16)      1216      \n",
      "_________________________________________________________________\n",
      "max_pooling2d_1 (MaxPooling2 (None, 62, 62, 16)        0         \n",
      "_________________________________________________________________\n",
      "dropout_1 (Dropout)          (None, 62, 62, 16)        0         \n",
      "_________________________________________________________________\n",
      "conv2d_2 (Conv2D)            (None, 58, 58, 32)        12832     \n",
      "_________________________________________________________________\n",
      "max_pooling2d_2 (MaxPooling2 (None, 29, 29, 32)        0         \n",
      "_________________________________________________________________\n",
      "dropout_2 (Dropout)          (None, 29, 29, 32)        0         \n",
      "_________________________________________________________________\n",
      "conv2d_3 (Conv2D)            (None, 25, 25, 64)        51264     \n",
      "_________________________________________________________________\n",
      "max_pooling2d_3 (MaxPooling2 (None, 12, 12, 64)        0         \n",
      "_________________________________________________________________\n",
      "dropout_3 (Dropout)          (None, 12, 12, 64)        0         \n",
      "_________________________________________________________________\n",
      "conv2d_4 (Conv2D)            (None, 8, 8, 64)          102464    \n",
      "_________________________________________________________________\n",
      "max_pooling2d_4 (MaxPooling2 (None, 4, 4, 64)          0         \n",
      "_________________________________________________________________\n",
      "dropout_4 (Dropout)          (None, 4, 4, 64)          0         \n",
      "_________________________________________________________________\n",
      "flatten_1 (Flatten)          (None, 1024)              0         \n",
      "_________________________________________________________________\n",
      "dense_1 (Dense)              (None, 128)               131200    \n",
      "_________________________________________________________________\n",
      "dropout_5 (Dropout)          (None, 128)               0         \n",
      "_________________________________________________________________\n",
      "dense_2 (Dense)              (None, 64)                8256      \n",
      "_________________________________________________________________\n",
      "dropout_6 (Dropout)          (None, 64)                0         \n",
      "_________________________________________________________________\n",
      "dense_3 (Dense)              (None, 5)                 325       \n",
      "=================================================================\n",
      "Total params: 307,557\n",
      "Trainable params: 307,557\n",
      "Non-trainable params: 0\n",
      "_________________________________________________________________\n"
     ]
    }
   ],
   "source": [
    "#Model Summary\n",
    "model.summary()"
   ]
  },
  {
   "cell_type": "markdown",
   "metadata": {},
   "source": [
    "## Keras Model Implementation Using 'Accuracy' Method"
   ]
  },
  {
   "cell_type": "code",
   "execution_count": 24,
   "metadata": {},
   "outputs": [],
   "source": [
    "model.compile(optimizer='adam', loss='categorical_crossentropy', metrics=['accuracy'])"
   ]
  },
  {
   "cell_type": "code",
   "execution_count": 25,
   "metadata": {},
   "outputs": [
    {
     "name": "stdout",
     "output_type": "stream",
     "text": [
      "Train on 1037 samples, validate on 260 samples\n",
      "Epoch 1/200\n",
      "1037/1037 [==============================] - 20s 19ms/step - loss: 13.4160 - accuracy: 0.3134 - val_loss: 1.5774 - val_accuracy: 0.4885\n",
      "Epoch 2/200\n",
      "1037/1037 [==============================] - 16s 16ms/step - loss: 1.5572 - accuracy: 0.4812 - val_loss: 1.5175 - val_accuracy: 0.4923\n",
      "Epoch 3/200\n",
      "1037/1037 [==============================] - 17s 17ms/step - loss: 1.5031 - accuracy: 0.4937 - val_loss: 1.4562 - val_accuracy: 0.5038\n",
      "Epoch 4/200\n",
      "1037/1037 [==============================] - 17s 17ms/step - loss: 1.4522 - accuracy: 0.4995 - val_loss: 1.3891 - val_accuracy: 0.5077\n",
      "Epoch 5/200\n",
      "1037/1037 [==============================] - 17s 16ms/step - loss: 1.3557 - accuracy: 0.5130 - val_loss: 1.2201 - val_accuracy: 0.5077\n",
      "Epoch 6/200\n",
      "1037/1037 [==============================] - 17s 17ms/step - loss: 1.2854 - accuracy: 0.5005 - val_loss: 1.1454 - val_accuracy: 0.5308\n",
      "Epoch 7/200\n",
      "1037/1037 [==============================] - 17s 16ms/step - loss: 1.2137 - accuracy: 0.5111 - val_loss: 1.1067 - val_accuracy: 0.5577\n",
      "Epoch 8/200\n",
      "1037/1037 [==============================] - 16s 16ms/step - loss: 1.1987 - accuracy: 0.5342 - val_loss: 1.1080 - val_accuracy: 0.5577\n",
      "Epoch 9/200\n",
      "1037/1037 [==============================] - 16s 16ms/step - loss: 1.2131 - accuracy: 0.5429 - val_loss: 1.0900 - val_accuracy: 0.5538\n",
      "Epoch 10/200\n",
      "1037/1037 [==============================] - 16s 16ms/step - loss: 1.1939 - accuracy: 0.5400 - val_loss: 1.0794 - val_accuracy: 0.5615\n",
      "Epoch 11/200\n",
      "1037/1037 [==============================] - 16s 16ms/step - loss: 1.1572 - accuracy: 0.5410 - val_loss: 1.1271 - val_accuracy: 0.4923\n",
      "Epoch 12/200\n",
      "1037/1037 [==============================] - 17s 16ms/step - loss: 1.1150 - accuracy: 0.5651 - val_loss: 1.0334 - val_accuracy: 0.6115\n",
      "Epoch 13/200\n",
      "1037/1037 [==============================] - 17s 16ms/step - loss: 1.1526 - accuracy: 0.5468 - val_loss: 1.0447 - val_accuracy: 0.6000\n",
      "Epoch 14/200\n",
      "1037/1037 [==============================] - 17s 16ms/step - loss: 1.1164 - accuracy: 0.5583 - val_loss: 1.0417 - val_accuracy: 0.6231\n",
      "Epoch 15/200\n",
      "1037/1037 [==============================] - 16s 16ms/step - loss: 1.1454 - accuracy: 0.5342 - val_loss: 1.0117 - val_accuracy: 0.5923\n",
      "Epoch 16/200\n",
      "1037/1037 [==============================] - 16s 16ms/step - loss: 1.1315 - accuracy: 0.5506 - val_loss: 1.0516 - val_accuracy: 0.6038\n",
      "Epoch 17/200\n",
      "1037/1037 [==============================] - 17s 16ms/step - loss: 1.1245 - accuracy: 0.5641 - val_loss: 1.0507 - val_accuracy: 0.5654\n",
      "Epoch 18/200\n",
      "1037/1037 [==============================] - 18s 17ms/step - loss: 1.0859 - accuracy: 0.5747 - val_loss: 1.0080 - val_accuracy: 0.6115\n",
      "Epoch 19/200\n",
      "1037/1037 [==============================] - 17s 16ms/step - loss: 1.1013 - accuracy: 0.5680 - val_loss: 1.0487 - val_accuracy: 0.5577\n",
      "Epoch 20/200\n",
      "1037/1037 [==============================] - 17s 16ms/step - loss: 1.1009 - accuracy: 0.5786 - val_loss: 1.0166 - val_accuracy: 0.5846\n",
      "Epoch 21/200\n",
      "1037/1037 [==============================] - 17s 16ms/step - loss: 1.0838 - accuracy: 0.5757 - val_loss: 1.0418 - val_accuracy: 0.5615\n",
      "Epoch 22/200\n",
      "1037/1037 [==============================] - 19s 18ms/step - loss: 1.0957 - accuracy: 0.5902 - val_loss: 1.0512 - val_accuracy: 0.5692\n",
      "Epoch 23/200\n",
      "1037/1037 [==============================] - 17s 16ms/step - loss: 1.0919 - accuracy: 0.5516 - val_loss: 1.0381 - val_accuracy: 0.5577\n",
      "Epoch 24/200\n",
      "1037/1037 [==============================] - 17s 16ms/step - loss: 1.0640 - accuracy: 0.5931 - val_loss: 1.0374 - val_accuracy: 0.5808\n",
      "Epoch 25/200\n",
      "1037/1037 [==============================] - 17s 16ms/step - loss: 1.0849 - accuracy: 0.5863 - val_loss: 1.0203 - val_accuracy: 0.5654\n",
      "Epoch 26/200\n",
      "1037/1037 [==============================] - 17s 16ms/step - loss: 1.0785 - accuracy: 0.5834 - val_loss: 1.0244 - val_accuracy: 0.6308\n",
      "Epoch 27/200\n",
      "1037/1037 [==============================] - 17s 16ms/step - loss: 1.0805 - accuracy: 0.5718 - val_loss: 1.0022 - val_accuracy: 0.5885\n",
      "Epoch 28/200\n",
      "1037/1037 [==============================] - 17s 16ms/step - loss: 1.0957 - accuracy: 0.5824 - val_loss: 1.0626 - val_accuracy: 0.5154\n",
      "Epoch 29/200\n",
      "1037/1037 [==============================] - 16s 16ms/step - loss: 1.1160 - accuracy: 0.5661 - val_loss: 0.9915 - val_accuracy: 0.6115\n",
      "Epoch 30/200\n",
      "1037/1037 [==============================] - 16s 16ms/step - loss: 1.0689 - accuracy: 0.5834 - val_loss: 1.0286 - val_accuracy: 0.5577\n",
      "Epoch 31/200\n",
      "1037/1037 [==============================] - 17s 16ms/step - loss: 1.0486 - accuracy: 0.5844 - val_loss: 0.9988 - val_accuracy: 0.6000\n",
      "Epoch 32/200\n",
      "1037/1037 [==============================] - 17s 16ms/step - loss: 1.0315 - accuracy: 0.5931 - val_loss: 0.9895 - val_accuracy: 0.6077\n",
      "Epoch 33/200\n",
      "1037/1037 [==============================] - 17s 16ms/step - loss: 1.0420 - accuracy: 0.5911 - val_loss: 1.0113 - val_accuracy: 0.5923\n",
      "Epoch 34/200\n",
      "1037/1037 [==============================] - 17s 16ms/step - loss: 1.0440 - accuracy: 0.6172 - val_loss: 1.0199 - val_accuracy: 0.5846\n",
      "Epoch 35/200\n",
      "1037/1037 [==============================] - 17s 16ms/step - loss: 1.0196 - accuracy: 0.6085 - val_loss: 0.9961 - val_accuracy: 0.5962\n",
      "Epoch 36/200\n",
      "1037/1037 [==============================] - 17s 17ms/step - loss: 1.0395 - accuracy: 0.5815 - val_loss: 1.0218 - val_accuracy: 0.5769\n",
      "Epoch 37/200\n",
      "1037/1037 [==============================] - 16s 16ms/step - loss: 1.0050 - accuracy: 0.6008 - val_loss: 0.9860 - val_accuracy: 0.6154\n",
      "Epoch 38/200\n",
      "1037/1037 [==============================] - 16s 16ms/step - loss: 1.0179 - accuracy: 0.6095 - val_loss: 0.9892 - val_accuracy: 0.6154\n",
      "Epoch 39/200\n",
      "1037/1037 [==============================] - 17s 16ms/step - loss: 1.0270 - accuracy: 0.5969 - val_loss: 1.0193 - val_accuracy: 0.5692\n",
      "Epoch 40/200\n",
      "1037/1037 [==============================] - 16s 16ms/step - loss: 1.0188 - accuracy: 0.6056 - val_loss: 1.0046 - val_accuracy: 0.5923\n",
      "Epoch 41/200\n",
      "1037/1037 [==============================] - 16s 16ms/step - loss: 0.9925 - accuracy: 0.5998 - val_loss: 0.9364 - val_accuracy: 0.6500\n",
      "Epoch 42/200\n",
      "1037/1037 [==============================] - 17s 16ms/step - loss: 1.0012 - accuracy: 0.5998 - val_loss: 0.9901 - val_accuracy: 0.6192\n",
      "Epoch 43/200\n",
      "1037/1037 [==============================] - 17s 16ms/step - loss: 1.0124 - accuracy: 0.6017 - val_loss: 1.0446 - val_accuracy: 0.5615\n",
      "Epoch 44/200\n",
      "1037/1037 [==============================] - 16s 16ms/step - loss: 0.9889 - accuracy: 0.6133 - val_loss: 0.9829 - val_accuracy: 0.6192\n",
      "Epoch 45/200\n",
      "1037/1037 [==============================] - 17s 17ms/step - loss: 0.9994 - accuracy: 0.6075 - val_loss: 0.9555 - val_accuracy: 0.6423\n",
      "Epoch 46/200\n",
      "1037/1037 [==============================] - 16s 16ms/step - loss: 0.9744 - accuracy: 0.6220 - val_loss: 0.9311 - val_accuracy: 0.6615\n",
      "Epoch 47/200\n",
      "1037/1037 [==============================] - 16s 16ms/step - loss: 0.9923 - accuracy: 0.6239 - val_loss: 0.9878 - val_accuracy: 0.6231\n",
      "Epoch 48/200\n",
      "1037/1037 [==============================] - 17s 16ms/step - loss: 0.9935 - accuracy: 0.6123 - val_loss: 0.9602 - val_accuracy: 0.6154\n",
      "Epoch 49/200\n",
      "1037/1037 [==============================] - 17s 16ms/step - loss: 1.0129 - accuracy: 0.6133 - val_loss: 0.9095 - val_accuracy: 0.6615\n",
      "Epoch 50/200\n",
      "1037/1037 [==============================] - 17s 16ms/step - loss: 0.9970 - accuracy: 0.6133 - val_loss: 0.9799 - val_accuracy: 0.5923\n",
      "Epoch 51/200\n",
      "1037/1037 [==============================] - 16s 16ms/step - loss: 0.9750 - accuracy: 0.6017 - val_loss: 0.9847 - val_accuracy: 0.5962\n",
      "Epoch 52/200\n",
      "1037/1037 [==============================] - 16s 16ms/step - loss: 0.9695 - accuracy: 0.6316 - val_loss: 1.1223 - val_accuracy: 0.5654\n",
      "Epoch 53/200\n",
      "1037/1037 [==============================] - 17s 16ms/step - loss: 1.0061 - accuracy: 0.6095 - val_loss: 0.9603 - val_accuracy: 0.6154\n",
      "Epoch 54/200\n",
      "1037/1037 [==============================] - 17s 17ms/step - loss: 0.9755 - accuracy: 0.6085 - val_loss: 0.9985 - val_accuracy: 0.6000\n",
      "Epoch 55/200\n",
      "1037/1037 [==============================] - 16s 16ms/step - loss: 0.9698 - accuracy: 0.6181 - val_loss: 1.0018 - val_accuracy: 0.6154\n",
      "Epoch 56/200\n"
     ]
    },
    {
     "name": "stdout",
     "output_type": "stream",
     "text": [
      "1037/1037 [==============================] - 16s 16ms/step - loss: 0.9686 - accuracy: 0.6027 - val_loss: 0.9858 - val_accuracy: 0.6154\n",
      "Epoch 57/200\n",
      "1037/1037 [==============================] - 17s 16ms/step - loss: 0.9397 - accuracy: 0.6172 - val_loss: 1.0440 - val_accuracy: 0.5808\n",
      "Epoch 58/200\n",
      "1037/1037 [==============================] - 17s 16ms/step - loss: 0.9926 - accuracy: 0.5979 - val_loss: 1.0492 - val_accuracy: 0.5615\n",
      "Epoch 59/200\n",
      "1037/1037 [==============================] - 17s 17ms/step - loss: 0.9568 - accuracy: 0.6152 - val_loss: 0.9881 - val_accuracy: 0.6154\n",
      "Epoch 60/200\n",
      "1037/1037 [==============================] - 19s 18ms/step - loss: 0.9491 - accuracy: 0.6230 - val_loss: 1.0144 - val_accuracy: 0.5846\n",
      "Epoch 61/200\n",
      "1037/1037 [==============================] - 19s 18ms/step - loss: 0.9298 - accuracy: 0.6307 - val_loss: 0.9720 - val_accuracy: 0.6308\n",
      "Epoch 62/200\n",
      "1037/1037 [==============================] - 17s 17ms/step - loss: 0.9456 - accuracy: 0.6191 - val_loss: 0.9382 - val_accuracy: 0.6346\n",
      "Epoch 63/200\n",
      "1037/1037 [==============================] - 19s 18ms/step - loss: 0.9407 - accuracy: 0.6384 - val_loss: 0.9411 - val_accuracy: 0.6154\n",
      "Epoch 64/200\n",
      "1037/1037 [==============================] - 20s 20ms/step - loss: 0.9595 - accuracy: 0.6316 - val_loss: 0.9995 - val_accuracy: 0.5885\n",
      "Epoch 65/200\n",
      "1037/1037 [==============================] - 25s 24ms/step - loss: 0.9431 - accuracy: 0.6249 - val_loss: 0.9733 - val_accuracy: 0.6346\n",
      "Epoch 66/200\n",
      "1037/1037 [==============================] - 21s 20ms/step - loss: 0.9774 - accuracy: 0.6239 - val_loss: 0.8877 - val_accuracy: 0.6462\n",
      "Epoch 67/200\n",
      "1037/1037 [==============================] - 20s 20ms/step - loss: 0.9569 - accuracy: 0.6191 - val_loss: 0.9566 - val_accuracy: 0.6269\n",
      "Epoch 68/200\n",
      "1037/1037 [==============================] - 19s 18ms/step - loss: 0.9432 - accuracy: 0.6133 - val_loss: 0.9544 - val_accuracy: 0.6423\n",
      "Epoch 69/200\n",
      "1037/1037 [==============================] - 20s 19ms/step - loss: 0.8992 - accuracy: 0.6230 - val_loss: 1.0143 - val_accuracy: 0.6308\n",
      "Epoch 70/200\n",
      "1037/1037 [==============================] - 18s 17ms/step - loss: 0.9340 - accuracy: 0.6278 - val_loss: 1.0094 - val_accuracy: 0.5885\n",
      "Epoch 71/200\n",
      "1037/1037 [==============================] - 16s 16ms/step - loss: 0.9076 - accuracy: 0.6316 - val_loss: 0.9621 - val_accuracy: 0.6385\n",
      "Epoch 72/200\n",
      "1037/1037 [==============================] - 16s 16ms/step - loss: 0.9205 - accuracy: 0.6336 - val_loss: 0.9110 - val_accuracy: 0.6346\n",
      "Epoch 73/200\n",
      "1037/1037 [==============================] - 16s 16ms/step - loss: 0.8859 - accuracy: 0.6519 - val_loss: 0.9017 - val_accuracy: 0.6577\n",
      "Epoch 74/200\n",
      "1037/1037 [==============================] - 16s 15ms/step - loss: 0.8890 - accuracy: 0.6490 - val_loss: 0.9605 - val_accuracy: 0.6538\n",
      "Epoch 75/200\n",
      "1037/1037 [==============================] - 16s 16ms/step - loss: 0.9013 - accuracy: 0.6490 - val_loss: 1.0093 - val_accuracy: 0.6077\n",
      "Epoch 76/200\n",
      "1037/1037 [==============================] - 17s 17ms/step - loss: 0.9060 - accuracy: 0.6422 - val_loss: 0.9084 - val_accuracy: 0.6538\n",
      "Epoch 77/200\n",
      "1037/1037 [==============================] - 17s 17ms/step - loss: 0.9112 - accuracy: 0.6345 - val_loss: 0.9626 - val_accuracy: 0.6308\n",
      "Epoch 78/200\n",
      "1037/1037 [==============================] - 18s 17ms/step - loss: 0.9136 - accuracy: 0.6422 - val_loss: 0.9437 - val_accuracy: 0.6385\n",
      "Epoch 79/200\n",
      "1037/1037 [==============================] - 21s 20ms/step - loss: 0.9116 - accuracy: 0.6432 - val_loss: 0.8915 - val_accuracy: 0.6538\n",
      "Epoch 80/200\n",
      "1037/1037 [==============================] - 19s 18ms/step - loss: 0.8608 - accuracy: 0.6663 - val_loss: 0.8936 - val_accuracy: 0.6538\n",
      "Epoch 81/200\n",
      "1037/1037 [==============================] - 19s 18ms/step - loss: 0.8585 - accuracy: 0.6509 - val_loss: 1.0029 - val_accuracy: 0.6231\n",
      "Epoch 82/200\n",
      "1037/1037 [==============================] - 20s 19ms/step - loss: 0.8748 - accuracy: 0.6471 - val_loss: 0.9188 - val_accuracy: 0.6385\n",
      "Epoch 83/200\n",
      "1037/1037 [==============================] - 20s 19ms/step - loss: 0.8976 - accuracy: 0.6663 - val_loss: 0.8883 - val_accuracy: 0.6654\n",
      "Epoch 84/200\n",
      "1037/1037 [==============================] - 19s 18ms/step - loss: 0.8814 - accuracy: 0.6490 - val_loss: 0.8942 - val_accuracy: 0.6538\n",
      "Epoch 85/200\n",
      "1037/1037 [==============================] - 17s 16ms/step - loss: 0.8708 - accuracy: 0.6500 - val_loss: 1.1084 - val_accuracy: 0.5923\n",
      "Epoch 86/200\n",
      "1037/1037 [==============================] - 21s 20ms/step - loss: 0.8769 - accuracy: 0.6432 - val_loss: 0.9206 - val_accuracy: 0.6462\n",
      "Epoch 87/200\n",
      "1037/1037 [==============================] - 18s 18ms/step - loss: 0.8430 - accuracy: 0.6519 - val_loss: 0.8940 - val_accuracy: 0.6308\n",
      "Epoch 88/200\n",
      "1037/1037 [==============================] - 17s 16ms/step - loss: 0.8368 - accuracy: 0.6480 - val_loss: 0.9546 - val_accuracy: 0.6538\n",
      "Epoch 89/200\n",
      "1037/1037 [==============================] - 17s 16ms/step - loss: 0.8419 - accuracy: 0.6798 - val_loss: 0.9342 - val_accuracy: 0.6500\n",
      "Epoch 90/200\n",
      "1037/1037 [==============================] - 16s 16ms/step - loss: 0.8602 - accuracy: 0.6731 - val_loss: 0.9121 - val_accuracy: 0.6423\n",
      "Epoch 91/200\n",
      "1037/1037 [==============================] - 17s 16ms/step - loss: 0.8522 - accuracy: 0.6702 - val_loss: 0.9480 - val_accuracy: 0.6346\n",
      "Epoch 92/200\n",
      "1037/1037 [==============================] - 16s 16ms/step - loss: 0.8572 - accuracy: 0.6683 - val_loss: 0.9410 - val_accuracy: 0.6538\n",
      "Epoch 93/200\n",
      "1037/1037 [==============================] - 17s 16ms/step - loss: 0.8371 - accuracy: 0.6644 - val_loss: 0.8877 - val_accuracy: 0.6885\n",
      "Epoch 94/200\n",
      "1037/1037 [==============================] - 16s 16ms/step - loss: 0.8469 - accuracy: 0.6673 - val_loss: 0.8636 - val_accuracy: 0.6808\n",
      "Epoch 95/200\n",
      "1037/1037 [==============================] - 17s 16ms/step - loss: 0.8257 - accuracy: 0.6625 - val_loss: 0.9088 - val_accuracy: 0.6385\n",
      "Epoch 96/200\n",
      "1037/1037 [==============================] - 16s 16ms/step - loss: 0.8108 - accuracy: 0.6818 - val_loss: 0.8825 - val_accuracy: 0.6769\n",
      "Epoch 97/200\n",
      "1037/1037 [==============================] - 17s 16ms/step - loss: 0.9113 - accuracy: 0.6683 - val_loss: 0.9474 - val_accuracy: 0.6462\n",
      "Epoch 98/200\n",
      "1037/1037 [==============================] - 16s 16ms/step - loss: 0.8417 - accuracy: 0.6683 - val_loss: 0.9431 - val_accuracy: 0.6346\n",
      "Epoch 99/200\n",
      "1037/1037 [==============================] - 17s 16ms/step - loss: 0.8395 - accuracy: 0.6731 - val_loss: 0.9068 - val_accuracy: 0.6462\n",
      "Epoch 100/200\n",
      "1037/1037 [==============================] - 17s 16ms/step - loss: 0.8603 - accuracy: 0.6770 - val_loss: 0.9206 - val_accuracy: 0.6346\n",
      "Epoch 101/200\n",
      "1037/1037 [==============================] - 16s 16ms/step - loss: 0.8042 - accuracy: 0.6962 - val_loss: 0.9307 - val_accuracy: 0.6615\n",
      "Epoch 102/200\n",
      "1037/1037 [==============================] - 17s 16ms/step - loss: 0.7672 - accuracy: 0.6866 - val_loss: 0.9218 - val_accuracy: 0.6654\n",
      "Epoch 103/200\n",
      "1037/1037 [==============================] - 16s 16ms/step - loss: 0.8075 - accuracy: 0.6924 - val_loss: 0.8768 - val_accuracy: 0.6769\n",
      "Epoch 104/200\n",
      "1037/1037 [==============================] - 17s 17ms/step - loss: 0.8234 - accuracy: 0.6779 - val_loss: 1.0367 - val_accuracy: 0.6423\n",
      "Epoch 105/200\n",
      "1037/1037 [==============================] - 17s 16ms/step - loss: 0.8115 - accuracy: 0.6760 - val_loss: 0.9231 - val_accuracy: 0.6615\n",
      "Epoch 106/200\n",
      "1037/1037 [==============================] - 17s 16ms/step - loss: 0.7918 - accuracy: 0.7011 - val_loss: 0.9433 - val_accuracy: 0.6654\n",
      "Epoch 107/200\n",
      "1037/1037 [==============================] - 19s 18ms/step - loss: 0.8197 - accuracy: 0.6866 - val_loss: 0.8763 - val_accuracy: 0.6846\n",
      "Epoch 108/200\n",
      "1037/1037 [==============================] - 18s 18ms/step - loss: 0.7639 - accuracy: 0.6982 - val_loss: 0.9545 - val_accuracy: 0.6731\n",
      "Epoch 109/200\n",
      "1037/1037 [==============================] - 19s 19ms/step - loss: 0.7714 - accuracy: 0.6837 - val_loss: 0.9791 - val_accuracy: 0.6538\n",
      "Epoch 110/200\n",
      "1037/1037 [==============================] - 18s 17ms/step - loss: 0.7618 - accuracy: 0.7088 - val_loss: 0.9076 - val_accuracy: 0.6654\n",
      "Epoch 111/200\n"
     ]
    },
    {
     "name": "stdout",
     "output_type": "stream",
     "text": [
      "1037/1037 [==============================] - 18s 17ms/step - loss: 0.8052 - accuracy: 0.6905 - val_loss: 0.8913 - val_accuracy: 0.6769\n",
      "Epoch 112/200\n",
      "1037/1037 [==============================] - 19s 18ms/step - loss: 0.7763 - accuracy: 0.6885 - val_loss: 0.8877 - val_accuracy: 0.6462\n",
      "Epoch 113/200\n",
      "1037/1037 [==============================] - 22s 22ms/step - loss: 0.7514 - accuracy: 0.7059 - val_loss: 0.9301 - val_accuracy: 0.6346\n",
      "Epoch 114/200\n",
      "1037/1037 [==============================] - 19s 18ms/step - loss: 0.7893 - accuracy: 0.6943 - val_loss: 0.8681 - val_accuracy: 0.6423\n",
      "Epoch 115/200\n",
      "1037/1037 [==============================] - 17s 16ms/step - loss: 0.7697 - accuracy: 0.7059 - val_loss: 0.9683 - val_accuracy: 0.6385\n",
      "Epoch 116/200\n",
      "1037/1037 [==============================] - 17s 16ms/step - loss: 0.7639 - accuracy: 0.7136 - val_loss: 0.9382 - val_accuracy: 0.6500\n",
      "Epoch 117/200\n",
      "1037/1037 [==============================] - 17s 16ms/step - loss: 0.7409 - accuracy: 0.6991 - val_loss: 0.9536 - val_accuracy: 0.6385\n",
      "Epoch 118/200\n",
      "1037/1037 [==============================] - 17s 17ms/step - loss: 0.7463 - accuracy: 0.7184 - val_loss: 1.1561 - val_accuracy: 0.6269\n",
      "Epoch 119/200\n",
      "1037/1037 [==============================] - 17s 16ms/step - loss: 0.8369 - accuracy: 0.7059 - val_loss: 0.8944 - val_accuracy: 0.6538\n",
      "Epoch 120/200\n",
      "1037/1037 [==============================] - 16s 15ms/step - loss: 0.7453 - accuracy: 0.7203 - val_loss: 0.9927 - val_accuracy: 0.6346\n",
      "Epoch 121/200\n",
      "1037/1037 [==============================] - 16s 16ms/step - loss: 0.7601 - accuracy: 0.7242 - val_loss: 0.9840 - val_accuracy: 0.6538\n",
      "Epoch 122/200\n",
      "1037/1037 [==============================] - 16s 15ms/step - loss: 0.7172 - accuracy: 0.7203 - val_loss: 0.9164 - val_accuracy: 0.6615\n",
      "Epoch 123/200\n",
      "1037/1037 [==============================] - 16s 15ms/step - loss: 0.7530 - accuracy: 0.7155 - val_loss: 0.8836 - val_accuracy: 0.6500\n",
      "Epoch 124/200\n",
      "1037/1037 [==============================] - 16s 15ms/step - loss: 0.7191 - accuracy: 0.7175 - val_loss: 0.8994 - val_accuracy: 0.6654\n",
      "Epoch 125/200\n",
      "1037/1037 [==============================] - 16s 16ms/step - loss: 0.7080 - accuracy: 0.7338 - val_loss: 0.9033 - val_accuracy: 0.6423\n",
      "Epoch 126/200\n",
      "1037/1037 [==============================] - 16s 16ms/step - loss: 0.6604 - accuracy: 0.7425 - val_loss: 1.0294 - val_accuracy: 0.6192\n",
      "Epoch 127/200\n",
      "1037/1037 [==============================] - 23834s 23s/step - loss: 0.6666 - accuracy: 0.7406 - val_loss: 0.9242 - val_accuracy: 0.6615\n",
      "Epoch 128/200\n",
      "1037/1037 [==============================] - 21s 20ms/step - loss: 0.7232 - accuracy: 0.7300 - val_loss: 1.0081 - val_accuracy: 0.6308\n",
      "Epoch 129/200\n",
      "1037/1037 [==============================] - 20s 20ms/step - loss: 0.6502 - accuracy: 0.7435 - val_loss: 0.9285 - val_accuracy: 0.6654\n",
      "Epoch 130/200\n",
      "1037/1037 [==============================] - 21s 20ms/step - loss: 0.6940 - accuracy: 0.7290 - val_loss: 1.2382 - val_accuracy: 0.6423\n",
      "Epoch 131/200\n",
      "1037/1037 [==============================] - 17s 17ms/step - loss: 0.6970 - accuracy: 0.7367 - val_loss: 0.9122 - val_accuracy: 0.6538\n",
      "Epoch 132/200\n",
      "1037/1037 [==============================] - 15s 15ms/step - loss: 0.6934 - accuracy: 0.7338 - val_loss: 1.0538 - val_accuracy: 0.6769\n",
      "Epoch 133/200\n",
      "1037/1037 [==============================] - 16s 15ms/step - loss: 0.6793 - accuracy: 0.7416 - val_loss: 0.9299 - val_accuracy: 0.6692\n",
      "Epoch 134/200\n",
      "1037/1037 [==============================] - 15s 15ms/step - loss: 0.6664 - accuracy: 0.7570 - val_loss: 0.9759 - val_accuracy: 0.6654\n",
      "Epoch 135/200\n",
      "1037/1037 [==============================] - 15s 15ms/step - loss: 0.6609 - accuracy: 0.7580 - val_loss: 0.9744 - val_accuracy: 0.6615\n",
      "Epoch 136/200\n",
      "1037/1037 [==============================] - 15s 15ms/step - loss: 0.6870 - accuracy: 0.7445 - val_loss: 0.9354 - val_accuracy: 0.6885\n",
      "Epoch 137/200\n",
      "1037/1037 [==============================] - 17s 16ms/step - loss: 0.6831 - accuracy: 0.7599 - val_loss: 1.0186 - val_accuracy: 0.6577\n",
      "Epoch 138/200\n",
      "1037/1037 [==============================] - 17s 17ms/step - loss: 0.6770 - accuracy: 0.7531 - val_loss: 1.0016 - val_accuracy: 0.6500\n",
      "Epoch 139/200\n",
      "1037/1037 [==============================] - 19s 19ms/step - loss: 0.6430 - accuracy: 0.7724 - val_loss: 1.0123 - val_accuracy: 0.6615\n",
      "Epoch 140/200\n",
      "1037/1037 [==============================] - 17s 16ms/step - loss: 0.6420 - accuracy: 0.7560 - val_loss: 1.0021 - val_accuracy: 0.6654\n",
      "Epoch 141/200\n",
      "1037/1037 [==============================] - 1287s 1s/step - loss: 0.6326 - accuracy: 0.7647 - val_loss: 0.9043 - val_accuracy: 0.6769\n",
      "Epoch 142/200\n",
      "1037/1037 [==============================] - 21s 20ms/step - loss: 0.6208 - accuracy: 0.7657 - val_loss: 1.0279 - val_accuracy: 0.6654\n",
      "Epoch 143/200\n",
      "1037/1037 [==============================] - 20s 19ms/step - loss: 0.6281 - accuracy: 0.7724 - val_loss: 0.9321 - val_accuracy: 0.7077\n",
      "Epoch 144/200\n",
      "1037/1037 [==============================] - 18s 17ms/step - loss: 0.6201 - accuracy: 0.7705 - val_loss: 0.9541 - val_accuracy: 0.6808\n",
      "Epoch 145/200\n",
      "1037/1037 [==============================] - 23s 23ms/step - loss: 0.6085 - accuracy: 0.7676 - val_loss: 1.0750 - val_accuracy: 0.6808\n",
      "Epoch 146/200\n",
      "1037/1037 [==============================] - 19s 19ms/step - loss: 0.6014 - accuracy: 0.7743 - val_loss: 0.9712 - val_accuracy: 0.6769\n",
      "Epoch 147/200\n",
      "1037/1037 [==============================] - 18s 17ms/step - loss: 0.6382 - accuracy: 0.7647 - val_loss: 1.2258 - val_accuracy: 0.6462\n",
      "Epoch 148/200\n",
      "1037/1037 [==============================] - 21s 20ms/step - loss: 0.6401 - accuracy: 0.7743 - val_loss: 1.0053 - val_accuracy: 0.6462\n",
      "Epoch 149/200\n",
      "1037/1037 [==============================] - 22s 21ms/step - loss: 0.6283 - accuracy: 0.7859 - val_loss: 0.8847 - val_accuracy: 0.6885\n",
      "Epoch 150/200\n",
      "1037/1037 [==============================] - 17s 17ms/step - loss: 0.6061 - accuracy: 0.7792 - val_loss: 1.1477 - val_accuracy: 0.6769\n",
      "Epoch 151/200\n",
      "1037/1037 [==============================] - 18s 17ms/step - loss: 0.6158 - accuracy: 0.7715 - val_loss: 1.0385 - val_accuracy: 0.6615\n",
      "Epoch 152/200\n",
      "1037/1037 [==============================] - 20s 19ms/step - loss: 0.6189 - accuracy: 0.7821 - val_loss: 1.0783 - val_accuracy: 0.6731\n",
      "Epoch 153/200\n",
      "1037/1037 [==============================] - 25s 24ms/step - loss: 0.6218 - accuracy: 0.7743 - val_loss: 1.1849 - val_accuracy: 0.6731\n",
      "Epoch 154/200\n",
      "1037/1037 [==============================] - 22s 21ms/step - loss: 0.7239 - accuracy: 0.7454 - val_loss: 1.0346 - val_accuracy: 0.6423\n",
      "Epoch 155/200\n",
      "1037/1037 [==============================] - 19s 18ms/step - loss: 0.7276 - accuracy: 0.7435 - val_loss: 0.9175 - val_accuracy: 0.6885\n",
      "Epoch 156/200\n",
      "1037/1037 [==============================] - 18s 17ms/step - loss: 0.6267 - accuracy: 0.7869 - val_loss: 0.9446 - val_accuracy: 0.6769\n",
      "Epoch 157/200\n",
      "1037/1037 [==============================] - 20s 20ms/step - loss: 0.5613 - accuracy: 0.7936 - val_loss: 1.0177 - val_accuracy: 0.6808\n",
      "Epoch 158/200\n",
      "1037/1037 [==============================] - 17s 17ms/step - loss: 0.6047 - accuracy: 0.7869 - val_loss: 1.0482 - val_accuracy: 0.6923\n",
      "Epoch 159/200\n",
      "1037/1037 [==============================] - 18s 17ms/step - loss: 0.5511 - accuracy: 0.8081 - val_loss: 1.0960 - val_accuracy: 0.7000\n",
      "Epoch 160/200\n",
      "1037/1037 [==============================] - 20s 19ms/step - loss: 0.5852 - accuracy: 0.7888 - val_loss: 0.9184 - val_accuracy: 0.6808\n",
      "Epoch 161/200\n",
      "1037/1037 [==============================] - 16s 15ms/step - loss: 0.5584 - accuracy: 0.7927 - val_loss: 0.9927 - val_accuracy: 0.6885\n",
      "Epoch 162/200\n",
      "1037/1037 [==============================] - 17s 17ms/step - loss: 0.6157 - accuracy: 0.7763 - val_loss: 0.9095 - val_accuracy: 0.6615\n",
      "Epoch 163/200\n",
      "1037/1037 [==============================] - 19s 19ms/step - loss: 0.6046 - accuracy: 0.7715 - val_loss: 0.9929 - val_accuracy: 0.6808\n",
      "Epoch 164/200\n",
      "1037/1037 [==============================] - 18s 17ms/step - loss: 0.4837 - accuracy: 0.8245 - val_loss: 0.9969 - val_accuracy: 0.7115\n",
      "Epoch 165/200\n",
      "1037/1037 [==============================] - 17s 16ms/step - loss: 0.5313 - accuracy: 0.7898 - val_loss: 1.0679 - val_accuracy: 0.7038\n",
      "Epoch 166/200\n"
     ]
    },
    {
     "name": "stdout",
     "output_type": "stream",
     "text": [
      "1037/1037 [==============================] - 20s 19ms/step - loss: 0.4967 - accuracy: 0.8245 - val_loss: 1.1570 - val_accuracy: 0.6923\n",
      "Epoch 167/200\n",
      "1037/1037 [==============================] - 20s 19ms/step - loss: 0.5059 - accuracy: 0.8139 - val_loss: 1.0124 - val_accuracy: 0.6808\n",
      "Epoch 168/200\n",
      "1037/1037 [==============================] - 17s 17ms/step - loss: 0.4903 - accuracy: 0.8274 - val_loss: 1.2466 - val_accuracy: 0.6846\n",
      "Epoch 169/200\n",
      "1037/1037 [==============================] - 17s 16ms/step - loss: 0.5429 - accuracy: 0.8042 - val_loss: 1.1014 - val_accuracy: 0.6769\n",
      "Epoch 170/200\n",
      "1037/1037 [==============================] - 16s 15ms/step - loss: 0.4909 - accuracy: 0.8274 - val_loss: 1.0915 - val_accuracy: 0.6615\n",
      "Epoch 171/200\n",
      "1037/1037 [==============================] - 16s 15ms/step - loss: 0.5030 - accuracy: 0.8206 - val_loss: 1.1930 - val_accuracy: 0.6962\n",
      "Epoch 172/200\n",
      "1037/1037 [==============================] - 16s 15ms/step - loss: 0.5099 - accuracy: 0.8177 - val_loss: 1.1928 - val_accuracy: 0.6615\n",
      "Epoch 173/200\n",
      "1037/1037 [==============================] - 16s 15ms/step - loss: 0.5097 - accuracy: 0.8197 - val_loss: 1.1981 - val_accuracy: 0.6808\n",
      "Epoch 174/200\n",
      "1037/1037 [==============================] - 19s 18ms/step - loss: 0.5302 - accuracy: 0.8158 - val_loss: 1.0905 - val_accuracy: 0.6692\n",
      "Epoch 175/200\n",
      "1037/1037 [==============================] - 20s 19ms/step - loss: 0.5061 - accuracy: 0.8177 - val_loss: 1.1616 - val_accuracy: 0.6731\n",
      "Epoch 176/200\n",
      "1037/1037 [==============================] - 18s 17ms/step - loss: 0.4440 - accuracy: 0.8419 - val_loss: 1.2876 - val_accuracy: 0.6731\n",
      "Epoch 177/200\n",
      "1037/1037 [==============================] - 16s 15ms/step - loss: 0.4628 - accuracy: 0.8235 - val_loss: 1.1418 - val_accuracy: 0.6808\n",
      "Epoch 178/200\n",
      "1037/1037 [==============================] - 16s 15ms/step - loss: 0.4574 - accuracy: 0.8467 - val_loss: 1.1006 - val_accuracy: 0.6962\n",
      "Epoch 179/200\n",
      "1037/1037 [==============================] - 16s 15ms/step - loss: 0.5039 - accuracy: 0.8341 - val_loss: 1.1771 - val_accuracy: 0.6962\n",
      "Epoch 180/200\n",
      "1037/1037 [==============================] - 16s 15ms/step - loss: 0.4439 - accuracy: 0.8390 - val_loss: 1.1545 - val_accuracy: 0.6962\n",
      "Epoch 181/200\n",
      "1037/1037 [==============================] - 16s 15ms/step - loss: 0.4226 - accuracy: 0.8467 - val_loss: 1.3819 - val_accuracy: 0.6654\n",
      "Epoch 182/200\n",
      "1037/1037 [==============================] - 16s 15ms/step - loss: 0.4616 - accuracy: 0.8515 - val_loss: 1.2518 - val_accuracy: 0.6846\n",
      "Epoch 183/200\n",
      "1037/1037 [==============================] - 59s 57ms/step - loss: 0.4647 - accuracy: 0.8341 - val_loss: 1.3117 - val_accuracy: 0.6500\n",
      "Epoch 184/200\n",
      "1037/1037 [==============================] - 22s 21ms/step - loss: 0.4383 - accuracy: 0.8554 - val_loss: 1.3027 - val_accuracy: 0.6654\n",
      "Epoch 185/200\n",
      "1037/1037 [==============================] - 19s 19ms/step - loss: 0.4865 - accuracy: 0.8390 - val_loss: 1.2017 - val_accuracy: 0.6808\n",
      "Epoch 186/200\n",
      "1037/1037 [==============================] - 25s 24ms/step - loss: 0.4056 - accuracy: 0.8679 - val_loss: 1.2849 - val_accuracy: 0.6692\n",
      "Epoch 187/200\n",
      "1037/1037 [==============================] - 26s 25ms/step - loss: 0.3997 - accuracy: 0.8611 - val_loss: 1.2575 - val_accuracy: 0.6923\n",
      "Epoch 188/200\n",
      "1037/1037 [==============================] - 36s 35ms/step - loss: 0.4287 - accuracy: 0.8515 - val_loss: 1.2281 - val_accuracy: 0.6923\n",
      "Epoch 189/200\n",
      "1037/1037 [==============================] - 34s 33ms/step - loss: 0.4111 - accuracy: 0.8563 - val_loss: 1.5252 - val_accuracy: 0.6577\n",
      "Epoch 190/200\n",
      "1037/1037 [==============================] - 23s 22ms/step - loss: 0.4326 - accuracy: 0.8428 - val_loss: 1.1535 - val_accuracy: 0.7115\n",
      "Epoch 191/200\n",
      "1037/1037 [==============================] - 21s 21ms/step - loss: 0.4087 - accuracy: 0.8582 - val_loss: 1.1596 - val_accuracy: 0.7000\n",
      "Epoch 192/200\n",
      "1037/1037 [==============================] - 20s 20ms/step - loss: 0.3915 - accuracy: 0.8611 - val_loss: 1.4252 - val_accuracy: 0.6731\n",
      "Epoch 193/200\n",
      "1037/1037 [==============================] - 23s 22ms/step - loss: 0.4547 - accuracy: 0.8534 - val_loss: 1.1204 - val_accuracy: 0.6846\n",
      "Epoch 194/200\n",
      "1037/1037 [==============================] - 19s 18ms/step - loss: 0.5038 - accuracy: 0.8380 - val_loss: 1.1351 - val_accuracy: 0.7077\n",
      "Epoch 195/200\n",
      "1037/1037 [==============================] - 19s 18ms/step - loss: 0.4290 - accuracy: 0.8438 - val_loss: 1.3978 - val_accuracy: 0.6538\n",
      "Epoch 196/200\n",
      "1037/1037 [==============================] - 20s 19ms/step - loss: 0.3724 - accuracy: 0.8746 - val_loss: 1.2127 - val_accuracy: 0.6538\n",
      "Epoch 197/200\n",
      "1037/1037 [==============================] - 19s 18ms/step - loss: 0.3799 - accuracy: 0.8582 - val_loss: 1.2628 - val_accuracy: 0.6731\n",
      "Epoch 198/200\n",
      "1037/1037 [==============================] - 26s 25ms/step - loss: 0.3729 - accuracy: 0.8727 - val_loss: 1.2218 - val_accuracy: 0.6692\n",
      "Epoch 199/200\n",
      "1037/1037 [==============================] - 21s 20ms/step - loss: 0.3894 - accuracy: 0.8804 - val_loss: 1.2699 - val_accuracy: 0.6769\n",
      "Epoch 200/200\n",
      "1037/1037 [==============================] - 24s 23ms/step - loss: 0.3855 - accuracy: 0.8737 - val_loss: 1.2318 - val_accuracy: 0.6731\n"
     ]
    }
   ],
   "source": [
    "# Model fit\n",
    "history = model.fit(X_train, y_train, epochs=200,batch_size=50, validation_split=0.20)\n"
   ]
  },
  {
   "cell_type": "markdown",
   "metadata": {},
   "source": [
    "### Model Evaluation Based on Accuracy metrics"
   ]
  },
  {
   "cell_type": "code",
   "execution_count": 26,
   "metadata": {},
   "outputs": [
    {
     "name": "stdout",
     "output_type": "stream",
     "text": [
      "1297/1297 [==============================] - 5s 4ms/step\n",
      "145/145 [==============================] - 1s 5ms/step\n",
      "Train: 0.871, Test: 0.724\n"
     ]
    }
   ],
   "source": [
    "# evaluate the model\n",
    "_, train_acc = model.evaluate(X_train, y_train)\n",
    "_, test_acc = model.evaluate(X_test, y_test)\n",
    "print('Train: %.3f, Test: %.3f' % (train_acc, test_acc))"
   ]
  },
  {
   "cell_type": "code",
   "execution_count": 27,
   "metadata": {},
   "outputs": [
    {
     "data": {
      "text/plain": [
       "<matplotlib.legend.Legend at 0x7fde07a9bbd0>"
      ]
     },
     "execution_count": 27,
     "metadata": {},
     "output_type": "execute_result"
    },
    {
     "data": {
      "image/png": "[encoded data removed]",
      "text/plain": [
       "<Figure size 432x288 with 1 Axes>"
      ]
     },
     "metadata": {},
     "output_type": "display_data"
    }
   ],
   "source": [
    "# plot loss during training\n",
    "pyplot.subplot(211)\n",
    "pyplot.title('Loss')\n",
    "pyplot.plot(history.history['loss'], label='train')\n",
    "pyplot.plot(history.history['val_loss'], label='val')\n",
    "pyplot.legend()"
   ]
  },
  {
   "cell_type": "code",
   "execution_count": 28,
   "metadata": {},
   "outputs": [
    {
     "data": {
      "image/png": "[encoded data removed]",
      "text/plain": [
       "<Figure size 432x288 with 1 Axes>"
      ]
     },
     "metadata": {},
     "output_type": "display_data"
    }
   ],
   "source": [
    "# plot accuracy during training\n",
    "pyplot.subplot(212)\n",
    "pyplot.title('Accuracy')\n",
    "pyplot.plot(history.history['accuracy'], label='train')\n",
    "pyplot.plot(history.history['val_accuracy'], label='test')\n",
    "pyplot.legend()\n",
    "pyplot.show()"
   ]
  },
  {
   "cell_type": "markdown",
   "metadata": {},
   "source": [
    "### Model Prediction "
   ]
  },
  {
   "cell_type": "code",
   "execution_count": 29,
   "metadata": {},
   "outputs": [],
   "source": [
    "classes = np.array(df.columns[1:])\n",
    "proba = model.predict(X_test)"
   ]
  },
  {
   "cell_type": "code",
   "execution_count": 30,
   "metadata": {},
   "outputs": [
    {
     "name": "stdout",
     "output_type": "stream",
     "text": [
      "category_Cigarette (2.06e-06)\n",
      "category_Plastic straw (0.00031)\n",
      "category_Glass bottle (0.00432)\n",
      "category_Drink can (0.302)\n",
      "category_Clear plastic bottle (0.694)\n"
     ]
    }
   ],
   "source": [
    "all_5 = np.argsort(proba[0])\n",
    "for i in range(5):\n",
    "    print(\"{}\".format(classes[all_5[i]])+\" ({:.3})\".format(proba[0][all_5[i]]))"
   ]
  },
  {
   "cell_type": "markdown",
   "metadata": {},
   "source": [
    "## Keras Model Implementation Using 'MSE' Method"
   ]
  },
  {
   "cell_type": "code",
   "execution_count": 31,
   "metadata": {},
   "outputs": [],
   "source": [
    "model.compile(optimizer='adam', loss='mean_absolute_error', metrics=['mse'])"
   ]
  },
  {
   "cell_type": "code",
   "execution_count": 32,
   "metadata": {},
   "outputs": [
    {
     "name": "stdout",
     "output_type": "stream",
     "text": [
      "Train on 1037 samples, validate on 260 samples\n",
      "Epoch 1/100\n",
      "1037/1037 [==============================] - 20s 20ms/step - loss: 0.2219 - mse: 0.1954 - val_loss: 0.1997 - val_mse: 0.1977\n",
      "Epoch 2/100\n",
      "1037/1037 [==============================] - 21s 20ms/step - loss: 0.2114 - mse: 0.2066 - val_loss: 0.1794 - val_mse: 0.1765\n",
      "Epoch 3/100\n",
      "1037/1037 [==============================] - 18s 17ms/step - loss: 0.2226 - mse: 0.2208 - val_loss: 0.1819 - val_mse: 0.1805\n",
      "Epoch 4/100\n",
      "1037/1037 [==============================] - 17s 16ms/step - loss: 0.2175 - mse: 0.2173 - val_loss: 0.2031 - val_mse: 0.2031\n",
      "Epoch 5/100\n",
      "1037/1037 [==============================] - 17s 17ms/step - loss: 0.2210 - mse: 0.2210 - val_loss: 0.2031 - val_mse: 0.2031\n",
      "Epoch 6/100\n",
      "1037/1037 [==============================] - 17s 16ms/step - loss: 0.2210 - mse: 0.2210 - val_loss: 0.2031 - val_mse: 0.2031\n",
      "Epoch 7/100\n",
      "1037/1037 [==============================] - 17s 17ms/step - loss: 0.2210 - mse: 0.2210 - val_loss: 0.2031 - val_mse: 0.2031\n",
      "Epoch 8/100\n",
      "1037/1037 [==============================] - 20s 20ms/step - loss: 0.2210 - mse: 0.2210 - val_loss: 0.2031 - val_mse: 0.2031\n",
      "Epoch 9/100\n",
      "1037/1037 [==============================] - 20s 20ms/step - loss: 0.2210 - mse: 0.2210 - val_loss: 0.2031 - val_mse: 0.2031\n",
      "Epoch 10/100\n",
      "1037/1037 [==============================] - 20s 19ms/step - loss: 0.2210 - mse: 0.2210 - val_loss: 0.2031 - val_mse: 0.2031\n",
      "Epoch 11/100\n",
      "1037/1037 [==============================] - 20s 19ms/step - loss: 0.2210 - mse: 0.2210 - val_loss: 0.2031 - val_mse: 0.2031\n",
      "Epoch 12/100\n",
      "1037/1037 [==============================] - 20s 20ms/step - loss: 0.2211 - mse: 0.2210 - val_loss: 0.2031 - val_mse: 0.2031\n",
      "Epoch 13/100\n",
      "1037/1037 [==============================] - 20s 19ms/step - loss: 0.2210 - mse: 0.2210 - val_loss: 0.2031 - val_mse: 0.2031\n",
      "Epoch 14/100\n",
      "1037/1037 [==============================] - 20s 19ms/step - loss: 0.2210 - mse: 0.2210 - val_loss: 0.2031 - val_mse: 0.2031\n",
      "Epoch 15/100\n",
      "1037/1037 [==============================] - 21s 20ms/step - loss: 0.2210 - mse: 0.2210 - val_loss: 0.2031 - val_mse: 0.2031\n",
      "Epoch 16/100\n",
      "1037/1037 [==============================] - 20s 19ms/step - loss: 0.2210 - mse: 0.2210 - val_loss: 0.2031 - val_mse: 0.2031\n",
      "Epoch 17/100\n",
      "1037/1037 [==============================] - 22s 21ms/step - loss: 0.2210 - mse: 0.2210 - val_loss: 0.2031 - val_mse: 0.2031\n",
      "Epoch 18/100\n",
      "1037/1037 [==============================] - 20s 20ms/step - loss: 0.2210 - mse: 0.2210 - val_loss: 0.2031 - val_mse: 0.2031\n",
      "Epoch 19/100\n",
      "1037/1037 [==============================] - 21s 20ms/step - loss: 0.2210 - mse: 0.2210 - val_loss: 0.2031 - val_mse: 0.2031\n",
      "Epoch 20/100\n",
      "1037/1037 [==============================] - 20s 20ms/step - loss: 0.2210 - mse: 0.2210 - val_loss: 0.2031 - val_mse: 0.2031\n",
      "Epoch 21/100\n",
      "1037/1037 [==============================] - 20s 19ms/step - loss: 0.2210 - mse: 0.2210 - val_loss: 0.2031 - val_mse: 0.2031\n",
      "Epoch 22/100\n",
      "1037/1037 [==============================] - 20s 20ms/step - loss: 0.2210 - mse: 0.2210 - val_loss: 0.2031 - val_mse: 0.2031\n",
      "Epoch 23/100\n",
      "1037/1037 [==============================] - 20s 20ms/step - loss: 0.2210 - mse: 0.2210 - val_loss: 0.2031 - val_mse: 0.2031\n",
      "Epoch 24/100\n",
      "1037/1037 [==============================] - 22s 21ms/step - loss: 0.2210 - mse: 0.2210 - val_loss: 0.2031 - val_mse: 0.2031\n",
      "Epoch 25/100\n",
      "1037/1037 [==============================] - 24s 23ms/step - loss: 0.2210 - mse: 0.2210 - val_loss: 0.2031 - val_mse: 0.2031\n",
      "Epoch 26/100\n",
      "1037/1037 [==============================] - 21s 20ms/step - loss: 0.2210 - mse: 0.2210 - val_loss: 0.2031 - val_mse: 0.2031\n",
      "Epoch 27/100\n",
      "1037/1037 [==============================] - 22s 21ms/step - loss: 0.2210 - mse: 0.2210 - val_loss: 0.2031 - val_mse: 0.2031\n",
      "Epoch 28/100\n",
      "1037/1037 [==============================] - 21s 20ms/step - loss: 0.2210 - mse: 0.2210 - val_loss: 0.2031 - val_mse: 0.2031\n",
      "Epoch 29/100\n",
      "1037/1037 [==============================] - 24s 23ms/step - loss: 0.2210 - mse: 0.2210 - val_loss: 0.2031 - val_mse: 0.2031\n",
      "Epoch 30/100\n",
      "1037/1037 [==============================] - 21s 21ms/step - loss: 0.2210 - mse: 0.2210 - val_loss: 0.2031 - val_mse: 0.2031\n",
      "Epoch 31/100\n",
      "1037/1037 [==============================] - 22s 21ms/step - loss: 0.2210 - mse: 0.2210 - val_loss: 0.2031 - val_mse: 0.2031\n",
      "Epoch 32/100\n",
      "1037/1037 [==============================] - 21s 20ms/step - loss: 0.2210 - mse: 0.2210 - val_loss: 0.2031 - val_mse: 0.2031\n",
      "Epoch 33/100\n",
      "1037/1037 [==============================] - 20s 19ms/step - loss: 0.2210 - mse: 0.2210 - val_loss: 0.2031 - val_mse: 0.2031\n",
      "Epoch 34/100\n",
      "1037/1037 [==============================] - 25s 24ms/step - loss: 0.2210 - mse: 0.2210 - val_loss: 0.2031 - val_mse: 0.2031\n",
      "Epoch 35/100\n",
      "1037/1037 [==============================] - 22s 21ms/step - loss: 0.2210 - mse: 0.2210 - val_loss: 0.2031 - val_mse: 0.2031\n",
      "Epoch 36/100\n",
      "1037/1037 [==============================] - 21s 21ms/step - loss: 0.2210 - mse: 0.2210 - val_loss: 0.2031 - val_mse: 0.2031\n",
      "Epoch 37/100\n",
      "1037/1037 [==============================] - 22s 21ms/step - loss: 0.2210 - mse: 0.2210 - val_loss: 0.2031 - val_mse: 0.2031\n",
      "Epoch 38/100\n",
      "1037/1037 [==============================] - 22s 21ms/step - loss: 0.2210 - mse: 0.2210 - val_loss: 0.2031 - val_mse: 0.2031\n",
      "Epoch 39/100\n",
      "1037/1037 [==============================] - 21s 20ms/step - loss: 0.2210 - mse: 0.2210 - val_loss: 0.2031 - val_mse: 0.2031\n",
      "Epoch 40/100\n",
      "1037/1037 [==============================] - 20s 19ms/step - loss: 0.2210 - mse: 0.2210 - val_loss: 0.2031 - val_mse: 0.2031\n",
      "Epoch 41/100\n",
      "1037/1037 [==============================] - 21s 20ms/step - loss: 0.2210 - mse: 0.2210 - val_loss: 0.2031 - val_mse: 0.2031\n",
      "Epoch 42/100\n",
      "1037/1037 [==============================] - 21s 21ms/step - loss: 0.2210 - mse: 0.2210 - val_loss: 0.2031 - val_mse: 0.2031\n",
      "Epoch 43/100\n",
      "1037/1037 [==============================] - 21s 20ms/step - loss: 0.2210 - mse: 0.2210 - val_loss: 0.2031 - val_mse: 0.2031\n",
      "Epoch 44/100\n",
      "1037/1037 [==============================] - 20s 20ms/step - loss: 0.2210 - mse: 0.2210 - val_loss: 0.2031 - val_mse: 0.2031\n",
      "Epoch 45/100\n",
      "1037/1037 [==============================] - 20s 20ms/step - loss: 0.2210 - mse: 0.2210 - val_loss: 0.2031 - val_mse: 0.2031\n",
      "Epoch 46/100\n",
      "1037/1037 [==============================] - 21s 20ms/step - loss: 0.2210 - mse: 0.2210 - val_loss: 0.2031 - val_mse: 0.2031\n",
      "Epoch 47/100\n",
      "1037/1037 [==============================] - 21s 20ms/step - loss: 0.2210 - mse: 0.2210 - val_loss: 0.2031 - val_mse: 0.2031\n",
      "Epoch 48/100\n",
      "1037/1037 [==============================] - 21s 21ms/step - loss: 0.2210 - mse: 0.2210 - val_loss: 0.2031 - val_mse: 0.2031\n",
      "Epoch 49/100\n",
      "1037/1037 [==============================] - 21s 20ms/step - loss: 0.2210 - mse: 0.2210 - val_loss: 0.2031 - val_mse: 0.2031\n",
      "Epoch 50/100\n",
      "1037/1037 [==============================] - 21s 20ms/step - loss: 0.2210 - mse: 0.2210 - val_loss: 0.2031 - val_mse: 0.2031\n",
      "Epoch 51/100\n",
      "1037/1037 [==============================] - 21s 20ms/step - loss: 0.2210 - mse: 0.2210 - val_loss: 0.2031 - val_mse: 0.2031\n",
      "Epoch 52/100\n",
      "1037/1037 [==============================] - 21s 20ms/step - loss: 0.2210 - mse: 0.2210 - val_loss: 0.2031 - val_mse: 0.2031\n",
      "Epoch 53/100\n",
      "1037/1037 [==============================] - 20s 19ms/step - loss: 0.2210 - mse: 0.2210 - val_loss: 0.2031 - val_mse: 0.2031\n",
      "Epoch 54/100\n",
      "1037/1037 [==============================] - 20s 19ms/step - loss: 0.2210 - mse: 0.2210 - val_loss: 0.2031 - val_mse: 0.2031\n",
      "Epoch 55/100\n",
      "1037/1037 [==============================] - 21s 20ms/step - loss: 0.2210 - mse: 0.2210 - val_loss: 0.2031 - val_mse: 0.2031\n",
      "Epoch 56/100\n",
      "1037/1037 [==============================] - 21s 20ms/step - loss: 0.2210 - mse: 0.2210 - val_loss: 0.2031 - val_mse: 0.2031\n",
      "Epoch 57/100\n",
      "1037/1037 [==============================] - 20s 19ms/step - loss: 0.2210 - mse: 0.2210 - val_loss: 0.2031 - val_mse: 0.2031\n",
      "Epoch 58/100\n",
      "1037/1037 [==============================] - 21s 21ms/step - loss: 0.2210 - mse: 0.2210 - val_loss: 0.2031 - val_mse: 0.2031\n",
      "Epoch 59/100\n",
      "1037/1037 [==============================] - 18s 17ms/step - loss: 0.2210 - mse: 0.2210 - val_loss: 0.2031 - val_mse: 0.2031\n",
      "Epoch 60/100\n"
     ]
    },
    {
     "name": "stdout",
     "output_type": "stream",
     "text": [
      "1037/1037 [==============================] - 19s 18ms/step - loss: 0.2210 - mse: 0.2210 - val_loss: 0.2031 - val_mse: 0.2031\n",
      "Epoch 61/100\n",
      "1037/1037 [==============================] - 17s 17ms/step - loss: 0.2210 - mse: 0.2210 - val_loss: 0.2031 - val_mse: 0.2031\n",
      "Epoch 62/100\n",
      "1037/1037 [==============================] - 17s 16ms/step - loss: 0.2210 - mse: 0.2210 - val_loss: 0.2031 - val_mse: 0.2031\n",
      "Epoch 63/100\n",
      "1037/1037 [==============================] - 17s 16ms/step - loss: 0.2210 - mse: 0.2210 - val_loss: 0.2031 - val_mse: 0.2031\n",
      "Epoch 64/100\n",
      "1037/1037 [==============================] - 17s 16ms/step - loss: 0.2210 - mse: 0.2210 - val_loss: 0.2031 - val_mse: 0.2031\n",
      "Epoch 65/100\n",
      "1037/1037 [==============================] - 17s 16ms/step - loss: 0.2210 - mse: 0.2210 - val_loss: 0.2031 - val_mse: 0.2031\n",
      "Epoch 66/100\n",
      "1037/1037 [==============================] - 17s 16ms/step - loss: 0.2210 - mse: 0.2210 - val_loss: 0.2031 - val_mse: 0.2031\n",
      "Epoch 67/100\n",
      "1037/1037 [==============================] - 17s 16ms/step - loss: 0.2214 - mse: 0.2214 - val_loss: 0.2031 - val_mse: 0.2031\n",
      "Epoch 68/100\n",
      "1037/1037 [==============================] - 17s 16ms/step - loss: 0.2210 - mse: 0.2210 - val_loss: 0.2031 - val_mse: 0.2031\n",
      "Epoch 69/100\n",
      "1037/1037 [==============================] - 18s 17ms/step - loss: 0.2210 - mse: 0.2210 - val_loss: 0.2031 - val_mse: 0.2031\n",
      "Epoch 70/100\n",
      "1037/1037 [==============================] - 17s 16ms/step - loss: 0.2210 - mse: 0.2210 - val_loss: 0.2031 - val_mse: 0.2031\n",
      "Epoch 71/100\n",
      "1037/1037 [==============================] - 17s 16ms/step - loss: 0.2210 - mse: 0.2210 - val_loss: 0.2031 - val_mse: 0.2031\n",
      "Epoch 72/100\n",
      "1037/1037 [==============================] - 19s 18ms/step - loss: 0.2210 - mse: 0.2210 - val_loss: 0.2031 - val_mse: 0.2031\n",
      "Epoch 73/100\n",
      "1037/1037 [==============================] - 20s 20ms/step - loss: 0.2210 - mse: 0.2210 - val_loss: 0.2031 - val_mse: 0.2031\n",
      "Epoch 74/100\n",
      "1037/1037 [==============================] - 23s 23ms/step - loss: 0.2210 - mse: 0.2210 - val_loss: 0.2031 - val_mse: 0.2031\n",
      "Epoch 75/100\n",
      "1037/1037 [==============================] - 21s 20ms/step - loss: 0.2210 - mse: 0.2210 - val_loss: 0.2031 - val_mse: 0.2031\n",
      "Epoch 76/100\n",
      "1037/1037 [==============================] - 21s 20ms/step - loss: 0.2210 - mse: 0.2210 - val_loss: 0.2031 - val_mse: 0.2031\n",
      "Epoch 77/100\n",
      "1037/1037 [==============================] - 20s 19ms/step - loss: 0.2210 - mse: 0.2210 - val_loss: 0.2031 - val_mse: 0.2031\n",
      "Epoch 78/100\n",
      "1037/1037 [==============================] - 21s 21ms/step - loss: 0.2210 - mse: 0.2210 - val_loss: 0.2031 - val_mse: 0.2031\n",
      "Epoch 79/100\n",
      "1037/1037 [==============================] - 17s 16ms/step - loss: 0.2210 - mse: 0.2210 - val_loss: 0.2031 - val_mse: 0.2031\n",
      "Epoch 80/100\n",
      "1037/1037 [==============================] - 19s 18ms/step - loss: 0.2210 - mse: 0.2210 - val_loss: 0.2031 - val_mse: 0.2031\n",
      "Epoch 81/100\n",
      "1037/1037 [==============================] - 19s 18ms/step - loss: 0.2210 - mse: 0.2210 - val_loss: 0.2031 - val_mse: 0.2031\n",
      "Epoch 82/100\n",
      "1037/1037 [==============================] - 17s 17ms/step - loss: 0.2210 - mse: 0.2210 - val_loss: 0.2031 - val_mse: 0.2031\n",
      "Epoch 83/100\n",
      "1037/1037 [==============================] - 17s 16ms/step - loss: 0.2210 - mse: 0.2210 - val_loss: 0.2031 - val_mse: 0.2031\n",
      "Epoch 84/100\n",
      "1037/1037 [==============================] - 17s 16ms/step - loss: 0.2210 - mse: 0.2210 - val_loss: 0.2031 - val_mse: 0.2031\n",
      "Epoch 85/100\n",
      "1037/1037 [==============================] - 17s 16ms/step - loss: 0.2210 - mse: 0.2210 - val_loss: 0.2031 - val_mse: 0.2031\n",
      "Epoch 86/100\n",
      "1037/1037 [==============================] - 17s 16ms/step - loss: 0.2210 - mse: 0.2210 - val_loss: 0.2031 - val_mse: 0.2031\n",
      "Epoch 87/100\n",
      "1037/1037 [==============================] - 20s 19ms/step - loss: 0.2210 - mse: 0.2210 - val_loss: 0.2031 - val_mse: 0.2031\n",
      "Epoch 88/100\n",
      "1037/1037 [==============================] - 20s 19ms/step - loss: 0.2210 - mse: 0.2210 - val_loss: 0.2031 - val_mse: 0.2031\n",
      "Epoch 89/100\n",
      "1037/1037 [==============================] - 20s 20ms/step - loss: 0.2210 - mse: 0.2210 - val_loss: 0.2031 - val_mse: 0.2031\n",
      "Epoch 90/100\n",
      "1037/1037 [==============================] - 21s 20ms/step - loss: 0.2210 - mse: 0.2210 - val_loss: 0.2031 - val_mse: 0.2031\n",
      "Epoch 91/100\n",
      "1037/1037 [==============================] - 20s 19ms/step - loss: 0.2210 - mse: 0.2210 - val_loss: 0.2031 - val_mse: 0.2031\n",
      "Epoch 92/100\n",
      "1037/1037 [==============================] - 20s 19ms/step - loss: 0.2210 - mse: 0.2210 - val_loss: 0.2031 - val_mse: 0.2031\n",
      "Epoch 93/100\n",
      "1037/1037 [==============================] - 20s 19ms/step - loss: 0.2210 - mse: 0.2210 - val_loss: 0.2031 - val_mse: 0.2031\n",
      "Epoch 94/100\n",
      "1037/1037 [==============================] - 20s 19ms/step - loss: 0.2210 - mse: 0.2210 - val_loss: 0.2031 - val_mse: 0.2031\n",
      "Epoch 95/100\n",
      "1037/1037 [==============================] - 20s 19ms/step - loss: 0.2210 - mse: 0.2210 - val_loss: 0.2031 - val_mse: 0.2031\n",
      "Epoch 96/100\n",
      "1037/1037 [==============================] - 20s 19ms/step - loss: 0.2210 - mse: 0.2210 - val_loss: 0.2031 - val_mse: 0.2031\n",
      "Epoch 97/100\n",
      "1037/1037 [==============================] - 20s 19ms/step - loss: 0.2210 - mse: 0.2210 - val_loss: 0.2031 - val_mse: 0.2031\n",
      "Epoch 98/100\n",
      "1037/1037 [==============================] - 20s 20ms/step - loss: 0.2210 - mse: 0.2210 - val_loss: 0.2031 - val_mse: 0.2031\n",
      "Epoch 99/100\n",
      "1037/1037 [==============================] - 20s 19ms/step - loss: 0.2210 - mse: 0.2210 - val_loss: 0.2031 - val_mse: 0.2031\n",
      "Epoch 100/100\n",
      "1037/1037 [==============================] - 20s 19ms/step - loss: 0.2210 - mse: 0.2210 - val_loss: 0.2031 - val_mse: 0.2031\n"
     ]
    }
   ],
   "source": [
    "# Model fit\n",
    "history = model.fit(X_train, y_train, epochs=100,batch_size=100,validation_split=0.20)"
   ]
  },
  {
   "cell_type": "markdown",
   "metadata": {},
   "source": [
    "### Model Evaluation Based on Mean Square Error metrics"
   ]
  },
  {
   "cell_type": "code",
   "execution_count": 33,
   "metadata": {},
   "outputs": [
    {
     "name": "stdout",
     "output_type": "stream",
     "text": [
      "1297/1297 [==============================] - 5s 4ms/step\n",
      "Train: 0.217\n"
     ]
    }
   ],
   "source": [
    "# evaluate the model\n",
    "_, train_mse = model.evaluate(X_train, y_train)\n",
    "print('Train: %.3f' % (train_mse))"
   ]
  },
  {
   "cell_type": "code",
   "execution_count": 34,
   "metadata": {},
   "outputs": [
    {
     "data": {
      "text/plain": [
       "<matplotlib.legend.Legend at 0x7fbe57478110>"
      ]
     },
     "execution_count": 34,
     "metadata": {},
     "output_type": "execute_result"
    },
    {
     "data": {
      "image/png": "[encoded data removed]",
      "text/plain": [
       "<Figure size 432x288 with 1 Axes>"
      ]
     },
     "metadata": {},
     "output_type": "display_data"
    }
   ],
   "source": [
    "# plot loss during training\n",
    "pyplot.subplot(411)\n",
    "pyplot.title('Loss')\n",
    "pyplot.plot(history.history['loss'], label='train')\n",
    "pyplot.plot(history.history['val_loss'], label='test')\n",
    "pyplot.legend()"
   ]
  },
  {
   "cell_type": "code",
   "execution_count": 35,
   "metadata": {},
   "outputs": [
    {
     "data": {
      "image/png": "[encoded data removed]",
      "text/plain": [
       "<Figure size 432x288 with 1 Axes>"
      ]
     },
     "metadata": {},
     "output_type": "display_data"
    }
   ],
   "source": [
    "# plot mse during training\n",
    "pyplot.subplot(412)\n",
    "pyplot.title('Mean Squared Error')\n",
    "pyplot.plot(history.history['mse'], label='train')\n",
    "pyplot.plot(history.history['val_mse'], label='test')\n",
    "pyplot.legend()\n",
    "pyplot.show()"
   ]
  }
 ],
 "metadata": {
  "kernelspec": {
   "display_name": "Python 3",
   "language": "python",
   "name": "python3"
  },
  "language_info": {
   "codemirror_mode": {
    "name": "ipython",
    "version": 3
   },
   "file_extension": ".py",
   "mimetype": "text/x-python",
   "name": "python",
   "nbconvert_exporter": "python",
   "pygments_lexer": "ipython3",
   "version": "3.7.7"
  }
 },
 "nbformat": 4,
 "nbformat_minor": 4
}
