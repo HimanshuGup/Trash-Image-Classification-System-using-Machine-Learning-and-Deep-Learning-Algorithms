{
  "nbformat": 4,
  "nbformat_minor": 0,
  "metadata": {
    "colab": {
      "name": "Experiment_1_keras_Image_Crop_DataGenerator.ipynb",
      "provenance": [],
      "collapsed_sections": []
    },
    "kernelspec": {
      "name": "python3",
      "display_name": "Python 3"
    },
    "accelerator": "GPU"
  },
  "cells": [
    {
      "cell_type": "code",
      "metadata": {
        "id": "tsHNdfTcMLEI",
        "colab_type": "code",
        "colab": {
          "base_uri": "https://localhost:8080/",
          "height": 71
        },
        "outputId": "fcfd0c46-51af-4bb2-c7b2-7554ec50cae7"
      },
      "source": [
        "%matplotlib inline\n",
        "import json\n",
        "import numpy as np\n",
        "import pandas as pd\n",
        "import matplotlib.pyplot as plt\n",
        "import seaborn as sns; sns.set() \n",
        "from matplotlib import pyplot\n",
        "\n",
        "# Data Processing \n",
        "import os\n",
        "import os.path\n",
        "import random\n",
        "import PIL\n",
        "import glob\n",
        "from PIL import Image # to read images\n",
        "#\n",
        "%matplotlib inline\n",
        "plt.rcParams['figure.figsize'] = (10.0, 8.0) # set default size of plots\n",
        "plt.rcParams['image.interpolation'] = 'nearest'\n",
        "plt.rcParams['image.cmap'] = 'gray'"
      ],
      "execution_count": 1,
      "outputs": [
        {
          "output_type": "stream",
          "text": [
            "/usr/local/lib/python3.6/dist-packages/statsmodels/tools/_testing.py:19: FutureWarning: pandas.util.testing is deprecated. Use the functions in the public API at pandas.testing instead.\n",
            "  import pandas.util.testing as tm\n"
          ],
          "name": "stderr"
        }
      ]
    },
    {
      "cell_type": "code",
      "metadata": {
        "id": "9utDeR-n3CUo",
        "colab_type": "code",
        "colab": {}
      },
      "source": [
        "#For Keras model\n",
        "import keras\n",
        "from keras.models import Sequential,Model\n",
        "from keras.layers import Dense, Dropout, Flatten, Activation, BatchNormalization, Input\n",
        "from keras.layers import Conv2D, MaxPooling2D\n",
        "from keras.callbacks import EarlyStopping\n",
        "from keras.utils import to_categorical\n",
        "from keras.preprocessing import image\n",
        "import tensorflow as tf\n",
        "from keras import optimizers\n",
        "from keras.preprocessing.image import ImageDataGenerator"
      ],
      "execution_count": 2,
      "outputs": []
    },
    {
      "cell_type": "code",
      "metadata": {
        "id": "KpBS8FdxEuPo",
        "colab_type": "code",
        "colab": {}
      },
      "source": [
        "from sklearn.model_selection import train_test_split"
      ],
      "execution_count": 3,
      "outputs": []
    },
    {
      "cell_type": "code",
      "metadata": {
        "id": "W5WzB04bEwZs",
        "colab_type": "code",
        "colab": {
          "base_uri": "https://localhost:8080/",
          "height": 122
        },
        "outputId": "8e39c0de-5e74-4a4d-db83-3ee8a76c51e1"
      },
      "source": [
        "from google.colab import drive\n",
        "drive.mount('/content/drive')"
      ],
      "execution_count": 4,
      "outputs": [
        {
          "output_type": "stream",
          "text": [
            "Go to this URL in a browser: https://accounts.google.com/o/oauth2/auth?client_id=947318989803-6bn6qk8qdgf4n4g3pfee6491hc0brc4i.apps.googleusercontent.com&redirect_uri=urn%3aietf%3awg%3aoauth%3a2.0%3aoob&response_type=code&scope=email%20https%3a%2f%2fwww.googleapis.com%2fauth%2fdocs.test%20https%3a%2f%2fwww.googleapis.com%2fauth%2fdrive%20https%3a%2f%2fwww.googleapis.com%2fauth%2fdrive.photos.readonly%20https%3a%2f%2fwww.googleapis.com%2fauth%2fpeopleapi.readonly\n",
            "\n",
            "Enter your authorization code:\n",
            "··········\n",
            "Mounted at /content/drive\n"
          ],
          "name": "stdout"
        }
      ]
    },
    {
      "cell_type": "markdown",
      "metadata": {
        "id": "u_GUQDqQE24C",
        "colab_type": "text"
      },
      "source": [
        "Dataset Preparation"
      ]
    },
    {
      "cell_type": "code",
      "metadata": {
        "id": "WHtO6Po1E5ZR",
        "colab_type": "code",
        "colab": {}
      },
      "source": [
        "path = \"/content/drive/My Drive/\"\n",
        "annot = \"/content/drive/My Drive/annotations.json\""
      ],
      "execution_count": 5,
      "outputs": []
    },
    {
      "cell_type": "code",
      "metadata": {
        "id": "1gv3SI5TE68Q",
        "colab_type": "code",
        "colab": {}
      },
      "source": [
        "# Read Annotations\n",
        "with open(annot , 'r') as f:\n",
        "    dataset = json.loads(f.read())"
      ],
      "execution_count": 6,
      "outputs": []
    },
    {
      "cell_type": "code",
      "metadata": {
        "id": "Mkn1nN0-E8QR",
        "colab_type": "code",
        "colab": {
          "base_uri": "https://localhost:8080/",
          "height": 34
        },
        "outputId": "fb832dc3-9776-4bc5-cc87-cf204298fa94"
      },
      "source": [
        "categories = dataset['categories']\n",
        "anns = dataset['annotations']\n",
        "imgs = dataset['images']\n",
        "nr_cats = len(categories)\n",
        "nr_annotations = len(anns)\n",
        "nr_images = len(imgs)\n",
        "\n",
        "print(nr_images) # Total Number of images"
      ],
      "execution_count": 7,
      "outputs": [
        {
          "output_type": "stream",
          "text": [
            "1500\n"
          ],
          "name": "stdout"
        }
      ]
    },
    {
      "cell_type": "code",
      "metadata": {
        "id": "I5DizZDwFAUF",
        "colab_type": "code",
        "colab": {}
      },
      "source": [
        "# category Dataframe and  Select 'six new Category(ouput classes)' for category Dataframe\n",
        "cat_df = pd.DataFrame(categories)\n",
        "keyValList = ['Cigarette','Clear plastic bottle','Drink can','Plastic straw','Glass bottle']\n",
        "category_df = pd.DataFrame([d for d in categories if d['name'] in keyValList])\n",
        "\n",
        "# Annotation Dataframe\n",
        "ann_df = pd.DataFrame(anns)\n",
        "# Images Dataframe\n",
        "image_df = pd.DataFrame(imgs)"
      ],
      "execution_count": 8,
      "outputs": []
    },
    {
      "cell_type": "code",
      "metadata": {
        "id": "sigqZFJ9FCqw",
        "colab_type": "code",
        "colab": {}
      },
      "source": [
        "# Dropping unncessary columns for Keras fundamental CNN model\n",
        "category_df = category_df.drop(['supercategory'], axis = 1)\n",
        "image_df = image_df.drop(['license','flickr_url','coco_url','date_captured','flickr_640_url'], axis=1)\n",
        "ann_df = ann_df.drop(['id'], axis=1)"
      ],
      "execution_count": 9,
      "outputs": []
    },
    {
      "cell_type": "code",
      "metadata": {
        "id": "VZi7dqgmFELW",
        "colab_type": "code",
        "colab": {
          "base_uri": "https://localhost:8080/",
          "height": 204
        },
        "outputId": "0e9b6064-9388-4431-92c3-2d7cd3a5e373"
      },
      "source": [
        "merged_img_ann_df = pd.merge(left=image_df, right=ann_df, left_on='id', right_on='image_id')\n",
        "final_merged_df = pd.merge(left=merged_img_ann_df, right=category_df, left_on='category_id', right_on='id') \n",
        "final_merged_df = final_merged_df.drop(['id_x','id_y','category_id','image_id','width','height'], axis = 1 )\n",
        "final_merged_df = final_merged_df.rename(columns={\"file_name\": \"filename\", \"name\": \"category\"})\n",
        "final_merged_df.head()"
      ],
      "execution_count": 10,
      "outputs": [
        {
          "output_type": "execute_result",
          "data": {
            "text/html": [
              "<div>\n",
              "<style scoped>\n",
              "    .dataframe tbody tr th:only-of-type {\n",
              "        vertical-align: middle;\n",
              "    }\n",
              "\n",
              "    .dataframe tbody tr th {\n",
              "        vertical-align: top;\n",
              "    }\n",
              "\n",
              "    .dataframe thead th {\n",
              "        text-align: right;\n",
              "    }\n",
              "</style>\n",
              "<table border=\"1\" class=\"dataframe\">\n",
              "  <thead>\n",
              "    <tr style=\"text-align: right;\">\n",
              "      <th></th>\n",
              "      <th>filename</th>\n",
              "      <th>segmentation</th>\n",
              "      <th>area</th>\n",
              "      <th>bbox</th>\n",
              "      <th>iscrowd</th>\n",
              "      <th>category</th>\n",
              "    </tr>\n",
              "  </thead>\n",
              "  <tbody>\n",
              "    <tr>\n",
              "      <th>0</th>\n",
              "      <td>batch_1/000006.jpg</td>\n",
              "      <td>[[561.0, 1238.0, 568.0, 1201.0, 567.0, 1175.0,...</td>\n",
              "      <td>403954.0</td>\n",
              "      <td>[517.0, 127.0, 447.0, 1322.0]</td>\n",
              "      <td>0</td>\n",
              "      <td>Glass bottle</td>\n",
              "    </tr>\n",
              "    <tr>\n",
              "      <th>1</th>\n",
              "      <td>batch_1/000012.jpg</td>\n",
              "      <td>[[481.0, 1148.0, 505.0, 1163.0, 519.0, 1172.0,...</td>\n",
              "      <td>43489.0</td>\n",
              "      <td>[379.0, 1127.0, 425.0, 318.0]</td>\n",
              "      <td>0</td>\n",
              "      <td>Glass bottle</td>\n",
              "    </tr>\n",
              "    <tr>\n",
              "      <th>2</th>\n",
              "      <td>batch_1/000048.jpg</td>\n",
              "      <td>[[586.0, 820.0, 581.0, 851.0, 579.0, 889.0, 58...</td>\n",
              "      <td>324005.0</td>\n",
              "      <td>[211.0, 1.0, 417.0, 1417.0]</td>\n",
              "      <td>0</td>\n",
              "      <td>Glass bottle</td>\n",
              "    </tr>\n",
              "    <tr>\n",
              "      <th>3</th>\n",
              "      <td>batch_1/000021.jpg</td>\n",
              "      <td>[[1001.0, 867.0, 1163.0, 905.0, 1199.0, 913.0,...</td>\n",
              "      <td>95494.5</td>\n",
              "      <td>[852.0, 638.0, 687.0, 291.0]</td>\n",
              "      <td>0</td>\n",
              "      <td>Glass bottle</td>\n",
              "    </tr>\n",
              "    <tr>\n",
              "      <th>4</th>\n",
              "      <td>batch_1/000022.jpg</td>\n",
              "      <td>[[919.0, 1125.0, 968.0, 1111.0, 1000.0, 1100.0...</td>\n",
              "      <td>142823.0</td>\n",
              "      <td>[647.0, 1033.0, 820.0, 376.0]</td>\n",
              "      <td>0</td>\n",
              "      <td>Glass bottle</td>\n",
              "    </tr>\n",
              "  </tbody>\n",
              "</table>\n",
              "</div>"
            ],
            "text/plain": [
              "             filename  ...      category\n",
              "0  batch_1/000006.jpg  ...  Glass bottle\n",
              "1  batch_1/000012.jpg  ...  Glass bottle\n",
              "2  batch_1/000048.jpg  ...  Glass bottle\n",
              "3  batch_1/000021.jpg  ...  Glass bottle\n",
              "4  batch_1/000022.jpg  ...  Glass bottle\n",
              "\n",
              "[5 rows x 6 columns]"
            ]
          },
          "metadata": {
            "tags": []
          },
          "execution_count": 10
        }
      ]
    },
    {
      "cell_type": "code",
      "metadata": {
        "id": "kwh-5boFFFYj",
        "colab_type": "code",
        "colab": {}
      },
      "source": [
        "# New Dataframe with selective columns\n",
        "df = final_merged_df[['filename','bbox','category']]"
      ],
      "execution_count": 11,
      "outputs": []
    },
    {
      "cell_type": "code",
      "metadata": {
        "id": "dhQ8TmqJFG9-",
        "colab_type": "code",
        "colab": {}
      },
      "source": [
        "# storing bounding box values as seperate columns\n",
        "df = pd.concat([df , df['bbox'].apply(pd.Series)], axis = 1)\n",
        "df.columns = ['filename','bbox','category', 'x_min','y_min','x_max', 'y_max'] # x_max : width and y_max : height\n",
        "df = df.drop(['bbox',], axis=1)"
      ],
      "execution_count": 12,
      "outputs": []
    },
    {
      "cell_type": "code",
      "metadata": {
        "id": "vjYDyE0TFJmt",
        "colab_type": "code",
        "colab": {
          "base_uri": "https://localhost:8080/",
          "height": 204
        },
        "outputId": "ab5cf464-82b3-4125-81a2-50847334f85c"
      },
      "source": [
        "df.head()"
      ],
      "execution_count": 13,
      "outputs": [
        {
          "output_type": "execute_result",
          "data": {
            "text/html": [
              "<div>\n",
              "<style scoped>\n",
              "    .dataframe tbody tr th:only-of-type {\n",
              "        vertical-align: middle;\n",
              "    }\n",
              "\n",
              "    .dataframe tbody tr th {\n",
              "        vertical-align: top;\n",
              "    }\n",
              "\n",
              "    .dataframe thead th {\n",
              "        text-align: right;\n",
              "    }\n",
              "</style>\n",
              "<table border=\"1\" class=\"dataframe\">\n",
              "  <thead>\n",
              "    <tr style=\"text-align: right;\">\n",
              "      <th></th>\n",
              "      <th>filename</th>\n",
              "      <th>category</th>\n",
              "      <th>x_min</th>\n",
              "      <th>y_min</th>\n",
              "      <th>x_max</th>\n",
              "      <th>y_max</th>\n",
              "    </tr>\n",
              "  </thead>\n",
              "  <tbody>\n",
              "    <tr>\n",
              "      <th>0</th>\n",
              "      <td>batch_1/000006.jpg</td>\n",
              "      <td>Glass bottle</td>\n",
              "      <td>517.0</td>\n",
              "      <td>127.0</td>\n",
              "      <td>447.0</td>\n",
              "      <td>1322.0</td>\n",
              "    </tr>\n",
              "    <tr>\n",
              "      <th>1</th>\n",
              "      <td>batch_1/000012.jpg</td>\n",
              "      <td>Glass bottle</td>\n",
              "      <td>379.0</td>\n",
              "      <td>1127.0</td>\n",
              "      <td>425.0</td>\n",
              "      <td>318.0</td>\n",
              "    </tr>\n",
              "    <tr>\n",
              "      <th>2</th>\n",
              "      <td>batch_1/000048.jpg</td>\n",
              "      <td>Glass bottle</td>\n",
              "      <td>211.0</td>\n",
              "      <td>1.0</td>\n",
              "      <td>417.0</td>\n",
              "      <td>1417.0</td>\n",
              "    </tr>\n",
              "    <tr>\n",
              "      <th>3</th>\n",
              "      <td>batch_1/000021.jpg</td>\n",
              "      <td>Glass bottle</td>\n",
              "      <td>852.0</td>\n",
              "      <td>638.0</td>\n",
              "      <td>687.0</td>\n",
              "      <td>291.0</td>\n",
              "    </tr>\n",
              "    <tr>\n",
              "      <th>4</th>\n",
              "      <td>batch_1/000022.jpg</td>\n",
              "      <td>Glass bottle</td>\n",
              "      <td>647.0</td>\n",
              "      <td>1033.0</td>\n",
              "      <td>820.0</td>\n",
              "      <td>376.0</td>\n",
              "    </tr>\n",
              "  </tbody>\n",
              "</table>\n",
              "</div>"
            ],
            "text/plain": [
              "             filename      category  x_min   y_min  x_max   y_max\n",
              "0  batch_1/000006.jpg  Glass bottle  517.0   127.0  447.0  1322.0\n",
              "1  batch_1/000012.jpg  Glass bottle  379.0  1127.0  425.0   318.0\n",
              "2  batch_1/000048.jpg  Glass bottle  211.0     1.0  417.0  1417.0\n",
              "3  batch_1/000021.jpg  Glass bottle  852.0   638.0  687.0   291.0\n",
              "4  batch_1/000022.jpg  Glass bottle  647.0  1033.0  820.0   376.0"
            ]
          },
          "metadata": {
            "tags": []
          },
          "execution_count": 13
        }
      ]
    },
    {
      "cell_type": "code",
      "metadata": {
        "id": "Q1dJ673sFLSm",
        "colab_type": "code",
        "colab": {}
      },
      "source": [
        "# Calculate maximum x and maximum y points\n",
        "df['x_max'] = df['x_max']+df['x_min']\n",
        "df['y_max'] = df['y_max']+df['y_min']\n",
        "# Convert float columns to integer\n",
        "for col in  df.columns[2:]:\n",
        "    df[col] = df[col].astype(int)\n",
        "    "
      ],
      "execution_count": 14,
      "outputs": []
    },
    {
      "cell_type": "markdown",
      "metadata": {
        "id": "K2rFpDF7_Pm2",
        "colab_type": "text"
      },
      "source": [
        "Adding Padding to all the bounding boxes"
      ]
    },
    {
      "cell_type": "code",
      "metadata": {
        "id": "ZAlom-Mk_f3O",
        "colab_type": "code",
        "colab": {}
      },
      "source": [
        "df['x_min'] = df['x_min'] + 20\n",
        "df['y_min'] = df['y_min'] + 20\n",
        "df['x_max'] = df['x_max'] + 20\n",
        "df['y_max'] = df['y_max'] + 20"
      ],
      "execution_count": 15,
      "outputs": []
    },
    {
      "cell_type": "code",
      "metadata": {
        "id": "KHc3wdXn_h8u",
        "colab_type": "code",
        "colab": {
          "base_uri": "https://localhost:8080/",
          "height": 204
        },
        "outputId": "d38b92e7-8c9e-44d4-b8c5-c029dd7c6bc6"
      },
      "source": [
        "df.head()"
      ],
      "execution_count": 16,
      "outputs": [
        {
          "output_type": "execute_result",
          "data": {
            "text/html": [
              "<div>\n",
              "<style scoped>\n",
              "    .dataframe tbody tr th:only-of-type {\n",
              "        vertical-align: middle;\n",
              "    }\n",
              "\n",
              "    .dataframe tbody tr th {\n",
              "        vertical-align: top;\n",
              "    }\n",
              "\n",
              "    .dataframe thead th {\n",
              "        text-align: right;\n",
              "    }\n",
              "</style>\n",
              "<table border=\"1\" class=\"dataframe\">\n",
              "  <thead>\n",
              "    <tr style=\"text-align: right;\">\n",
              "      <th></th>\n",
              "      <th>filename</th>\n",
              "      <th>category</th>\n",
              "      <th>x_min</th>\n",
              "      <th>y_min</th>\n",
              "      <th>x_max</th>\n",
              "      <th>y_max</th>\n",
              "    </tr>\n",
              "  </thead>\n",
              "  <tbody>\n",
              "    <tr>\n",
              "      <th>0</th>\n",
              "      <td>batch_1/000006.jpg</td>\n",
              "      <td>Glass bottle</td>\n",
              "      <td>537</td>\n",
              "      <td>147</td>\n",
              "      <td>984</td>\n",
              "      <td>1469</td>\n",
              "    </tr>\n",
              "    <tr>\n",
              "      <th>1</th>\n",
              "      <td>batch_1/000012.jpg</td>\n",
              "      <td>Glass bottle</td>\n",
              "      <td>399</td>\n",
              "      <td>1147</td>\n",
              "      <td>824</td>\n",
              "      <td>1465</td>\n",
              "    </tr>\n",
              "    <tr>\n",
              "      <th>2</th>\n",
              "      <td>batch_1/000048.jpg</td>\n",
              "      <td>Glass bottle</td>\n",
              "      <td>231</td>\n",
              "      <td>21</td>\n",
              "      <td>648</td>\n",
              "      <td>1438</td>\n",
              "    </tr>\n",
              "    <tr>\n",
              "      <th>3</th>\n",
              "      <td>batch_1/000021.jpg</td>\n",
              "      <td>Glass bottle</td>\n",
              "      <td>872</td>\n",
              "      <td>658</td>\n",
              "      <td>1559</td>\n",
              "      <td>949</td>\n",
              "    </tr>\n",
              "    <tr>\n",
              "      <th>4</th>\n",
              "      <td>batch_1/000022.jpg</td>\n",
              "      <td>Glass bottle</td>\n",
              "      <td>667</td>\n",
              "      <td>1053</td>\n",
              "      <td>1487</td>\n",
              "      <td>1429</td>\n",
              "    </tr>\n",
              "  </tbody>\n",
              "</table>\n",
              "</div>"
            ],
            "text/plain": [
              "             filename      category  x_min  y_min  x_max  y_max\n",
              "0  batch_1/000006.jpg  Glass bottle    537    147    984   1469\n",
              "1  batch_1/000012.jpg  Glass bottle    399   1147    824   1465\n",
              "2  batch_1/000048.jpg  Glass bottle    231     21    648   1438\n",
              "3  batch_1/000021.jpg  Glass bottle    872    658   1559    949\n",
              "4  batch_1/000022.jpg  Glass bottle    667   1053   1487   1429"
            ]
          },
          "metadata": {
            "tags": []
          },
          "execution_count": 16
        }
      ]
    },
    {
      "cell_type": "code",
      "metadata": {
        "id": "nNmR9UVuFO0M",
        "colab_type": "code",
        "colab": {
          "base_uri": "https://localhost:8080/",
          "height": 383
        },
        "outputId": "ebe5e336-6abe-45aa-8de8-95dc442891c9"
      },
      "source": [
        "df['category'].value_counts().plot.bar()"
      ],
      "execution_count": 17,
      "outputs": [
        {
          "output_type": "execute_result",
          "data": {
            "text/plain": [
              "<matplotlib.axes._subplots.AxesSubplot at 0x7f8dba68cb70>"
            ]
          },
          "metadata": {
            "tags": []
          },
          "execution_count": 17
        },
        {
          "output_type": "display_data",
          "data": {
            "image/png": "[encoded data removed]",
            "text/plain": [
              "<Figure size 432x288 with 1 Axes>"
            ]
          },
          "metadata": {
            "tags": [],
            "needs_background": "light"
          }
        }
      ]
    },
    {
      "cell_type": "markdown",
      "metadata": {
        "id": "xPNZu1ogFWIn",
        "colab_type": "text"
      },
      "source": [
        "Fetch, crop and store image data"
      ]
    },
    {
      "cell_type": "code",
      "metadata": {
        "id": "RQtddY4vFXa0",
        "colab_type": "code",
        "colab": {}
      },
      "source": [
        "# path of the folder containing the original images \n",
        "inPath = path+'data' \n",
        "# path of the folder that will contain the cropped image \n",
        "outPath = path+'trainDataTACO' \n",
        "train_data = []  \n",
        "for ind in df.index:\n",
        "  bbox = (df['x_min'][ind],df['y_min'][ind],df['x_max'][ind],df['y_max'][ind])\n",
        "  imagePath = os.path.join(inPath+'/'+df['filename'][ind])\n",
        "  img = Image.open(imagePath)\n",
        "  img = img.crop(bbox)\n",
        "  fullOutPath = os.path.join(outPath +'/'+df['filename'][ind]) \n",
        "  img.save(fullOutPath)"
      ],
      "execution_count": 18,
      "outputs": []
    },
    {
      "cell_type": "code",
      "metadata": {
        "id": "KEJfmF9JFZJE",
        "colab_type": "code",
        "colab": {
          "base_uri": "https://localhost:8080/",
          "height": 204
        },
        "outputId": "be8978d4-684f-437e-92a7-f9bbba3dc83d"
      },
      "source": [
        "df = df.drop(['x_min','x_max','y_min','y_max'], axis=1)\n",
        "df = df.astype({\"category\":'category'})\n",
        "df.head()"
      ],
      "execution_count": 19,
      "outputs": [
        {
          "output_type": "execute_result",
          "data": {
            "text/html": [
              "<div>\n",
              "<style scoped>\n",
              "    .dataframe tbody tr th:only-of-type {\n",
              "        vertical-align: middle;\n",
              "    }\n",
              "\n",
              "    .dataframe tbody tr th {\n",
              "        vertical-align: top;\n",
              "    }\n",
              "\n",
              "    .dataframe thead th {\n",
              "        text-align: right;\n",
              "    }\n",
              "</style>\n",
              "<table border=\"1\" class=\"dataframe\">\n",
              "  <thead>\n",
              "    <tr style=\"text-align: right;\">\n",
              "      <th></th>\n",
              "      <th>filename</th>\n",
              "      <th>category</th>\n",
              "    </tr>\n",
              "  </thead>\n",
              "  <tbody>\n",
              "    <tr>\n",
              "      <th>0</th>\n",
              "      <td>batch_1/000006.jpg</td>\n",
              "      <td>Glass bottle</td>\n",
              "    </tr>\n",
              "    <tr>\n",
              "      <th>1</th>\n",
              "      <td>batch_1/000012.jpg</td>\n",
              "      <td>Glass bottle</td>\n",
              "    </tr>\n",
              "    <tr>\n",
              "      <th>2</th>\n",
              "      <td>batch_1/000048.jpg</td>\n",
              "      <td>Glass bottle</td>\n",
              "    </tr>\n",
              "    <tr>\n",
              "      <th>3</th>\n",
              "      <td>batch_1/000021.jpg</td>\n",
              "      <td>Glass bottle</td>\n",
              "    </tr>\n",
              "    <tr>\n",
              "      <th>4</th>\n",
              "      <td>batch_1/000022.jpg</td>\n",
              "      <td>Glass bottle</td>\n",
              "    </tr>\n",
              "  </tbody>\n",
              "</table>\n",
              "</div>"
            ],
            "text/plain": [
              "             filename      category\n",
              "0  batch_1/000006.jpg  Glass bottle\n",
              "1  batch_1/000012.jpg  Glass bottle\n",
              "2  batch_1/000048.jpg  Glass bottle\n",
              "3  batch_1/000021.jpg  Glass bottle\n",
              "4  batch_1/000022.jpg  Glass bottle"
            ]
          },
          "metadata": {
            "tags": []
          },
          "execution_count": 19
        }
      ]
    },
    {
      "cell_type": "markdown",
      "metadata": {
        "id": "qFygC9NHFhiI",
        "colab_type": "text"
      },
      "source": [
        "Data Split"
      ]
    },
    {
      "cell_type": "code",
      "metadata": {
        "id": "vRF_i4oIFjVQ",
        "colab_type": "code",
        "colab": {}
      },
      "source": [
        "# Data split Randomly\n",
        "trainData_df, testData_df = train_test_split(df, test_size=0.20, random_state=41)"
      ],
      "execution_count": 20,
      "outputs": []
    },
    {
      "cell_type": "code",
      "metadata": {
        "id": "WXpBQpyJFmIn",
        "colab_type": "code",
        "colab": {
          "base_uri": "https://localhost:8080/",
          "height": 51
        },
        "outputId": "0c0931c0-9e4d-4bdb-b4dc-dc2c214232af"
      },
      "source": [
        "print(trainData_df.shape)\n",
        "print(testData_df.shape)"
      ],
      "execution_count": 21,
      "outputs": [
        {
          "output_type": "stream",
          "text": [
            "(1153, 2)\n",
            "(289, 2)\n"
          ],
          "name": "stdout"
        }
      ]
    },
    {
      "cell_type": "code",
      "metadata": {
        "id": "11kbtc23Fnu9",
        "colab_type": "code",
        "colab": {
          "base_uri": "https://localhost:8080/",
          "height": 119
        },
        "outputId": "eac3ee3b-2762-45a8-c82c-a231f8e22900"
      },
      "source": [
        "trainData_df['category'].value_counts()"
      ],
      "execution_count": 22,
      "outputs": [
        {
          "output_type": "execute_result",
          "data": {
            "text/plain": [
              "Cigarette               527\n",
              "Clear plastic bottle    235\n",
              "Drink can               180\n",
              "Plastic straw           123\n",
              "Glass bottle             88\n",
              "Name: category, dtype: int64"
            ]
          },
          "metadata": {
            "tags": []
          },
          "execution_count": 22
        }
      ]
    },
    {
      "cell_type": "code",
      "metadata": {
        "id": "c_xi3aVfHTlT",
        "colab_type": "code",
        "colab": {}
      },
      "source": [
        "# Fixed for our 'Cigarette','Clear plastic bottle','Drink can','Plastic straw','Glass bottle' classes\n",
        "NUM_CLASSES = 5\n",
        "CHANNELS = 3\n",
        "\n",
        "# Model parameters\n",
        "IMAGE_RESIZE = 224\n",
        "DENSE_LAYER_ACTIVATION = 'softmax'\n",
        "OBJECTIVE_FUNCTION = 'categorical_crossentropy'\n",
        "input_shape = (IMAGE_RESIZE,IMAGE_RESIZE,CHANNELS)\n",
        "\n",
        "# EARLY_STOP_PATIENCE must be < NUM_EPOCHS\n",
        "NUM_EPOCHS = 100\n",
        "EARLY_STOP_PATIENCE = 50\n",
        "\n",
        "# These steps value should be proper FACTOR of no.-of-images in train & valid folders respectively\n",
        "# NOTE that these BATCH* are for Keras ImageDataGenerator batching to fill epoch step input\n",
        "BATCH_SIZE_TRAINING = 50\n",
        "BATCH_SIZE_VALIDATION = 50\n",
        "\n",
        "# Using 1 to easily manage mapping between test_generator & prediction for submission preparation\n",
        "BATCH_SIZE_TESTING = 1\n"
      ],
      "execution_count": 23,
      "outputs": []
    },
    {
      "cell_type": "code",
      "metadata": {
        "id": "Y5tm4npXGGc9",
        "colab_type": "code",
        "colab": {}
      },
      "source": [
        "# Batch Normalization helps in faster convergence\n",
        "data_generator = ImageDataGenerator(validation_split=0.20, rotation_range=15,\n",
        "    rescale=1./255,\n",
        "    shear_range=0.1,\n",
        "    zoom_range=0.2,\n",
        "    horizontal_flip=True,\n",
        "    width_shift_range=0.1,\n",
        "    height_shift_range=0.1)"
      ],
      "execution_count": 24,
      "outputs": []
    },
    {
      "cell_type": "code",
      "metadata": {
        "id": "2000aFqsGO4q",
        "colab_type": "code",
        "colab": {
          "base_uri": "https://localhost:8080/",
          "height": 34
        },
        "outputId": "0ff90874-fb5a-4f4b-e368-7194913e1b0c"
      },
      "source": [
        "# Train image data generator\n",
        "# Create new train folder directory which should have images\n",
        "newPath = path +'trainDataTACO'\n",
        "train_generator=data_generator.flow_from_dataframe(\n",
        "    dataframe=trainData_df,\n",
        "    directory=newPath,\n",
        "    x_col=\"filename\",\n",
        "    y_col=\"category\",\n",
        "    subset=\"training\",\n",
        "    batch_size=BATCH_SIZE_TRAINING,\n",
        "    seed=41,\n",
        "    shuffle=True,\n",
        "    class_mode=\"categorical\",\n",
        "    target_size=(IMAGE_RESIZE,IMAGE_RESIZE)\n",
        ")"
      ],
      "execution_count": 25,
      "outputs": [
        {
          "output_type": "stream",
          "text": [
            "Found 923 validated image filenames belonging to 5 classes.\n"
          ],
          "name": "stdout"
        }
      ]
    },
    {
      "cell_type": "code",
      "metadata": {
        "id": "b1ZgYXKLGlIe",
        "colab_type": "code",
        "colab": {
          "base_uri": "https://localhost:8080/",
          "height": 34
        },
        "outputId": "010df7d8-dbfd-4a61-c336-d522cee3fb86"
      },
      "source": [
        "# Validation image data generator\n",
        "validation_generator=data_generator.flow_from_dataframe(\n",
        "    dataframe=trainData_df,\n",
        "    directory=newPath,\n",
        "    x_col=\"filename\",\n",
        "    y_col=\"category\",\n",
        "    subset=\"validation\",\n",
        "    batch_size=BATCH_SIZE_VALIDATION,\n",
        "    seed=41,\n",
        "    shuffle=True,\n",
        "    class_mode=\"categorical\",\n",
        "    target_size=(IMAGE_RESIZE,IMAGE_RESIZE)\n",
        ")"
      ],
      "execution_count": 26,
      "outputs": [
        {
          "output_type": "stream",
          "text": [
            "Found 230 validated image filenames belonging to 5 classes.\n"
          ],
          "name": "stdout"
        }
      ]
    },
    {
      "cell_type": "code",
      "metadata": {
        "id": "fbNM0ZNGGtRk",
        "colab_type": "code",
        "colab": {}
      },
      "source": [
        "# These steps value should be proper FACTOR of no.-of-images in train & valid folders respectively\n",
        "# Training images processed in each step would be no.-of-train-images / STEPS_PER_EPOCH_TRAINING\n",
        "STEPS_PER_EPOCH_TRAINING = train_generator.n//train_generator.batch_size\n",
        "STEPS_PER_EPOCH_VALIDATION =  validation_generator.n//validation_generator.batch_size"
      ],
      "execution_count": 27,
      "outputs": []
    },
    {
      "cell_type": "code",
      "metadata": {
        "id": "o8hPPFPhG3i9",
        "colab_type": "code",
        "colab": {}
      },
      "source": [
        "# create model\n",
        "model = Sequential()\n",
        "model.add(Conv2D(filters=32, kernel_size=(3, 3), activation=\"relu\", input_shape=input_shape))\n",
        "model.add(MaxPooling2D(pool_size=(2, 2)))\n",
        "#\n",
        "model.add(Conv2D(filters=64, kernel_size=(3, 3), activation=\"relu\"))\n",
        "model.add(MaxPooling2D(pool_size=(2, 2)))\n",
        "#\n",
        "model.add(Flatten())\n",
        "model.add(Dense(128, activation='relu'))\n",
        "model.add(Dropout(0.5))\n",
        "model.add(Dense(64, activation='relu'))\n",
        "model.add(Dropout(0.5))\n",
        "model.add(Dense(NUM_CLASSES, activation=DENSE_LAYER_ACTIVATION))\n"
      ],
      "execution_count": 28,
      "outputs": []
    },
    {
      "cell_type": "markdown",
      "metadata": {
        "id": "8uXbvy-daHKf",
        "colab_type": "text"
      },
      "source": [
        "Model Summary"
      ]
    },
    {
      "cell_type": "code",
      "metadata": {
        "id": "-xQFKh6eILYa",
        "colab_type": "code",
        "colab": {
          "base_uri": "https://localhost:8080/",
          "height": 493
        },
        "outputId": "42dd0d92-a406-4462-d4c7-1436234e71ae"
      },
      "source": [
        "model.summary()"
      ],
      "execution_count": 29,
      "outputs": [
        {
          "output_type": "stream",
          "text": [
            "Model: \"sequential\"\n",
            "_________________________________________________________________\n",
            "Layer (type)                 Output Shape              Param #   \n",
            "=================================================================\n",
            "conv2d (Conv2D)              (None, 222, 222, 32)      896       \n",
            "_________________________________________________________________\n",
            "max_pooling2d (MaxPooling2D) (None, 111, 111, 32)      0         \n",
            "_________________________________________________________________\n",
            "conv2d_1 (Conv2D)            (None, 109, 109, 64)      18496     \n",
            "_________________________________________________________________\n",
            "max_pooling2d_1 (MaxPooling2 (None, 54, 54, 64)        0         \n",
            "_________________________________________________________________\n",
            "flatten (Flatten)            (None, 186624)            0         \n",
            "_________________________________________________________________\n",
            "dense (Dense)                (None, 128)               23888000  \n",
            "_________________________________________________________________\n",
            "dropout (Dropout)            (None, 128)               0         \n",
            "_________________________________________________________________\n",
            "dense_1 (Dense)              (None, 64)                8256      \n",
            "_________________________________________________________________\n",
            "dropout_1 (Dropout)          (None, 64)                0         \n",
            "_________________________________________________________________\n",
            "dense_2 (Dense)              (None, 5)                 325       \n",
            "=================================================================\n",
            "Total params: 23,915,973\n",
            "Trainable params: 23,915,973\n",
            "Non-trainable params: 0\n",
            "_________________________________________________________________\n"
          ],
          "name": "stdout"
        }
      ]
    },
    {
      "cell_type": "code",
      "metadata": {
        "id": "GnBhpqvIHHpH",
        "colab_type": "code",
        "colab": {}
      },
      "source": [
        "model.compile(optimizer = 'adam', loss = OBJECTIVE_FUNCTION, metrics = ['accuracy'])"
      ],
      "execution_count": 30,
      "outputs": []
    },
    {
      "cell_type": "code",
      "metadata": {
        "id": "U-XVc7IoIl7C",
        "colab_type": "code",
        "colab": {}
      },
      "source": [
        "cb_early_stopper = EarlyStopping(monitor = 'val_loss', patience = EARLY_STOP_PATIENCE)"
      ],
      "execution_count": 31,
      "outputs": []
    },
    {
      "cell_type": "code",
      "metadata": {
        "id": "MiCbw-iXIPSJ",
        "colab_type": "code",
        "colab": {
          "base_uri": "https://localhost:8080/",
          "height": 1000
        },
        "outputId": "7ea8da7b-5e5b-4d89-c10c-dbca40dd5eff"
      },
      "source": [
        "fit_history_adam = model.fit_generator(\n",
        "        train_generator,\n",
        "        steps_per_epoch=STEPS_PER_EPOCH_TRAINING,\n",
        "        epochs = NUM_EPOCHS,\n",
        "        validation_data = validation_generator,\n",
        "        validation_steps = STEPS_PER_EPOCH_VALIDATION,\n",
        "        callbacks = [cb_early_stopper]\n",
        ")"
      ],
      "execution_count": 32,
      "outputs": [
        {
          "output_type": "stream",
          "text": [
            "WARNING:tensorflow:From <ipython-input-32-405ac674464f>:7: Model.fit_generator (from tensorflow.python.keras.engine.training) is deprecated and will be removed in a future version.\n",
            "Instructions for updating:\n",
            "Please use Model.fit, which supports generators.\n",
            "Epoch 1/100\n",
            " 2/18 [==>...........................] - ETA: 0s - loss: 4.5909 - accuracy: 0.2200WARNING:tensorflow:Callbacks method `on_train_batch_end` is slow compared to the batch time (batch time: 0.0422s vs `on_train_batch_end` time: 0.0706s). Check your callbacks.\n",
            "18/18 [==============================] - 17s 940ms/step - loss: 2.8782 - accuracy: 0.2955 - val_loss: 1.4844 - val_accuracy: 0.4700\n",
            "Epoch 2/100\n",
            "18/18 [==============================] - 16s 904ms/step - loss: 1.5250 - accuracy: 0.3998 - val_loss: 1.4926 - val_accuracy: 0.4800\n",
            "Epoch 3/100\n",
            "18/18 [==============================] - 16s 899ms/step - loss: 1.4737 - accuracy: 0.4639 - val_loss: 1.3555 - val_accuracy: 0.4850\n",
            "Epoch 4/100\n",
            "18/18 [==============================] - 16s 896ms/step - loss: 1.4584 - accuracy: 0.4582 - val_loss: 1.3584 - val_accuracy: 0.4650\n",
            "Epoch 5/100\n",
            "18/18 [==============================] - 17s 927ms/step - loss: 1.4236 - accuracy: 0.4536 - val_loss: 1.3489 - val_accuracy: 0.5300\n",
            "Epoch 6/100\n",
            "18/18 [==============================] - 16s 910ms/step - loss: 1.4011 - accuracy: 0.4674 - val_loss: 1.3552 - val_accuracy: 0.5300\n",
            "Epoch 7/100\n",
            "18/18 [==============================] - 17s 931ms/step - loss: 1.4016 - accuracy: 0.4857 - val_loss: 1.2618 - val_accuracy: 0.5500\n",
            "Epoch 8/100\n",
            "18/18 [==============================] - 16s 895ms/step - loss: 1.3791 - accuracy: 0.4834 - val_loss: 1.2273 - val_accuracy: 0.5500\n",
            "Epoch 9/100\n",
            "18/18 [==============================] - 16s 899ms/step - loss: 1.3414 - accuracy: 0.4788 - val_loss: 1.2152 - val_accuracy: 0.5650\n",
            "Epoch 10/100\n",
            "18/18 [==============================] - 16s 898ms/step - loss: 1.3451 - accuracy: 0.4914 - val_loss: 1.2085 - val_accuracy: 0.5850\n",
            "Epoch 11/100\n",
            "18/18 [==============================] - 16s 898ms/step - loss: 1.3228 - accuracy: 0.4800 - val_loss: 1.2486 - val_accuracy: 0.5300\n",
            "Epoch 12/100\n",
            "18/18 [==============================] - 16s 896ms/step - loss: 1.3216 - accuracy: 0.4948 - val_loss: 1.2309 - val_accuracy: 0.5600\n",
            "Epoch 13/100\n",
            "18/18 [==============================] - 16s 905ms/step - loss: 1.3385 - accuracy: 0.5006 - val_loss: 1.2223 - val_accuracy: 0.5550\n",
            "Epoch 14/100\n",
            "18/18 [==============================] - 16s 911ms/step - loss: 1.2865 - accuracy: 0.5052 - val_loss: 1.1335 - val_accuracy: 0.5600\n",
            "Epoch 15/100\n",
            "18/18 [==============================] - 16s 912ms/step - loss: 1.2891 - accuracy: 0.5097 - val_loss: 1.2135 - val_accuracy: 0.5500\n",
            "Epoch 16/100\n",
            "18/18 [==============================] - 17s 918ms/step - loss: 1.2959 - accuracy: 0.5017 - val_loss: 1.1987 - val_accuracy: 0.5400\n",
            "Epoch 17/100\n",
            "18/18 [==============================] - 16s 908ms/step - loss: 1.2386 - accuracy: 0.5395 - val_loss: 1.1339 - val_accuracy: 0.5850\n",
            "Epoch 18/100\n",
            "18/18 [==============================] - 17s 932ms/step - loss: 1.2572 - accuracy: 0.5315 - val_loss: 1.1519 - val_accuracy: 0.5700\n",
            "Epoch 19/100\n",
            "18/18 [==============================] - 16s 911ms/step - loss: 1.2428 - accuracy: 0.5258 - val_loss: 1.1073 - val_accuracy: 0.5950\n",
            "Epoch 20/100\n",
            "18/18 [==============================] - 16s 917ms/step - loss: 1.2502 - accuracy: 0.5361 - val_loss: 1.1437 - val_accuracy: 0.5750\n",
            "Epoch 21/100\n",
            "18/18 [==============================] - 17s 919ms/step - loss: 1.2368 - accuracy: 0.5349 - val_loss: 1.1480 - val_accuracy: 0.5700\n",
            "Epoch 22/100\n",
            "18/18 [==============================] - 17s 923ms/step - loss: 1.2353 - accuracy: 0.5452 - val_loss: 1.1394 - val_accuracy: 0.5700\n",
            "Epoch 23/100\n",
            "18/18 [==============================] - 17s 923ms/step - loss: 1.2156 - accuracy: 0.5430 - val_loss: 1.0912 - val_accuracy: 0.5950\n",
            "Epoch 24/100\n",
            "18/18 [==============================] - 17s 941ms/step - loss: 1.2514 - accuracy: 0.5235 - val_loss: 1.1611 - val_accuracy: 0.5950\n",
            "Epoch 25/100\n",
            "18/18 [==============================] - 17s 966ms/step - loss: 1.2542 - accuracy: 0.5304 - val_loss: 1.1408 - val_accuracy: 0.6200\n",
            "Epoch 26/100\n",
            "18/18 [==============================] - 17s 932ms/step - loss: 1.2005 - accuracy: 0.5544 - val_loss: 1.1188 - val_accuracy: 0.5800\n",
            "Epoch 27/100\n",
            "18/18 [==============================] - 17s 933ms/step - loss: 1.1821 - accuracy: 0.5441 - val_loss: 1.1364 - val_accuracy: 0.5900\n",
            "Epoch 28/100\n",
            "18/18 [==============================] - 17s 934ms/step - loss: 1.2145 - accuracy: 0.5258 - val_loss: 1.1211 - val_accuracy: 0.5750\n",
            "Epoch 29/100\n",
            "18/18 [==============================] - 17s 939ms/step - loss: 1.2383 - accuracy: 0.5430 - val_loss: 1.1389 - val_accuracy: 0.5550\n",
            "Epoch 30/100\n",
            "18/18 [==============================] - 17s 937ms/step - loss: 1.2099 - accuracy: 0.5430 - val_loss: 1.1482 - val_accuracy: 0.5350\n",
            "Epoch 31/100\n",
            "18/18 [==============================] - 17s 934ms/step - loss: 1.2116 - accuracy: 0.5418 - val_loss: 1.0294 - val_accuracy: 0.6000\n",
            "Epoch 32/100\n",
            "18/18 [==============================] - 17s 938ms/step - loss: 1.1861 - accuracy: 0.5510 - val_loss: 1.1310 - val_accuracy: 0.5900\n",
            "Epoch 33/100\n",
            "18/18 [==============================] - 17s 940ms/step - loss: 1.1838 - accuracy: 0.5498 - val_loss: 1.1042 - val_accuracy: 0.6200\n",
            "Epoch 34/100\n",
            "18/18 [==============================] - 17s 940ms/step - loss: 1.1515 - accuracy: 0.5739 - val_loss: 1.1128 - val_accuracy: 0.6250\n",
            "Epoch 35/100\n",
            "18/18 [==============================] - 17s 941ms/step - loss: 1.1535 - accuracy: 0.5819 - val_loss: 1.0133 - val_accuracy: 0.6700\n",
            "Epoch 36/100\n",
            "18/18 [==============================] - 17s 937ms/step - loss: 1.1759 - accuracy: 0.5670 - val_loss: 1.1431 - val_accuracy: 0.5750\n",
            "Epoch 37/100\n",
            "18/18 [==============================] - 17s 937ms/step - loss: 1.1725 - accuracy: 0.5739 - val_loss: 1.0362 - val_accuracy: 0.6500\n",
            "Epoch 38/100\n",
            "18/18 [==============================] - 17s 937ms/step - loss: 1.1824 - accuracy: 0.5533 - val_loss: 1.0517 - val_accuracy: 0.6200\n",
            "Epoch 39/100\n",
            "18/18 [==============================] - 17s 931ms/step - loss: 1.1307 - accuracy: 0.5659 - val_loss: 1.0617 - val_accuracy: 0.6200\n",
            "Epoch 40/100\n",
            "18/18 [==============================] - 17s 933ms/step - loss: 1.1213 - accuracy: 0.5727 - val_loss: 1.1091 - val_accuracy: 0.5950\n",
            "Epoch 41/100\n",
            "18/18 [==============================] - 17s 965ms/step - loss: 1.0910 - accuracy: 0.6071 - val_loss: 1.0556 - val_accuracy: 0.6450\n",
            "Epoch 42/100\n",
            "18/18 [==============================] - 17s 935ms/step - loss: 1.0936 - accuracy: 0.5934 - val_loss: 1.0550 - val_accuracy: 0.6350\n",
            "Epoch 43/100\n",
            "18/18 [==============================] - 17s 954ms/step - loss: 1.0632 - accuracy: 0.6060 - val_loss: 1.0276 - val_accuracy: 0.6300\n",
            "Epoch 44/100\n",
            "18/18 [==============================] - 17s 930ms/step - loss: 1.0872 - accuracy: 0.5956 - val_loss: 0.9988 - val_accuracy: 0.6600\n",
            "Epoch 45/100\n",
            "18/18 [==============================] - 17s 923ms/step - loss: 1.1051 - accuracy: 0.5934 - val_loss: 1.0500 - val_accuracy: 0.6150\n",
            "Epoch 46/100\n",
            "18/18 [==============================] - 17s 925ms/step - loss: 1.1100 - accuracy: 0.5899 - val_loss: 1.0429 - val_accuracy: 0.6500\n",
            "Epoch 47/100\n",
            "18/18 [==============================] - 17s 928ms/step - loss: 1.0771 - accuracy: 0.5922 - val_loss: 1.0829 - val_accuracy: 0.6300\n",
            "Epoch 48/100\n",
            "18/18 [==============================] - 17s 936ms/step - loss: 1.1277 - accuracy: 0.6071 - val_loss: 1.0710 - val_accuracy: 0.6300\n",
            "Epoch 49/100\n",
            "18/18 [==============================] - 17s 957ms/step - loss: 1.1093 - accuracy: 0.5899 - val_loss: 0.9729 - val_accuracy: 0.6900\n",
            "Epoch 50/100\n",
            "18/18 [==============================] - 17s 931ms/step - loss: 1.0643 - accuracy: 0.5979 - val_loss: 0.9576 - val_accuracy: 0.6800\n",
            "Epoch 51/100\n",
            "18/18 [==============================] - 17s 951ms/step - loss: 1.1075 - accuracy: 0.5979 - val_loss: 1.0374 - val_accuracy: 0.6400\n",
            "Epoch 52/100\n",
            "18/18 [==============================] - 17s 929ms/step - loss: 1.0685 - accuracy: 0.6197 - val_loss: 0.9901 - val_accuracy: 0.6600\n",
            "Epoch 53/100\n",
            "18/18 [==============================] - 17s 925ms/step - loss: 1.0767 - accuracy: 0.6025 - val_loss: 1.0551 - val_accuracy: 0.6200\n",
            "Epoch 54/100\n",
            "18/18 [==============================] - 17s 931ms/step - loss: 1.0276 - accuracy: 0.6472 - val_loss: 1.0169 - val_accuracy: 0.6700\n",
            "Epoch 55/100\n",
            "18/18 [==============================] - 17s 929ms/step - loss: 1.0703 - accuracy: 0.6060 - val_loss: 1.0613 - val_accuracy: 0.6400\n",
            "Epoch 56/100\n",
            "18/18 [==============================] - 17s 933ms/step - loss: 1.0544 - accuracy: 0.6071 - val_loss: 1.0141 - val_accuracy: 0.6750\n",
            "Epoch 57/100\n",
            "18/18 [==============================] - 17s 929ms/step - loss: 1.0569 - accuracy: 0.6071 - val_loss: 1.0901 - val_accuracy: 0.6350\n",
            "Epoch 58/100\n",
            "18/18 [==============================] - 17s 951ms/step - loss: 1.0715 - accuracy: 0.6220 - val_loss: 1.0551 - val_accuracy: 0.6000\n",
            "Epoch 59/100\n",
            "18/18 [==============================] - 17s 947ms/step - loss: 1.0633 - accuracy: 0.6151 - val_loss: 1.0339 - val_accuracy: 0.6250\n",
            "Epoch 60/100\n",
            "18/18 [==============================] - 17s 957ms/step - loss: 1.0593 - accuracy: 0.6174 - val_loss: 0.9626 - val_accuracy: 0.6600\n",
            "Epoch 61/100\n",
            "18/18 [==============================] - 17s 948ms/step - loss: 1.0411 - accuracy: 0.6186 - val_loss: 1.0184 - val_accuracy: 0.6750\n",
            "Epoch 62/100\n",
            "18/18 [==============================] - 17s 948ms/step - loss: 1.0559 - accuracy: 0.6117 - val_loss: 1.0300 - val_accuracy: 0.6650\n",
            "Epoch 63/100\n",
            "18/18 [==============================] - 17s 937ms/step - loss: 1.0634 - accuracy: 0.6089 - val_loss: 1.0402 - val_accuracy: 0.6250\n",
            "Epoch 64/100\n",
            "18/18 [==============================] - 17s 928ms/step - loss: 1.0408 - accuracy: 0.6117 - val_loss: 1.0019 - val_accuracy: 0.6650\n",
            "Epoch 65/100\n",
            "18/18 [==============================] - 17s 930ms/step - loss: 1.0309 - accuracy: 0.6380 - val_loss: 1.0494 - val_accuracy: 0.6500\n",
            "Epoch 66/100\n",
            "18/18 [==============================] - 17s 928ms/step - loss: 1.0039 - accuracy: 0.6186 - val_loss: 1.0524 - val_accuracy: 0.6800\n",
            "Epoch 67/100\n",
            "18/18 [==============================] - 17s 930ms/step - loss: 1.0304 - accuracy: 0.6266 - val_loss: 1.0196 - val_accuracy: 0.6650\n",
            "Epoch 68/100\n",
            "18/18 [==============================] - 17s 926ms/step - loss: 1.0232 - accuracy: 0.6220 - val_loss: 0.9532 - val_accuracy: 0.6950\n",
            "Epoch 69/100\n",
            "18/18 [==============================] - 17s 928ms/step - loss: 1.0590 - accuracy: 0.6094 - val_loss: 1.0862 - val_accuracy: 0.6250\n",
            "Epoch 70/100\n",
            "18/18 [==============================] - 17s 940ms/step - loss: 1.0214 - accuracy: 0.6356 - val_loss: 0.9934 - val_accuracy: 0.6650\n",
            "Epoch 71/100\n",
            "18/18 [==============================] - 17s 941ms/step - loss: 1.0019 - accuracy: 0.6411 - val_loss: 0.9536 - val_accuracy: 0.7000\n",
            "Epoch 72/100\n",
            "18/18 [==============================] - 17s 927ms/step - loss: 1.0038 - accuracy: 0.6243 - val_loss: 0.9488 - val_accuracy: 0.7200\n",
            "Epoch 73/100\n",
            "18/18 [==============================] - 17s 922ms/step - loss: 0.9776 - accuracy: 0.6415 - val_loss: 0.9733 - val_accuracy: 0.6750\n",
            "Epoch 74/100\n",
            "18/18 [==============================] - 16s 905ms/step - loss: 0.9736 - accuracy: 0.6323 - val_loss: 0.9751 - val_accuracy: 0.6750\n",
            "Epoch 75/100\n",
            "18/18 [==============================] - 17s 918ms/step - loss: 1.0077 - accuracy: 0.6174 - val_loss: 1.0229 - val_accuracy: 0.6800\n",
            "Epoch 76/100\n",
            "18/18 [==============================] - 17s 924ms/step - loss: 1.0265 - accuracy: 0.6197 - val_loss: 1.0200 - val_accuracy: 0.6650\n",
            "Epoch 77/100\n",
            "18/18 [==============================] - 17s 926ms/step - loss: 0.9632 - accuracy: 0.6541 - val_loss: 1.0146 - val_accuracy: 0.6850\n",
            "Epoch 78/100\n",
            "18/18 [==============================] - 17s 948ms/step - loss: 0.9981 - accuracy: 0.6369 - val_loss: 1.1141 - val_accuracy: 0.6300\n",
            "Epoch 79/100\n",
            "18/18 [==============================] - 17s 919ms/step - loss: 1.0052 - accuracy: 0.6266 - val_loss: 1.0868 - val_accuracy: 0.6800\n",
            "Epoch 80/100\n",
            "18/18 [==============================] - 17s 924ms/step - loss: 0.9980 - accuracy: 0.6472 - val_loss: 1.0915 - val_accuracy: 0.6300\n",
            "Epoch 81/100\n",
            "18/18 [==============================] - 17s 921ms/step - loss: 1.0130 - accuracy: 0.6312 - val_loss: 1.0079 - val_accuracy: 0.6400\n",
            "Epoch 82/100\n",
            "18/18 [==============================] - 17s 929ms/step - loss: 0.9727 - accuracy: 0.6300 - val_loss: 0.9806 - val_accuracy: 0.6550\n",
            "Epoch 83/100\n",
            "18/18 [==============================] - 17s 922ms/step - loss: 1.0291 - accuracy: 0.6392 - val_loss: 0.9349 - val_accuracy: 0.6750\n",
            "Epoch 84/100\n",
            "18/18 [==============================] - 17s 924ms/step - loss: 0.9706 - accuracy: 0.6346 - val_loss: 0.9958 - val_accuracy: 0.6750\n",
            "Epoch 85/100\n",
            "18/18 [==============================] - 16s 898ms/step - loss: 0.9798 - accuracy: 0.6403 - val_loss: 1.0344 - val_accuracy: 0.6250\n",
            "Epoch 86/100\n",
            "18/18 [==============================] - 17s 951ms/step - loss: 0.9808 - accuracy: 0.6506 - val_loss: 0.9603 - val_accuracy: 0.6750\n",
            "Epoch 87/100\n",
            "18/18 [==============================] - 17s 921ms/step - loss: 0.9510 - accuracy: 0.6552 - val_loss: 0.9719 - val_accuracy: 0.6600\n",
            "Epoch 88/100\n",
            "18/18 [==============================] - 16s 915ms/step - loss: 0.9162 - accuracy: 0.6724 - val_loss: 0.8932 - val_accuracy: 0.6850\n",
            "Epoch 89/100\n",
            "18/18 [==============================] - 16s 911ms/step - loss: 0.9638 - accuracy: 0.6529 - val_loss: 0.9885 - val_accuracy: 0.6400\n",
            "Epoch 90/100\n",
            "18/18 [==============================] - 17s 919ms/step - loss: 0.9434 - accuracy: 0.6415 - val_loss: 1.0081 - val_accuracy: 0.6600\n",
            "Epoch 91/100\n",
            "18/18 [==============================] - 17s 928ms/step - loss: 0.9339 - accuracy: 0.6611 - val_loss: 1.0033 - val_accuracy: 0.6700\n",
            "Epoch 92/100\n",
            "18/18 [==============================] - 16s 915ms/step - loss: 0.9930 - accuracy: 0.6426 - val_loss: 0.9784 - val_accuracy: 0.6850\n",
            "Epoch 93/100\n",
            "18/18 [==============================] - 17s 934ms/step - loss: 0.9805 - accuracy: 0.6495 - val_loss: 1.0426 - val_accuracy: 0.6500\n",
            "Epoch 94/100\n",
            "18/18 [==============================] - 17s 924ms/step - loss: 0.9821 - accuracy: 0.6495 - val_loss: 0.9451 - val_accuracy: 0.6850\n",
            "Epoch 95/100\n",
            "18/18 [==============================] - 16s 917ms/step - loss: 0.9624 - accuracy: 0.6438 - val_loss: 1.0672 - val_accuracy: 0.6300\n",
            "Epoch 96/100\n",
            "18/18 [==============================] - 17s 944ms/step - loss: 0.9832 - accuracy: 0.6506 - val_loss: 0.9782 - val_accuracy: 0.6500\n",
            "Epoch 97/100\n",
            "18/18 [==============================] - 16s 913ms/step - loss: 0.9782 - accuracy: 0.6575 - val_loss: 1.0262 - val_accuracy: 0.6650\n",
            "Epoch 98/100\n",
            "18/18 [==============================] - 17s 920ms/step - loss: 0.9680 - accuracy: 0.6541 - val_loss: 0.9757 - val_accuracy: 0.6950\n",
            "Epoch 99/100\n",
            "18/18 [==============================] - 17s 923ms/step - loss: 0.9287 - accuracy: 0.6541 - val_loss: 1.0673 - val_accuracy: 0.6650\n",
            "Epoch 100/100\n",
            "18/18 [==============================] - 16s 912ms/step - loss: 0.9690 - accuracy: 0.6449 - val_loss: 1.0802 - val_accuracy: 0.6600\n"
          ],
          "name": "stdout"
        }
      ]
    },
    {
      "cell_type": "code",
      "metadata": {
        "id": "M6en8umzGT1W",
        "colab_type": "code",
        "colab": {
          "base_uri": "https://localhost:8080/",
          "height": 281
        },
        "outputId": "5fed936d-fa47-42a0-fab7-404cefa2add4"
      },
      "source": [
        "plt.figure(1, figsize = (15,8)) \n",
        "    \n",
        "plt.subplot(221)  \n",
        "plt.plot(fit_history_adam.history['accuracy'])  \n",
        "plt.plot(fit_history_adam.history['val_accuracy'])  \n",
        "plt.title('model accuracy')  \n",
        "plt.ylabel('accuracy')  \n",
        "plt.xlabel('epoch')  \n",
        "plt.legend(['train', 'valid']) \n",
        "    \n",
        "plt.subplot(222)  \n",
        "plt.plot(fit_history_adam.history['loss'])  \n",
        "plt.plot(fit_history_adam.history['val_loss'])  \n",
        "plt.title('model loss')  \n",
        "plt.ylabel('loss')  \n",
        "plt.xlabel('epoch')  \n",
        "plt.legend(['train', 'valid']) \n",
        "\n",
        "plt.show()"
      ],
      "execution_count": 37,
      "outputs": [
        {
          "output_type": "display_data",
          "data": {
            "image/png": "[encoded data removed]",
            "text/plain": [
              "<Figure size 1080x576 with 2 Axes>"
            ]
          },
          "metadata": {
            "tags": [],
            "needs_background": "light"
          }
        }
      ]
    },
    {
      "cell_type": "code",
      "metadata": {
        "id": "xKURxadVCWTW",
        "colab_type": "code",
        "colab": {
          "base_uri": "https://localhost:8080/",
          "height": 34
        },
        "outputId": "c0b71714-c46d-4908-a0eb-7c6bf7fe3e93"
      },
      "source": [
        "# test image data generator\n",
        "# Note that here the batch size is 1 to keep the prediction in the same order while using the testing data.\n",
        "test_generator=data_generator.flow_from_dataframe(\n",
        "    dataframe=testData_df,\n",
        "    directory=newPath,\n",
        "    x_col=\"filename\",\n",
        "    y_col=None,\n",
        "    batch_size=1, \n",
        "    seed=41,\n",
        "    shuffle=False,\n",
        "    class_mode=None,\n",
        "    target_size=(IMAGE_RESIZE,IMAGE_RESIZE)\n",
        ")"
      ],
      "execution_count": 38,
      "outputs": [
        {
          "output_type": "stream",
          "text": [
            "Found 289 validated image filenames.\n"
          ],
          "name": "stdout"
        }
      ]
    },
    {
      "cell_type": "code",
      "metadata": {
        "id": "TyG8L_RoCk9L",
        "colab_type": "code",
        "colab": {
          "base_uri": "https://localhost:8080/",
          "height": 34
        },
        "outputId": "ed1c7b16-de89-4d93-ac57-e13ee2b9c1eb"
      },
      "source": [
        "# Reset before each call to predict\n",
        "test_generator.reset()\n",
        "\n",
        "pred = model.predict_generator(test_generator, steps = len(test_generator), verbose = 1)"
      ],
      "execution_count": 39,
      "outputs": [
        {
          "output_type": "stream",
          "text": [
            "289/289 [==============================] - 5s 17ms/step\n"
          ],
          "name": "stdout"
        }
      ]
    },
    {
      "cell_type": "code",
      "metadata": {
        "id": "7jmYP5h4CoJm",
        "colab_type": "code",
        "colab": {
          "base_uri": "https://localhost:8080/",
          "height": 102
        },
        "outputId": "29130b80-df31-4082-e210-5524f5dfb0a9"
      },
      "source": [
        "labels = (train_generator.class_indices)\n",
        "labels = dict((v,k) for k,v in labels.items())\n",
        "sorting = (-pred).argsort()\n",
        "# getting the top 5 predictions\n",
        "sorted_ = sorting[0][:5]\n",
        "# Prediction for all the classes\n",
        "for value in sorted_:\n",
        "  predicted_label = labels[value]\n",
        "  # Rounding steps\n",
        "  prob = (pred[0][value]) * 100\n",
        "  prob = \"%.2f\" % round(prob,2)\n",
        "  print(\"Prediction is that %s%% of Data belongs to %s.\" % (prob, predicted_label))"
      ],
      "execution_count": 40,
      "outputs": [
        {
          "output_type": "stream",
          "text": [
            "Prediction is that 94.82% of Data belongs to Cigarette.\n",
            "Prediction is that 2.22% of Data belongs to Clear plastic bottle.\n",
            "Prediction is that 1.56% of Data belongs to Plastic straw.\n",
            "Prediction is that 1.04% of Data belongs to Drink can.\n",
            "Prediction is that 0.37% of Data belongs to Glass bottle.\n"
          ],
          "name": "stdout"
        }
      ]
    },
    {
      "cell_type": "code",
      "metadata": {
        "id": "UVqG8BmSY9C-",
        "colab_type": "code",
        "colab": {}
      },
      "source": [
        ""
      ],
      "execution_count": null,
      "outputs": []
    }
  ]
}
