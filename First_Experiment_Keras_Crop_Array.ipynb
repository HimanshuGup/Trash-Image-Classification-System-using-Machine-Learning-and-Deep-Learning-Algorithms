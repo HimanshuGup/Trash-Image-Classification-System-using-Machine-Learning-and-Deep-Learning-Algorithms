{
  "nbformat": 4,
  "nbformat_minor": 0,
  "metadata": {
    "colab": {
      "name": "First_Experiment_Keras_Crop_Array.ipynb",
      "provenance": [],
      "collapsed_sections": []
    },
    "kernelspec": {
      "name": "python3",
      "display_name": "Python 3"
    },
    "accelerator": "GPU"
  },
  "cells": [
    {
      "cell_type": "code",
      "metadata": {
        "id": "ypN9KFHGUzsu",
        "colab_type": "code",
        "colab": {
          "base_uri": "https://localhost:8080/",
          "height": 35
        },
        "outputId": "eeb06789-f5e0-48bd-c915-9bedec434f19"
      },
      "source": [
        "import tensorflow as tf\n",
        "import warnings\n",
        "warnings.filterwarnings('ignore')\n",
        "tf.test.gpu_device_name()"
      ],
      "execution_count": null,
      "outputs": [
        {
          "output_type": "execute_result",
          "data": {
            "application/vnd.google.colaboratory.intrinsic+json": {
              "type": "string"
            },
            "text/plain": [
              "'/device:GPU:0'"
            ]
          },
          "metadata": {
            "tags": []
          },
          "execution_count": 1
        }
      ]
    },
    {
      "cell_type": "code",
      "metadata": {
        "id": "VmKiyfYmefUR",
        "colab_type": "code",
        "colab": {}
      },
      "source": [
        "import pandas as pd\n",
        "%matplotlib inline\n",
        "import json\n",
        "import numpy as np\n",
        "import matplotlib.pyplot as plt\n",
        "from matplotlib import pyplot\n",
        "import seaborn as sns\n",
        "\n",
        "# Data Processing \n",
        "import os\n",
        "import os.path\n",
        "import random\n",
        "import PIL\n",
        "import glob\n",
        "from PIL import Image # to read images"
      ],
      "execution_count": null,
      "outputs": []
    },
    {
      "cell_type": "markdown",
      "metadata": {
        "id": "HEDNizZeejrN",
        "colab_type": "text"
      },
      "source": [
        "Use Keras Model Architecture"
      ]
    },
    {
      "cell_type": "code",
      "metadata": {
        "id": "gCg7MlxHemy7",
        "colab_type": "code",
        "colab": {}
      },
      "source": [
        "#For Keras model\n",
        "import keras\n",
        "from keras.models import Sequential\n",
        "from keras.layers import Dense, Dropout, Flatten, Activation, BatchNormalization\n",
        "from keras.layers import Conv2D, MaxPooling2D\n",
        "from keras.utils import to_categorical\n",
        "from keras.regularizers import l1\n",
        "from keras.preprocessing import image\n",
        "from keras.callbacks import EarlyStopping\n",
        "from keras.wrappers.scikit_learn import KerasClassifier"
      ],
      "execution_count": null,
      "outputs": []
    },
    {
      "cell_type": "code",
      "metadata": {
        "id": "mUhTSjirem16",
        "colab_type": "code",
        "colab": {}
      },
      "source": [
        "from sklearn.model_selection import train_test_split, KFold, cross_val_score"
      ],
      "execution_count": null,
      "outputs": []
    },
    {
      "cell_type": "code",
      "metadata": {
        "id": "dMm9bU4uem7R",
        "colab_type": "code",
        "colab": {
          "base_uri": "https://localhost:8080/",
          "height": 125
        },
        "outputId": "b2094db2-af68-4412-f1a4-01b359b77c8f"
      },
      "source": [
        "from google.colab import drive\n",
        "drive.mount('/content/drive')"
      ],
      "execution_count": null,
      "outputs": [
        {
          "output_type": "stream",
          "text": [
            "Go to this URL in a browser: https://accounts.google.com/o/oauth2/auth?client_id=947318989803-6bn6qk8qdgf4n4g3pfee6491hc0brc4i.apps.googleusercontent.com&redirect_uri=urn%3aietf%3awg%3aoauth%3a2.0%3aoob&scope=email%20https%3a%2f%2fwww.googleapis.com%2fauth%2fdocs.test%20https%3a%2f%2fwww.googleapis.com%2fauth%2fdrive%20https%3a%2f%2fwww.googleapis.com%2fauth%2fdrive.photos.readonly%20https%3a%2f%2fwww.googleapis.com%2fauth%2fpeopleapi.readonly&response_type=code\n",
            "\n",
            "Enter your authorization code:\n",
            "··········\n",
            "Mounted at /content/drive\n"
          ],
          "name": "stdout"
        }
      ]
    },
    {
      "cell_type": "markdown",
      "metadata": {
        "id": "8ENRvfYke10t",
        "colab_type": "text"
      },
      "source": [
        "Dataset Preparation"
      ]
    },
    {
      "cell_type": "code",
      "metadata": {
        "id": "anhWnXY4enA2",
        "colab_type": "code",
        "colab": {}
      },
      "source": [
        "initial_data_path = \"/content/drive/My Drive/data/\"\n",
        "initial_data_csv_path = \"/content/drive/My Drive/InitialData.csv\""
      ],
      "execution_count": null,
      "outputs": []
    },
    {
      "cell_type": "code",
      "metadata": {
        "id": "XJVn38XWem-s",
        "colab_type": "code",
        "colab": {
          "base_uri": "https://localhost:8080/",
          "height": 204
        },
        "outputId": "b03c9c6f-6390-4d47-8660-9eba558ba031"
      },
      "source": [
        "df = pd.read_csv(initial_data_csv_path)\n",
        "df = df.drop(['x_min','x_max','y_min','y_max'], axis=1)\n",
        "df.head()    "
      ],
      "execution_count": null,
      "outputs": [
        {
          "output_type": "execute_result",
          "data": {
            "text/html": [
              "<div>\n",
              "<style scoped>\n",
              "    .dataframe tbody tr th:only-of-type {\n",
              "        vertical-align: middle;\n",
              "    }\n",
              "\n",
              "    .dataframe tbody tr th {\n",
              "        vertical-align: top;\n",
              "    }\n",
              "\n",
              "    .dataframe thead th {\n",
              "        text-align: right;\n",
              "    }\n",
              "</style>\n",
              "<table border=\"1\" class=\"dataframe\">\n",
              "  <thead>\n",
              "    <tr style=\"text-align: right;\">\n",
              "      <th></th>\n",
              "      <th>filename</th>\n",
              "      <th>category</th>\n",
              "    </tr>\n",
              "  </thead>\n",
              "  <tbody>\n",
              "    <tr>\n",
              "      <th>0</th>\n",
              "      <td>batch_1/000010.jpg</td>\n",
              "      <td>Clear plastic bottle</td>\n",
              "    </tr>\n",
              "    <tr>\n",
              "      <th>1</th>\n",
              "      <td>batch_1/000001.jpg</td>\n",
              "      <td>Clear plastic bottle</td>\n",
              "    </tr>\n",
              "    <tr>\n",
              "      <th>2</th>\n",
              "      <td>batch_1/000005.jpg</td>\n",
              "      <td>Clear plastic bottle</td>\n",
              "    </tr>\n",
              "    <tr>\n",
              "      <th>3</th>\n",
              "      <td>batch_1/000048.jpg</td>\n",
              "      <td>Clear plastic bottle</td>\n",
              "    </tr>\n",
              "    <tr>\n",
              "      <th>4</th>\n",
              "      <td>batch_1/000000.jpg</td>\n",
              "      <td>Clear plastic bottle</td>\n",
              "    </tr>\n",
              "  </tbody>\n",
              "</table>\n",
              "</div>"
            ],
            "text/plain": [
              "             filename              category\n",
              "0  batch_1/000010.jpg  Clear plastic bottle\n",
              "1  batch_1/000001.jpg  Clear plastic bottle\n",
              "2  batch_1/000005.jpg  Clear plastic bottle\n",
              "3  batch_1/000048.jpg  Clear plastic bottle\n",
              "4  batch_1/000000.jpg  Clear plastic bottle"
            ]
          },
          "metadata": {
            "tags": []
          },
          "execution_count": 57
        }
      ]
    },
    {
      "cell_type": "code",
      "metadata": {
        "id": "OHMQg2O7UTip",
        "colab_type": "code",
        "colab": {
          "base_uri": "https://localhost:8080/",
          "height": 296
        },
        "outputId": "cce15c2d-d54d-481e-cd93-e18fe42d68ff"
      },
      "source": [
        "#Data Before Augmentation\n",
        "axdf = pd.DataFrame(columns=['Classes', 'Count'])\n",
        "axdf['Count'] = list(df['category'].value_counts())\n",
        "axdf['Classes'] = df['category'].value_counts().index.values\n",
        "axdf\n",
        "sns.barplot(x = 'Count',y = 'Classes', data = axdf ,hue= axdf['Count'],dodge=False)"
      ],
      "execution_count": null,
      "outputs": [
        {
          "output_type": "execute_result",
          "data": {
            "text/plain": [
              "<matplotlib.axes._subplots.AxesSubplot at 0x7fcfdd7d6da0>"
            ]
          },
          "metadata": {
            "tags": []
          },
          "execution_count": 58
        },
        {
          "output_type": "display_data",
          "data": {
            "image/png": "[encoded data removed]",
            "text/plain": [
              "<Figure size 432x288 with 1 Axes>"
            ]
          },
          "metadata": {
            "tags": [],
            "needs_background": "light"
          }
        }
      ]
    },
    {
      "cell_type": "markdown",
      "metadata": {
        "id": "Kyby_bJmfXKY",
        "colab_type": "text"
      },
      "source": [
        "Create array data for model training"
      ]
    },
    {
      "cell_type": "code",
      "metadata": {
        "id": "5sU5TvWte896",
        "colab_type": "code",
        "colab": {}
      },
      "source": [
        "train_data = []  \n",
        "for ind in df.index:\n",
        "    img=Image.open(os.path.join(initial_data_path + df['filename'][ind]))\n",
        "    img = img.resize((128, 128), Image.ANTIALIAS)\n",
        "    img = image.img_to_array(img)\n",
        "    # Append image\n",
        "    train_data.append(img)"
      ],
      "execution_count": null,
      "outputs": []
    },
    {
      "cell_type": "code",
      "metadata": {
        "id": "jexzJXeEsl7j",
        "colab_type": "code",
        "colab": {
          "base_uri": "https://localhost:8080/",
          "height": 51
        },
        "outputId": "72f901c9-bf86-4523-eb73-2734b5e7749b"
      },
      "source": [
        "# Create data arrays\n",
        "X = np.array(train_data)\n",
        "# Create dummy variables\n",
        "df = pd.get_dummies(df, columns=[\"category\"])\n",
        "y = np.array(df.drop(['filename'],axis=1))\n",
        "print(X.shape)\n",
        "print(y.shape)\n",
        "# Data split Randomly\n",
        "X_train, X_test, y_train, y_test = train_test_split(X, y, random_state=42, test_size=0.2)"
      ],
      "execution_count": null,
      "outputs": [
        {
          "output_type": "stream",
          "text": [
            "(805, 128, 128, 3)\n",
            "(805, 5)\n"
          ],
          "name": "stdout"
        }
      ]
    },
    {
      "cell_type": "markdown",
      "metadata": {
        "id": "g7u3APPEz5JM",
        "colab_type": "text"
      },
      "source": [
        "Build Keras Model on original data"
      ]
    },
    {
      "cell_type": "code",
      "metadata": {
        "id": "1L6vQ16Tz1Z5",
        "colab_type": "code",
        "colab": {}
      },
      "source": [
        "def create_model():\n",
        "  model = Sequential()\n",
        "  model.add(Conv2D(32, (3, 3), input_shape = (128, 128, 3), activation='relu'))\n",
        "  model.add(Dropout(0.5))\n",
        "  model.add(BatchNormalization())\n",
        "  model.add(Dropout(0.5))\n",
        "  model.add(Flatten())\n",
        "  model.add(Dropout(0.5))\n",
        "  model.add(Dense(5, activation='softmax'))\n",
        "  model.compile(optimizer='adam', loss='categorical_crossentropy', metrics=['accuracy'])\n",
        "  return model"
      ],
      "execution_count": null,
      "outputs": []
    },
    {
      "cell_type": "code",
      "metadata": {
        "id": "mhIp1moG0ETG",
        "colab_type": "code",
        "colab": {
          "base_uri": "https://localhost:8080/",
          "height": 407
        },
        "outputId": "fd7e28de-f65b-43e5-a7aa-1668643fdb26"
      },
      "source": [
        "model = create_model()\n",
        "model.summary()"
      ],
      "execution_count": null,
      "outputs": [
        {
          "output_type": "stream",
          "text": [
            "Model: \"sequential\"\n",
            "_________________________________________________________________\n",
            "Layer (type)                 Output Shape              Param #   \n",
            "=================================================================\n",
            "conv2d (Conv2D)              (None, 126, 126, 16)      448       \n",
            "_________________________________________________________________\n",
            "dropout (Dropout)            (None, 126, 126, 16)      0         \n",
            "_________________________________________________________________\n",
            "batch_normalization (BatchNo (None, 126, 126, 16)      64        \n",
            "_________________________________________________________________\n",
            "dropout_1 (Dropout)          (None, 126, 126, 16)      0         \n",
            "_________________________________________________________________\n",
            "flatten (Flatten)            (None, 254016)            0         \n",
            "_________________________________________________________________\n",
            "dropout_2 (Dropout)          (None, 254016)            0         \n",
            "_________________________________________________________________\n",
            "dense (Dense)                (None, 5)                 1270085   \n",
            "=================================================================\n",
            "Total params: 1,270,597\n",
            "Trainable params: 1,270,565\n",
            "Non-trainable params: 32\n",
            "_________________________________________________________________\n"
          ],
          "name": "stdout"
        }
      ]
    },
    {
      "cell_type": "code",
      "metadata": {
        "id": "M8XjQYNm0Ejq",
        "colab_type": "code",
        "colab": {
          "base_uri": "https://localhost:8080/",
          "height": 969
        },
        "outputId": "7c0884b4-912a-4429-e4f7-24dbdd2d320e"
      },
      "source": [
        "# Early Stopping Parameters\n",
        "early_stopper = EarlyStopping(monitor = 'val_loss', patience = 20)\n",
        "# Model fit\n",
        "history = model.fit(X_train, y_train, epochs=100, batch_size=50, validation_split=0.20, callbacks = [early_stopper])"
      ],
      "execution_count": null,
      "outputs": [
        {
          "output_type": "stream",
          "text": [
            "Epoch 1/100\n",
            "11/11 [==============================] - 1s 66ms/step - loss: 9.7655 - accuracy: 0.2136 - val_loss: 260.5747 - val_accuracy: 0.1008\n",
            "Epoch 2/100\n",
            "11/11 [==============================] - 0s 43ms/step - loss: 8.5974 - accuracy: 0.3631 - val_loss: 96.9366 - val_accuracy: 0.1008\n",
            "Epoch 3/100\n",
            "11/11 [==============================] - 0s 41ms/step - loss: 6.4069 - accuracy: 0.4311 - val_loss: 20.1351 - val_accuracy: 0.1550\n",
            "Epoch 4/100\n",
            "11/11 [==============================] - 0s 41ms/step - loss: 3.6727 - accuracy: 0.5301 - val_loss: 4.1036 - val_accuracy: 0.3566\n",
            "Epoch 5/100\n",
            "11/11 [==============================] - 0s 40ms/step - loss: 3.1823 - accuracy: 0.5961 - val_loss: 3.7620 - val_accuracy: 0.3101\n",
            "Epoch 6/100\n",
            "11/11 [==============================] - 0s 41ms/step - loss: 2.4283 - accuracy: 0.6039 - val_loss: 3.7512 - val_accuracy: 0.3178\n",
            "Epoch 7/100\n",
            "11/11 [==============================] - 0s 41ms/step - loss: 1.5248 - accuracy: 0.7398 - val_loss: 4.0886 - val_accuracy: 0.3488\n",
            "Epoch 8/100\n",
            "11/11 [==============================] - 0s 40ms/step - loss: 1.2570 - accuracy: 0.7612 - val_loss: 3.6317 - val_accuracy: 0.2248\n",
            "Epoch 9/100\n",
            "11/11 [==============================] - 0s 41ms/step - loss: 0.9820 - accuracy: 0.8058 - val_loss: 3.8368 - val_accuracy: 0.2171\n",
            "Epoch 10/100\n",
            "11/11 [==============================] - 0s 41ms/step - loss: 0.7509 - accuracy: 0.8699 - val_loss: 4.0288 - val_accuracy: 0.2403\n",
            "Epoch 11/100\n",
            "11/11 [==============================] - 0s 41ms/step - loss: 0.5920 - accuracy: 0.8660 - val_loss: 5.6725 - val_accuracy: 0.2326\n",
            "Epoch 12/100\n",
            "11/11 [==============================] - 0s 40ms/step - loss: 0.5518 - accuracy: 0.8932 - val_loss: 4.5432 - val_accuracy: 0.2093\n",
            "Epoch 13/100\n",
            "11/11 [==============================] - 0s 41ms/step - loss: 0.5135 - accuracy: 0.8932 - val_loss: 4.4854 - val_accuracy: 0.2093\n",
            "Epoch 14/100\n",
            "11/11 [==============================] - 0s 40ms/step - loss: 0.3444 - accuracy: 0.9301 - val_loss: 4.5099 - val_accuracy: 0.2326\n",
            "Epoch 15/100\n",
            "11/11 [==============================] - 0s 42ms/step - loss: 0.4771 - accuracy: 0.9010 - val_loss: 4.7916 - val_accuracy: 0.2093\n",
            "Epoch 16/100\n",
            "11/11 [==============================] - 0s 40ms/step - loss: 0.3856 - accuracy: 0.9165 - val_loss: 4.7403 - val_accuracy: 0.2713\n",
            "Epoch 17/100\n",
            "11/11 [==============================] - 0s 41ms/step - loss: 0.3089 - accuracy: 0.9282 - val_loss: 5.2081 - val_accuracy: 0.2093\n",
            "Epoch 18/100\n",
            "11/11 [==============================] - 0s 41ms/step - loss: 0.2769 - accuracy: 0.9476 - val_loss: 5.0270 - val_accuracy: 0.2248\n",
            "Epoch 19/100\n",
            "11/11 [==============================] - 0s 43ms/step - loss: 0.2640 - accuracy: 0.9379 - val_loss: 5.0342 - val_accuracy: 0.2403\n",
            "Epoch 20/100\n",
            "11/11 [==============================] - 0s 41ms/step - loss: 0.2425 - accuracy: 0.9456 - val_loss: 5.7657 - val_accuracy: 0.2171\n",
            "Epoch 21/100\n",
            "11/11 [==============================] - 0s 42ms/step - loss: 0.3011 - accuracy: 0.9359 - val_loss: 5.9322 - val_accuracy: 0.2558\n",
            "Epoch 22/100\n",
            "11/11 [==============================] - 0s 41ms/step - loss: 0.2953 - accuracy: 0.9379 - val_loss: 6.7177 - val_accuracy: 0.2868\n",
            "Epoch 23/100\n",
            "11/11 [==============================] - 0s 40ms/step - loss: 0.2852 - accuracy: 0.9515 - val_loss: 5.8185 - val_accuracy: 0.2326\n",
            "Epoch 24/100\n",
            "11/11 [==============================] - 0s 42ms/step - loss: 0.2312 - accuracy: 0.9456 - val_loss: 6.1008 - val_accuracy: 0.2713\n",
            "Epoch 25/100\n",
            "11/11 [==============================] - 0s 41ms/step - loss: 0.2436 - accuracy: 0.9534 - val_loss: 6.5547 - val_accuracy: 0.2481\n",
            "Epoch 26/100\n",
            "11/11 [==============================] - 0s 41ms/step - loss: 0.2744 - accuracy: 0.9417 - val_loss: 8.5252 - val_accuracy: 0.2326\n",
            "Epoch 27/100\n",
            "11/11 [==============================] - 0s 42ms/step - loss: 0.1508 - accuracy: 0.9573 - val_loss: 8.0001 - val_accuracy: 0.2248\n",
            "Epoch 28/100\n",
            "11/11 [==============================] - 0s 41ms/step - loss: 0.1494 - accuracy: 0.9553 - val_loss: 9.3221 - val_accuracy: 0.2403\n"
          ],
          "name": "stdout"
        }
      ]
    },
    {
      "cell_type": "code",
      "metadata": {
        "id": "A2gzDwv10IcN",
        "colab_type": "code",
        "colab": {
          "base_uri": "https://localhost:8080/",
          "height": 68
        },
        "outputId": "bce9218a-f457-4def-99e4-c834e746f16b"
      },
      "source": [
        "# evaluate the model\n",
        "_, train_acc = model.evaluate(X_train, y_train)\n",
        "_, test_acc = model.evaluate(X_test, y_test)\n",
        "print('Train: %.3f, Test: %.3f' % (train_acc, test_acc))"
      ],
      "execution_count": null,
      "outputs": [
        {
          "output_type": "stream",
          "text": [
            "21/21 [==============================] - 0s 11ms/step - loss: 1.9067 - accuracy: 0.8339\n",
            "6/6 [==============================] - 0s 12ms/step - loss: 10.7507 - accuracy: 0.2050\n",
            "Train: 0.834, Test: 0.205\n"
          ],
          "name": "stdout"
        }
      ]
    },
    {
      "cell_type": "code",
      "metadata": {
        "id": "ctsTXXU0szYG",
        "colab_type": "code",
        "colab": {
          "base_uri": "https://localhost:8080/",
          "height": 276
        },
        "outputId": "961196af-f274-4cd8-b4f3-bde6225f2905"
      },
      "source": [
        "plt.figure(1, figsize = (15,8)) \n",
        "    \n",
        "plt.subplot(221)  \n",
        "plt.plot(history.history['accuracy'])  \n",
        "plt.plot(history.history['val_accuracy'])  \n",
        "plt.title('model accuracy')  \n",
        "plt.ylabel('accuracy')  \n",
        "plt.xlabel('epoch')  \n",
        "plt.legend(['train', 'valid']) \n",
        "    \n",
        "plt.subplot(222)  \n",
        "plt.plot(history.history['loss'])  \n",
        "plt.plot(history.history['val_loss'])  \n",
        "plt.title('model loss')  \n",
        "plt.ylabel('loss')  \n",
        "plt.xlabel('epoch')  \n",
        "plt.legend(['train', 'valid']) \n",
        "\n",
        "plt.show()"
      ],
      "execution_count": null,
      "outputs": [
        {
          "output_type": "display_data",
          "data": {
            "image/png": "[encoded data removed]",
            "text/plain": [
              "<Figure size 1080x576 with 2 Axes>"
            ]
          },
          "metadata": {
            "tags": [],
            "needs_background": "light"
          }
        }
      ]
    },
    {
      "cell_type": "code",
      "metadata": {
        "id": "R-yPwQ8H8orf",
        "colab_type": "code",
        "colab": {
          "base_uri": "https://localhost:8080/",
          "height": 85
        },
        "outputId": "d4ef8f7d-76a6-435a-f5b3-8436b9748982"
      },
      "source": [
        "model_cv = KerasClassifier(build_fn=create_model, epochs=100, batch_size=50, verbose=0)\n",
        "kfold = KFold(n_splits=10, shuffle=True, random_state=42)\n",
        "results = cross_val_score(model_cv,X_train, y_train,cv=kfold,verbose=10, n_jobs = -1)"
      ],
      "execution_count": null,
      "outputs": [
        {
          "output_type": "stream",
          "text": [
            "[Parallel(n_jobs=-1)]: Using backend LokyBackend with 2 concurrent workers.\n",
            "[Parallel(n_jobs=-1)]: Done   1 tasks      | elapsed:  1.6min\n",
            "[Parallel(n_jobs=-1)]: Done   4 tasks      | elapsed:  3.0min\n",
            "[Parallel(n_jobs=-1)]: Done  10 out of  10 | elapsed:  7.3min finished\n"
          ],
          "name": "stderr"
        }
      ]
    },
    {
      "cell_type": "code",
      "metadata": {
        "id": "RTAYGf8Ot8og",
        "colab_type": "code",
        "colab": {
          "base_uri": "https://localhost:8080/",
          "height": 68
        },
        "outputId": "3ab6cdd5-85d9-4c44-8b83-ce0a356e88ba"
      },
      "source": [
        "print(results)\n",
        "print()"
      ],
      "execution_count": null,
      "outputs": [
        {
          "output_type": "stream",
          "text": [
            "[0.26153848 0.24615385 0.21538462 0.23076923 0.328125   0.3125\n",
            " 0.296875   0.34375    0.265625   0.296875  ]\n",
            "\n"
          ],
          "name": "stdout"
        }
      ]
    },
    {
      "cell_type": "markdown",
      "metadata": {
        "id": "ZhcfpnuQ0X5H",
        "colab_type": "text"
      },
      "source": [
        "Noticed above that for every fold results are vary a lot from 21% to 34%. Now lets train the model on augmented data"
      ]
    },
    {
      "cell_type": "markdown",
      "metadata": {
        "id": "awWZrNaM2ySw",
        "colab_type": "text"
      },
      "source": [
        "## **Keras Model on Augmented Data**"
      ]
    },
    {
      "cell_type": "code",
      "metadata": {
        "id": "wfDAG-lW211P",
        "colab_type": "code",
        "colab": {}
      },
      "source": [
        "data_path = \"/content/drive/My Drive/trainDataTACO/\"\n",
        "csv_path = \"/content/drive/My Drive/FinalData.csv\""
      ],
      "execution_count": null,
      "outputs": []
    },
    {
      "cell_type": "code",
      "metadata": {
        "id": "OqjpfEHA3CWC",
        "colab_type": "code",
        "colab": {}
      },
      "source": [
        "data = pd.read_csv(csv_path)"
      ],
      "execution_count": null,
      "outputs": []
    },
    {
      "cell_type": "markdown",
      "metadata": {
        "id": "5_2K5YI43QVF",
        "colab_type": "text"
      },
      "source": [
        "Generate array on Augmented data"
      ]
    },
    {
      "cell_type": "code",
      "metadata": {
        "id": "8bSftYZ522lY",
        "colab_type": "code",
        "colab": {}
      },
      "source": [
        "train_data = []  \n",
        "newsize = (128, 128)\n",
        "for ind in data.index:\n",
        "    img=Image.open(os.path.join( data_path + data['filename'][ind]))\n",
        "    img = img.resize(newsize,Image.ANTIALIAS)\n",
        "    img = image.img_to_array(img)\n",
        "    # Append image\n",
        "    train_data.append(img)"
      ],
      "execution_count": null,
      "outputs": []
    },
    {
      "cell_type": "code",
      "metadata": {
        "id": "dOqFls8M2W-U",
        "colab_type": "code",
        "colab": {}
      },
      "source": [
        "# Data\n",
        "X_data = np.array(train_data)"
      ],
      "execution_count": null,
      "outputs": []
    },
    {
      "cell_type": "code",
      "metadata": {
        "id": "hoec2oOw2cP5",
        "colab_type": "code",
        "colab": {}
      },
      "source": [
        "# Drop file names and create Labels array\n",
        "data = pd.get_dummies(data, columns=[\"category\"])"
      ],
      "execution_count": null,
      "outputs": []
    },
    {
      "cell_type": "code",
      "metadata": {
        "id": "-Cz5MwchRBAD",
        "colab_type": "code",
        "colab": {
          "base_uri": "https://localhost:8080/",
          "height": 406
        },
        "outputId": "22ee13fe-e45d-42b1-c51b-c073bb8d6c1f"
      },
      "source": [
        "data"
      ],
      "execution_count": null,
      "outputs": [
        {
          "output_type": "execute_result",
          "data": {
            "text/html": [
              "<div>\n",
              "<style scoped>\n",
              "    .dataframe tbody tr th:only-of-type {\n",
              "        vertical-align: middle;\n",
              "    }\n",
              "\n",
              "    .dataframe tbody tr th {\n",
              "        vertical-align: top;\n",
              "    }\n",
              "\n",
              "    .dataframe thead th {\n",
              "        text-align: right;\n",
              "    }\n",
              "</style>\n",
              "<table border=\"1\" class=\"dataframe\">\n",
              "  <thead>\n",
              "    <tr style=\"text-align: right;\">\n",
              "      <th></th>\n",
              "      <th>filename</th>\n",
              "      <th>category_Cigarette</th>\n",
              "      <th>category_Clear plastic bottle</th>\n",
              "      <th>category_Drink can</th>\n",
              "      <th>category_Plastic film</th>\n",
              "      <th>category_Plastic straw</th>\n",
              "    </tr>\n",
              "  </thead>\n",
              "  <tbody>\n",
              "    <tr>\n",
              "      <th>0</th>\n",
              "      <td>batch_1/000010cropped.jpg</td>\n",
              "      <td>0</td>\n",
              "      <td>1</td>\n",
              "      <td>0</td>\n",
              "      <td>0</td>\n",
              "      <td>0</td>\n",
              "    </tr>\n",
              "    <tr>\n",
              "      <th>1</th>\n",
              "      <td>batch_1/000010rotated.jpg</td>\n",
              "      <td>0</td>\n",
              "      <td>1</td>\n",
              "      <td>0</td>\n",
              "      <td>0</td>\n",
              "      <td>0</td>\n",
              "    </tr>\n",
              "    <tr>\n",
              "      <th>2</th>\n",
              "      <td>batch_1/000010blur.jpg</td>\n",
              "      <td>0</td>\n",
              "      <td>1</td>\n",
              "      <td>0</td>\n",
              "      <td>0</td>\n",
              "      <td>0</td>\n",
              "    </tr>\n",
              "    <tr>\n",
              "      <th>3</th>\n",
              "      <td>batch_1/000010hflip.jpg</td>\n",
              "      <td>0</td>\n",
              "      <td>1</td>\n",
              "      <td>0</td>\n",
              "      <td>0</td>\n",
              "      <td>0</td>\n",
              "    </tr>\n",
              "    <tr>\n",
              "      <th>4</th>\n",
              "      <td>batch_1/000001cropped.jpg</td>\n",
              "      <td>0</td>\n",
              "      <td>1</td>\n",
              "      <td>0</td>\n",
              "      <td>0</td>\n",
              "      <td>0</td>\n",
              "    </tr>\n",
              "    <tr>\n",
              "      <th>...</th>\n",
              "      <td>...</td>\n",
              "      <td>...</td>\n",
              "      <td>...</td>\n",
              "      <td>...</td>\n",
              "      <td>...</td>\n",
              "      <td>...</td>\n",
              "    </tr>\n",
              "    <tr>\n",
              "      <th>3437</th>\n",
              "      <td>batch_9/000096cropped.jpg</td>\n",
              "      <td>0</td>\n",
              "      <td>0</td>\n",
              "      <td>0</td>\n",
              "      <td>0</td>\n",
              "      <td>1</td>\n",
              "    </tr>\n",
              "    <tr>\n",
              "      <th>3438</th>\n",
              "      <td>batch_9/000096rotated.jpg</td>\n",
              "      <td>0</td>\n",
              "      <td>0</td>\n",
              "      <td>0</td>\n",
              "      <td>0</td>\n",
              "      <td>1</td>\n",
              "    </tr>\n",
              "    <tr>\n",
              "      <th>3439</th>\n",
              "      <td>batch_9/000096blur.jpg</td>\n",
              "      <td>0</td>\n",
              "      <td>0</td>\n",
              "      <td>0</td>\n",
              "      <td>0</td>\n",
              "      <td>1</td>\n",
              "    </tr>\n",
              "    <tr>\n",
              "      <th>3440</th>\n",
              "      <td>batch_9/000096hflip.jpg</td>\n",
              "      <td>0</td>\n",
              "      <td>0</td>\n",
              "      <td>0</td>\n",
              "      <td>0</td>\n",
              "      <td>1</td>\n",
              "    </tr>\n",
              "    <tr>\n",
              "      <th>3441</th>\n",
              "      <td>batch_9/000096vflip.jpg</td>\n",
              "      <td>0</td>\n",
              "      <td>0</td>\n",
              "      <td>0</td>\n",
              "      <td>0</td>\n",
              "      <td>1</td>\n",
              "    </tr>\n",
              "  </tbody>\n",
              "</table>\n",
              "<p>3442 rows × 6 columns</p>\n",
              "</div>"
            ],
            "text/plain": [
              "                       filename  ...  category_Plastic straw\n",
              "0     batch_1/000010cropped.jpg  ...                       0\n",
              "1     batch_1/000010rotated.jpg  ...                       0\n",
              "2        batch_1/000010blur.jpg  ...                       0\n",
              "3       batch_1/000010hflip.jpg  ...                       0\n",
              "4     batch_1/000001cropped.jpg  ...                       0\n",
              "...                         ...  ...                     ...\n",
              "3437  batch_9/000096cropped.jpg  ...                       1\n",
              "3438  batch_9/000096rotated.jpg  ...                       1\n",
              "3439     batch_9/000096blur.jpg  ...                       1\n",
              "3440    batch_9/000096hflip.jpg  ...                       1\n",
              "3441    batch_9/000096vflip.jpg  ...                       1\n",
              "\n",
              "[3442 rows x 6 columns]"
            ]
          },
          "metadata": {
            "tags": []
          },
          "execution_count": 11
        }
      ]
    },
    {
      "cell_type": "code",
      "metadata": {
        "id": "GHQ0KAJk28Ez",
        "colab_type": "code",
        "colab": {
          "base_uri": "https://localhost:8080/",
          "height": 52
        },
        "outputId": "2d6bab0b-c126-4440-e20d-c46374082a4a"
      },
      "source": [
        "Y_labels = np.array(data.drop(['filename'],axis=1))\n",
        "# Data split Randomly\n",
        "x_train, x_test, Y_train, Y_test = train_test_split(X_data, Y_labels, random_state=42, test_size=0.2, stratify = Y_labels)\n",
        "# Print Array shapes\n",
        "print(x_train.shape)\n",
        "print(Y_train.shape)"
      ],
      "execution_count": null,
      "outputs": [
        {
          "output_type": "stream",
          "text": [
            "(2753, 128, 128, 3)\n",
            "(2753, 5)\n"
          ],
          "name": "stdout"
        }
      ]
    },
    {
      "cell_type": "code",
      "metadata": {
        "id": "ORZi8a0sdEFQ",
        "colab_type": "code",
        "colab": {
          "base_uri": "https://localhost:8080/",
          "height": 407
        },
        "outputId": "9abf51ac-4644-4912-9a92-b8cb55db8219"
      },
      "source": [
        "new_model = create_model()\n",
        "new_model.summary()"
      ],
      "execution_count": null,
      "outputs": [
        {
          "output_type": "stream",
          "text": [
            "Model: \"sequential_25\"\n",
            "_________________________________________________________________\n",
            "Layer (type)                 Output Shape              Param #   \n",
            "=================================================================\n",
            "conv2d_25 (Conv2D)           (None, 126, 126, 32)      896       \n",
            "_________________________________________________________________\n",
            "dropout_63 (Dropout)         (None, 126, 126, 32)      0         \n",
            "_________________________________________________________________\n",
            "batch_normalization_25 (Batc (None, 126, 126, 32)      128       \n",
            "_________________________________________________________________\n",
            "dropout_64 (Dropout)         (None, 126, 126, 32)      0         \n",
            "_________________________________________________________________\n",
            "flatten_25 (Flatten)         (None, 508032)            0         \n",
            "_________________________________________________________________\n",
            "dropout_65 (Dropout)         (None, 508032)            0         \n",
            "_________________________________________________________________\n",
            "dense_22 (Dense)             (None, 5)                 2540165   \n",
            "=================================================================\n",
            "Total params: 2,541,189\n",
            "Trainable params: 2,541,125\n",
            "Non-trainable params: 64\n",
            "_________________________________________________________________\n"
          ],
          "name": "stdout"
        }
      ]
    },
    {
      "cell_type": "code",
      "metadata": {
        "id": "gufAv_eM4Lgq",
        "colab_type": "code",
        "colab": {
          "base_uri": "https://localhost:8080/",
          "height": 870
        },
        "outputId": "e18ee0ca-c618-4814-b23f-4308e1827486"
      },
      "source": [
        "# Early Stopping Parameters\n",
        "early_stopper = EarlyStopping(monitor = 'val_loss', patience = 20)\n",
        "# Model fit\n",
        "history_final = new_model.fit(x_train, Y_train, epochs=100, batch_size=50, validation_split=0.20, callbacks = [early_stopper])"
      ],
      "execution_count": null,
      "outputs": [
        {
          "output_type": "stream",
          "text": [
            "Epoch 1/100\n",
            "45/45 [==============================] - 2s 44ms/step - loss: 11.3603 - accuracy: 0.3243 - val_loss: 17.3524 - val_accuracy: 0.2686\n",
            "Epoch 2/100\n",
            "45/45 [==============================] - 2s 40ms/step - loss: 6.5233 - accuracy: 0.5014 - val_loss: 6.5735 - val_accuracy: 0.4283\n",
            "Epoch 3/100\n",
            "45/45 [==============================] - 2s 40ms/step - loss: 4.8598 - accuracy: 0.6131 - val_loss: 8.5632 - val_accuracy: 0.4319\n",
            "Epoch 4/100\n",
            "45/45 [==============================] - 2s 40ms/step - loss: 4.6905 - accuracy: 0.6403 - val_loss: 5.9089 - val_accuracy: 0.5499\n",
            "Epoch 5/100\n",
            "45/45 [==============================] - 2s 40ms/step - loss: 4.6060 - accuracy: 0.6685 - val_loss: 7.1256 - val_accuracy: 0.4483\n",
            "Epoch 6/100\n",
            "45/45 [==============================] - 2s 40ms/step - loss: 3.7272 - accuracy: 0.7125 - val_loss: 6.8462 - val_accuracy: 0.4900\n",
            "Epoch 7/100\n",
            "45/45 [==============================] - 2s 40ms/step - loss: 3.2696 - accuracy: 0.7298 - val_loss: 8.0518 - val_accuracy: 0.4882\n",
            "Epoch 8/100\n",
            "45/45 [==============================] - 2s 40ms/step - loss: 3.0403 - accuracy: 0.7548 - val_loss: 7.6126 - val_accuracy: 0.4828\n",
            "Epoch 9/100\n",
            "45/45 [==============================] - 2s 40ms/step - loss: 2.1203 - accuracy: 0.8124 - val_loss: 6.1683 - val_accuracy: 0.5009\n",
            "Epoch 10/100\n",
            "45/45 [==============================] - 2s 40ms/step - loss: 1.7941 - accuracy: 0.8043 - val_loss: 6.2277 - val_accuracy: 0.5662\n",
            "Epoch 11/100\n",
            "45/45 [==============================] - 2s 40ms/step - loss: 1.7345 - accuracy: 0.8097 - val_loss: 6.3128 - val_accuracy: 0.5608\n",
            "Epoch 12/100\n",
            "45/45 [==============================] - 2s 40ms/step - loss: 1.2752 - accuracy: 0.8547 - val_loss: 7.0563 - val_accuracy: 0.5535\n",
            "Epoch 13/100\n",
            "45/45 [==============================] - 2s 40ms/step - loss: 1.9690 - accuracy: 0.8256 - val_loss: 7.1042 - val_accuracy: 0.5626\n",
            "Epoch 14/100\n",
            "45/45 [==============================] - 2s 40ms/step - loss: 1.7214 - accuracy: 0.8333 - val_loss: 7.5215 - val_accuracy: 0.5644\n",
            "Epoch 15/100\n",
            "45/45 [==============================] - 2s 40ms/step - loss: 1.2138 - accuracy: 0.8674 - val_loss: 6.8417 - val_accuracy: 0.5826\n",
            "Epoch 16/100\n",
            "45/45 [==============================] - 2s 40ms/step - loss: 1.2610 - accuracy: 0.8742 - val_loss: 8.3209 - val_accuracy: 0.5426\n",
            "Epoch 17/100\n",
            "45/45 [==============================] - 2s 40ms/step - loss: 1.0211 - accuracy: 0.8751 - val_loss: 9.0434 - val_accuracy: 0.5354\n",
            "Epoch 18/100\n",
            "45/45 [==============================] - 2s 40ms/step - loss: 1.2885 - accuracy: 0.8624 - val_loss: 8.9461 - val_accuracy: 0.5281\n",
            "Epoch 19/100\n",
            "45/45 [==============================] - 2s 40ms/step - loss: 1.1268 - accuracy: 0.8828 - val_loss: 9.0656 - val_accuracy: 0.5100\n",
            "Epoch 20/100\n",
            "45/45 [==============================] - 2s 40ms/step - loss: 1.9245 - accuracy: 0.8229 - val_loss: 9.4173 - val_accuracy: 0.5499\n",
            "Epoch 21/100\n",
            "45/45 [==============================] - 2s 41ms/step - loss: 1.0281 - accuracy: 0.8960 - val_loss: 8.2963 - val_accuracy: 0.5735\n",
            "Epoch 22/100\n",
            "45/45 [==============================] - 2s 40ms/step - loss: 0.7497 - accuracy: 0.9055 - val_loss: 8.5269 - val_accuracy: 0.5681\n",
            "Epoch 23/100\n",
            "45/45 [==============================] - 2s 40ms/step - loss: 0.7457 - accuracy: 0.9110 - val_loss: 8.2347 - val_accuracy: 0.5608\n",
            "Epoch 24/100\n",
            "45/45 [==============================] - 2s 40ms/step - loss: 0.6099 - accuracy: 0.9192 - val_loss: 8.5353 - val_accuracy: 0.5717\n"
          ],
          "name": "stdout"
        }
      ]
    },
    {
      "cell_type": "code",
      "metadata": {
        "id": "Djal_TwBd_s4",
        "colab_type": "code",
        "colab": {
          "base_uri": "https://localhost:8080/",
          "height": 70
        },
        "outputId": "e597aeb5-2a5b-4a8b-efc8-4751228266bc"
      },
      "source": [
        "# evaluate the model\n",
        "_, train_acc = new_model.evaluate(x_train, Y_train)\n",
        "_, test_acc = new_model.evaluate(x_test, Y_test)\n",
        "print('Train: %.3f, Test: %.3f' % (train_acc, test_acc))"
      ],
      "execution_count": null,
      "outputs": [
        {
          "output_type": "stream",
          "text": [
            "87/87 [==============================] - 1s 7ms/step - loss: 1.7602 - accuracy: 0.8987\n",
            "22/22 [==============================] - 0s 6ms/step - loss: 8.4582 - accuracy: 0.5951\n",
            "Train: 0.899, Test: 0.595\n"
          ],
          "name": "stdout"
        }
      ]
    },
    {
      "cell_type": "code",
      "metadata": {
        "id": "MFRrXwTovsrq",
        "colab_type": "code",
        "colab": {
          "base_uri": "https://localhost:8080/",
          "height": 275
        },
        "outputId": "f1b8e97c-b392-46f2-f3f2-7e8713a05419"
      },
      "source": [
        "plt.figure(1, figsize = (15,8)) \n",
        "    \n",
        "plt.subplot(221)  \n",
        "plt.plot(history_final.history['accuracy'])  \n",
        "plt.plot(history_final.history['val_accuracy'])  \n",
        "plt.title('model accuracy')  \n",
        "plt.ylabel('accuracy')  \n",
        "plt.xlabel('epoch')  \n",
        "plt.legend(['train', 'valid']) \n",
        "    \n",
        "plt.subplot(222)  \n",
        "plt.plot(history_final.history['loss'])  \n",
        "plt.plot(history_final.history['val_loss'])  \n",
        "plt.title('model loss')  \n",
        "plt.ylabel('loss')  \n",
        "plt.xlabel('epoch')  \n",
        "plt.legend(['train', 'valid']) \n",
        "\n",
        "plt.show()"
      ],
      "execution_count": null,
      "outputs": [
        {
          "output_type": "display_data",
          "data": {
            "image/png": "[encoded data removed]",
            "text/plain": [
              "<Figure size 1080x576 with 2 Axes>"
            ]
          },
          "metadata": {
            "tags": [],
            "needs_background": "light"
          }
        }
      ]
    },
    {
      "cell_type": "markdown",
      "metadata": {
        "id": "2sFlx3YXuXXf",
        "colab_type": "text"
      },
      "source": [
        "**Use K-Fold technique to see overfitting of newly created Model**"
      ]
    },
    {
      "cell_type": "code",
      "metadata": {
        "id": "8sWT4qEzoIIl",
        "colab_type": "code",
        "colab": {
          "base_uri": "https://localhost:8080/",
          "height": 567
        },
        "outputId": "691e9f22-fb2c-4cf1-a56b-0ec482c89fa4"
      },
      "source": [
        "model_cv = KerasClassifier(build_fn=create_model, epochs=50, batch_size=50, verbose=0)\n",
        "kfold = KFold(n_splits=10, shuffle=True, random_state=42)\n",
        "results1 = cross_val_score(model_cv,x_train, Y_train,cv=kfold,verbose=10)"
      ],
      "execution_count": null,
      "outputs": [
        {
          "output_type": "stream",
          "text": [
            "[Parallel(n_jobs=1)]: Using backend SequentialBackend with 1 concurrent workers.\n"
          ],
          "name": "stderr"
        },
        {
          "output_type": "stream",
          "text": [
            "[CV]  ................................................................\n",
            "[CV] .................................... , score=0.620, total= 1.5min\n",
            "[CV]  ................................................................\n"
          ],
          "name": "stdout"
        },
        {
          "output_type": "stream",
          "text": [
            "[Parallel(n_jobs=1)]: Done   1 out of   1 | elapsed:  1.5min remaining:    0.0s\n"
          ],
          "name": "stderr"
        },
        {
          "output_type": "stream",
          "text": [
            "[CV] .................................... , score=0.605, total= 1.5min\n",
            "[CV]  ................................................................\n"
          ],
          "name": "stdout"
        },
        {
          "output_type": "stream",
          "text": [
            "[Parallel(n_jobs=1)]: Done   2 out of   2 | elapsed:  3.0min remaining:    0.0s\n"
          ],
          "name": "stderr"
        },
        {
          "output_type": "stream",
          "text": [
            "[CV] .................................... , score=0.630, total= 1.5min\n",
            "[CV]  ................................................................\n"
          ],
          "name": "stdout"
        },
        {
          "output_type": "stream",
          "text": [
            "[Parallel(n_jobs=1)]: Done   3 out of   3 | elapsed:  4.5min remaining:    0.0s\n"
          ],
          "name": "stderr"
        },
        {
          "output_type": "stream",
          "text": [
            "[CV] .................................... , score=0.662, total= 1.5min\n",
            "[CV]  ................................................................\n"
          ],
          "name": "stdout"
        },
        {
          "output_type": "stream",
          "text": [
            "[Parallel(n_jobs=1)]: Done   4 out of   4 | elapsed:  6.0min remaining:    0.0s\n"
          ],
          "name": "stderr"
        },
        {
          "output_type": "stream",
          "text": [
            "[CV] .................................... , score=0.625, total= 1.5min\n",
            "[CV]  ................................................................\n"
          ],
          "name": "stdout"
        },
        {
          "output_type": "stream",
          "text": [
            "[Parallel(n_jobs=1)]: Done   5 out of   5 | elapsed:  7.5min remaining:    0.0s\n"
          ],
          "name": "stderr"
        },
        {
          "output_type": "stream",
          "text": [
            "[CV] .................................... , score=0.585, total= 1.5min\n",
            "[CV]  ................................................................\n"
          ],
          "name": "stdout"
        },
        {
          "output_type": "stream",
          "text": [
            "[Parallel(n_jobs=1)]: Done   6 out of   6 | elapsed:  9.0min remaining:    0.0s\n"
          ],
          "name": "stderr"
        },
        {
          "output_type": "stream",
          "text": [
            "[CV] .................................... , score=0.596, total= 1.5min\n",
            "[CV]  ................................................................\n"
          ],
          "name": "stdout"
        },
        {
          "output_type": "stream",
          "text": [
            "[Parallel(n_jobs=1)]: Done   7 out of   7 | elapsed: 10.6min remaining:    0.0s\n"
          ],
          "name": "stderr"
        },
        {
          "output_type": "stream",
          "text": [
            "[CV] .................................... , score=0.618, total= 1.5min\n",
            "[CV]  ................................................................\n"
          ],
          "name": "stdout"
        },
        {
          "output_type": "stream",
          "text": [
            "[Parallel(n_jobs=1)]: Done   8 out of   8 | elapsed: 12.1min remaining:    0.0s\n"
          ],
          "name": "stderr"
        },
        {
          "output_type": "stream",
          "text": [
            "[CV] .................................... , score=0.578, total= 1.5min\n",
            "[CV]  ................................................................\n"
          ],
          "name": "stdout"
        },
        {
          "output_type": "stream",
          "text": [
            "[Parallel(n_jobs=1)]: Done   9 out of   9 | elapsed: 13.6min remaining:    0.0s\n"
          ],
          "name": "stderr"
        },
        {
          "output_type": "stream",
          "text": [
            "[CV] .................................... , score=0.604, total= 1.5min\n"
          ],
          "name": "stdout"
        },
        {
          "output_type": "stream",
          "text": [
            "[Parallel(n_jobs=1)]: Done  10 out of  10 | elapsed: 15.1min finished\n"
          ],
          "name": "stderr"
        }
      ]
    },
    {
      "cell_type": "code",
      "metadata": {
        "id": "ukHfC1KfvJx4",
        "colab_type": "code",
        "colab": {
          "base_uri": "https://localhost:8080/",
          "height": 87
        },
        "outputId": "868af065-137e-43c2-f27d-1f38c4d16e8e"
      },
      "source": [
        "print(results1)\n",
        "print()\n",
        "print(\"Baseline: %.2f%% (%.2f%%)\" % (results1.mean()*100, results1.std()*100))"
      ],
      "execution_count": null,
      "outputs": [
        {
          "output_type": "stream",
          "text": [
            "[0.61956519 0.60507244 0.63043481 0.66181821 0.62545455 0.58545452\n",
            " 0.59636366 0.61818182 0.5781818  0.60363638]\n",
            "\n",
            "Baseline: 61.24% (2.30%)\n"
          ],
          "name": "stdout"
        }
      ]
    }
  ]
}