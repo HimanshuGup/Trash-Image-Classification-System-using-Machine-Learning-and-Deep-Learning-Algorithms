{
 "cells": [
  {
   "cell_type": "markdown",
   "metadata": {},
   "source": [
    "IMplementation of VGG 19 on my Custom Taco Dataset.\n",
    "\n",
    "Referred from the VGG19 pretrained model for Fashion dataset FMNIST\n",
    "https://github.com/khanhnamle1994/fashion-mnist/blob/master/VGG19-GPU.ipynb"
   ]
  },
  {
   "cell_type": "code",
   "execution_count": 182,
   "metadata": {},
   "outputs": [],
   "source": [
    "%matplotlib inline\n",
    "import json\n",
    "import numpy as np\n",
    "import pandas as pd\n",
    "import matplotlib.pyplot as plt\n",
    "import seaborn as sns; sns.set() \n",
    "from matplotlib import pyplot\n",
    "\n",
    "# Data Processing \n",
    "import os\n",
    "import os.path\n",
    "import random\n",
    "import PIL\n",
    "import glob\n",
    "from PIL import Image # to read images\n"
   ]
  },
  {
   "cell_type": "code",
   "execution_count": 183,
   "metadata": {},
   "outputs": [],
   "source": [
    "# For Data Spltting\n",
    "from sklearn.model_selection import train_test_split\n",
    "# Import classifiers and performance metrics\n",
    "from sklearn import svm, metrics"
   ]
  },
  {
   "cell_type": "code",
   "execution_count": 184,
   "metadata": {},
   "outputs": [],
   "source": [
    "#For Keras model\n",
    "import keras\n",
    "from keras.models import Sequential\n",
    "from keras.layers import Dense, Dropout, Flatten, Activation, BatchNormalization\n",
    "from keras.layers import Conv2D, MaxPooling2D\n",
    "from keras.utils import to_categorical\n",
    "from keras.preprocessing import image\n",
    "from keras.preprocessing.image import img_to_array, array_to_img\n",
    "from keras.applications import VGG19\n",
    "from keras.applications.vgg19 import preprocess_input\n",
    "import tensorflow as tf"
   ]
  },
  {
   "cell_type": "markdown",
   "metadata": {},
   "source": [
    "### Dataset Preparation "
   ]
  },
  {
   "cell_type": "code",
   "execution_count": 320,
   "metadata": {},
   "outputs": [],
   "source": [
    "dataset_path = './data'\n",
    "anns_file_path = dataset_path + '/' + 'annotations.json'"
   ]
  },
  {
   "cell_type": "code",
   "execution_count": 321,
   "metadata": {},
   "outputs": [],
   "source": [
    "# Read Annotations\n",
    "with open(anns_file_path , 'r') as f:\n",
    "    dataset = json.loads(f.read())"
   ]
  },
  {
   "cell_type": "code",
   "execution_count": 322,
   "metadata": {},
   "outputs": [
    {
     "name": "stdout",
     "output_type": "stream",
     "text": [
      "1500\n"
     ]
    }
   ],
   "source": [
    "categories = dataset['categories']\n",
    "anns = dataset['annotations']\n",
    "imgs = dataset['images']\n",
    "nr_cats = len(categories)\n",
    "nr_annotations = len(anns)\n",
    "nr_images = len(imgs)\n",
    "\n",
    "print(nr_images) # Total Number of images"
   ]
  },
  {
   "cell_type": "code",
   "execution_count": 323,
   "metadata": {},
   "outputs": [],
   "source": [
    "# category Dataframe and  Select 'six new Category(ouput classes)' for category Dataframe\n",
    "cat_df = pd.DataFrame(categories)\n",
    "keyValList = ['Cigarette','Clear plastic bottle','Drink can','Plastic straw','Glass bottle']\n",
    "category_df = pd.DataFrame([d for d in categories if d['name'] in keyValList])\n",
    "\n",
    "# Annotation Dataframe\n",
    "ann_df = pd.DataFrame(anns)\n",
    "# Images Dataframe\n",
    "image_df = pd.DataFrame(imgs)"
   ]
  },
  {
   "cell_type": "code",
   "execution_count": 324,
   "metadata": {},
   "outputs": [],
   "source": [
    "# Dropping unncessary columns for Keras fundamental CNN model\n",
    "category_df = category_df.drop(['supercategory'], axis = 1)\n",
    "image_df = image_df.drop(['license','flickr_url','coco_url','date_captured','flickr_640_url'], axis=1)\n",
    "ann_df = ann_df.drop(['id'], axis=1)"
   ]
  },
  {
   "cell_type": "code",
   "execution_count": 325,
   "metadata": {},
   "outputs": [
    {
     "data": {
      "text/html": [
       "<div>\n",
       "<style scoped>\n",
       "    .dataframe tbody tr th:only-of-type {\n",
       "        vertical-align: middle;\n",
       "    }\n",
       "\n",
       "    .dataframe tbody tr th {\n",
       "        vertical-align: top;\n",
       "    }\n",
       "\n",
       "    .dataframe thead th {\n",
       "        text-align: right;\n",
       "    }\n",
       "</style>\n",
       "<table border=\"1\" class=\"dataframe\">\n",
       "  <thead>\n",
       "    <tr style=\"text-align: right;\">\n",
       "      <th></th>\n",
       "      <th>filename</th>\n",
       "      <th>segmentation</th>\n",
       "      <th>area</th>\n",
       "      <th>bbox</th>\n",
       "      <th>iscrowd</th>\n",
       "      <th>category</th>\n",
       "    </tr>\n",
       "  </thead>\n",
       "  <tbody>\n",
       "    <tr>\n",
       "      <th>0</th>\n",
       "      <td>batch_1/000006.jpg</td>\n",
       "      <td>[[561.0, 1238.0, 568.0, 1201.0, 567.0, 1175.0,...</td>\n",
       "      <td>403954.0</td>\n",
       "      <td>[517.0, 127.0, 447.0, 1322.0]</td>\n",
       "      <td>0</td>\n",
       "      <td>Glass bottle</td>\n",
       "    </tr>\n",
       "    <tr>\n",
       "      <th>1</th>\n",
       "      <td>batch_1/000012.jpg</td>\n",
       "      <td>[[481.0, 1148.0, 505.0, 1163.0, 519.0, 1172.0,...</td>\n",
       "      <td>43489.0</td>\n",
       "      <td>[379.0, 1127.0, 425.0, 318.0]</td>\n",
       "      <td>0</td>\n",
       "      <td>Glass bottle</td>\n",
       "    </tr>\n",
       "    <tr>\n",
       "      <th>2</th>\n",
       "      <td>batch_1/000048.jpg</td>\n",
       "      <td>[[586.0, 820.0, 581.0, 851.0, 579.0, 889.0, 58...</td>\n",
       "      <td>324005.0</td>\n",
       "      <td>[211.0, 1.0, 417.0, 1417.0]</td>\n",
       "      <td>0</td>\n",
       "      <td>Glass bottle</td>\n",
       "    </tr>\n",
       "    <tr>\n",
       "      <th>3</th>\n",
       "      <td>batch_1/000021.jpg</td>\n",
       "      <td>[[1001.0, 867.0, 1163.0, 905.0, 1199.0, 913.0,...</td>\n",
       "      <td>95494.5</td>\n",
       "      <td>[852.0, 638.0, 687.0, 291.0]</td>\n",
       "      <td>0</td>\n",
       "      <td>Glass bottle</td>\n",
       "    </tr>\n",
       "    <tr>\n",
       "      <th>4</th>\n",
       "      <td>batch_1/000022.jpg</td>\n",
       "      <td>[[919.0, 1125.0, 968.0, 1111.0, 1000.0, 1100.0...</td>\n",
       "      <td>142823.0</td>\n",
       "      <td>[647.0, 1033.0, 820.0, 376.0]</td>\n",
       "      <td>0</td>\n",
       "      <td>Glass bottle</td>\n",
       "    </tr>\n",
       "  </tbody>\n",
       "</table>\n",
       "</div>"
      ],
      "text/plain": [
       "             filename                                       segmentation  \\\n",
       "0  batch_1/000006.jpg  [[561.0, 1238.0, 568.0, 1201.0, 567.0, 1175.0,...   \n",
       "1  batch_1/000012.jpg  [[481.0, 1148.0, 505.0, 1163.0, 519.0, 1172.0,...   \n",
       "2  batch_1/000048.jpg  [[586.0, 820.0, 581.0, 851.0, 579.0, 889.0, 58...   \n",
       "3  batch_1/000021.jpg  [[1001.0, 867.0, 1163.0, 905.0, 1199.0, 913.0,...   \n",
       "4  batch_1/000022.jpg  [[919.0, 1125.0, 968.0, 1111.0, 1000.0, 1100.0...   \n",
       "\n",
       "       area                           bbox  iscrowd      category  \n",
       "0  403954.0  [517.0, 127.0, 447.0, 1322.0]        0  Glass bottle  \n",
       "1   43489.0  [379.0, 1127.0, 425.0, 318.0]        0  Glass bottle  \n",
       "2  324005.0    [211.0, 1.0, 417.0, 1417.0]        0  Glass bottle  \n",
       "3   95494.5   [852.0, 638.0, 687.0, 291.0]        0  Glass bottle  \n",
       "4  142823.0  [647.0, 1033.0, 820.0, 376.0]        0  Glass bottle  "
      ]
     },
     "execution_count": 325,
     "metadata": {},
     "output_type": "execute_result"
    }
   ],
   "source": [
    "merged_img_ann_df = pd.merge(left=image_df, right=ann_df, left_on='id', right_on='image_id')\n",
    "final_merged_df = pd.merge(left=merged_img_ann_df, right=category_df, left_on='category_id', right_on='id') \n",
    "final_merged_df = final_merged_df.drop(['id_x','id_y','category_id','image_id','width','height'], axis = 1 )\n",
    "final_merged_df = final_merged_df.rename(columns={\"file_name\": \"filename\", \"name\": \"category\"})\n",
    "final_merged_df.head()"
   ]
  },
  {
   "cell_type": "code",
   "execution_count": 326,
   "metadata": {},
   "outputs": [],
   "source": [
    "# New Dataframe with selective columns\n",
    "df = final_merged_df[['filename','bbox','category']]"
   ]
  },
  {
   "cell_type": "code",
   "execution_count": 327,
   "metadata": {},
   "outputs": [],
   "source": [
    "# storing bounding box values as seperate columns\n",
    "df = pd.concat([df , df['bbox'].apply(pd.Series)], axis = 1)\n",
    "df.columns = ['filename','bbox','category', 'x_min','y_min','x_max', 'y_max'] # x_max : width and y_max : height\n",
    "df = df.drop(['bbox',], axis=1)"
   ]
  },
  {
   "cell_type": "code",
   "execution_count": 328,
   "metadata": {},
   "outputs": [],
   "source": [
    "# Calculate maximum x and maximum y points\n",
    "df['x_max'] = df['x_max']+df['x_min']\n",
    "df['y_max'] = df['y_max']+df['y_min']\n",
    "# Convert float columns to integer\n",
    "for col in  df.columns[2:]:\n",
    "    df[col] = df[col].astype(int)\n",
    "    "
   ]
  },
  {
   "cell_type": "code",
   "execution_count": 329,
   "metadata": {},
   "outputs": [
    {
     "data": {
      "text/plain": [
       "<matplotlib.axes._subplots.AxesSubplot at 0x7f9822b90a90>"
      ]
     },
     "execution_count": 329,
     "metadata": {},
     "output_type": "execute_result"
    },
    {
     "data": {
      "image/png": "[encoded data removed]",
      "text/plain": [
       "<Figure size 432x288 with 1 Axes>"
      ]
     },
     "metadata": {
      "needs_background": "light"
     },
     "output_type": "display_data"
    }
   ],
   "source": [
    "df['category'].value_counts().plot.bar()"
   ]
  },
  {
   "cell_type": "code",
   "execution_count": 330,
   "metadata": {},
   "outputs": [
    {
     "name": "stdout",
     "output_type": "stream",
     "text": [
      "<class 'pandas.core.frame.DataFrame'>\n",
      "Int64Index: 1442 entries, 0 to 1441\n",
      "Data columns (total 6 columns):\n",
      " #   Column    Non-Null Count  Dtype \n",
      "---  ------    --------------  ----- \n",
      " 0   filename  1442 non-null   object\n",
      " 1   category  1442 non-null   object\n",
      " 2   x_min     1442 non-null   int64 \n",
      " 3   y_min     1442 non-null   int64 \n",
      " 4   x_max     1442 non-null   int64 \n",
      " 5   y_max     1442 non-null   int64 \n",
      "dtypes: int64(4), object(2)\n",
      "memory usage: 78.9+ KB\n",
      "None\n"
     ]
    }
   ],
   "source": [
    "print(df.info())"
   ]
  },
  {
   "cell_type": "code",
   "execution_count": 313,
   "metadata": {},
   "outputs": [],
   "source": [
    "# Data splitting into train and test data and keep this test data aside for model prediction\n",
    "train_df, test_df = train_test_split(df, test_size=0.10, random_state=42)\n",
    "train_df = train_df.reset_index(drop=True)\n",
    "test_df = test_df.reset_index(drop=True)"
   ]
  },
  {
   "cell_type": "code",
   "execution_count": 314,
   "metadata": {},
   "outputs": [
    {
     "name": "stdout",
     "output_type": "stream",
     "text": [
      "<class 'pandas.core.frame.DataFrame'>\n",
      "RangeIndex: 1297 entries, 0 to 1296\n",
      "Data columns (total 6 columns):\n",
      " #   Column    Non-Null Count  Dtype \n",
      "---  ------    --------------  ----- \n",
      " 0   filename  1297 non-null   object\n",
      " 1   category  1297 non-null   object\n",
      " 2   x_min     1297 non-null   int64 \n",
      " 3   y_min     1297 non-null   int64 \n",
      " 4   x_max     1297 non-null   int64 \n",
      " 5   y_max     1297 non-null   int64 \n",
      "dtypes: int64(4), object(2)\n",
      "memory usage: 60.9+ KB\n",
      "None\n",
      "    \n",
      "<class 'pandas.core.frame.DataFrame'>\n",
      "RangeIndex: 145 entries, 0 to 144\n",
      "Data columns (total 6 columns):\n",
      " #   Column    Non-Null Count  Dtype \n",
      "---  ------    --------------  ----- \n",
      " 0   filename  145 non-null    object\n",
      " 1   category  145 non-null    object\n",
      " 2   x_min     145 non-null    int64 \n",
      " 3   y_min     145 non-null    int64 \n",
      " 4   x_max     145 non-null    int64 \n",
      " 5   y_max     145 non-null    int64 \n",
      "dtypes: int64(4), object(2)\n",
      "memory usage: 6.9+ KB\n",
      "None\n"
     ]
    }
   ],
   "source": [
    "print(train_df.info())\n",
    "print(\"    \")\n",
    "print(test_df.info())"
   ]
  },
  {
   "cell_type": "markdown",
   "metadata": {},
   "source": [
    "### Fetch, crop and store image data\n"
   ]
  },
  {
   "cell_type": "code",
   "execution_count": 331,
   "metadata": {},
   "outputs": [],
   "source": [
    "# Reading all the images from multiple folders and added to the list\n",
    "folders = glob.glob(dataset_path +'//*')\n",
    "imagenames_list = []\n",
    "for folder in folders:\n",
    "    for f in glob.glob(folder+'/*'):   \n",
    "        imagenames_list.append(f)"
   ]
  },
  {
   "cell_type": "markdown",
   "metadata": {},
   "source": [
    "For train data"
   ]
  },
  {
   "cell_type": "code",
   "execution_count": 332,
   "metadata": {},
   "outputs": [],
   "source": [
    "train_data = []  \n",
    "for ind in df.index:\n",
    "    bbox = (df['x_min'][ind],df['y_min'][ind],df['x_max'][ind],df['y_max'][ind])\n",
    "    img=Image.open(os.path.join(dataset_path,df['filename'][ind]))\n",
    "    img=img.crop(bbox)\n",
    "    img = img.resize((150, 150), Image.ANTIALIAS)\n",
    "    img = image.img_to_array(img)\n",
    "    train_data.append(img)\n",
    "\n",
    "X = np.array(train_data)"
   ]
  },
  {
   "cell_type": "markdown",
   "metadata": {},
   "source": [
    "For test data"
   ]
  },
  {
   "cell_type": "code",
   "execution_count": 239,
   "metadata": {},
   "outputs": [],
   "source": [
    "test_data = []  \n",
    "for ind in test_df.index:\n",
    "    bbox = (test_df['x_min'][ind],test_df['y_min'][ind],test_df['x_max'][ind],test_df['y_max'][ind])\n",
    "    img=Image.open(os.path.join(dataset_path,test_df['filename'][ind]))\n",
    "    img=img.crop(bbox)\n",
    "    img = img.resize((150, 150), Image.ANTIALIAS)\n",
    "    img = image.img_to_array(img)\n",
    "    test_data.append(img)\n",
    "\n",
    "X_test = np.array(test_data)\n"
   ]
  },
  {
   "cell_type": "code",
   "execution_count": 333,
   "metadata": {},
   "outputs": [
    {
     "data": {
      "text/plain": [
       "(1442, 150, 150, 3)"
      ]
     },
     "execution_count": 333,
     "metadata": {},
     "output_type": "execute_result"
    }
   ],
   "source": [
    "X.shape"
   ]
  },
  {
   "cell_type": "markdown",
   "metadata": {},
   "source": [
    "As we have already fetched the cropped images, drop bounding boxed columns from the dataframe"
   ]
  },
  {
   "cell_type": "code",
   "execution_count": 334,
   "metadata": {},
   "outputs": [],
   "source": [
    "#train_df = train_df.drop(['x_min','x_max','y_min','y_max'], axis=1)\n",
    "df = df.drop(['x_min','x_max','y_min','y_max'], axis=1)"
   ]
  },
  {
   "cell_type": "markdown",
   "metadata": {},
   "source": [
    "Convert categorical variables into dummy variables"
   ]
  },
  {
   "cell_type": "code",
   "execution_count": 335,
   "metadata": {},
   "outputs": [],
   "source": [
    "#train_df = pd.get_dummies(train_df, columns=[\"category\"])\n",
    "df = pd.get_dummies(df, columns=[\"category\"])"
   ]
  },
  {
   "cell_type": "markdown",
   "metadata": {},
   "source": [
    "Drop the filename from the dataframe"
   ]
  },
  {
   "cell_type": "code",
   "execution_count": 336,
   "metadata": {},
   "outputs": [],
   "source": [
    "y = np.array(df.drop(['filename'],axis=1))"
   ]
  },
  {
   "cell_type": "markdown",
   "metadata": {},
   "source": [
    "Resize the images as 150 * 150 as required by VGG19"
   ]
  },
  {
   "cell_type": "code",
   "execution_count": 337,
   "metadata": {},
   "outputs": [
    {
     "data": {
      "text/plain": [
       "(1442, 150, 150, 3)"
      ]
     },
     "execution_count": 337,
     "metadata": {},
     "output_type": "execute_result"
    }
   ],
   "source": [
    "X = np.asarray([img_to_array(array_to_img(im, scale=False).resize((150,150))) for im in X])\n",
    "\n",
    "# Display the new shape\n",
    "X.shape"
   ]
  },
  {
   "cell_type": "code",
   "execution_count": 338,
   "metadata": {},
   "outputs": [],
   "source": [
    "# Normalise the data and change data type\n",
    "X = X.astype('float32')\n",
    "X /= 255"
   ]
  },
  {
   "cell_type": "code",
   "execution_count": 339,
   "metadata": {},
   "outputs": [
    {
     "data": {
      "text/plain": [
       "((1297, 150, 150, 3), (145, 150, 150, 3), (1297, 5), (145, 5))"
      ]
     },
     "execution_count": 339,
     "metadata": {},
     "output_type": "execute_result"
    }
   ],
   "source": [
    "# Here I split original training data to sub-training (80%) and validation data (20%)\n",
    "X_train, X_test, y_train, y_test = train_test_split(X, y, random_state=13, test_size=0.1)\n",
    "\n",
    "# Check the data size whether it is as per tensorflow and VGG19 requirement\n",
    "X_train.shape, X_test.shape, y_train.shape, y_test.shape"
   ]
  },
  {
   "cell_type": "markdown",
   "metadata": {},
   "source": [
    "### keras VGG19 implementation"
   ]
  },
  {
   "cell_type": "code",
   "execution_count": 340,
   "metadata": {},
   "outputs": [],
   "source": [
    "# Create the base model of VGG19\n",
    "vgg19 = VGG19(weights='imagenet', include_top=False, input_shape = (150, 150, 3), classes = 5)"
   ]
  },
  {
   "cell_type": "code",
   "execution_count": 341,
   "metadata": {},
   "outputs": [
    {
     "name": "stdout",
     "output_type": "stream",
     "text": [
      "Model: \"vgg19\"\n",
      "_________________________________________________________________\n",
      "Layer (type)                 Output Shape              Param #   \n",
      "=================================================================\n",
      "input_9 (InputLayer)         (None, 150, 150, 3)       0         \n",
      "_________________________________________________________________\n",
      "block1_conv1 (Conv2D)        (None, 150, 150, 64)      1792      \n",
      "_________________________________________________________________\n",
      "block1_conv2 (Conv2D)        (None, 150, 150, 64)      36928     \n",
      "_________________________________________________________________\n",
      "block1_pool (MaxPooling2D)   (None, 75, 75, 64)        0         \n",
      "_________________________________________________________________\n",
      "block2_conv1 (Conv2D)        (None, 75, 75, 128)       73856     \n",
      "_________________________________________________________________\n",
      "block2_conv2 (Conv2D)        (None, 75, 75, 128)       147584    \n",
      "_________________________________________________________________\n",
      "block2_pool (MaxPooling2D)   (None, 37, 37, 128)       0         \n",
      "_________________________________________________________________\n",
      "block3_conv1 (Conv2D)        (None, 37, 37, 256)       295168    \n",
      "_________________________________________________________________\n",
      "block3_conv2 (Conv2D)        (None, 37, 37, 256)       590080    \n",
      "_________________________________________________________________\n",
      "block3_conv3 (Conv2D)        (None, 37, 37, 256)       590080    \n",
      "_________________________________________________________________\n",
      "block3_conv4 (Conv2D)        (None, 37, 37, 256)       590080    \n",
      "_________________________________________________________________\n",
      "block3_pool (MaxPooling2D)   (None, 18, 18, 256)       0         \n",
      "_________________________________________________________________\n",
      "block4_conv1 (Conv2D)        (None, 18, 18, 512)       1180160   \n",
      "_________________________________________________________________\n",
      "block4_conv2 (Conv2D)        (None, 18, 18, 512)       2359808   \n",
      "_________________________________________________________________\n",
      "block4_conv3 (Conv2D)        (None, 18, 18, 512)       2359808   \n",
      "_________________________________________________________________\n",
      "block4_conv4 (Conv2D)        (None, 18, 18, 512)       2359808   \n",
      "_________________________________________________________________\n",
      "block4_pool (MaxPooling2D)   (None, 9, 9, 512)         0         \n",
      "_________________________________________________________________\n",
      "block5_conv1 (Conv2D)        (None, 9, 9, 512)         2359808   \n",
      "_________________________________________________________________\n",
      "block5_conv2 (Conv2D)        (None, 9, 9, 512)         2359808   \n",
      "_________________________________________________________________\n",
      "block5_conv3 (Conv2D)        (None, 9, 9, 512)         2359808   \n",
      "_________________________________________________________________\n",
      "block5_conv4 (Conv2D)        (None, 9, 9, 512)         2359808   \n",
      "_________________________________________________________________\n",
      "block5_pool (MaxPooling2D)   (None, 4, 4, 512)         0         \n",
      "=================================================================\n",
      "Total params: 20,024,384\n",
      "Trainable params: 20,024,384\n",
      "Non-trainable params: 0\n",
      "_________________________________________________________________\n"
     ]
    }
   ],
   "source": [
    "vgg19.summary()"
   ]
  },
  {
   "cell_type": "code",
   "execution_count": 342,
   "metadata": {},
   "outputs": [],
   "source": [
    "# Preprocessing the input \n",
    "X_train = preprocess_input(X_train)\n",
    "X_test = preprocess_input(X_test)"
   ]
  },
  {
   "cell_type": "code",
   "execution_count": 343,
   "metadata": {},
   "outputs": [
    {
     "name": "stdout",
     "output_type": "stream",
     "text": [
      "1297/1297 [==============================] - 231s 178ms/step\n",
      "145/145 [==============================] - 22s 149ms/step\n"
     ]
    }
   ],
   "source": [
    "# Extracting features\n",
    "train_features = vgg19.predict(np.array(X_train), batch_size=30, verbose=1)\n",
    "test_features = vgg19.predict(np.array(X_test), batch_size=30, verbose=1)"
   ]
  },
  {
   "cell_type": "code",
   "execution_count": 344,
   "metadata": {},
   "outputs": [],
   "source": [
    "# Saving the features so that they can be used for future\n",
    "np.savez(\"train_features\", train_features, y_train)\n",
    "np.savez(\"test_features\", test_features, y_test)"
   ]
  },
  {
   "cell_type": "code",
   "execution_count": 345,
   "metadata": {},
   "outputs": [
    {
     "name": "stdout",
     "output_type": "stream",
     "text": [
      "(1297, 4, 4, 512) \n",
      " (145, 4, 4, 512)\n"
     ]
    }
   ],
   "source": [
    "# Current shape of features\n",
    "print(train_features.shape, \"\\n\",  test_features.shape)"
   ]
  },
  {
   "cell_type": "code",
   "execution_count": 346,
   "metadata": {},
   "outputs": [],
   "source": [
    "# Flatten extracted features\n",
    "train_features = np.reshape(train_features, (1297, 4*4*512))\n",
    "test_features = np.reshape(test_features, (145, 4*4*512))"
   ]
  },
  {
   "cell_type": "code",
   "execution_count": 347,
   "metadata": {},
   "outputs": [
    {
     "data": {
      "text/plain": [
       "array([[0., 0., 0., ..., 0., 0., 0.],\n",
       "       [0., 0., 0., ..., 0., 0., 0.],\n",
       "       [0., 0., 0., ..., 0., 0., 0.],\n",
       "       ...,\n",
       "       [0., 0., 0., ..., 0., 0., 0.],\n",
       "       [0., 0., 0., ..., 0., 0., 0.],\n",
       "       [0., 0., 0., ..., 0., 0., 0.]], dtype=float32)"
      ]
     },
     "execution_count": 347,
     "metadata": {},
     "output_type": "execute_result"
    }
   ],
   "source": [
    "test_features"
   ]
  },
  {
   "cell_type": "markdown",
   "metadata": {},
   "source": [
    "Model implementation"
   ]
  },
  {
   "cell_type": "code",
   "execution_count": 348,
   "metadata": {},
   "outputs": [],
   "source": [
    "# Add Dense and Dropout layers on top of VGG19 pre-trained\n",
    "model = models.Sequential()\n",
    "model.add(layers.Dense(512, activation='relu', input_dim=4 * 4 * 512))\n",
    "model.add(layers.Dropout(0.5))\n",
    "model.add(Dense(128, activation='relu'))\n",
    "model.add(Dropout(0.5))\n",
    "model.add(Dense(64, activation='relu'))\n",
    "model.add(Dropout(0.5))\n",
    "model.add(layers.Dense(5, activation=\"softmax\"))"
   ]
  },
  {
   "cell_type": "code",
   "execution_count": 349,
   "metadata": {},
   "outputs": [
    {
     "name": "stdout",
     "output_type": "stream",
     "text": [
      "Model: \"sequential_3\"\n",
      "_________________________________________________________________\n",
      "Layer (type)                 Output Shape              Param #   \n",
      "=================================================================\n",
      "dense_7 (Dense)              (None, 512)               4194816   \n",
      "_________________________________________________________________\n",
      "dropout_5 (Dropout)          (None, 512)               0         \n",
      "_________________________________________________________________\n",
      "dense_8 (Dense)              (None, 128)               65664     \n",
      "_________________________________________________________________\n",
      "dropout_6 (Dropout)          (None, 128)               0         \n",
      "_________________________________________________________________\n",
      "dense_9 (Dense)              (None, 64)                8256      \n",
      "_________________________________________________________________\n",
      "dropout_7 (Dropout)          (None, 64)                0         \n",
      "_________________________________________________________________\n",
      "dense_10 (Dense)             (None, 5)                 325       \n",
      "=================================================================\n",
      "Total params: 4,269,061\n",
      "Trainable params: 4,269,061\n",
      "Non-trainable params: 0\n",
      "_________________________________________________________________\n"
     ]
    }
   ],
   "source": [
    "model.summary()"
   ]
  },
  {
   "cell_type": "code",
   "execution_count": 350,
   "metadata": {},
   "outputs": [],
   "source": [
    "# Compile the model\n",
    "model.compile(loss=keras.losses.categorical_crossentropy,\n",
    "              optimizer=keras.optimizers.Adam(),\n",
    "              metrics=['accuracy'])"
   ]
  },
  {
   "cell_type": "markdown",
   "metadata": {},
   "source": [
    "### Training the Model"
   ]
  },
  {
   "cell_type": "code",
   "execution_count": 351,
   "metadata": {},
   "outputs": [
    {
     "name": "stdout",
     "output_type": "stream",
     "text": [
      "Train on 1037 samples, validate on 260 samples\n",
      "Epoch 1/100\n",
      "1037/1037 [==============================] - 1s 1ms/step - loss: 2.5449 - accuracy: 0.2527 - val_loss: 1.4896 - val_accuracy: 0.4654\n",
      "Epoch 2/100\n",
      "1037/1037 [==============================] - 1s 867us/step - loss: 1.5314 - accuracy: 0.3742 - val_loss: 1.4280 - val_accuracy: 0.4654\n",
      "Epoch 3/100\n",
      "1037/1037 [==============================] - 1s 838us/step - loss: 1.4708 - accuracy: 0.4156 - val_loss: 1.4117 - val_accuracy: 0.4654\n",
      "Epoch 4/100\n",
      "1037/1037 [==============================] - 1s 1ms/step - loss: 1.4574 - accuracy: 0.4503 - val_loss: 1.4047 - val_accuracy: 0.4654\n",
      "Epoch 5/100\n",
      "1037/1037 [==============================] - 1s 1ms/step - loss: 1.4393 - accuracy: 0.4609 - val_loss: 1.3859 - val_accuracy: 0.4654\n",
      "Epoch 6/100\n",
      "1037/1037 [==============================] - 1s 860us/step - loss: 1.4107 - accuracy: 0.4619 - val_loss: 1.4031 - val_accuracy: 0.4654\n",
      "Epoch 7/100\n",
      "1037/1037 [==============================] - 1s 862us/step - loss: 1.4322 - accuracy: 0.4629 - val_loss: 1.4085 - val_accuracy: 0.4654\n",
      "Epoch 8/100\n",
      "1037/1037 [==============================] - 1s 882us/step - loss: 1.4207 - accuracy: 0.4638 - val_loss: 1.3750 - val_accuracy: 0.4654\n",
      "Epoch 9/100\n",
      "1037/1037 [==============================] - 1s 1ms/step - loss: 1.4033 - accuracy: 0.4658 - val_loss: 1.3629 - val_accuracy: 0.4654\n",
      "Epoch 10/100\n",
      "1037/1037 [==============================] - 1s 1ms/step - loss: 1.3754 - accuracy: 0.4648 - val_loss: 1.3393 - val_accuracy: 0.4654\n",
      "Epoch 11/100\n",
      "1037/1037 [==============================] - 1s 965us/step - loss: 1.3940 - accuracy: 0.4648 - val_loss: 1.3908 - val_accuracy: 0.4654\n",
      "Epoch 12/100\n",
      "1037/1037 [==============================] - 1s 838us/step - loss: 1.3724 - accuracy: 0.4648 - val_loss: 1.3515 - val_accuracy: 0.4654\n",
      "Epoch 13/100\n",
      "1037/1037 [==============================] - 1s 928us/step - loss: 1.3621 - accuracy: 0.4648 - val_loss: 1.3376 - val_accuracy: 0.4654\n",
      "Epoch 14/100\n",
      "1037/1037 [==============================] - 1s 1ms/step - loss: 1.3646 - accuracy: 0.4648 - val_loss: 1.3260 - val_accuracy: 0.4654\n",
      "Epoch 15/100\n",
      "1037/1037 [==============================] - 1s 907us/step - loss: 1.3595 - accuracy: 0.4648 - val_loss: 1.3670 - val_accuracy: 0.4654\n",
      "Epoch 16/100\n",
      "1037/1037 [==============================] - 1s 1ms/step - loss: 1.3688 - accuracy: 0.4648 - val_loss: 1.3181 - val_accuracy: 0.4654\n",
      "Epoch 17/100\n",
      "1037/1037 [==============================] - 1s 1ms/step - loss: 1.3647 - accuracy: 0.4648 - val_loss: 1.3638 - val_accuracy: 0.4654\n",
      "Epoch 18/100\n",
      "1037/1037 [==============================] - 1s 1ms/step - loss: 1.3829 - accuracy: 0.4648 - val_loss: 1.3393 - val_accuracy: 0.4654\n",
      "Epoch 19/100\n",
      "1037/1037 [==============================] - 1s 1ms/step - loss: 1.3759 - accuracy: 0.4648 - val_loss: 1.3374 - val_accuracy: 0.4654\n",
      "Epoch 20/100\n",
      "1037/1037 [==============================] - 1s 1ms/step - loss: 1.3822 - accuracy: 0.4648 - val_loss: 1.3487 - val_accuracy: 0.4654\n",
      "Epoch 21/100\n",
      "1037/1037 [==============================] - 1s 1ms/step - loss: 1.3778 - accuracy: 0.4648 - val_loss: 1.3251 - val_accuracy: 0.4654\n",
      "Epoch 22/100\n",
      "1037/1037 [==============================] - 1s 1ms/step - loss: 1.3788 - accuracy: 0.4648 - val_loss: 1.3359 - val_accuracy: 0.4654\n",
      "Epoch 23/100\n",
      "1037/1037 [==============================] - 1s 912us/step - loss: 1.3784 - accuracy: 0.4648 - val_loss: 1.3421 - val_accuracy: 0.4654\n",
      "Epoch 24/100\n",
      "1037/1037 [==============================] - 1s 928us/step - loss: 1.3732 - accuracy: 0.4648 - val_loss: 1.3244 - val_accuracy: 0.4654\n",
      "Epoch 25/100\n",
      "1037/1037 [==============================] - 1s 1ms/step - loss: 1.3720 - accuracy: 0.4648 - val_loss: 1.3322 - val_accuracy: 0.4654\n",
      "Epoch 26/100\n",
      "1037/1037 [==============================] - 1s 1ms/step - loss: 1.3760 - accuracy: 0.4648 - val_loss: 1.3467 - val_accuracy: 0.4654\n",
      "Epoch 27/100\n",
      "1037/1037 [==============================] - 1s 1ms/step - loss: 1.3830 - accuracy: 0.4648 - val_loss: 1.3305 - val_accuracy: 0.4654\n",
      "Epoch 28/100\n",
      "1037/1037 [==============================] - 1s 1ms/step - loss: 1.3793 - accuracy: 0.4648 - val_loss: 1.3452 - val_accuracy: 0.4654\n",
      "Epoch 29/100\n",
      "1037/1037 [==============================] - 1s 994us/step - loss: 1.3602 - accuracy: 0.4648 - val_loss: 1.3361 - val_accuracy: 0.4654\n",
      "Epoch 30/100\n",
      "1037/1037 [==============================] - 1s 1ms/step - loss: 1.3543 - accuracy: 0.4648 - val_loss: 1.3152 - val_accuracy: 0.4654\n",
      "Epoch 31/100\n",
      "1037/1037 [==============================] - 1s 1ms/step - loss: 1.3709 - accuracy: 0.4648 - val_loss: 1.3106 - val_accuracy: 0.4654\n",
      "Epoch 32/100\n",
      "1037/1037 [==============================] - 1s 1ms/step - loss: 1.3819 - accuracy: 0.4648 - val_loss: 1.3284 - val_accuracy: 0.4654\n",
      "Epoch 33/100\n",
      "1037/1037 [==============================] - 1s 1ms/step - loss: 1.3755 - accuracy: 0.4648 - val_loss: 1.3481 - val_accuracy: 0.4654\n",
      "Epoch 34/100\n",
      "1037/1037 [==============================] - 1s 939us/step - loss: 1.3749 - accuracy: 0.4648 - val_loss: 1.3406 - val_accuracy: 0.4654\n",
      "Epoch 35/100\n",
      "1037/1037 [==============================] - 1s 1ms/step - loss: 1.3624 - accuracy: 0.4648 - val_loss: 1.3138 - val_accuracy: 0.4654\n",
      "Epoch 36/100\n",
      "1037/1037 [==============================] - 1s 1ms/step - loss: 1.3729 - accuracy: 0.4648 - val_loss: 1.3330 - val_accuracy: 0.4654\n",
      "Epoch 37/100\n",
      "1037/1037 [==============================] - 1s 975us/step - loss: 1.3725 - accuracy: 0.4648 - val_loss: 1.3463 - val_accuracy: 0.4654\n",
      "Epoch 38/100\n",
      "1037/1037 [==============================] - 1s 838us/step - loss: 1.3719 - accuracy: 0.4648 - val_loss: 1.3200 - val_accuracy: 0.4654\n",
      "Epoch 39/100\n",
      "1037/1037 [==============================] - 1s 839us/step - loss: 1.3490 - accuracy: 0.4648 - val_loss: 1.3313 - val_accuracy: 0.4654\n",
      "Epoch 40/100\n",
      "1037/1037 [==============================] - 1s 973us/step - loss: 1.3683 - accuracy: 0.4648 - val_loss: 1.3049 - val_accuracy: 0.4654\n",
      "Epoch 41/100\n",
      "1037/1037 [==============================] - 1s 1ms/step - loss: 1.3811 - accuracy: 0.4648 - val_loss: 1.3743 - val_accuracy: 0.4654\n",
      "Epoch 42/100\n",
      "1037/1037 [==============================] - 1s 1ms/step - loss: 1.3696 - accuracy: 0.4648 - val_loss: 1.3177 - val_accuracy: 0.4654\n",
      "Epoch 43/100\n",
      "1037/1037 [==============================] - 1s 1ms/step - loss: 1.3688 - accuracy: 0.4648 - val_loss: 1.3022 - val_accuracy: 0.4654\n",
      "Epoch 44/100\n",
      "1037/1037 [==============================] - 1s 1ms/step - loss: 1.3939 - accuracy: 0.4648 - val_loss: 1.3184 - val_accuracy: 0.4654\n",
      "Epoch 45/100\n",
      "1037/1037 [==============================] - 1s 1ms/step - loss: 1.3595 - accuracy: 0.4648 - val_loss: 1.3090 - val_accuracy: 0.4654\n",
      "Epoch 46/100\n",
      "1037/1037 [==============================] - 1s 962us/step - loss: 1.3664 - accuracy: 0.4648 - val_loss: 1.3086 - val_accuracy: 0.4654\n",
      "Epoch 47/100\n",
      "1037/1037 [==============================] - 1s 857us/step - loss: 1.3669 - accuracy: 0.4648 - val_loss: 1.3112 - val_accuracy: 0.4654\n",
      "Epoch 48/100\n",
      "1037/1037 [==============================] - 1s 1ms/step - loss: 1.3676 - accuracy: 0.4648 - val_loss: 1.3168 - val_accuracy: 0.4654\n",
      "Epoch 49/100\n",
      "1037/1037 [==============================] - 1s 1ms/step - loss: 1.3538 - accuracy: 0.4648 - val_loss: 1.3141 - val_accuracy: 0.4654\n",
      "Epoch 50/100\n",
      "1037/1037 [==============================] - 1s 1ms/step - loss: 1.3718 - accuracy: 0.4648 - val_loss: 1.3515 - val_accuracy: 0.4654\n",
      "Epoch 51/100\n",
      "1037/1037 [==============================] - 1s 982us/step - loss: 1.3609 - accuracy: 0.4648 - val_loss: 1.3333 - val_accuracy: 0.4654\n",
      "Epoch 52/100\n",
      "1037/1037 [==============================] - 1s 870us/step - loss: 1.3553 - accuracy: 0.4648 - val_loss: 1.3070 - val_accuracy: 0.4654\n",
      "Epoch 53/100\n",
      "1037/1037 [==============================] - 1s 922us/step - loss: 1.3761 - accuracy: 0.4648 - val_loss: 1.2999 - val_accuracy: 0.4654\n",
      "Epoch 54/100\n",
      "1037/1037 [==============================] - 1s 1ms/step - loss: 1.3716 - accuracy: 0.4648 - val_loss: 1.3414 - val_accuracy: 0.4654\n",
      "Epoch 55/100\n",
      "1037/1037 [==============================] - 1s 965us/step - loss: 1.3760 - accuracy: 0.4648 - val_loss: 1.3425 - val_accuracy: 0.4654\n",
      "Epoch 56/100\n"
     ]
    },
    {
     "name": "stdout",
     "output_type": "stream",
     "text": [
      "1037/1037 [==============================] - 1s 884us/step - loss: 1.3566 - accuracy: 0.4648 - val_loss: 1.3075 - val_accuracy: 0.4654\n",
      "Epoch 57/100\n",
      "1037/1037 [==============================] - 1s 926us/step - loss: 1.3510 - accuracy: 0.4648 - val_loss: 1.3070 - val_accuracy: 0.4654\n",
      "Epoch 58/100\n",
      "1037/1037 [==============================] - 1s 889us/step - loss: 1.3642 - accuracy: 0.4648 - val_loss: 1.3283 - val_accuracy: 0.4654\n",
      "Epoch 59/100\n",
      "1037/1037 [==============================] - 1s 1ms/step - loss: 1.3576 - accuracy: 0.4648 - val_loss: 1.2983 - val_accuracy: 0.4654\n",
      "Epoch 60/100\n",
      "1037/1037 [==============================] - 1s 1ms/step - loss: 1.3482 - accuracy: 0.4648 - val_loss: 1.3210 - val_accuracy: 0.4654\n",
      "Epoch 61/100\n",
      "1037/1037 [==============================] - 1s 970us/step - loss: 1.3426 - accuracy: 0.4648 - val_loss: 1.2945 - val_accuracy: 0.4654\n",
      "Epoch 62/100\n",
      "1037/1037 [==============================] - 1s 853us/step - loss: 1.3652 - accuracy: 0.4648 - val_loss: 1.3057 - val_accuracy: 0.4654\n",
      "Epoch 63/100\n",
      "1037/1037 [==============================] - 1s 962us/step - loss: 1.3583 - accuracy: 0.4648 - val_loss: 1.2947 - val_accuracy: 0.4654\n",
      "Epoch 64/100\n",
      "1037/1037 [==============================] - 1s 974us/step - loss: 1.3549 - accuracy: 0.4648 - val_loss: 1.2922 - val_accuracy: 0.4654\n",
      "Epoch 65/100\n",
      "1037/1037 [==============================] - 1s 1ms/step - loss: 1.3465 - accuracy: 0.4648 - val_loss: 1.2899 - val_accuracy: 0.4654\n",
      "Epoch 66/100\n",
      "1037/1037 [==============================] - 1s 951us/step - loss: 1.3621 - accuracy: 0.4648 - val_loss: 1.3166 - val_accuracy: 0.4654\n",
      "Epoch 67/100\n",
      "1037/1037 [==============================] - 1s 997us/step - loss: 1.3711 - accuracy: 0.4648 - val_loss: 1.3041 - val_accuracy: 0.4654\n",
      "Epoch 68/100\n",
      "1037/1037 [==============================] - 1s 1ms/step - loss: 1.3555 - accuracy: 0.4648 - val_loss: 1.3053 - val_accuracy: 0.4654\n",
      "Epoch 69/100\n",
      "1037/1037 [==============================] - 2s 2ms/step - loss: 1.3519 - accuracy: 0.4648 - val_loss: 1.3085 - val_accuracy: 0.4654\n",
      "Epoch 70/100\n",
      "1037/1037 [==============================] - 1s 1ms/step - loss: 1.3617 - accuracy: 0.4648 - val_loss: 1.3087 - val_accuracy: 0.4654\n",
      "Epoch 71/100\n",
      "1037/1037 [==============================] - 1s 1ms/step - loss: 1.3740 - accuracy: 0.4648 - val_loss: 1.3015 - val_accuracy: 0.4654\n",
      "Epoch 72/100\n",
      "1037/1037 [==============================] - 1s 1ms/step - loss: 1.3695 - accuracy: 0.4648 - val_loss: 1.3007 - val_accuracy: 0.4654\n",
      "Epoch 73/100\n",
      "1037/1037 [==============================] - 1s 1ms/step - loss: 1.3571 - accuracy: 0.4648 - val_loss: 1.3221 - val_accuracy: 0.4654\n",
      "Epoch 74/100\n",
      "1037/1037 [==============================] - 1s 1ms/step - loss: 1.3575 - accuracy: 0.4648 - val_loss: 1.3205 - val_accuracy: 0.4654\n",
      "Epoch 75/100\n",
      "1037/1037 [==============================] - 1s 1ms/step - loss: 1.3596 - accuracy: 0.4648 - val_loss: 1.3014 - val_accuracy: 0.4654\n",
      "Epoch 76/100\n",
      "1037/1037 [==============================] - 1s 1ms/step - loss: 1.3637 - accuracy: 0.4648 - val_loss: 1.2910 - val_accuracy: 0.4654\n",
      "Epoch 77/100\n",
      "1037/1037 [==============================] - 1s 1ms/step - loss: 1.3567 - accuracy: 0.4648 - val_loss: 1.2995 - val_accuracy: 0.4654\n",
      "Epoch 78/100\n",
      "1037/1037 [==============================] - 1s 1ms/step - loss: 1.3540 - accuracy: 0.4648 - val_loss: 1.2889 - val_accuracy: 0.4654\n",
      "Epoch 79/100\n",
      "1037/1037 [==============================] - 1s 906us/step - loss: 1.3553 - accuracy: 0.4648 - val_loss: 1.3090 - val_accuracy: 0.4654\n",
      "Epoch 80/100\n",
      "1037/1037 [==============================] - 1s 1ms/step - loss: 1.3523 - accuracy: 0.4648 - val_loss: 1.2912 - val_accuracy: 0.4654\n",
      "Epoch 81/100\n",
      "1037/1037 [==============================] - 1s 975us/step - loss: 1.3666 - accuracy: 0.4648 - val_loss: 1.2877 - val_accuracy: 0.4654\n",
      "Epoch 82/100\n",
      "1037/1037 [==============================] - 1s 921us/step - loss: 1.3443 - accuracy: 0.4648 - val_loss: 1.2957 - val_accuracy: 0.4654\n",
      "Epoch 83/100\n",
      "1037/1037 [==============================] - 1s 921us/step - loss: 1.3509 - accuracy: 0.4648 - val_loss: 1.3067 - val_accuracy: 0.4654\n",
      "Epoch 84/100\n",
      "1037/1037 [==============================] - 1s 890us/step - loss: 1.3644 - accuracy: 0.4648 - val_loss: 1.3167 - val_accuracy: 0.4654\n",
      "Epoch 85/100\n",
      "1037/1037 [==============================] - 1s 913us/step - loss: 1.3446 - accuracy: 0.4648 - val_loss: 1.2993 - val_accuracy: 0.4654\n",
      "Epoch 86/100\n",
      "1037/1037 [==============================] - 1s 1ms/step - loss: 1.3651 - accuracy: 0.4648 - val_loss: 1.3457 - val_accuracy: 0.4654\n",
      "Epoch 87/100\n",
      "1037/1037 [==============================] - 1s 930us/step - loss: 1.3611 - accuracy: 0.4648 - val_loss: 1.3044 - val_accuracy: 0.4654\n",
      "Epoch 88/100\n",
      "1037/1037 [==============================] - 1s 885us/step - loss: 1.3552 - accuracy: 0.4648 - val_loss: 1.3036 - val_accuracy: 0.4654\n",
      "Epoch 89/100\n",
      "1037/1037 [==============================] - 1s 917us/step - loss: 1.3635 - accuracy: 0.4648 - val_loss: 1.2886 - val_accuracy: 0.4654\n",
      "Epoch 90/100\n",
      "1037/1037 [==============================] - 1s 929us/step - loss: 1.3653 - accuracy: 0.4648 - val_loss: 1.3113 - val_accuracy: 0.4654\n",
      "Epoch 91/100\n",
      "1037/1037 [==============================] - 1s 1ms/step - loss: 1.3609 - accuracy: 0.4648 - val_loss: 1.2879 - val_accuracy: 0.4654\n",
      "Epoch 92/100\n",
      "1037/1037 [==============================] - 1s 954us/step - loss: 1.3658 - accuracy: 0.4648 - val_loss: 1.2982 - val_accuracy: 0.4654\n",
      "Epoch 93/100\n",
      "1037/1037 [==============================] - 1s 1ms/step - loss: 1.3593 - accuracy: 0.4648 - val_loss: 1.2945 - val_accuracy: 0.4654\n",
      "Epoch 94/100\n",
      "1037/1037 [==============================] - 1s 906us/step - loss: 1.3619 - accuracy: 0.4648 - val_loss: 1.2898 - val_accuracy: 0.4654\n",
      "Epoch 95/100\n",
      "1037/1037 [==============================] - 1s 939us/step - loss: 1.3502 - accuracy: 0.4648 - val_loss: 1.3045 - val_accuracy: 0.4654\n",
      "Epoch 96/100\n",
      "1037/1037 [==============================] - 1s 1ms/step - loss: 1.3564 - accuracy: 0.4648 - val_loss: 1.3391 - val_accuracy: 0.4654\n",
      "Epoch 97/100\n",
      "1037/1037 [==============================] - 1s 956us/step - loss: 1.3490 - accuracy: 0.4648 - val_loss: 1.2908 - val_accuracy: 0.4654\n",
      "Epoch 98/100\n",
      "1037/1037 [==============================] - 1s 920us/step - loss: 1.3532 - accuracy: 0.4648 - val_loss: 1.2936 - val_accuracy: 0.4654\n",
      "Epoch 99/100\n",
      "1037/1037 [==============================] - 1s 969us/step - loss: 1.3668 - accuracy: 0.4648 - val_loss: 1.2874 - val_accuracy: 0.4654\n",
      "Epoch 100/100\n",
      "1037/1037 [==============================] - 1s 940us/step - loss: 1.3397 - accuracy: 0.4648 - val_loss: 1.3083 - val_accuracy: 0.4654\n"
     ]
    }
   ],
   "source": [
    "# Train the the model\n",
    "history = model.fit(train_features, y_train,\n",
    "          batch_size=30,\n",
    "          epochs=100,\n",
    "          verbose=1,\n",
    "          validation_split=0.2)"
   ]
  },
  {
   "cell_type": "code",
   "execution_count": 352,
   "metadata": {},
   "outputs": [
    {
     "name": "stdout",
     "output_type": "stream",
     "text": [
      "Test loss: 1.3151687104126504\n",
      "Test accuracy: 0.4413793087005615\n"
     ]
    }
   ],
   "source": [
    "\n",
    "score = model.evaluate(test_features, y_test, verbose=0)\n",
    "print('Test loss:', score[0])\n",
    "print('Test accuracy:', score[1])"
   ]
  },
  {
   "cell_type": "code",
   "execution_count": 353,
   "metadata": {},
   "outputs": [
    {
     "data": {
      "image/png": "[encoded data removed]",
      "text/plain": [
       "<Figure size 432x288 with 1 Axes>"
      ]
     },
     "metadata": {
      "needs_background": "light"
     },
     "output_type": "display_data"
    },
    {
     "data": {
      "image/png": "[encoded data removed]",
      "text/plain": [
       "<Figure size 432x288 with 1 Axes>"
      ]
     },
     "metadata": {
      "needs_background": "light"
     },
     "output_type": "display_data"
    }
   ],
   "source": [
    "# plot the loss and accuracy\n",
    "import matplotlib.pyplot as plt\n",
    "%matplotlib inline\n",
    "\n",
    "acc = history.history['accuracy']\n",
    "val_acc = history.history['val_accuracy']\n",
    "loss = history.history['loss']\n",
    "val_loss = history.history['val_loss']\n",
    "epochs = range(1, len(acc) + 1)\n",
    "\n",
    "plt.title('Training and validation accuracy')\n",
    "plt.plot(epochs, acc, 'red', label='Training accuracy')\n",
    "plt.plot(epochs, val_acc, 'blue', label='Validation accuracy')\n",
    "plt.legend()\n",
    "\n",
    "plt.figure()\n",
    "plt.title('Training and validation loss')\n",
    "plt.plot(epochs, loss, 'red', label='Training loss')\n",
    "plt.plot(epochs, val_loss, 'blue', label='Validation loss')\n",
    "\n",
    "plt.legend()\n",
    "\n",
    "plt.show()"
   ]
  },
  {
   "cell_type": "markdown",
   "metadata": {},
   "source": [
    "### Model Prediction Class Wise"
   ]
  },
  {
   "cell_type": "code",
   "execution_count": 358,
   "metadata": {},
   "outputs": [],
   "source": [
    "classes = np.array(df.columns[1:])\n",
    "proba = model.predict(test_features)"
   ]
  },
  {
   "cell_type": "code",
   "execution_count": 359,
   "metadata": {},
   "outputs": [
    {
     "name": "stdout",
     "output_type": "stream",
     "text": [
      "category_Glass bottle (0.103)\n",
      "category_Plastic straw (0.125)\n",
      "category_Drink can (0.174)\n",
      "category_Clear plastic bottle (0.218)\n",
      "category_Cigarette (0.381)\n"
     ]
    }
   ],
   "source": [
    "all_5 = np.argsort(proba[0])\n",
    "for i in range(5):\n",
    "    print(\"{}\".format(classes[all_5[i]])+\" ({:.3})\".format(proba[0][all_5[i]]))"
   ]
  },
  {
   "cell_type": "code",
   "execution_count": 362,
   "metadata": {},
   "outputs": [],
   "source": []
  }
 ],
 "metadata": {
  "kernelspec": {
   "display_name": "Python 3",
   "language": "python",
   "name": "python3"
  },
  "language_info": {
   "codemirror_mode": {
    "name": "ipython",
    "version": 3
   },
   "file_extension": ".py",
   "mimetype": "text/x-python",
   "name": "python",
   "nbconvert_exporter": "python",
   "pygments_lexer": "ipython3",
   "version": "3.7.7"
  }
 },
 "nbformat": 4,
 "nbformat_minor": 4
}
