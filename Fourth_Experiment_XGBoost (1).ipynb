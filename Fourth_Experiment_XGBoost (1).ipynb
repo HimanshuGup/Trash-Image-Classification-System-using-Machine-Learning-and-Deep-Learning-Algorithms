{
  "nbformat": 4,
  "nbformat_minor": 0,
  "metadata": {
    "colab": {
      "name": "Fourth_Experiment_XGBoost.ipynb",
      "provenance": [],
      "collapsed_sections": []
    },
    "kernelspec": {
      "name": "python3",
      "display_name": "Python 3"
    },
    "accelerator": "GPU"
  },
  "cells": [
    {
      "cell_type": "code",
      "metadata": {
        "id": "Xa6SLJ4FgYNe",
        "colab_type": "code",
        "colab": {
          "base_uri": "https://localhost:8080/",
          "height": 88
        },
        "outputId": "d8a0fac2-6b90-44e2-8e28-dd852f42bfe2"
      },
      "source": [
        "# Install XGBoost if not avaialble\n",
        "!sudo pip install xgboost\n",
        "import tensorflow as tf\n",
        "tf.test.gpu_device_name()"
      ],
      "execution_count": 68,
      "outputs": [
        {
          "output_type": "stream",
          "text": [
            "Requirement already satisfied: xgboost in /usr/local/lib/python3.6/dist-packages (0.90)\n",
            "Requirement already satisfied: numpy in /usr/local/lib/python3.6/dist-packages (from xgboost) (1.18.5)\n",
            "Requirement already satisfied: scipy in /usr/local/lib/python3.6/dist-packages (from xgboost) (1.4.1)\n"
          ],
          "name": "stdout"
        },
        {
          "output_type": "execute_result",
          "data": {
            "application/vnd.google.colaboratory.intrinsic+json": {
              "type": "string"
            },
            "text/plain": [
              "''"
            ]
          },
          "metadata": {
            "tags": []
          },
          "execution_count": 68
        }
      ]
    },
    {
      "cell_type": "markdown",
      "metadata": {
        "id": "P3aeL5VVJWK1",
        "colab_type": "text"
      },
      "source": [
        "Import Required Libraries"
      ]
    },
    {
      "cell_type": "code",
      "metadata": {
        "id": "en-mqOs-XBBk",
        "colab_type": "code",
        "colab": {}
      },
      "source": [
        "import pandas as pd\n",
        "import numpy as np\n",
        "# Data Processing \n",
        "import os\n",
        "import os.path\n",
        "import random\n",
        "import PIL\n",
        "from PIL import Image # to read images\n",
        "# Import XGBoost\n",
        "import xgboost as xgb\n",
        "# Import image pre processor from keras\n",
        "from keras.preprocessing import image\n",
        "from sklearn import metrics\n",
        "from sklearn.model_selection import train_test_split\n",
        "np.random.seed(1337)  # for reproducibility"
      ],
      "execution_count": 78,
      "outputs": []
    },
    {
      "cell_type": "code",
      "metadata": {
        "id": "sQ5H4nAOhuWL",
        "colab_type": "code",
        "colab": {
          "base_uri": "https://localhost:8080/",
          "height": 34
        },
        "outputId": "fcb81364-6c98-4227-b6c2-42854b0e4e79"
      },
      "source": [
        "from google.colab import drive\n",
        "drive.mount('/content/drive')"
      ],
      "execution_count": 55,
      "outputs": [
        {
          "output_type": "stream",
          "text": [
            "Drive already mounted at /content/drive; to attempt to forcibly remount, call drive.mount(\"/content/drive\", force_remount=True).\n"
          ],
          "name": "stdout"
        }
      ]
    },
    {
      "cell_type": "markdown",
      "metadata": {
        "id": "gxLKb5FYh9nV",
        "colab_type": "text"
      },
      "source": [
        "**Set Data Directories Path**"
      ]
    },
    {
      "cell_type": "code",
      "metadata": {
        "id": "DzvLwrO6h81F",
        "colab_type": "code",
        "colab": {}
      },
      "source": [
        "# Initial Dataset Path\n",
        "initial_data_path = \"/content/drive/My Drive/data/\"\n",
        "initial_data_csv_path = \"/content/drive/My Drive/InitialData.csv\"\n",
        "modelB_csv_path = \"/content/drive/My Drive/saved_model/modelB/\"\n",
        "\n",
        "# Augmented Data Path\n",
        "data_path = \"/content/drive/My Drive/trainDataTACO/\"\n",
        "final_data_csv_path = \"/content/drive/My Drive/FinalData.csv\"\n",
        "save_csv_path = \"/content/drive/My Drive/saved_model/modelAug/\""
      ],
      "execution_count": 95,
      "outputs": []
    },
    {
      "cell_type": "code",
      "metadata": {
        "id": "cQY7OLZa3hnd",
        "colab_type": "code",
        "colab": {
          "base_uri": "https://localhost:8080/",
          "height": 425
        },
        "outputId": "a4eca99a-1c1b-4388-c054-d67a7d764415"
      },
      "source": [
        "# Create Pandas DataFrame\n",
        "print(\"Dataframe 1\")\n",
        "df1 = pd.read_csv(initial_data_csv_path)\n",
        "df1 = df1.drop(['x_min','x_max','y_min','y_max'], axis=1)\n",
        "print(df1.info()) \n",
        "print()\n",
        "print(\"Dataframe 2\")\n",
        "df2 = pd.read_csv(final_data_csv_path)\n",
        "print(df2.info())"
      ],
      "execution_count": 85,
      "outputs": [
        {
          "output_type": "stream",
          "text": [
            "Dataframe 1\n",
            "<class 'pandas.core.frame.DataFrame'>\n",
            "RangeIndex: 805 entries, 0 to 804\n",
            "Data columns (total 2 columns):\n",
            " #   Column    Non-Null Count  Dtype \n",
            "---  ------    --------------  ----- \n",
            " 0   filename  805 non-null    object\n",
            " 1   category  805 non-null    object\n",
            "dtypes: object(2)\n",
            "memory usage: 12.7+ KB\n",
            "None\n",
            "\n",
            "Dataframe 2\n",
            "<class 'pandas.core.frame.DataFrame'>\n",
            "RangeIndex: 3442 entries, 0 to 3441\n",
            "Data columns (total 2 columns):\n",
            " #   Column    Non-Null Count  Dtype \n",
            "---  ------    --------------  ----- \n",
            " 0   category  3442 non-null   object\n",
            " 1   filename  3442 non-null   object\n",
            "dtypes: object(2)\n",
            "memory usage: 53.9+ KB\n",
            "None\n"
          ],
          "name": "stdout"
        }
      ]
    },
    {
      "cell_type": "code",
      "metadata": {
        "id": "vdX85sXpeCLJ",
        "colab_type": "code",
        "colab": {}
      },
      "source": [
        "# Parameters\n",
        "xgb_params = {'num_class':5, # Number of Output classes\n",
        "              'nthread':8, # Number of Parallel threads\n",
        "              'gamma':0.1, # For minimizing loss \n",
        "              'eval_metric':'mlogloss', # Multi classification evaluation \n",
        "              'min_child_weight':3, # It performs regularization\n",
        "              'subsample':0.7, # Percentage of rows consider while building subtree \n",
        "              'max_depth': 16, # Maximum number of nodes between root and farthest leaf\n",
        "              'objective': 'multi:softmax', # Multi label classification\n",
        "              'seed': 1337, # For reproducibility\n",
        "              'silent': True}"
      ],
      "execution_count": 104,
      "outputs": []
    },
    {
      "cell_type": "markdown",
      "metadata": {
        "id": "5iX5FPt6Juum",
        "colab_type": "text"
      },
      "source": [
        "## **XGBoost Classification Model Base**"
      ]
    },
    {
      "cell_type": "code",
      "metadata": {
        "id": "SQBMzmThNylq",
        "colab_type": "code",
        "colab": {
          "base_uri": "https://localhost:8080/",
          "height": 34
        },
        "outputId": "e0f6cbd0-e4af-46d3-d7e2-687353c182b8"
      },
      "source": [
        "if len(train_data) == 0:\n",
        "  # Generate array data\n",
        "  train_data = []  \n",
        "  for ind in df1.index:\n",
        "      img = Image.open(os.path.join(initial_data_path + df1['filename'][ind]))\n",
        "      img = img.resize((128, 128), Image.ANTIALIAS)\n",
        "      img = image.img_to_array(img)\n",
        "      # Append image\n",
        "      train_data.append(img)\n",
        "  X1 = np.array(train_data)\n",
        "  print(\"Image Array Data Created\")"
      ],
      "execution_count": 86,
      "outputs": [
        {
          "output_type": "stream",
          "text": [
            "Image Array Data Created\n"
          ],
          "name": "stdout"
        }
      ]
    },
    {
      "cell_type": "code",
      "metadata": {
        "id": "qwqW_1RnN5wC",
        "colab_type": "code",
        "colab": {}
      },
      "source": [
        "# Convert labels into categorical classes\n",
        "df1['category'] = df1['category'].astype('category')\n",
        "df1['category'] = df1['category'].cat.codes"
      ],
      "execution_count": 87,
      "outputs": []
    },
    {
      "cell_type": "code",
      "metadata": {
        "id": "TLyBsC4rONMH",
        "colab_type": "code",
        "colab": {}
      },
      "source": [
        "# Drop file names and create Labels array\n",
        "Y1 = np.array(df1.drop(['filename'],axis=1))"
      ],
      "execution_count": 88,
      "outputs": []
    },
    {
      "cell_type": "code",
      "metadata": {
        "id": "7L20TbFZOQFK",
        "colab_type": "code",
        "colab": {
          "base_uri": "https://localhost:8080/",
          "height": 123
        },
        "outputId": "e04cfecb-b1ed-4f75-c834-e0d6c78d32f3"
      },
      "source": [
        "# Data split Randomly\n",
        "x_train, x_test, y_train, y_test = train_test_split(X1, Y1, random_state=1337, test_size=0.2)\n",
        "x_train = x_train.reshape(-1, 128*128*3) / 255.      # normalize data\n",
        "x_test = x_test.reshape(-1, 128*128*3) / 255.        # normalize data\n",
        "\n",
        "print(\"Train data shape\")\n",
        "print(x_train.shape)\n",
        "print(y_train.shape)\n",
        "print(\"Test data shape\")\n",
        "print(x_test.shape)\n",
        "print(y_test.shape)"
      ],
      "execution_count": 89,
      "outputs": [
        {
          "output_type": "stream",
          "text": [
            "Train data shape\n",
            "(644, 49152)\n",
            "(644, 1)\n",
            "Test data shape\n",
            "(161, 49152)\n",
            "(161, 1)\n"
          ],
          "name": "stdout"
        }
      ]
    },
    {
      "cell_type": "code",
      "metadata": {
        "id": "eNh7vgUrOqpS",
        "colab_type": "code",
        "colab": {
          "base_uri": "https://localhost:8080/",
          "height": 34
        },
        "outputId": "ac3d3b35-4395-4b58-bfff-d636805b40a1"
      },
      "source": [
        "if len(os.listdir(modelB_csv_path)) == 0:\n",
        "  #Save Train Data into CSV\n",
        "  z1 = np.concatenate([np.array(x_train).reshape(644,49152),np.array(y_train).reshape(644,1)],axis=1)\n",
        "  z1 = pd.DataFrame(z1)\n",
        "  z1.to_csv(modelB_csv_path +'train_xg_1.csv',index=False)\n",
        "  #Save Test Data into CSV\n",
        "  z1 = np.concatenate([np.array(x_test).reshape(161,49152),np.array(y_test).reshape(161,1)],axis=1)\n",
        "  z1 = pd.DataFrame(z1)\n",
        "  z1.to_csv(modelB_csv_path +'test_xg_1.csv',index=False)\n",
        "  print(\"CSV Files Saved\")\n",
        "else:    \n",
        "  print(\"Directory is not empty\")"
      ],
      "execution_count": 92,
      "outputs": [
        {
          "output_type": "stream",
          "text": [
            "CSV Files Saved\n"
          ],
          "name": "stdout"
        }
      ]
    },
    {
      "cell_type": "code",
      "metadata": {
        "id": "qtAwhqvdOvhR",
        "colab_type": "code",
        "colab": {}
      },
      "source": [
        "data1 = pd.read_csv(modelB_csv_path +'train_xg_1.csv')\n",
        "# Create Target variables\n",
        "train_Y = data1['49152'].astype('int')\n",
        "train_X = data1.drop(['49152'],axis=1)"
      ],
      "execution_count": 97,
      "outputs": []
    },
    {
      "cell_type": "code",
      "metadata": {
        "id": "OoEkJZ1yPAXC",
        "colab_type": "code",
        "colab": {
          "base_uri": "https://localhost:8080/",
          "height": 1000
        },
        "outputId": "fdea38b5-5a06-4f48-c6d1-6220b0643bac"
      },
      "source": [
        "# Generate optimized data structure for XGBoost\n",
        "dataset1 = xgb.DMatrix(train_X, label=train_Y)\n",
        "watchlist = [(dataset1, 'train')]\n",
        "model_B = xgb.train(xgb_params, dataset, num_boost_round=100, evals=watchlist, maximize=True)"
      ],
      "execution_count": 105,
      "outputs": [
        {
          "output_type": "stream",
          "text": [
            "[0]\ttrain-mlogloss:1.33683\n",
            "[1]\ttrain-mlogloss:1.10716\n",
            "[2]\ttrain-mlogloss:0.936602\n",
            "[3]\ttrain-mlogloss:0.794226\n",
            "[4]\ttrain-mlogloss:0.677074\n",
            "[5]\ttrain-mlogloss:0.577685\n",
            "[6]\ttrain-mlogloss:0.498189\n",
            "[7]\ttrain-mlogloss:0.431848\n",
            "[8]\ttrain-mlogloss:0.375272\n",
            "[9]\ttrain-mlogloss:0.331026\n",
            "[10]\ttrain-mlogloss:0.291982\n",
            "[11]\ttrain-mlogloss:0.25935\n",
            "[12]\ttrain-mlogloss:0.232453\n",
            "[13]\ttrain-mlogloss:0.20874\n",
            "[14]\ttrain-mlogloss:0.189084\n",
            "[15]\ttrain-mlogloss:0.172431\n",
            "[16]\ttrain-mlogloss:0.158914\n",
            "[17]\ttrain-mlogloss:0.145163\n",
            "[18]\ttrain-mlogloss:0.133548\n",
            "[19]\ttrain-mlogloss:0.124448\n",
            "[20]\ttrain-mlogloss:0.11514\n",
            "[21]\ttrain-mlogloss:0.107403\n",
            "[22]\ttrain-mlogloss:0.100532\n",
            "[23]\ttrain-mlogloss:0.094474\n",
            "[24]\ttrain-mlogloss:0.088783\n",
            "[25]\ttrain-mlogloss:0.084459\n",
            "[26]\ttrain-mlogloss:0.079659\n",
            "[27]\ttrain-mlogloss:0.075668\n",
            "[28]\ttrain-mlogloss:0.072067\n",
            "[29]\ttrain-mlogloss:0.068665\n",
            "[30]\ttrain-mlogloss:0.065433\n",
            "[31]\ttrain-mlogloss:0.062933\n",
            "[32]\ttrain-mlogloss:0.060276\n",
            "[33]\ttrain-mlogloss:0.058367\n",
            "[34]\ttrain-mlogloss:0.055999\n",
            "[35]\ttrain-mlogloss:0.05397\n",
            "[36]\ttrain-mlogloss:0.052253\n",
            "[37]\ttrain-mlogloss:0.050533\n",
            "[38]\ttrain-mlogloss:0.048964\n",
            "[39]\ttrain-mlogloss:0.047435\n",
            "[40]\ttrain-mlogloss:0.046092\n",
            "[41]\ttrain-mlogloss:0.044897\n",
            "[42]\ttrain-mlogloss:0.04373\n",
            "[43]\ttrain-mlogloss:0.042627\n",
            "[44]\ttrain-mlogloss:0.041489\n",
            "[45]\ttrain-mlogloss:0.04036\n",
            "[46]\ttrain-mlogloss:0.039426\n",
            "[47]\ttrain-mlogloss:0.038517\n",
            "[48]\ttrain-mlogloss:0.037757\n",
            "[49]\ttrain-mlogloss:0.036886\n",
            "[50]\ttrain-mlogloss:0.036146\n",
            "[51]\ttrain-mlogloss:0.035594\n",
            "[52]\ttrain-mlogloss:0.034953\n",
            "[53]\ttrain-mlogloss:0.03436\n",
            "[54]\ttrain-mlogloss:0.033698\n",
            "[55]\ttrain-mlogloss:0.033119\n",
            "[56]\ttrain-mlogloss:0.032529\n",
            "[57]\ttrain-mlogloss:0.032013\n",
            "[58]\ttrain-mlogloss:0.031601\n",
            "[59]\ttrain-mlogloss:0.031056\n",
            "[60]\ttrain-mlogloss:0.030655\n",
            "[61]\ttrain-mlogloss:0.030297\n",
            "[62]\ttrain-mlogloss:0.029949\n",
            "[63]\ttrain-mlogloss:0.029606\n",
            "[64]\ttrain-mlogloss:0.029224\n",
            "[65]\ttrain-mlogloss:0.028878\n",
            "[66]\ttrain-mlogloss:0.028596\n",
            "[67]\ttrain-mlogloss:0.028251\n",
            "[68]\ttrain-mlogloss:0.027962\n",
            "[69]\ttrain-mlogloss:0.027735\n",
            "[70]\ttrain-mlogloss:0.027412\n",
            "[71]\ttrain-mlogloss:0.027093\n",
            "[72]\ttrain-mlogloss:0.026876\n",
            "[73]\ttrain-mlogloss:0.026636\n",
            "[74]\ttrain-mlogloss:0.026431\n",
            "[75]\ttrain-mlogloss:0.026205\n",
            "[76]\ttrain-mlogloss:0.025915\n",
            "[77]\ttrain-mlogloss:0.025752\n",
            "[78]\ttrain-mlogloss:0.025591\n",
            "[79]\ttrain-mlogloss:0.025271\n",
            "[80]\ttrain-mlogloss:0.025064\n",
            "[81]\ttrain-mlogloss:0.024904\n",
            "[82]\ttrain-mlogloss:0.024829\n",
            "[83]\ttrain-mlogloss:0.02476\n",
            "[84]\ttrain-mlogloss:0.024606\n",
            "[85]\ttrain-mlogloss:0.024485\n",
            "[86]\ttrain-mlogloss:0.024297\n",
            "[87]\ttrain-mlogloss:0.024187\n",
            "[88]\ttrain-mlogloss:0.024061\n",
            "[89]\ttrain-mlogloss:0.023948\n",
            "[90]\ttrain-mlogloss:0.023919\n",
            "[91]\ttrain-mlogloss:0.023692\n",
            "[92]\ttrain-mlogloss:0.02358\n",
            "[93]\ttrain-mlogloss:0.023489\n",
            "[94]\ttrain-mlogloss:0.023382\n",
            "[95]\ttrain-mlogloss:0.023181\n",
            "[96]\ttrain-mlogloss:0.023135\n",
            "[97]\ttrain-mlogloss:0.023102\n",
            "[98]\ttrain-mlogloss:0.023032\n",
            "[99]\ttrain-mlogloss:0.022961\n"
          ],
          "name": "stdout"
        }
      ]
    },
    {
      "cell_type": "code",
      "metadata": {
        "id": "RmxqugeRQ89Q",
        "colab_type": "code",
        "colab": {
          "base_uri": "https://localhost:8080/",
          "height": 230
        },
        "outputId": "1a4311cd-17ed-44e8-c3e4-39cb70560c58"
      },
      "source": [
        "#Accuracy For Base Model\n",
        "test_data = pd.read_csv(modelB_csv_path +'test_xg_1.csv')\n",
        "test_Y = test_data['49152'].astype('int')\n",
        "test_X = test_data.drop(['49152'],axis=1)\n",
        "# \n",
        "test_X = xgb.DMatrix(test_X)\n",
        "result_B = model_B.predict(test_X)\n",
        "#\n",
        "print(metrics.classification_report(test_Y, result_B))"
      ],
      "execution_count": 109,
      "outputs": [
        {
          "output_type": "stream",
          "text": [
            "              precision    recall  f1-score   support\n",
            "\n",
            "           0       0.28      0.44      0.34        36\n",
            "           1       0.38      0.14      0.21        35\n",
            "           2       0.18      0.09      0.12        23\n",
            "           3       0.31      0.45      0.37        47\n",
            "           4       0.18      0.10      0.13        20\n",
            "\n",
            "    accuracy                           0.29       161\n",
            "   macro avg       0.27      0.24      0.23       161\n",
            "weighted avg       0.28      0.29      0.26       161\n",
            "\n"
          ],
          "name": "stdout"
        }
      ]
    },
    {
      "cell_type": "markdown",
      "metadata": {
        "id": "4g15onN2NvUT",
        "colab_type": "text"
      },
      "source": [
        "## **XGBoost Classification Model with Augmented Data**"
      ]
    },
    {
      "cell_type": "code",
      "metadata": {
        "id": "uBl8Bk1QiG_x",
        "colab_type": "code",
        "colab": {}
      },
      "source": [
        "new_train_data = []  \n",
        "for ind in df2.index:\n",
        "    img = Image.open(os.path.join(data_path + df2['filename'][ind]))\n",
        "    img = img.resize((128, 128), Image.ANTIALIAS)\n",
        "    img = image.img_to_array(img)\n",
        "    # Append image\n",
        "    new_train_data.append(img)\n",
        "X = np.array(new_train_data)"
      ],
      "execution_count": 58,
      "outputs": []
    },
    {
      "cell_type": "code",
      "metadata": {
        "id": "6ddJHUFz9Syk",
        "colab_type": "code",
        "colab": {}
      },
      "source": [
        "# Convert labels into categorical classes\n",
        "df2['category'] = df2['category'].astype('category')\n",
        "df2['category'] = df2['category'].cat.codes"
      ],
      "execution_count": 59,
      "outputs": []
    },
    {
      "cell_type": "code",
      "metadata": {
        "id": "dinYxJ1y7X4x",
        "colab_type": "code",
        "colab": {}
      },
      "source": [
        "# Drop file names and create Labels array\n",
        "Y = np.array(df2.drop(['filename'],axis=1))"
      ],
      "execution_count": 60,
      "outputs": []
    },
    {
      "cell_type": "code",
      "metadata": {
        "id": "Bx3fKalPuZKt",
        "colab_type": "code",
        "colab": {}
      },
      "source": [
        "# Data split Randomly\n",
        "x_train, x_test, y_train, y_test = train_test_split(X, Y, random_state=1337, test_size=0.2)\n",
        "x_train = x_train.reshape(-1, 128*128*3) / 255.      # normalize data\n",
        "x_test = x_test.reshape(-1, 128*128*3) / 255.        # normalize data\n",
        "\n",
        "print(\"Train data shape\")\n",
        "print(x_train.shape)\n",
        "print(y_train.shape)\n",
        "print(\"Test data shape\")\n",
        "print(x_test.shape)\n",
        "print(y_test.shape)"
      ],
      "execution_count": 61,
      "outputs": []
    },
    {
      "cell_type": "markdown",
      "metadata": {
        "id": "lAGTVuMSKM1Y",
        "colab_type": "text"
      },
      "source": [
        "Reshaped the input shape as ( 128* 128 *3 ) equal to 49152 then Convert Images array values into numeric values"
      ]
    },
    {
      "cell_type": "code",
      "metadata": {
        "id": "ofQRcrDpdDhP",
        "colab_type": "code",
        "colab": {}
      },
      "source": [
        "if len(os.listdir(save_csv_path)) == 0:  # Create csv only if the list is empty\n",
        "  #Saved Train Data into CSV\n",
        "  z = np.concatenate([np.array(x_train).reshape(2753,49152),np.array(y_train).reshape(2753,1)],axis=1)\n",
        "  z = pd.DataFrame(z)\n",
        "  z.to_csv(save_csv_path +'train_xg_only.csv',index=False)\n",
        "  #Saved Test Data into CSV\n",
        "  z = np.concatenate([np.array(x_test).reshape(689,49152),np.array(y_test).reshape(689,1)],axis=1)\n",
        "  z = pd.DataFrame(z)\n",
        "  z.to_csv(save_csv_path +'test_xg_only.csv',index=False)\n",
        "  print(\"CSV Files Saved\")\n",
        "else:    \n",
        "  print(\"Directory is not empty\")"
      ],
      "execution_count": 21,
      "outputs": []
    },
    {
      "cell_type": "code",
      "metadata": {
        "id": "5OJRAeMlhmrP",
        "colab_type": "code",
        "colab": {}
      },
      "source": [
        "#Read data from the CSV file\n",
        "train = pd.read_csv(save_csv_path +'train_xg_only.csv')"
      ],
      "execution_count": 110,
      "outputs": []
    },
    {
      "cell_type": "code",
      "metadata": {
        "id": "hDGofRwjlqrA",
        "colab_type": "code",
        "colab": {}
      },
      "source": [
        "# Create Target variables\n",
        "train_y = train['49152'].astype('int')\n",
        "train_x = train.drop(['49152'],axis=1)"
      ],
      "execution_count": 111,
      "outputs": []
    },
    {
      "cell_type": "code",
      "metadata": {
        "id": "BOfF4Q0kHUR4",
        "colab_type": "code",
        "colab": {
          "base_uri": "https://localhost:8080/",
          "height": 1000
        },
        "outputId": "c4940a6f-0d5d-45c2-eeb7-00a070752b8e"
      },
      "source": [
        "# Generate optimized data structure for XGBoost\n",
        "dataset = xgb.DMatrix(train_x, label=train_y)\n",
        "watchlist = [(dataset, 'train')]\n",
        "# Augmented data Model Training\n",
        "model_xg = xgb.train(xgb_params, dataset, num_boost_round=100, evals=watchlist, maximize=True)"
      ],
      "execution_count": 112,
      "outputs": [
        {
          "output_type": "stream",
          "text": [
            "[0]\ttrain-mlogloss:1.26328\n",
            "[1]\ttrain-mlogloss:1.01\n",
            "[2]\ttrain-mlogloss:0.824906\n",
            "[3]\ttrain-mlogloss:0.673994\n",
            "[4]\ttrain-mlogloss:0.559651\n",
            "[5]\ttrain-mlogloss:0.468941\n",
            "[6]\ttrain-mlogloss:0.395186\n",
            "[7]\ttrain-mlogloss:0.339525\n",
            "[8]\ttrain-mlogloss:0.292046\n",
            "[9]\ttrain-mlogloss:0.253423\n",
            "[10]\ttrain-mlogloss:0.221843\n",
            "[11]\ttrain-mlogloss:0.195715\n",
            "[12]\ttrain-mlogloss:0.173685\n",
            "[13]\ttrain-mlogloss:0.154954\n",
            "[14]\ttrain-mlogloss:0.139966\n",
            "[15]\ttrain-mlogloss:0.126829\n",
            "[16]\ttrain-mlogloss:0.115209\n",
            "[17]\ttrain-mlogloss:0.105482\n",
            "[18]\ttrain-mlogloss:0.096903\n",
            "[19]\ttrain-mlogloss:0.089201\n",
            "[20]\ttrain-mlogloss:0.08306\n",
            "[21]\ttrain-mlogloss:0.077443\n",
            "[22]\ttrain-mlogloss:0.072656\n",
            "[23]\ttrain-mlogloss:0.068247\n",
            "[24]\ttrain-mlogloss:0.064301\n",
            "[25]\ttrain-mlogloss:0.060884\n",
            "[26]\ttrain-mlogloss:0.057738\n",
            "[27]\ttrain-mlogloss:0.054834\n",
            "[28]\ttrain-mlogloss:0.052185\n",
            "[29]\ttrain-mlogloss:0.049886\n",
            "[30]\ttrain-mlogloss:0.047769\n",
            "[31]\ttrain-mlogloss:0.045837\n",
            "[32]\ttrain-mlogloss:0.044164\n",
            "[33]\ttrain-mlogloss:0.042506\n",
            "[34]\ttrain-mlogloss:0.041097\n",
            "[35]\ttrain-mlogloss:0.039775\n",
            "[36]\ttrain-mlogloss:0.038546\n",
            "[37]\ttrain-mlogloss:0.03738\n",
            "[38]\ttrain-mlogloss:0.036313\n",
            "[39]\ttrain-mlogloss:0.03535\n",
            "[40]\ttrain-mlogloss:0.034484\n",
            "[41]\ttrain-mlogloss:0.033624\n",
            "[42]\ttrain-mlogloss:0.032785\n",
            "[43]\ttrain-mlogloss:0.031983\n",
            "[44]\ttrain-mlogloss:0.031272\n",
            "[45]\ttrain-mlogloss:0.030649\n",
            "[46]\ttrain-mlogloss:0.030025\n",
            "[47]\ttrain-mlogloss:0.029528\n",
            "[48]\ttrain-mlogloss:0.028925\n",
            "[49]\ttrain-mlogloss:0.028435\n",
            "[50]\ttrain-mlogloss:0.027975\n",
            "[51]\ttrain-mlogloss:0.027516\n",
            "[52]\ttrain-mlogloss:0.02706\n",
            "[53]\ttrain-mlogloss:0.02668\n",
            "[54]\ttrain-mlogloss:0.026285\n",
            "[55]\ttrain-mlogloss:0.025873\n",
            "[56]\ttrain-mlogloss:0.025536\n",
            "[57]\ttrain-mlogloss:0.025217\n",
            "[58]\ttrain-mlogloss:0.024876\n",
            "[59]\ttrain-mlogloss:0.024559\n",
            "[60]\ttrain-mlogloss:0.024276\n",
            "[61]\ttrain-mlogloss:0.024012\n",
            "[62]\ttrain-mlogloss:0.023726\n",
            "[63]\ttrain-mlogloss:0.023539\n",
            "[64]\ttrain-mlogloss:0.02324\n",
            "[65]\ttrain-mlogloss:0.023021\n",
            "[66]\ttrain-mlogloss:0.022792\n",
            "[67]\ttrain-mlogloss:0.022571\n",
            "[68]\ttrain-mlogloss:0.022405\n",
            "[69]\ttrain-mlogloss:0.022207\n",
            "[70]\ttrain-mlogloss:0.021979\n",
            "[71]\ttrain-mlogloss:0.021778\n",
            "[72]\ttrain-mlogloss:0.021607\n",
            "[73]\ttrain-mlogloss:0.021436\n",
            "[74]\ttrain-mlogloss:0.021296\n",
            "[75]\ttrain-mlogloss:0.021095\n",
            "[76]\ttrain-mlogloss:0.020971\n",
            "[77]\ttrain-mlogloss:0.020878\n",
            "[78]\ttrain-mlogloss:0.020689\n",
            "[79]\ttrain-mlogloss:0.020559\n",
            "[80]\ttrain-mlogloss:0.020478\n",
            "[81]\ttrain-mlogloss:0.020355\n",
            "[82]\ttrain-mlogloss:0.020258\n",
            "[83]\ttrain-mlogloss:0.020165\n",
            "[84]\ttrain-mlogloss:0.02009\n",
            "[85]\ttrain-mlogloss:0.019958\n",
            "[86]\ttrain-mlogloss:0.01985\n",
            "[87]\ttrain-mlogloss:0.019773\n",
            "[88]\ttrain-mlogloss:0.019705\n",
            "[89]\ttrain-mlogloss:0.019599\n",
            "[90]\ttrain-mlogloss:0.019539\n",
            "[91]\ttrain-mlogloss:0.019454\n",
            "[92]\ttrain-mlogloss:0.01939\n",
            "[93]\ttrain-mlogloss:0.019317\n",
            "[94]\ttrain-mlogloss:0.019272\n",
            "[95]\ttrain-mlogloss:0.019201\n",
            "[96]\ttrain-mlogloss:0.019141\n",
            "[97]\ttrain-mlogloss:0.019084\n",
            "[98]\ttrain-mlogloss:0.019052\n",
            "[99]\ttrain-mlogloss:0.019012\n"
          ],
          "name": "stdout"
        }
      ]
    },
    {
      "cell_type": "code",
      "metadata": {
        "id": "MbrW9mkFmL-1",
        "colab_type": "code",
        "colab": {
          "base_uri": "https://localhost:8080/",
          "height": 318
        },
        "outputId": "97e4f862-431e-413e-de9c-7ff3de7e8854"
      },
      "source": [
        "# Evaluate Results\n",
        "test = pd.read_csv(save_csv_path +'test_xg_only.csv')\n",
        "test_y = test['49152'].astype('int')\n",
        "test_x = test.drop(['49152'],axis=1)\n",
        "\n",
        "test_x = xgb.DMatrix(test_x)\n",
        "result = model_xg.predict(test_x)\n",
        "\n",
        "#\n",
        "print(metrics.classification_report(test_y, result))\n",
        "print(metrics.confusion_matrix(test_y, result))"
      ],
      "execution_count": 113,
      "outputs": [
        {
          "output_type": "stream",
          "text": [
            "              precision    recall  f1-score   support\n",
            "\n",
            "           0       0.81      0.79      0.80       155\n",
            "           1       0.71      0.57      0.63       118\n",
            "           2       0.61      0.61      0.61       106\n",
            "           3       0.66      0.75      0.70       197\n",
            "           4       0.63      0.65      0.64       113\n",
            "\n",
            "    accuracy                           0.69       689\n",
            "   macro avg       0.68      0.67      0.68       689\n",
            "weighted avg       0.69      0.69      0.69       689\n",
            "\n",
            "[[122   6   6  13   8]\n",
            " [  3  67   9  29  10]\n",
            " [  9   3  65  20   9]\n",
            " [  5  15  15 147  15]\n",
            " [ 11   4  12  13  73]]\n"
          ],
          "name": "stdout"
        }
      ]
    },
    {
      "cell_type": "markdown",
      "metadata": {
        "id": "Tj5NPgIBRtqK",
        "colab_type": "text"
      },
      "source": [
        "## **Cross Validation XGBoost Model on Augmented Data**"
      ]
    },
    {
      "cell_type": "code",
      "metadata": {
        "id": "GE5bhgUI3Ky2",
        "colab_type": "code",
        "colab": {
          "base_uri": "https://localhost:8080/",
          "height": 300
        },
        "outputId": "b56377b9-9626-452a-f2fc-384f5ab359b0"
      },
      "source": [
        "cv_results = xgb.cv(dtrain=dataset, \n",
        "                    params=xgb_params, \n",
        "                    nfold=5,\n",
        "                    num_boost_round=50, \n",
        "                    early_stopping_rounds=5, \n",
        "                    metrics='mlogloss', as_pandas=True, seed=1337)  \n",
        "#Examine the results\n",
        "print(cv_results[\"train-mlogloss-mean\"].mean())\n",
        "print(cv_results[\"test-mlogloss-mean\"].mean())\n",
        "\n",
        "df = pd.DataFrame({\n",
        "   'train-mlogloss': cv_results1[\"train-mlogloss-mean\"],\n",
        "   'test-mlogloss':cv_results1[\"test-mlogloss-mean\"]\n",
        "   }, index=[0,1,2,3,4,5,6,7,8,9,10,11,12,13,14,15,16,17,18,19,20,21,22,23,24,25,26,27,28,29,30,31,32,33,34,35,36,37,38,39])\n",
        "lines = df.plot.line()"
      ],
      "execution_count": 126,
      "outputs": [
        {
          "output_type": "stream",
          "text": [
            "1.1459084\n",
            "1.6052087333333336\n"
          ],
          "name": "stdout"
        },
        {
          "output_type": "display_data",
          "data": {
            "image/png": "[encoded data removed]",
            "text/plain": [
              "<Figure size 432x288 with 1 Axes>"
            ]
          },
          "metadata": {
            "tags": [],
            "needs_background": "light"
          }
        }
      ]
    },
    {
      "cell_type": "code",
      "metadata": {
        "id": "sI-g03c1DdkC",
        "colab_type": "code",
        "colab": {}
      },
      "source": [
        "cv_results1 = xgb.cv(dtrain=dataset, \n",
        "                    params=xgb_params, \n",
        "                    nfold=3,\n",
        "                    num_boost_round=50, \n",
        "                    early_stopping_rounds=5, \n",
        "                    metrics='mlogloss', as_pandas=True, seed=1337)  \n",
        "\n",
        "#Examine the results\n",
        "print(cv_results1[\"train-mlogloss-mean\"].mean())\n",
        "print(cv_results1[\"test-mlogloss-mean\"].mean())\n",
        "df = pd.DataFrame({\n",
        "   'train-mlogloss': cv_results1[\"train-mlogloss-mean\"],\n",
        "   'test-mlogloss':cv_results1[\"test-mlogloss-mean\"]\n",
        "   }, index=[0,1,2,3,4,5,6,7,8,9,10,11,12,13,14,15,16,17,18,19,20,21,22,23,24,25,26,27,28,29,30,31,32,33,34,35,36,37,38,39])\n",
        "lines = df.plot.line()"
      ],
      "execution_count": 119,
      "outputs": []
    },
    {
      "cell_type": "code",
      "metadata": {
        "id": "wrKGnoax5PEG",
        "colab_type": "code",
        "colab": {}
      },
      "source": [
        "cv_results2 = xgb.cv(dtrain=dataset, \n",
        "                    params=xgb_params, \n",
        "                    nfold=2,\n",
        "                    num_boost_round=50, \n",
        "                    early_stopping_rounds=5, \n",
        "                    metrics='mlogloss', as_pandas=True, seed=1337)  \n",
        "\n",
        "#Examine the results\n",
        "print(cv_results2[\"train-mlogloss-mean\"].mean())\n",
        "print(cv_results2[\"test-mlogloss-mean\"].mean())\n",
        "df = pd.DataFrame({\n",
        "   'train-mlogloss': cv_results2[\"train-mlogloss-mean\"],\n",
        "   'test-mlogloss':cv_results2[\"test-mlogloss-mean\"]\n",
        "   }, index=[0,1,2,3,4,5,6,7,8,9,10,11,12,13,14,15,16,17,18,19,20,21,22,23,24,25,26,27,28,29,30,31,32,33,34,35,36,37,38,39])\n",
        "lines = df.plot.line()"
      ],
      "execution_count": null,
      "outputs": []
    }
  ]
}