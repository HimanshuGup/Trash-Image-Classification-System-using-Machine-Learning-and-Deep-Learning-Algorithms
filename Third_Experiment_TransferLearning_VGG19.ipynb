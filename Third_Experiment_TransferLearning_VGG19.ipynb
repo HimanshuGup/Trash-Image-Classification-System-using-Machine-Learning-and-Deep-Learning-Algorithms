{
  "nbformat": 4,
  "nbformat_minor": 0,
  "metadata": {
    "kernelspec": {
      "display_name": "Python 3",
      "language": "python",
      "name": "python3"
    },
    "language_info": {
      "codemirror_mode": {
        "name": "ipython",
        "version": 3
      },
      "file_extension": ".py",
      "mimetype": "text/x-python",
      "name": "python",
      "nbconvert_exporter": "python",
      "pygments_lexer": "ipython3",
      "version": "3.7.7"
    },
    "colab": {
      "name": "Third_Experiment_TransferLearning_VGG19.ipynb",
      "provenance": [],
      "collapsed_sections": []
    },
    "accelerator": "GPU"
  },
  "cells": [
    {
      "cell_type": "markdown",
      "metadata": {
        "id": "_OxEwNeRWFOI",
        "colab_type": "text"
      },
      "source": [
        "Theses Project Experiment with ResNet-50 Model\n",
        "\n",
        "Submitted by Himanshu Gupta"
      ]
    },
    {
      "cell_type": "code",
      "metadata": {
        "id": "5rH6yVzrFx0q",
        "colab_type": "code",
        "colab": {
          "base_uri": "https://localhost:8080/",
          "height": 35
        },
        "outputId": "26f8ffe4-6a71-4f65-fffd-fe1aef50ab8d"
      },
      "source": [
        "import pandas as pd\n",
        "import tensorflow as tf\n",
        "import warnings\n",
        "warnings.filterwarnings('ignore')\n",
        "tf.test.gpu_device_name()"
      ],
      "execution_count": 4,
      "outputs": [
        {
          "output_type": "execute_result",
          "data": {
            "application/vnd.google.colaboratory.intrinsic+json": {
              "type": "string"
            },
            "text/plain": [
              "'/device:GPU:0'"
            ]
          },
          "metadata": {
            "tags": []
          },
          "execution_count": 4
        }
      ]
    },
    {
      "cell_type": "code",
      "metadata": {
        "id": "Lxtt5a2oWFOK",
        "colab_type": "code",
        "colab": {}
      },
      "source": [
        "%matplotlib inline\n",
        "import json\n",
        "import numpy as np\n",
        "import pandas as pd\n",
        "import matplotlib.pyplot as plt\n",
        "from matplotlib import pyplot\n",
        "\n",
        "# Data Processing \n",
        "import os\n",
        "import os.path\n",
        "import random\n",
        "import PIL\n",
        "import glob\n",
        "from PIL import Image # to read images\n"
      ],
      "execution_count": 5,
      "outputs": []
    },
    {
      "cell_type": "code",
      "metadata": {
        "id": "a9eYzmxKWFOP",
        "colab_type": "code",
        "colab": {}
      },
      "source": [
        "# For Data Spltting\n",
        "from sklearn.model_selection import train_test_split, KFold, cross_val_score"
      ],
      "execution_count": 6,
      "outputs": []
    },
    {
      "cell_type": "code",
      "metadata": {
        "id": "I70x-YdzWFOS",
        "colab_type": "code",
        "colab": {}
      },
      "source": [
        "#For Keras model\n",
        "import keras\n",
        "from keras.models import Sequential\n",
        "from keras.layers import Dense, Dropout, Flatten, Activation, BatchNormalization, LSTM\n",
        "from keras.layers import Conv2D, MaxPooling2D\n",
        "from keras.callbacks import EarlyStopping\n",
        "from keras.utils import to_categorical\n",
        "from keras.preprocessing import image\n",
        "from keras.preprocessing.image import img_to_array, array_to_img\n",
        "from keras.applications import VGG19\n",
        "from keras.applications.vgg19 import preprocess_input\n",
        "from keras.wrappers.scikit_learn import KerasClassifier\n",
        "import tensorflow as tf"
      ],
      "execution_count": 7,
      "outputs": []
    },
    {
      "cell_type": "code",
      "metadata": {
        "id": "AIn87de7cG8T",
        "colab_type": "code",
        "colab": {
          "base_uri": "https://localhost:8080/",
          "height": 125
        },
        "outputId": "33f317f4-cfd6-473c-e75a-48bd04d758ae"
      },
      "source": [
        "from google.colab import drive\n",
        "drive.mount('/content/drive')"
      ],
      "execution_count": 8,
      "outputs": [
        {
          "output_type": "stream",
          "text": [
            "Go to this URL in a browser: https://accounts.google.com/o/oauth2/auth?client_id=947318989803-6bn6qk8qdgf4n4g3pfee6491hc0brc4i.apps.googleusercontent.com&redirect_uri=urn%3aietf%3awg%3aoauth%3a2.0%3aoob&scope=email%20https%3a%2f%2fwww.googleapis.com%2fauth%2fdocs.test%20https%3a%2f%2fwww.googleapis.com%2fauth%2fdrive%20https%3a%2f%2fwww.googleapis.com%2fauth%2fdrive.photos.readonly%20https%3a%2f%2fwww.googleapis.com%2fauth%2fpeopleapi.readonly&response_type=code\n",
            "\n",
            "Enter your authorization code:\n",
            "··········\n",
            "Mounted at /content/drive\n"
          ],
          "name": "stdout"
        }
      ]
    },
    {
      "cell_type": "markdown",
      "metadata": {
        "id": "CIr04sCPWFOV",
        "colab_type": "text"
      },
      "source": [
        "### Dataset Path "
      ]
    },
    {
      "cell_type": "code",
      "metadata": {
        "id": "-IxV5S7DXSmv",
        "colab_type": "code",
        "colab": {}
      },
      "source": [
        "# Initial Dataset Path\n",
        "initial_data_path = \"/content/drive/My Drive/data/\"\n",
        "initial_data_csv_path = \"/content/drive/My Drive/InitialData.csv\"\n",
        "\n",
        "# Augmented Data Path\n",
        "data_path = \"/content/drive/My Drive/trainDataTACO/\"\n",
        "final_data_csv_path = \"/content/drive/My Drive/FinalData.csv\""
      ],
      "execution_count": 10,
      "outputs": []
    },
    {
      "cell_type": "markdown",
      "metadata": {
        "id": "Q5oM5j0lWFPh",
        "colab_type": "text"
      },
      "source": [
        "### keras VGG19 Initialisation"
      ]
    },
    {
      "cell_type": "code",
      "metadata": {
        "id": "ljowSaViWFPh",
        "colab_type": "code",
        "colab": {
          "base_uri": "https://localhost:8080/",
          "height": 52
        },
        "outputId": "b813e47d-89ec-458e-a50c-283b40c7f97f"
      },
      "source": [
        "# Create the base model of VGG19\n",
        "vgg19 = VGG19(weights='imagenet', include_top=False, input_shape = (128, 128, 3), classes = 5)"
      ],
      "execution_count": 11,
      "outputs": [
        {
          "output_type": "stream",
          "text": [
            "Downloading data from https://storage.googleapis.com/tensorflow/keras-applications/vgg19/vgg19_weights_tf_dim_ordering_tf_kernels_notop.h5\n",
            "80142336/80134624 [==============================] - 0s 0us/step\n"
          ],
          "name": "stdout"
        }
      ]
    },
    {
      "cell_type": "code",
      "metadata": {
        "id": "8Lzfv74EWFPk",
        "colab_type": "code",
        "colab": {
          "base_uri": "https://localhost:8080/",
          "height": 941
        },
        "outputId": "fde77174-45a4-4023-c54e-f4fdd889adc1"
      },
      "source": [
        "vgg19.summary()"
      ],
      "execution_count": 12,
      "outputs": [
        {
          "output_type": "stream",
          "text": [
            "Model: \"vgg19\"\n",
            "_________________________________________________________________\n",
            "Layer (type)                 Output Shape              Param #   \n",
            "=================================================================\n",
            "input_1 (InputLayer)         [(None, 128, 128, 3)]     0         \n",
            "_________________________________________________________________\n",
            "block1_conv1 (Conv2D)        (None, 128, 128, 64)      1792      \n",
            "_________________________________________________________________\n",
            "block1_conv2 (Conv2D)        (None, 128, 128, 64)      36928     \n",
            "_________________________________________________________________\n",
            "block1_pool (MaxPooling2D)   (None, 64, 64, 64)        0         \n",
            "_________________________________________________________________\n",
            "block2_conv1 (Conv2D)        (None, 64, 64, 128)       73856     \n",
            "_________________________________________________________________\n",
            "block2_conv2 (Conv2D)        (None, 64, 64, 128)       147584    \n",
            "_________________________________________________________________\n",
            "block2_pool (MaxPooling2D)   (None, 32, 32, 128)       0         \n",
            "_________________________________________________________________\n",
            "block3_conv1 (Conv2D)        (None, 32, 32, 256)       295168    \n",
            "_________________________________________________________________\n",
            "block3_conv2 (Conv2D)        (None, 32, 32, 256)       590080    \n",
            "_________________________________________________________________\n",
            "block3_conv3 (Conv2D)        (None, 32, 32, 256)       590080    \n",
            "_________________________________________________________________\n",
            "block3_conv4 (Conv2D)        (None, 32, 32, 256)       590080    \n",
            "_________________________________________________________________\n",
            "block3_pool (MaxPooling2D)   (None, 16, 16, 256)       0         \n",
            "_________________________________________________________________\n",
            "block4_conv1 (Conv2D)        (None, 16, 16, 512)       1180160   \n",
            "_________________________________________________________________\n",
            "block4_conv2 (Conv2D)        (None, 16, 16, 512)       2359808   \n",
            "_________________________________________________________________\n",
            "block4_conv3 (Conv2D)        (None, 16, 16, 512)       2359808   \n",
            "_________________________________________________________________\n",
            "block4_conv4 (Conv2D)        (None, 16, 16, 512)       2359808   \n",
            "_________________________________________________________________\n",
            "block4_pool (MaxPooling2D)   (None, 8, 8, 512)         0         \n",
            "_________________________________________________________________\n",
            "block5_conv1 (Conv2D)        (None, 8, 8, 512)         2359808   \n",
            "_________________________________________________________________\n",
            "block5_conv2 (Conv2D)        (None, 8, 8, 512)         2359808   \n",
            "_________________________________________________________________\n",
            "block5_conv3 (Conv2D)        (None, 8, 8, 512)         2359808   \n",
            "_________________________________________________________________\n",
            "block5_conv4 (Conv2D)        (None, 8, 8, 512)         2359808   \n",
            "_________________________________________________________________\n",
            "block5_pool (MaxPooling2D)   (None, 4, 4, 512)         0         \n",
            "=================================================================\n",
            "Total params: 20,024,384\n",
            "Trainable params: 20,024,384\n",
            "Non-trainable params: 0\n",
            "_________________________________________________________________\n"
          ],
          "name": "stdout"
        }
      ]
    },
    {
      "cell_type": "markdown",
      "metadata": {
        "id": "ceQvB4HIYouF",
        "colab_type": "text"
      },
      "source": [
        "Generic CNN model on top of VGG"
      ]
    },
    {
      "cell_type": "code",
      "metadata": {
        "id": "dB_bew20Yn7n",
        "colab_type": "code",
        "colab": {}
      },
      "source": [
        "def create_model(input_shape):\n",
        "  classifier = Sequential()\n",
        "  classifier.add(Dense(16, activation='relu', input_dim=input_shape))\n",
        "  classifier.add(BatchNormalization())\n",
        "  classifier.add(Dropout(0.5))\n",
        "  #\n",
        "  classifier.add(Flatten())\n",
        "  classifier.add(Dropout(0.5))\n",
        "  classifier.add(Dense(5, activation='softmax'))\n",
        "  classifier.compile(optimizer='adam', loss='categorical_crossentropy', metrics=['accuracy'])\n",
        "  return classifier "
      ],
      "execution_count": 13,
      "outputs": []
    },
    {
      "cell_type": "code",
      "metadata": {
        "id": "i4iUKh0wY3Nv",
        "colab_type": "code",
        "colab": {}
      },
      "source": [
        "# Early callback Parameter\n",
        "cb_early_stopper = EarlyStopping(monitor = 'val_loss', patience = 20)"
      ],
      "execution_count": 14,
      "outputs": []
    },
    {
      "cell_type": "code",
      "metadata": {
        "id": "VWLv7AwHZb3p",
        "colab_type": "code",
        "colab": {}
      },
      "source": [
        "def create_data(df , path):\n",
        "  train_data = []  \n",
        "  for ind in df.index:\n",
        "      img=Image.open(os.path.join(path+ df['filename'][ind]))\n",
        "      img = img.resize((128, 128), Image.ANTIALIAS)\n",
        "      img = image.img_to_array(img)\n",
        "      # Append image\n",
        "      train_data.append(img)\n",
        "\n",
        "  # Create data arrays\n",
        "  X = np.array(train_data)\n",
        "  # Create dummy variables\n",
        "  df = pd.get_dummies(df, columns=[\"category\"])\n",
        "  y = np.array(df.drop(['filename'],axis=1))\n",
        "\n",
        "  # Here I split original training data to sub-training (80%) and testing data (20%)\n",
        "  X_train, X_test, y_train, y_test = train_test_split(X, y, random_state=13, test_size=0.2, stratify=y)\n",
        "\n",
        "  return (X_train, X_test, y_train, y_test)"
      ],
      "execution_count": 15,
      "outputs": []
    },
    {
      "cell_type": "markdown",
      "metadata": {
        "id": "HdUvXtwCcGKl",
        "colab_type": "text"
      },
      "source": [
        "**Data Creation for model 1**"
      ]
    },
    {
      "cell_type": "code",
      "metadata": {
        "id": "Zh8Fn-9vbzeP",
        "colab_type": "code",
        "colab": {
          "base_uri": "https://localhost:8080/",
          "height": 176
        },
        "outputId": "7d5589a5-de1c-47bb-e76c-c99961705c69"
      },
      "source": [
        "df1 = pd.read_csv(initial_data_csv_path)\n",
        "df1 = df1.drop(['x_min','x_max','y_min','y_max'], axis=1)\n",
        "df1.info()"
      ],
      "execution_count": null,
      "outputs": [
        {
          "output_type": "stream",
          "text": [
            "<class 'pandas.core.frame.DataFrame'>\n",
            "RangeIndex: 805 entries, 0 to 804\n",
            "Data columns (total 2 columns):\n",
            " #   Column    Non-Null Count  Dtype \n",
            "---  ------    --------------  ----- \n",
            " 0   filename  805 non-null    object\n",
            " 1   category  805 non-null    object\n",
            "dtypes: object(2)\n",
            "memory usage: 12.7+ KB\n"
          ],
          "name": "stdout"
        }
      ]
    },
    {
      "cell_type": "code",
      "metadata": {
        "id": "MiXCr0hidB7J",
        "colab_type": "code",
        "colab": {
          "base_uri": "https://localhost:8080/",
          "height": 70
        },
        "outputId": "f74e5da1-c89b-4484-92d9-3be1008c02ea"
      },
      "source": [
        "# Create Data   \n",
        "print(\"Generating data........\")\n",
        "(X_train, X_test, y_train, y_test) = create_data(df1 ,initial_data_path)\n",
        "# Check the data size whether it is as per tensorflow and VGG19 requirement\n",
        "X_train.shape, X_test.shape, y_train.shape, y_test.shape\n",
        "\n",
        "# Preprocessing the input \n",
        "X_train = preprocess_input(X_train)\n",
        "X_test = preprocess_input(X_test)\n",
        "\n",
        "# Extracting features\n",
        "train_features = vgg19.predict(np.array(X_train), batch_size=50, verbose=0)\n",
        "test_features = vgg19.predict(np.array(X_test), batch_size=50, verbose=0)\n",
        "# Current shape of features\n",
        "print(train_features.shape, \"\\n\",  test_features.shape)\n",
        "input_shape = (train_features.shape[1]*train_features.shape[2]*train_features.shape[3])\n",
        "# Flatten extracted features\n",
        "train_features = np.reshape(train_features, (train_features.shape[0], input_shape))\n",
        "test_features = np.reshape(test_features, (test_features.shape[0], input_shape))"
      ],
      "execution_count": null,
      "outputs": [
        {
          "output_type": "stream",
          "text": [
            "Generating data........\n",
            "(644, 4, 4, 512) \n",
            " (161, 4, 4, 512)\n"
          ],
          "name": "stdout"
        }
      ]
    },
    {
      "cell_type": "code",
      "metadata": {
        "id": "UY03h-XFhwiB",
        "colab_type": "code",
        "colab": {
          "base_uri": "https://localhost:8080/",
          "height": 1000
        },
        "outputId": "a0327cd1-f92d-4ae2-8b98-f8e5325f6bec"
      },
      "source": [
        "print(\"Model 1 training.........\")\n",
        "# Create Model Object\n",
        "model_1 = create_model(input_shape)\n",
        "model_1.summary()\n",
        "\n",
        "# Train the the model\n",
        "history = model_1.fit(train_features, y_train, batch_size=50, epochs=100, verbose=1, validation_split=0.2, callbacks = [cb_early_stopper])\n",
        "print(\"Model 1 training Completed\")"
      ],
      "execution_count": null,
      "outputs": [
        {
          "output_type": "stream",
          "text": [
            "Model 1 training.........\n",
            "Model: \"sequential_1\"\n",
            "_________________________________________________________________\n",
            "Layer (type)                 Output Shape              Param #   \n",
            "=================================================================\n",
            "dense_2 (Dense)              (None, 16)                131088    \n",
            "_________________________________________________________________\n",
            "batch_normalization_1 (Batch (None, 16)                64        \n",
            "_________________________________________________________________\n",
            "dropout_2 (Dropout)          (None, 16)                0         \n",
            "_________________________________________________________________\n",
            "flatten_1 (Flatten)          (None, 16)                0         \n",
            "_________________________________________________________________\n",
            "dropout_3 (Dropout)          (None, 16)                0         \n",
            "_________________________________________________________________\n",
            "dense_3 (Dense)              (None, 5)                 85        \n",
            "=================================================================\n",
            "Total params: 131,237\n",
            "Trainable params: 131,205\n",
            "Non-trainable params: 32\n",
            "_________________________________________________________________\n",
            "Epoch 1/100\n",
            "11/11 [==============================] - 0s 45ms/step - loss: 2.8365 - accuracy: 0.1981 - val_loss: 3.9760 - val_accuracy: 0.2093\n",
            "Epoch 2/100\n",
            "11/11 [==============================] - 0s 10ms/step - loss: 2.2047 - accuracy: 0.2544 - val_loss: 2.3728 - val_accuracy: 0.1783\n",
            "Epoch 3/100\n",
            "11/11 [==============================] - 0s 8ms/step - loss: 2.1052 - accuracy: 0.3184 - val_loss: 1.9494 - val_accuracy: 0.2171\n",
            "Epoch 4/100\n",
            "11/11 [==============================] - 0s 9ms/step - loss: 1.7922 - accuracy: 0.3107 - val_loss: 1.8072 - val_accuracy: 0.2248\n",
            "Epoch 5/100\n",
            "11/11 [==============================] - 0s 8ms/step - loss: 1.6833 - accuracy: 0.3301 - val_loss: 1.7135 - val_accuracy: 0.2558\n",
            "Epoch 6/100\n",
            "11/11 [==============================] - 0s 11ms/step - loss: 1.7748 - accuracy: 0.3612 - val_loss: 1.6754 - val_accuracy: 0.2636\n",
            "Epoch 7/100\n",
            "11/11 [==============================] - 0s 8ms/step - loss: 1.7029 - accuracy: 0.3631 - val_loss: 1.6164 - val_accuracy: 0.3023\n",
            "Epoch 8/100\n",
            "11/11 [==============================] - 0s 8ms/step - loss: 1.5982 - accuracy: 0.3748 - val_loss: 1.5992 - val_accuracy: 0.3256\n",
            "Epoch 9/100\n",
            "11/11 [==============================] - 0s 10ms/step - loss: 1.5767 - accuracy: 0.3456 - val_loss: 1.5806 - val_accuracy: 0.3488\n",
            "Epoch 10/100\n",
            "11/11 [==============================] - 0s 11ms/step - loss: 1.4328 - accuracy: 0.3709 - val_loss: 1.5795 - val_accuracy: 0.3101\n",
            "Epoch 11/100\n",
            "11/11 [==============================] - 0s 8ms/step - loss: 1.4573 - accuracy: 0.3922 - val_loss: 1.5760 - val_accuracy: 0.3411\n",
            "Epoch 12/100\n",
            "11/11 [==============================] - 0s 8ms/step - loss: 1.4271 - accuracy: 0.3883 - val_loss: 1.5722 - val_accuracy: 0.3566\n",
            "Epoch 13/100\n",
            "11/11 [==============================] - 0s 8ms/step - loss: 1.3547 - accuracy: 0.4252 - val_loss: 1.5389 - val_accuracy: 0.3488\n",
            "Epoch 14/100\n",
            "11/11 [==============================] - 0s 8ms/step - loss: 1.4580 - accuracy: 0.4039 - val_loss: 1.5078 - val_accuracy: 0.3953\n",
            "Epoch 15/100\n",
            "11/11 [==============================] - 0s 10ms/step - loss: 1.4298 - accuracy: 0.4175 - val_loss: 1.5088 - val_accuracy: 0.3721\n",
            "Epoch 16/100\n",
            "11/11 [==============================] - 0s 8ms/step - loss: 1.3361 - accuracy: 0.4505 - val_loss: 1.5070 - val_accuracy: 0.3721\n",
            "Epoch 17/100\n",
            "11/11 [==============================] - 0s 8ms/step - loss: 1.3118 - accuracy: 0.4660 - val_loss: 1.5045 - val_accuracy: 0.3798\n",
            "Epoch 18/100\n",
            "11/11 [==============================] - 0s 12ms/step - loss: 1.2836 - accuracy: 0.4738 - val_loss: 1.4968 - val_accuracy: 0.3721\n",
            "Epoch 19/100\n",
            "11/11 [==============================] - 0s 9ms/step - loss: 1.2443 - accuracy: 0.4990 - val_loss: 1.5005 - val_accuracy: 0.3798\n",
            "Epoch 20/100\n",
            "11/11 [==============================] - 0s 9ms/step - loss: 1.2787 - accuracy: 0.4738 - val_loss: 1.5050 - val_accuracy: 0.3798\n",
            "Epoch 21/100\n",
            "11/11 [==============================] - 0s 8ms/step - loss: 1.2553 - accuracy: 0.4854 - val_loss: 1.4955 - val_accuracy: 0.3953\n",
            "Epoch 22/100\n",
            "11/11 [==============================] - 0s 12ms/step - loss: 1.2585 - accuracy: 0.4971 - val_loss: 1.4987 - val_accuracy: 0.4186\n",
            "Epoch 23/100\n",
            "11/11 [==============================] - 0s 8ms/step - loss: 1.1556 - accuracy: 0.5165 - val_loss: 1.5020 - val_accuracy: 0.3876\n",
            "Epoch 24/100\n",
            "11/11 [==============================] - 0s 8ms/step - loss: 1.2245 - accuracy: 0.5146 - val_loss: 1.4884 - val_accuracy: 0.3876\n",
            "Epoch 25/100\n",
            "11/11 [==============================] - 0s 10ms/step - loss: 1.2332 - accuracy: 0.4796 - val_loss: 1.4556 - val_accuracy: 0.3953\n",
            "Epoch 26/100\n",
            "11/11 [==============================] - 0s 9ms/step - loss: 1.1985 - accuracy: 0.5010 - val_loss: 1.4583 - val_accuracy: 0.3798\n",
            "Epoch 27/100\n",
            "11/11 [==============================] - 0s 9ms/step - loss: 1.1307 - accuracy: 0.5456 - val_loss: 1.4536 - val_accuracy: 0.3488\n",
            "Epoch 28/100\n",
            "11/11 [==============================] - 0s 9ms/step - loss: 1.1492 - accuracy: 0.5029 - val_loss: 1.4522 - val_accuracy: 0.3566\n",
            "Epoch 29/100\n",
            "11/11 [==============================] - 0s 11ms/step - loss: 1.1260 - accuracy: 0.5340 - val_loss: 1.4593 - val_accuracy: 0.3798\n",
            "Epoch 30/100\n",
            "11/11 [==============================] - 0s 9ms/step - loss: 1.1396 - accuracy: 0.5379 - val_loss: 1.4688 - val_accuracy: 0.3721\n",
            "Epoch 31/100\n",
            "11/11 [==============================] - 0s 8ms/step - loss: 1.1300 - accuracy: 0.5359 - val_loss: 1.4855 - val_accuracy: 0.3876\n",
            "Epoch 32/100\n",
            "11/11 [==============================] - 0s 9ms/step - loss: 1.1848 - accuracy: 0.5184 - val_loss: 1.4746 - val_accuracy: 0.3953\n",
            "Epoch 33/100\n",
            "11/11 [==============================] - 0s 10ms/step - loss: 1.1676 - accuracy: 0.5146 - val_loss: 1.4704 - val_accuracy: 0.3876\n",
            "Epoch 34/100\n",
            "11/11 [==============================] - 0s 8ms/step - loss: 1.1093 - accuracy: 0.5340 - val_loss: 1.4862 - val_accuracy: 0.3643\n",
            "Epoch 35/100\n",
            "11/11 [==============================] - 0s 9ms/step - loss: 1.0885 - accuracy: 0.5282 - val_loss: 1.4901 - val_accuracy: 0.3643\n",
            "Epoch 36/100\n",
            "11/11 [==============================] - 0s 13ms/step - loss: 1.0847 - accuracy: 0.5476 - val_loss: 1.4750 - val_accuracy: 0.3488\n",
            "Epoch 37/100\n",
            "11/11 [==============================] - 0s 9ms/step - loss: 1.1334 - accuracy: 0.4893 - val_loss: 1.4817 - val_accuracy: 0.3488\n",
            "Epoch 38/100\n",
            "11/11 [==============================] - 0s 8ms/step - loss: 1.0697 - accuracy: 0.5573 - val_loss: 1.4802 - val_accuracy: 0.3643\n",
            "Epoch 39/100\n",
            "11/11 [==============================] - 0s 10ms/step - loss: 1.0800 - accuracy: 0.5379 - val_loss: 1.4790 - val_accuracy: 0.4031\n",
            "Epoch 40/100\n",
            "11/11 [==============================] - 0s 10ms/step - loss: 1.0725 - accuracy: 0.5573 - val_loss: 1.4862 - val_accuracy: 0.3798\n",
            "Epoch 41/100\n",
            "11/11 [==============================] - 0s 8ms/step - loss: 1.0271 - accuracy: 0.5689 - val_loss: 1.4650 - val_accuracy: 0.4109\n",
            "Epoch 42/100\n",
            "11/11 [==============================] - 0s 8ms/step - loss: 1.0867 - accuracy: 0.5553 - val_loss: 1.4530 - val_accuracy: 0.4264\n",
            "Epoch 43/100\n",
            "11/11 [==============================] - 0s 11ms/step - loss: 1.0224 - accuracy: 0.5670 - val_loss: 1.4570 - val_accuracy: 0.3721\n",
            "Epoch 44/100\n",
            "11/11 [==============================] - 0s 8ms/step - loss: 1.0327 - accuracy: 0.5573 - val_loss: 1.4713 - val_accuracy: 0.3876\n",
            "Epoch 45/100\n",
            "11/11 [==============================] - 0s 10ms/step - loss: 1.0096 - accuracy: 0.5786 - val_loss: 1.4787 - val_accuracy: 0.3876\n",
            "Epoch 46/100\n",
            "11/11 [==============================] - 0s 12ms/step - loss: 1.0011 - accuracy: 0.5709 - val_loss: 1.4571 - val_accuracy: 0.3798\n",
            "Epoch 47/100\n",
            "11/11 [==============================] - 0s 9ms/step - loss: 1.0281 - accuracy: 0.5709 - val_loss: 1.4538 - val_accuracy: 0.3721\n",
            "Epoch 48/100\n",
            "11/11 [==============================] - 0s 8ms/step - loss: 1.0280 - accuracy: 0.5689 - val_loss: 1.4529 - val_accuracy: 0.3798\n",
            "Model 1 training Completed\n"
          ],
          "name": "stdout"
        }
      ]
    },
    {
      "cell_type": "code",
      "metadata": {
        "id": "KKEPzYrzUEhQ",
        "colab_type": "code",
        "colab": {
          "base_uri": "https://localhost:8080/",
          "height": 70
        },
        "outputId": "1622628b-4310-4943-c82b-a1aee9212932"
      },
      "source": [
        "# Evaluate the model 1\n",
        "_, train_acc = model_1.evaluate(train_features, y_train)\n",
        "_, test_acc = model_1.evaluate(test_features, y_test)\n",
        "print('Train: %.3f, Test: %.3f' % (train_acc, test_acc))"
      ],
      "execution_count": null,
      "outputs": [
        {
          "output_type": "stream",
          "text": [
            "21/21 [==============================] - 0s 5ms/step - loss: 0.7455 - accuracy: 0.7966\n",
            "6/6 [==============================] - 0s 6ms/step - loss: 1.4373 - accuracy: 0.3913\n",
            "Train: 0.797, Test: 0.391\n"
          ],
          "name": "stdout"
        }
      ]
    },
    {
      "cell_type": "markdown",
      "metadata": {
        "id": "qAEwnVEmaAHm",
        "colab_type": "text"
      },
      "source": [
        "## **Model 2 creation on Augmented Data**"
      ]
    },
    {
      "cell_type": "code",
      "metadata": {
        "id": "aKovd60RaFo9",
        "colab_type": "code",
        "colab": {
          "base_uri": "https://localhost:8080/",
          "height": 176
        },
        "outputId": "6f2b9412-f46e-4b18-9205-536d299c931a"
      },
      "source": [
        "df2 = pd.read_csv(final_data_csv_path)\n",
        "df2.info()"
      ],
      "execution_count": 17,
      "outputs": [
        {
          "output_type": "stream",
          "text": [
            "<class 'pandas.core.frame.DataFrame'>\n",
            "RangeIndex: 3442 entries, 0 to 3441\n",
            "Data columns (total 2 columns):\n",
            " #   Column    Non-Null Count  Dtype \n",
            "---  ------    --------------  ----- \n",
            " 0   category  3442 non-null   object\n",
            " 1   filename  3442 non-null   object\n",
            "dtypes: object(2)\n",
            "memory usage: 53.9+ KB\n"
          ],
          "name": "stdout"
        }
      ]
    },
    {
      "cell_type": "code",
      "metadata": {
        "id": "gADrcghXaFwY",
        "colab_type": "code",
        "colab": {
          "base_uri": "https://localhost:8080/",
          "height": 70
        },
        "outputId": "df444117-8f42-4bec-8638-edf1d75e9620"
      },
      "source": [
        "# Create Data   \n",
        "print(\"Generating input features for model 2........\")\n",
        "(x_train, x_test, y_train, y_test) = create_data(df2 ,data_path)\n",
        "\n",
        "# Preprocessing the input \n",
        "x_train = preprocess_input(x_train)\n",
        "x_test = preprocess_input(x_test)\n",
        "\n",
        "# Extracting features\n",
        "train_features = vgg19.predict(np.array(x_train), batch_size=50, verbose=0)\n",
        "test_features = vgg19.predict(np.array(x_test), batch_size=50, verbose=0)\n",
        "\n",
        "print(train_features.shape)\n",
        "print(test_features.shape)\n",
        "input_shape = (train_features.shape[1]*train_features.shape[2]*train_features.shape[3])\n",
        "# Flatten extracted features\n",
        "train_features = np.reshape(train_features, (train_features.shape[0], input_shape))\n",
        "test_features = np.reshape(test_features, (test_features.shape[0], input_shape))"
      ],
      "execution_count": 14,
      "outputs": [
        {
          "output_type": "stream",
          "text": [
            "Generating input features for model 2........\n",
            "(2753, 4, 4, 512)\n",
            "(689, 4, 4, 512)\n"
          ],
          "name": "stdout"
        }
      ]
    },
    {
      "cell_type": "code",
      "metadata": {
        "id": "b4fDy5DMlZ80",
        "colab_type": "code",
        "colab": {
          "base_uri": "https://localhost:8080/",
          "height": 1000
        },
        "outputId": "eebe0adc-5911-49df-cd46-cdc56ffc09dd"
      },
      "source": [
        "print(\"Model 2 training.........\")\n",
        "# Create Model Object\n",
        "model_2 = create_model(input_shape)\n",
        "model_2.summary()\n",
        "\n",
        "# Train the the model\n",
        "history = model_2.fit(train_features, y_train, batch_size=50, epochs=100, verbose=1, validation_split=0.2, callbacks = [cb_early_stopper])\n",
        "print(\"Model 2 training Completed\")"
      ],
      "execution_count": null,
      "outputs": [
        {
          "output_type": "stream",
          "text": [
            "Model 2 training.........\n",
            "Model: \"sequential_3\"\n",
            "_________________________________________________________________\n",
            "Layer (type)                 Output Shape              Param #   \n",
            "=================================================================\n",
            "dense_5 (Dense)              (None, 16)                131088    \n",
            "_________________________________________________________________\n",
            "batch_normalization_2 (Batch (None, 16)                64        \n",
            "_________________________________________________________________\n",
            "dropout_4 (Dropout)          (None, 16)                0         \n",
            "_________________________________________________________________\n",
            "flatten_2 (Flatten)          (None, 16)                0         \n",
            "_________________________________________________________________\n",
            "dropout_5 (Dropout)          (None, 16)                0         \n",
            "_________________________________________________________________\n",
            "dense_6 (Dense)              (None, 5)                 85        \n",
            "=================================================================\n",
            "Total params: 131,237\n",
            "Trainable params: 131,205\n",
            "Non-trainable params: 32\n",
            "_________________________________________________________________\n",
            "Epoch 1/100\n",
            "45/45 [==============================] - 1s 12ms/step - loss: 1.8942 - accuracy: 0.3638 - val_loss: 0.9354 - val_accuracy: 0.6788\n",
            "Epoch 2/100\n",
            "45/45 [==============================] - 0s 7ms/step - loss: 1.1557 - accuracy: 0.5427 - val_loss: 0.7465 - val_accuracy: 0.7459\n",
            "Epoch 3/100\n",
            "45/45 [==============================] - 0s 7ms/step - loss: 1.0667 - accuracy: 0.5690 - val_loss: 0.7173 - val_accuracy: 0.7677\n",
            "Epoch 4/100\n",
            "45/45 [==============================] - 0s 8ms/step - loss: 0.9486 - accuracy: 0.6262 - val_loss: 0.6777 - val_accuracy: 0.7804\n",
            "Epoch 5/100\n",
            "45/45 [==============================] - 0s 8ms/step - loss: 0.8894 - accuracy: 0.6499 - val_loss: 0.6411 - val_accuracy: 0.7985\n",
            "Epoch 6/100\n",
            "45/45 [==============================] - 0s 8ms/step - loss: 0.8180 - accuracy: 0.6658 - val_loss: 0.6214 - val_accuracy: 0.7967\n",
            "Epoch 7/100\n",
            "45/45 [==============================] - 0s 8ms/step - loss: 0.7949 - accuracy: 0.6839 - val_loss: 0.5961 - val_accuracy: 0.8149\n",
            "Epoch 8/100\n",
            "45/45 [==============================] - 0s 8ms/step - loss: 0.7151 - accuracy: 0.7171 - val_loss: 0.5821 - val_accuracy: 0.8004\n",
            "Epoch 9/100\n",
            "45/45 [==============================] - 0s 7ms/step - loss: 0.6748 - accuracy: 0.7316 - val_loss: 0.5530 - val_accuracy: 0.8167\n",
            "Epoch 10/100\n",
            "45/45 [==============================] - 0s 8ms/step - loss: 0.6430 - accuracy: 0.7434 - val_loss: 0.5609 - val_accuracy: 0.8203\n",
            "Epoch 11/100\n",
            "45/45 [==============================] - 0s 8ms/step - loss: 0.6524 - accuracy: 0.7407 - val_loss: 0.5443 - val_accuracy: 0.8149\n",
            "Epoch 12/100\n",
            "45/45 [==============================] - 0s 8ms/step - loss: 0.6187 - accuracy: 0.7484 - val_loss: 0.5284 - val_accuracy: 0.8330\n",
            "Epoch 13/100\n",
            "45/45 [==============================] - 0s 8ms/step - loss: 0.5715 - accuracy: 0.7738 - val_loss: 0.5158 - val_accuracy: 0.8330\n",
            "Epoch 14/100\n",
            "45/45 [==============================] - 0s 8ms/step - loss: 0.5636 - accuracy: 0.7766 - val_loss: 0.4958 - val_accuracy: 0.8421\n",
            "Epoch 15/100\n",
            "45/45 [==============================] - 0s 8ms/step - loss: 0.5447 - accuracy: 0.7743 - val_loss: 0.5101 - val_accuracy: 0.8203\n",
            "Epoch 16/100\n",
            "45/45 [==============================] - 0s 8ms/step - loss: 0.5324 - accuracy: 0.7838 - val_loss: 0.4806 - val_accuracy: 0.8367\n",
            "Epoch 17/100\n",
            "45/45 [==============================] - 0s 8ms/step - loss: 0.5085 - accuracy: 0.8015 - val_loss: 0.5031 - val_accuracy: 0.8221\n",
            "Epoch 18/100\n",
            "45/45 [==============================] - 0s 8ms/step - loss: 0.4890 - accuracy: 0.8093 - val_loss: 0.4791 - val_accuracy: 0.8457\n",
            "Epoch 19/100\n",
            "45/45 [==============================] - 0s 8ms/step - loss: 0.4764 - accuracy: 0.8129 - val_loss: 0.4944 - val_accuracy: 0.8421\n",
            "Epoch 20/100\n",
            "45/45 [==============================] - 0s 7ms/step - loss: 0.4653 - accuracy: 0.8243 - val_loss: 0.4605 - val_accuracy: 0.8475\n",
            "Epoch 21/100\n",
            "45/45 [==============================] - 0s 8ms/step - loss: 0.4518 - accuracy: 0.8206 - val_loss: 0.4675 - val_accuracy: 0.8439\n",
            "Epoch 22/100\n",
            "45/45 [==============================] - 0s 8ms/step - loss: 0.4515 - accuracy: 0.8106 - val_loss: 0.4598 - val_accuracy: 0.8494\n",
            "Epoch 23/100\n",
            "45/45 [==============================] - 0s 8ms/step - loss: 0.4283 - accuracy: 0.8356 - val_loss: 0.4732 - val_accuracy: 0.8367\n",
            "Epoch 24/100\n",
            "45/45 [==============================] - 0s 8ms/step - loss: 0.4241 - accuracy: 0.8379 - val_loss: 0.4680 - val_accuracy: 0.8385\n",
            "Epoch 25/100\n",
            "45/45 [==============================] - 0s 8ms/step - loss: 0.4236 - accuracy: 0.8179 - val_loss: 0.4862 - val_accuracy: 0.8258\n",
            "Epoch 26/100\n",
            "45/45 [==============================] - 0s 7ms/step - loss: 0.3796 - accuracy: 0.8483 - val_loss: 0.4797 - val_accuracy: 0.8475\n",
            "Epoch 27/100\n",
            "45/45 [==============================] - 0s 8ms/step - loss: 0.4112 - accuracy: 0.8233 - val_loss: 0.4673 - val_accuracy: 0.8348\n",
            "Epoch 28/100\n",
            "45/45 [==============================] - 0s 7ms/step - loss: 0.3809 - accuracy: 0.8420 - val_loss: 0.4541 - val_accuracy: 0.8475\n",
            "Epoch 29/100\n",
            "45/45 [==============================] - 0s 6ms/step - loss: 0.3817 - accuracy: 0.8456 - val_loss: 0.4468 - val_accuracy: 0.8439\n",
            "Epoch 30/100\n",
            "45/45 [==============================] - 0s 6ms/step - loss: 0.3893 - accuracy: 0.8447 - val_loss: 0.4685 - val_accuracy: 0.8566\n",
            "Epoch 31/100\n",
            "45/45 [==============================] - 0s 7ms/step - loss: 0.3801 - accuracy: 0.8388 - val_loss: 0.4529 - val_accuracy: 0.8439\n",
            "Epoch 32/100\n",
            "45/45 [==============================] - 0s 7ms/step - loss: 0.3884 - accuracy: 0.8274 - val_loss: 0.4522 - val_accuracy: 0.8512\n",
            "Epoch 33/100\n",
            "45/45 [==============================] - 0s 6ms/step - loss: 0.3870 - accuracy: 0.8311 - val_loss: 0.4609 - val_accuracy: 0.8494\n",
            "Epoch 34/100\n",
            "45/45 [==============================] - 0s 7ms/step - loss: 0.3689 - accuracy: 0.8433 - val_loss: 0.4628 - val_accuracy: 0.8403\n",
            "Epoch 35/100\n",
            "45/45 [==============================] - 0s 6ms/step - loss: 0.3729 - accuracy: 0.8501 - val_loss: 0.4802 - val_accuracy: 0.8494\n",
            "Epoch 36/100\n",
            "45/45 [==============================] - 0s 6ms/step - loss: 0.3519 - accuracy: 0.8460 - val_loss: 0.4516 - val_accuracy: 0.8566\n",
            "Epoch 37/100\n",
            "45/45 [==============================] - 0s 6ms/step - loss: 0.3541 - accuracy: 0.8547 - val_loss: 0.4521 - val_accuracy: 0.8566\n",
            "Epoch 38/100\n",
            "45/45 [==============================] - 0s 6ms/step - loss: 0.3440 - accuracy: 0.8529 - val_loss: 0.4592 - val_accuracy: 0.8548\n",
            "Epoch 39/100\n",
            "45/45 [==============================] - 0s 7ms/step - loss: 0.3490 - accuracy: 0.8501 - val_loss: 0.4428 - val_accuracy: 0.8657\n",
            "Epoch 40/100\n",
            "45/45 [==============================] - 0s 7ms/step - loss: 0.3459 - accuracy: 0.8515 - val_loss: 0.5008 - val_accuracy: 0.8385\n",
            "Epoch 41/100\n",
            "45/45 [==============================] - 0s 7ms/step - loss: 0.3609 - accuracy: 0.8538 - val_loss: 0.4581 - val_accuracy: 0.8530\n",
            "Epoch 42/100\n",
            "45/45 [==============================] - 0s 7ms/step - loss: 0.3452 - accuracy: 0.8451 - val_loss: 0.4507 - val_accuracy: 0.8548\n",
            "Epoch 43/100\n",
            "45/45 [==============================] - 0s 6ms/step - loss: 0.3337 - accuracy: 0.8660 - val_loss: 0.4544 - val_accuracy: 0.8530\n",
            "Epoch 44/100\n",
            "45/45 [==============================] - 0s 6ms/step - loss: 0.3451 - accuracy: 0.8497 - val_loss: 0.4564 - val_accuracy: 0.8475\n",
            "Epoch 45/100\n",
            "45/45 [==============================] - 0s 6ms/step - loss: 0.3640 - accuracy: 0.8433 - val_loss: 0.4448 - val_accuracy: 0.8657\n",
            "Epoch 46/100\n",
            "45/45 [==============================] - 0s 6ms/step - loss: 0.3701 - accuracy: 0.8347 - val_loss: 0.4522 - val_accuracy: 0.8530\n",
            "Epoch 47/100\n",
            "45/45 [==============================] - 0s 6ms/step - loss: 0.3290 - accuracy: 0.8615 - val_loss: 0.4541 - val_accuracy: 0.8603\n",
            "Epoch 48/100\n",
            "45/45 [==============================] - 0s 7ms/step - loss: 0.3072 - accuracy: 0.8656 - val_loss: 0.4318 - val_accuracy: 0.8584\n",
            "Epoch 49/100\n",
            "45/45 [==============================] - 0s 6ms/step - loss: 0.3430 - accuracy: 0.8465 - val_loss: 0.4479 - val_accuracy: 0.8512\n",
            "Epoch 50/100\n",
            "45/45 [==============================] - 0s 6ms/step - loss: 0.3081 - accuracy: 0.8538 - val_loss: 0.4543 - val_accuracy: 0.8439\n",
            "Epoch 51/100\n",
            "45/45 [==============================] - 0s 6ms/step - loss: 0.3372 - accuracy: 0.8542 - val_loss: 0.4521 - val_accuracy: 0.8548\n",
            "Epoch 52/100\n",
            "45/45 [==============================] - 0s 6ms/step - loss: 0.3187 - accuracy: 0.8615 - val_loss: 0.4678 - val_accuracy: 0.8475\n",
            "Epoch 53/100\n",
            "45/45 [==============================] - 0s 7ms/step - loss: 0.3152 - accuracy: 0.8642 - val_loss: 0.4589 - val_accuracy: 0.8403\n",
            "Epoch 54/100\n",
            "45/45 [==============================] - 0s 6ms/step - loss: 0.3144 - accuracy: 0.8692 - val_loss: 0.4594 - val_accuracy: 0.8457\n",
            "Epoch 55/100\n",
            "45/45 [==============================] - 0s 7ms/step - loss: 0.3083 - accuracy: 0.8651 - val_loss: 0.4654 - val_accuracy: 0.8603\n",
            "Epoch 56/100\n",
            "45/45 [==============================] - 0s 6ms/step - loss: 0.3225 - accuracy: 0.8547 - val_loss: 0.4480 - val_accuracy: 0.8603\n",
            "Epoch 57/100\n",
            "45/45 [==============================] - 0s 7ms/step - loss: 0.3310 - accuracy: 0.8506 - val_loss: 0.4460 - val_accuracy: 0.8603\n",
            "Epoch 58/100\n",
            "45/45 [==============================] - 0s 7ms/step - loss: 0.3074 - accuracy: 0.8656 - val_loss: 0.4678 - val_accuracy: 0.8457\n",
            "Epoch 59/100\n",
            "45/45 [==============================] - 0s 7ms/step - loss: 0.3062 - accuracy: 0.8633 - val_loss: 0.4588 - val_accuracy: 0.8475\n",
            "Epoch 60/100\n",
            "45/45 [==============================] - 0s 7ms/step - loss: 0.3023 - accuracy: 0.8660 - val_loss: 0.4688 - val_accuracy: 0.8439\n",
            "Epoch 61/100\n",
            "45/45 [==============================] - 0s 6ms/step - loss: 0.3060 - accuracy: 0.8710 - val_loss: 0.4596 - val_accuracy: 0.8457\n",
            "Epoch 62/100\n",
            "45/45 [==============================] - 0s 6ms/step - loss: 0.2964 - accuracy: 0.8579 - val_loss: 0.4510 - val_accuracy: 0.8530\n",
            "Epoch 63/100\n",
            "45/45 [==============================] - 0s 6ms/step - loss: 0.2857 - accuracy: 0.8797 - val_loss: 0.4476 - val_accuracy: 0.8548\n",
            "Epoch 64/100\n",
            "45/45 [==============================] - 0s 6ms/step - loss: 0.2833 - accuracy: 0.8701 - val_loss: 0.4841 - val_accuracy: 0.8530\n",
            "Epoch 65/100\n",
            "45/45 [==============================] - 0s 6ms/step - loss: 0.2758 - accuracy: 0.8797 - val_loss: 0.4682 - val_accuracy: 0.8512\n",
            "Epoch 66/100\n",
            "45/45 [==============================] - 0s 6ms/step - loss: 0.2789 - accuracy: 0.8774 - val_loss: 0.4491 - val_accuracy: 0.8530\n",
            "Epoch 67/100\n",
            "45/45 [==============================] - 0s 6ms/step - loss: 0.2928 - accuracy: 0.8688 - val_loss: 0.4671 - val_accuracy: 0.8566\n",
            "Epoch 68/100\n",
            "45/45 [==============================] - 0s 7ms/step - loss: 0.2780 - accuracy: 0.8710 - val_loss: 0.4857 - val_accuracy: 0.8348\n",
            "Model 2 training Completed\n"
          ],
          "name": "stdout"
        }
      ]
    },
    {
      "cell_type": "code",
      "metadata": {
        "id": "Bier31uzlhKf",
        "colab_type": "code",
        "colab": {
          "base_uri": "https://localhost:8080/",
          "height": 604
        },
        "outputId": "d298f10a-b33c-4e17-e3c0-7cc376f32d3e"
      },
      "source": [
        "# Evaluate the model 1\n",
        "_, train_acc = model_2.evaluate(train_features, y_train)\n",
        "_, test_acc = model_2.evaluate(test_features, y_test)\n",
        "print('Train: %.3f, Test: %.3f' % (train_acc, test_acc))\n",
        "\n",
        "# plot the loss and accuracy\n",
        "acc = history.history['accuracy']\n",
        "val_acc = history.history['val_accuracy']\n",
        "loss = history.history['loss']\n",
        "val_loss = history.history['val_loss']\n",
        "epochs = range(1, len(acc) + 1)\n",
        "\n",
        "plt.title('Training and validation accuracy')\n",
        "plt.plot(epochs, acc, 'blue', label='Training accuracy')\n",
        "plt.plot(epochs, val_acc, 'red', label='Validation accuracy')\n",
        "plt.legend()\n",
        "\n",
        "plt.figure()\n",
        "plt.title('Training and validation loss')\n",
        "plt.plot(epochs, loss, 'blue', label='Training loss')\n",
        "plt.plot(epochs, val_loss, 'red', label='Validation loss')\n",
        "\n",
        "plt.legend()\n",
        "\n",
        "plt.show()"
      ],
      "execution_count": null,
      "outputs": [
        {
          "output_type": "stream",
          "text": [
            "87/87 [==============================] - 0s 3ms/step - loss: 0.1093 - accuracy: 0.9633\n",
            "22/22 [==============================] - 0s 3ms/step - loss: 0.4435 - accuracy: 0.8650\n",
            "Train: 0.963, Test: 0.865\n"
          ],
          "name": "stdout"
        },
        {
          "output_type": "display_data",
          "data": {
            "image/png": "[encoded data removed]",
            "text/plain": [
              "<Figure size 432x288 with 1 Axes>"
            ]
          },
          "metadata": {
            "tags": []
          }
        },
        {
          "output_type": "display_data",
          "data": {
            "image/png": "[encoded data removed]",
            "text/plain": [
              "<Figure size 432x288 with 1 Axes>"
            ]
          },
          "metadata": {
            "tags": []
          }
        }
      ]
    },
    {
      "cell_type": "markdown",
      "metadata": {
        "id": "1tKdby5vsxZG",
        "colab_type": "text"
      },
      "source": [
        "## **Cross Validation K-FOLD**"
      ]
    },
    {
      "cell_type": "code",
      "metadata": {
        "id": "FkRk5PYFphsJ",
        "colab_type": "code",
        "colab": {}
      },
      "source": [
        "(x_train, x_test, y_train, y_test) = create_data(df2 ,data_path)"
      ],
      "execution_count": 18,
      "outputs": []
    },
    {
      "cell_type": "code",
      "metadata": {
        "id": "UwHS5Tij9w7R",
        "colab_type": "code",
        "colab": {}
      },
      "source": [
        "# Preprocessing the input \n",
        "x_train1 = preprocess_input(x_train)\n",
        "x_test1 = preprocess_input(x_test)"
      ],
      "execution_count": 19,
      "outputs": []
    },
    {
      "cell_type": "code",
      "metadata": {
        "id": "mqZ0c-TogrnG",
        "colab_type": "code",
        "colab": {}
      },
      "source": [
        "def create_model_k():\n",
        "  kfold_model = Sequential()\n",
        "  kfold_model.add(VGG19(include_top = False, pooling = 'avg', weights = 'imagenet')) \n",
        "  # Second layer added for dropout\n",
        "  kfold_model.add(keras.layers.Dropout(0.3))\n",
        "  # Third layer as Dense for output 5-class classification\n",
        "  kfold_model.add(Dense(5, activation = 'softmax'))\n",
        "  # No need to train first layer (ResNet) model as it is already trained\n",
        "  kfold_model.layers[0].trainable = False\n",
        "  kfold_model.compile(optimizer='adam', loss='categorical_crossentropy', metrics=['accuracy'])\n",
        "  return kfold_model"
      ],
      "execution_count": 20,
      "outputs": []
    },
    {
      "cell_type": "code",
      "metadata": {
        "id": "xFKOuzSus03Z",
        "colab_type": "code",
        "colab": {
          "base_uri": "https://localhost:8080/",
          "height": 105
        },
        "outputId": "edc75666-0af1-4ed6-9919-e781e436c408"
      },
      "source": [
        "model_k = KerasClassifier(build_fn = create_model_k, epochs=50, batch_size=50, verbose=1)\n",
        "kfold = KFold(n_splits=5, shuffle=True, random_state=13)\n",
        "results = cross_val_score(model_k, x_train, y_train, cv = kfold, verbose=10, n_jobs = -1)"
      ],
      "execution_count": 21,
      "outputs": [
        {
          "output_type": "stream",
          "text": [
            "[Parallel(n_jobs=-1)]: Using backend LokyBackend with 2 concurrent workers.\n",
            "[Parallel(n_jobs=-1)]: Done   1 tasks      | elapsed:  3.8min\n",
            "[Parallel(n_jobs=-1)]: Done   3 out of   5 | elapsed:  7.4min remaining:  4.9min\n",
            "[Parallel(n_jobs=-1)]: Done   5 out of   5 | elapsed:  9.4min remaining:    0.0s\n",
            "[Parallel(n_jobs=-1)]: Done   5 out of   5 | elapsed:  9.4min finished\n"
          ],
          "name": "stderr"
        }
      ]
    },
    {
      "cell_type": "code",
      "metadata": {
        "id": "wDjXVER8B1lM",
        "colab_type": "code",
        "colab": {
          "base_uri": "https://localhost:8080/",
          "height": 34
        },
        "outputId": "8bc81437-d487-4040-cd99-db521067dde9"
      },
      "source": [
        "results"
      ],
      "execution_count": 22,
      "outputs": [
        {
          "output_type": "execute_result",
          "data": {
            "text/plain": [
              "array([0.81669694, 0.85117966, 0.81669694, 0.78181821, 0.81818181])"
            ]
          },
          "metadata": {
            "tags": []
          },
          "execution_count": 22
        }
      ]
    },
    {
      "cell_type": "code",
      "metadata": {
        "id": "g6e1kXNjB2rf",
        "colab_type": "code",
        "colab": {
          "base_uri": "https://localhost:8080/",
          "height": 34
        },
        "outputId": "7bd713b7-a9bc-4498-c379-5a42f4370afd"
      },
      "source": [
        "results.mean()"
      ],
      "execution_count": 23,
      "outputs": [
        {
          "output_type": "execute_result",
          "data": {
            "text/plain": [
              "0.8169147133827209"
            ]
          },
          "metadata": {
            "tags": []
          },
          "execution_count": 23
        }
      ]
    }
  ]
}