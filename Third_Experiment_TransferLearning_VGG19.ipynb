{
  "nbformat": 4,
  "nbformat_minor": 0,
  "metadata": {
    "kernelspec": {
      "display_name": "Python 3",
      "language": "python",
      "name": "python3"
    },
    "language_info": {
      "codemirror_mode": {
        "name": "ipython",
        "version": 3
      },
      "file_extension": ".py",
      "mimetype": "text/x-python",
      "name": "python",
      "nbconvert_exporter": "python",
      "pygments_lexer": "ipython3",
      "version": "3.7.7"
    },
    "colab": {
      "name": "Third_Experiment_TransferLearning_VGG19.ipynb",
      "provenance": [],
      "collapsed_sections": []
    },
    "accelerator": "GPU"
  },
  "cells": [
    {
      "cell_type": "markdown",
      "metadata": {
        "id": "_OxEwNeRWFOI",
        "colab_type": "text"
      },
      "source": [
        "IMplementation of VGG 19 on my Custom Taco Dataset.\n",
        "\n",
        "Referred from the VGG19 pretrained model for Fashion dataset FMNIST\n",
        "https://github.com/khanhnamle1994/fashion-mnist/blob/master/VGG19-GPU.ipynb"
      ]
    },
    {
      "cell_type": "code",
      "metadata": {
        "id": "5rH6yVzrFx0q",
        "colab_type": "code",
        "colab": {
          "base_uri": "https://localhost:8080/",
          "height": 34
        },
        "outputId": "d907e99b-683e-4f99-df86-61da076bf475"
      },
      "source": [
        "import pandas as pd\n",
        "import tensorflow as tf\n",
        "print(tf.__version__)"
      ],
      "execution_count": null,
      "outputs": [
        {
          "output_type": "stream",
          "text": [
            "2.3.0\n"
          ],
          "name": "stdout"
        }
      ]
    },
    {
      "cell_type": "code",
      "metadata": {
        "id": "Lxtt5a2oWFOK",
        "colab_type": "code",
        "colab": {
          "base_uri": "https://localhost:8080/",
          "height": 71
        },
        "outputId": "ee40f543-5922-43b0-8363-8f77107d33fa"
      },
      "source": [
        "%matplotlib inline\n",
        "import json\n",
        "import numpy as np\n",
        "import pandas as pd\n",
        "import matplotlib.pyplot as plt\n",
        "import seaborn as sns; sns.set() \n",
        "from matplotlib import pyplot\n",
        "\n",
        "# Data Processing \n",
        "import os\n",
        "import os.path\n",
        "import random\n",
        "import PIL\n",
        "import glob\n",
        "from PIL import Image # to read images\n"
      ],
      "execution_count": null,
      "outputs": [
        {
          "output_type": "stream",
          "text": [
            "/usr/local/lib/python3.6/dist-packages/statsmodels/tools/_testing.py:19: FutureWarning: pandas.util.testing is deprecated. Use the functions in the public API at pandas.testing instead.\n",
            "  import pandas.util.testing as tm\n"
          ],
          "name": "stderr"
        }
      ]
    },
    {
      "cell_type": "code",
      "metadata": {
        "id": "a9eYzmxKWFOP",
        "colab_type": "code",
        "colab": {}
      },
      "source": [
        "# For Data Spltting\n",
        "from sklearn.model_selection import train_test_split, KFold, cross_val_score"
      ],
      "execution_count": null,
      "outputs": []
    },
    {
      "cell_type": "code",
      "metadata": {
        "id": "I70x-YdzWFOS",
        "colab_type": "code",
        "colab": {}
      },
      "source": [
        "#For Keras model\n",
        "import keras\n",
        "from keras.models import Sequential\n",
        "from keras.layers import Dense, Dropout, Flatten, Activation, BatchNormalization, LSTM\n",
        "from keras.layers import Conv2D, MaxPooling2D\n",
        "from keras.callbacks import EarlyStopping\n",
        "from keras.utils import to_categorical\n",
        "from keras.preprocessing import image\n",
        "from keras.preprocessing.image import img_to_array, array_to_img\n",
        "from keras.applications import VGG19\n",
        "from keras.applications.vgg19 import preprocess_input\n",
        "from keras.wrappers.scikit_learn import KerasClassifier\n",
        "import tensorflow as tf"
      ],
      "execution_count": null,
      "outputs": []
    },
    {
      "cell_type": "code",
      "metadata": {
        "id": "AIn87de7cG8T",
        "colab_type": "code",
        "colab": {
          "base_uri": "https://localhost:8080/",
          "height": 122
        },
        "outputId": "dc7d52cd-80f5-4599-b960-4ededf3f5e3d"
      },
      "source": [
        "from google.colab import drive\n",
        "drive.mount('/content/drive')"
      ],
      "execution_count": null,
      "outputs": [
        {
          "output_type": "stream",
          "text": [
            "Go to this URL in a browser: https://accounts.google.com/o/oauth2/auth?client_id=947318989803-6bn6qk8qdgf4n4g3pfee6491hc0brc4i.apps.googleusercontent.com&redirect_uri=urn%3aietf%3awg%3aoauth%3a2.0%3aoob&response_type=code&scope=email%20https%3a%2f%2fwww.googleapis.com%2fauth%2fdocs.test%20https%3a%2f%2fwww.googleapis.com%2fauth%2fdrive%20https%3a%2f%2fwww.googleapis.com%2fauth%2fdrive.photos.readonly%20https%3a%2f%2fwww.googleapis.com%2fauth%2fpeopleapi.readonly\n",
            "\n",
            "Enter your authorization code:\n",
            "··········\n",
            "Mounted at /content/drive\n"
          ],
          "name": "stdout"
        }
      ]
    },
    {
      "cell_type": "markdown",
      "metadata": {
        "id": "CIr04sCPWFOV",
        "colab_type": "text"
      },
      "source": [
        "### Dataset Preparation "
      ]
    },
    {
      "cell_type": "code",
      "metadata": {
        "id": "SSy5ijHFWFOW",
        "colab_type": "code",
        "colab": {}
      },
      "source": [
        "path = \"/content/drive/My Drive/\"\n",
        "annot = \"/content/drive/My Drive/annotations.json\"\n",
        "\n",
        "# Read Annotations\n",
        "with open(annot , 'r') as f:\n",
        "    dataset = json.loads(f.read())"
      ],
      "execution_count": null,
      "outputs": []
    },
    {
      "cell_type": "code",
      "metadata": {
        "id": "7NxxOycMWFOc",
        "colab_type": "code",
        "colab": {
          "base_uri": "https://localhost:8080/",
          "height": 221
        },
        "outputId": "81a68354-0a7c-4228-ee7d-168cc4fd691c"
      },
      "source": [
        "categories = dataset['categories']\n",
        "anns = dataset['annotations']\n",
        "imgs = dataset['images']\n",
        "nr_cats = len(categories)\n",
        "nr_annotations = len(anns)\n",
        "nr_images = len(imgs)\n",
        "\n",
        "print(nr_images) # Total Number of images\n",
        "\n",
        "# category Dataframe and  Select 'six new Category(ouput classes)' for category Dataframe\n",
        "cat_df = pd.DataFrame(categories)\n",
        "keyValList = ['Cigarette','Clear plastic bottle','Drink can','Plastic straw','Plastic film']\n",
        "category_df = pd.DataFrame([d for d in categories if d['name'] in keyValList])\n",
        "\n",
        "# Annotation Dataframe\n",
        "ann_df = pd.DataFrame(anns)\n",
        "# Images Dataframe\n",
        "image_df = pd.DataFrame(imgs)\n",
        "\n",
        "# Dropping unncessary columns for Keras fundamental CNN model\n",
        "category_df = category_df.drop(['supercategory'], axis = 1)\n",
        "image_df = image_df.drop(['license','flickr_url','coco_url','date_captured','flickr_640_url'], axis=1)\n",
        "ann_df = ann_df.drop(['id'], axis=1)\n",
        "\n",
        "merged_img_ann_df = pd.merge(left=image_df, right=ann_df, left_on='id', right_on='image_id')\n",
        "final_merged_df = pd.merge(left=merged_img_ann_df, right=category_df, left_on='category_id', right_on='id') \n",
        "final_merged_df = final_merged_df.drop(['id_x','id_y','category_id','image_id','width','height'], axis = 1 )\n",
        "final_merged_df = final_merged_df.rename(columns={\"file_name\": \"filename\", \"name\": \"category\"})\n",
        "final_merged_df.head()"
      ],
      "execution_count": null,
      "outputs": [
        {
          "output_type": "stream",
          "text": [
            "1500\n"
          ],
          "name": "stdout"
        },
        {
          "output_type": "execute_result",
          "data": {
            "text/html": [
              "<div>\n",
              "<style scoped>\n",
              "    .dataframe tbody tr th:only-of-type {\n",
              "        vertical-align: middle;\n",
              "    }\n",
              "\n",
              "    .dataframe tbody tr th {\n",
              "        vertical-align: top;\n",
              "    }\n",
              "\n",
              "    .dataframe thead th {\n",
              "        text-align: right;\n",
              "    }\n",
              "</style>\n",
              "<table border=\"1\" class=\"dataframe\">\n",
              "  <thead>\n",
              "    <tr style=\"text-align: right;\">\n",
              "      <th></th>\n",
              "      <th>filename</th>\n",
              "      <th>segmentation</th>\n",
              "      <th>area</th>\n",
              "      <th>bbox</th>\n",
              "      <th>iscrowd</th>\n",
              "      <th>category</th>\n",
              "    </tr>\n",
              "  </thead>\n",
              "  <tbody>\n",
              "    <tr>\n",
              "      <th>0</th>\n",
              "      <td>batch_1/000010.jpg</td>\n",
              "      <td>[[670.0, 993.0, 679.0, 998.0, 684.0, 1001.0, 6...</td>\n",
              "      <td>73832.5</td>\n",
              "      <td>[632.0, 987.0, 500.0, 374.0]</td>\n",
              "      <td>0</td>\n",
              "      <td>Clear plastic bottle</td>\n",
              "    </tr>\n",
              "    <tr>\n",
              "      <th>1</th>\n",
              "      <td>batch_1/000019.jpg</td>\n",
              "      <td>[[354.0, 1268.0, 351.0, 1252.0, 347.0, 1237.0,...</td>\n",
              "      <td>98379.5</td>\n",
              "      <td>[209.0, 920.0, 454.0, 562.0]</td>\n",
              "      <td>0</td>\n",
              "      <td>Clear plastic bottle</td>\n",
              "    </tr>\n",
              "    <tr>\n",
              "      <th>2</th>\n",
              "      <td>batch_1/000019.jpg</td>\n",
              "      <td>[[1239.0, 841.0, 1247.0, 842.0, 1252.0, 835.0,...</td>\n",
              "      <td>43678.0</td>\n",
              "      <td>[1212.0, 822.0, 179.0, 446.0]</td>\n",
              "      <td>0</td>\n",
              "      <td>Clear plastic bottle</td>\n",
              "    </tr>\n",
              "    <tr>\n",
              "      <th>3</th>\n",
              "      <td>batch_1/000001.jpg</td>\n",
              "      <td>[[1062.0, 752.0, 1123.0, 744.0, 1153.0, 744.0,...</td>\n",
              "      <td>68667.0</td>\n",
              "      <td>[826.0, 744.0, 464.0, 205.0]</td>\n",
              "      <td>0</td>\n",
              "      <td>Clear plastic bottle</td>\n",
              "    </tr>\n",
              "    <tr>\n",
              "      <th>4</th>\n",
              "      <td>batch_1/000005.jpg</td>\n",
              "      <td>[[825.0, 731.0, 824.0, 670.0, 825.0, 649.0, 82...</td>\n",
              "      <td>17734.0</td>\n",
              "      <td>[824.0, 557.0, 89.0, 236.0]</td>\n",
              "      <td>0</td>\n",
              "      <td>Clear plastic bottle</td>\n",
              "    </tr>\n",
              "  </tbody>\n",
              "</table>\n",
              "</div>"
            ],
            "text/plain": [
              "             filename  ...              category\n",
              "0  batch_1/000010.jpg  ...  Clear plastic bottle\n",
              "1  batch_1/000019.jpg  ...  Clear plastic bottle\n",
              "2  batch_1/000019.jpg  ...  Clear plastic bottle\n",
              "3  batch_1/000001.jpg  ...  Clear plastic bottle\n",
              "4  batch_1/000005.jpg  ...  Clear plastic bottle\n",
              "\n",
              "[5 rows x 6 columns]"
            ]
          },
          "metadata": {
            "tags": []
          },
          "execution_count": 42
        }
      ]
    },
    {
      "cell_type": "code",
      "metadata": {
        "id": "ZC6vyhs9iw5I",
        "colab_type": "code",
        "colab": {
          "base_uri": "https://localhost:8080/",
          "height": 204
        },
        "outputId": "3ac9c12b-5811-458b-f486-1618b945f8c3"
      },
      "source": [
        "# New Dataframe with selective columns For cropping the images\n",
        "df = final_merged_df[['filename','bbox','category']]\n",
        "df = df.drop_duplicates('filename', keep='last')\n",
        "# storing bounding box values as seperate columns\n",
        "df = pd.concat([df , df['bbox'].apply(pd.Series)], axis = 1)\n",
        "df.columns = ['filename','bbox','category', 'x_min','y_min','x_max', 'y_max'] # x_max : width and y_max : height\n",
        "df = df.drop(['bbox',], axis=1)\n",
        "\n",
        "# Calculate maximum x and maximum y points\n",
        "df['x_max'] = df['x_max']+df['x_min'] \n",
        "df['y_max'] = df['y_max']+df['y_min']\n",
        "# Convert float columns to integer\n",
        "for col in  df.columns[2:]:\n",
        "    df[col] = df[col].astype(int)\n",
        "\n",
        "#Add padding to the bounding boxes\n",
        "padding = 20\n",
        "df['x_min'] = df['x_min'] - padding\n",
        "df['y_min'] = df['y_min'] - padding\n",
        "df['x_max'] = df['x_max'] + padding\n",
        "df['y_max'] = df['y_max'] + padding\n",
        "df.head()    "
      ],
      "execution_count": null,
      "outputs": [
        {
          "output_type": "execute_result",
          "data": {
            "text/html": [
              "<div>\n",
              "<style scoped>\n",
              "    .dataframe tbody tr th:only-of-type {\n",
              "        vertical-align: middle;\n",
              "    }\n",
              "\n",
              "    .dataframe tbody tr th {\n",
              "        vertical-align: top;\n",
              "    }\n",
              "\n",
              "    .dataframe thead th {\n",
              "        text-align: right;\n",
              "    }\n",
              "</style>\n",
              "<table border=\"1\" class=\"dataframe\">\n",
              "  <thead>\n",
              "    <tr style=\"text-align: right;\">\n",
              "      <th></th>\n",
              "      <th>filename</th>\n",
              "      <th>category</th>\n",
              "      <th>x_min</th>\n",
              "      <th>y_min</th>\n",
              "      <th>x_max</th>\n",
              "      <th>y_max</th>\n",
              "    </tr>\n",
              "  </thead>\n",
              "  <tbody>\n",
              "    <tr>\n",
              "      <th>0</th>\n",
              "      <td>batch_1/000010.jpg</td>\n",
              "      <td>Clear plastic bottle</td>\n",
              "      <td>612</td>\n",
              "      <td>967</td>\n",
              "      <td>1152</td>\n",
              "      <td>1381</td>\n",
              "    </tr>\n",
              "    <tr>\n",
              "      <th>3</th>\n",
              "      <td>batch_1/000001.jpg</td>\n",
              "      <td>Clear plastic bottle</td>\n",
              "      <td>806</td>\n",
              "      <td>724</td>\n",
              "      <td>1310</td>\n",
              "      <td>969</td>\n",
              "    </tr>\n",
              "    <tr>\n",
              "      <th>4</th>\n",
              "      <td>batch_1/000005.jpg</td>\n",
              "      <td>Clear plastic bottle</td>\n",
              "      <td>804</td>\n",
              "      <td>537</td>\n",
              "      <td>933</td>\n",
              "      <td>813</td>\n",
              "    </tr>\n",
              "    <tr>\n",
              "      <th>5</th>\n",
              "      <td>batch_1/000048.jpg</td>\n",
              "      <td>Clear plastic bottle</td>\n",
              "      <td>559</td>\n",
              "      <td>501</td>\n",
              "      <td>921</td>\n",
              "      <td>1462</td>\n",
              "    </tr>\n",
              "    <tr>\n",
              "      <th>9</th>\n",
              "      <td>batch_1/000000.jpg</td>\n",
              "      <td>Clear plastic bottle</td>\n",
              "      <td>690</td>\n",
              "      <td>1205</td>\n",
              "      <td>883</td>\n",
              "      <td>1443</td>\n",
              "    </tr>\n",
              "  </tbody>\n",
              "</table>\n",
              "</div>"
            ],
            "text/plain": [
              "             filename              category  x_min  y_min  x_max  y_max\n",
              "0  batch_1/000010.jpg  Clear plastic bottle    612    967   1152   1381\n",
              "3  batch_1/000001.jpg  Clear plastic bottle    806    724   1310    969\n",
              "4  batch_1/000005.jpg  Clear plastic bottle    804    537    933    813\n",
              "5  batch_1/000048.jpg  Clear plastic bottle    559    501    921   1462\n",
              "9  batch_1/000000.jpg  Clear plastic bottle    690   1205    883   1443"
            ]
          },
          "metadata": {
            "tags": []
          },
          "execution_count": 45
        }
      ]
    },
    {
      "cell_type": "code",
      "metadata": {
        "id": "QSLVVA_LjCWg",
        "colab_type": "code",
        "colab": {}
      },
      "source": [
        "train_data = []  \n",
        "for ind in df.index:\n",
        "    bbox = (df['x_min'][ind],df['y_min'][ind],df['x_max'][ind],df['y_max'][ind])\n",
        "    img=Image.open(os.path.join(path+'data/'+df['filename'][ind]))\n",
        "    img=img.crop(bbox)\n",
        "    img = img.resize((128, 128), Image.ANTIALIAS)\n",
        "    img = image.img_to_array(img)\n",
        "    # Append image\n",
        "    train_data.append(img)\n",
        "X = np.array(train_data)\n",
        "# Create dummy variables\n",
        "df = df.drop(['x_min','x_max','y_min','y_max'], axis=1)\n",
        "df = pd.get_dummies(df, columns=[\"category\"])\n",
        "#y = np.array(df.drop(['filename'],axis=1))\n",
        "y = np.array(df.drop(['filename'],axis=1))"
      ],
      "execution_count": null,
      "outputs": []
    },
    {
      "cell_type": "markdown",
      "metadata": {
        "id": "NdxGCPmeWFO9",
        "colab_type": "text"
      },
      "source": [
        "### Create Data for VGG Model\n"
      ]
    },
    {
      "cell_type": "code",
      "metadata": {
        "id": "WIzASzND6yiT",
        "colab_type": "code",
        "colab": {
          "base_uri": "https://localhost:8080/",
          "height": 204
        },
        "outputId": "731ef2b5-933f-4e8d-eae0-a8734b0dc540"
      },
      "source": [
        "df.head()"
      ],
      "execution_count": null,
      "outputs": [
        {
          "output_type": "execute_result",
          "data": {
            "text/html": [
              "<div>\n",
              "<style scoped>\n",
              "    .dataframe tbody tr th:only-of-type {\n",
              "        vertical-align: middle;\n",
              "    }\n",
              "\n",
              "    .dataframe tbody tr th {\n",
              "        vertical-align: top;\n",
              "    }\n",
              "\n",
              "    .dataframe thead th {\n",
              "        text-align: right;\n",
              "    }\n",
              "</style>\n",
              "<table border=\"1\" class=\"dataframe\">\n",
              "  <thead>\n",
              "    <tr style=\"text-align: right;\">\n",
              "      <th></th>\n",
              "      <th>filename</th>\n",
              "      <th>category_Cigarette</th>\n",
              "      <th>category_Clear plastic bottle</th>\n",
              "      <th>category_Drink can</th>\n",
              "      <th>category_Plastic film</th>\n",
              "      <th>category_Plastic straw</th>\n",
              "    </tr>\n",
              "  </thead>\n",
              "  <tbody>\n",
              "    <tr>\n",
              "      <th>0</th>\n",
              "      <td>batch_1/000010.jpg</td>\n",
              "      <td>0</td>\n",
              "      <td>1</td>\n",
              "      <td>0</td>\n",
              "      <td>0</td>\n",
              "      <td>0</td>\n",
              "    </tr>\n",
              "    <tr>\n",
              "      <th>3</th>\n",
              "      <td>batch_1/000001.jpg</td>\n",
              "      <td>0</td>\n",
              "      <td>1</td>\n",
              "      <td>0</td>\n",
              "      <td>0</td>\n",
              "      <td>0</td>\n",
              "    </tr>\n",
              "    <tr>\n",
              "      <th>4</th>\n",
              "      <td>batch_1/000005.jpg</td>\n",
              "      <td>0</td>\n",
              "      <td>1</td>\n",
              "      <td>0</td>\n",
              "      <td>0</td>\n",
              "      <td>0</td>\n",
              "    </tr>\n",
              "    <tr>\n",
              "      <th>5</th>\n",
              "      <td>batch_1/000048.jpg</td>\n",
              "      <td>0</td>\n",
              "      <td>1</td>\n",
              "      <td>0</td>\n",
              "      <td>0</td>\n",
              "      <td>0</td>\n",
              "    </tr>\n",
              "    <tr>\n",
              "      <th>9</th>\n",
              "      <td>batch_1/000000.jpg</td>\n",
              "      <td>0</td>\n",
              "      <td>1</td>\n",
              "      <td>0</td>\n",
              "      <td>0</td>\n",
              "      <td>0</td>\n",
              "    </tr>\n",
              "  </tbody>\n",
              "</table>\n",
              "</div>"
            ],
            "text/plain": [
              "             filename  ...  category_Plastic straw\n",
              "0  batch_1/000010.jpg  ...                       0\n",
              "3  batch_1/000001.jpg  ...                       0\n",
              "4  batch_1/000005.jpg  ...                       0\n",
              "5  batch_1/000048.jpg  ...                       0\n",
              "9  batch_1/000000.jpg  ...                       0\n",
              "\n",
              "[5 rows x 6 columns]"
            ]
          },
          "metadata": {
            "tags": []
          },
          "execution_count": 47
        }
      ]
    },
    {
      "cell_type": "code",
      "metadata": {
        "id": "bqpOkLd1HvOW",
        "colab_type": "code",
        "colab": {
          "base_uri": "https://localhost:8080/",
          "height": 51
        },
        "outputId": "5506ba4b-33e9-4dc6-f177-bc2141f9618d"
      },
      "source": [
        "print(X.shape)\n",
        "print(y.shape)"
      ],
      "execution_count": null,
      "outputs": [
        {
          "output_type": "stream",
          "text": [
            "(805, 128, 128, 3)\n",
            "(805, 5)\n"
          ],
          "name": "stdout"
        }
      ]
    },
    {
      "cell_type": "code",
      "metadata": {
        "id": "qN9ICRwZWFPe",
        "colab_type": "code",
        "colab": {
          "base_uri": "https://localhost:8080/",
          "height": 34
        },
        "outputId": "fef82f49-e69b-4a48-9b5e-f3d9132f29cf"
      },
      "source": [
        "# Here I split original training data to sub-training (80%) and testing data (20%)\n",
        "X_train, X_test, y_train, y_test = train_test_split(X, y, random_state=13, test_size=0.2, stratify=y)\n",
        "\n",
        "# Check the data size whether it is as per tensorflow and VGG19 requirement\n",
        "X_train.shape, X_test.shape, y_train.shape, y_test.shape"
      ],
      "execution_count": null,
      "outputs": [
        {
          "output_type": "execute_result",
          "data": {
            "text/plain": [
              "((644, 128, 128, 3), (161, 128, 128, 3), (644, 5), (161, 5))"
            ]
          },
          "metadata": {
            "tags": []
          },
          "execution_count": 49
        }
      ]
    },
    {
      "cell_type": "markdown",
      "metadata": {
        "id": "Q5oM5j0lWFPh",
        "colab_type": "text"
      },
      "source": [
        "### keras VGG19 implementation"
      ]
    },
    {
      "cell_type": "code",
      "metadata": {
        "id": "ljowSaViWFPh",
        "colab_type": "code",
        "colab": {}
      },
      "source": [
        "# Create the base model of VGG19\n",
        "vgg19 = VGG19(weights='imagenet', include_top=False, input_shape = (128, 128, 3), classes = 5)"
      ],
      "execution_count": null,
      "outputs": []
    },
    {
      "cell_type": "code",
      "metadata": {
        "id": "8Lzfv74EWFPk",
        "colab_type": "code",
        "colab": {
          "base_uri": "https://localhost:8080/",
          "height": 901
        },
        "outputId": "c98bca10-73bb-46c6-da77-49984ec1ff57"
      },
      "source": [
        "vgg19.summary()"
      ],
      "execution_count": null,
      "outputs": [
        {
          "output_type": "stream",
          "text": [
            "Model: \"vgg19\"\n",
            "_________________________________________________________________\n",
            "Layer (type)                 Output Shape              Param #   \n",
            "=================================================================\n",
            "input_2 (InputLayer)         [(None, 128, 128, 3)]     0         \n",
            "_________________________________________________________________\n",
            "block1_conv1 (Conv2D)        (None, 128, 128, 64)      1792      \n",
            "_________________________________________________________________\n",
            "block1_conv2 (Conv2D)        (None, 128, 128, 64)      36928     \n",
            "_________________________________________________________________\n",
            "block1_pool (MaxPooling2D)   (None, 64, 64, 64)        0         \n",
            "_________________________________________________________________\n",
            "block2_conv1 (Conv2D)        (None, 64, 64, 128)       73856     \n",
            "_________________________________________________________________\n",
            "block2_conv2 (Conv2D)        (None, 64, 64, 128)       147584    \n",
            "_________________________________________________________________\n",
            "block2_pool (MaxPooling2D)   (None, 32, 32, 128)       0         \n",
            "_________________________________________________________________\n",
            "block3_conv1 (Conv2D)        (None, 32, 32, 256)       295168    \n",
            "_________________________________________________________________\n",
            "block3_conv2 (Conv2D)        (None, 32, 32, 256)       590080    \n",
            "_________________________________________________________________\n",
            "block3_conv3 (Conv2D)        (None, 32, 32, 256)       590080    \n",
            "_________________________________________________________________\n",
            "block3_conv4 (Conv2D)        (None, 32, 32, 256)       590080    \n",
            "_________________________________________________________________\n",
            "block3_pool (MaxPooling2D)   (None, 16, 16, 256)       0         \n",
            "_________________________________________________________________\n",
            "block4_conv1 (Conv2D)        (None, 16, 16, 512)       1180160   \n",
            "_________________________________________________________________\n",
            "block4_conv2 (Conv2D)        (None, 16, 16, 512)       2359808   \n",
            "_________________________________________________________________\n",
            "block4_conv3 (Conv2D)        (None, 16, 16, 512)       2359808   \n",
            "_________________________________________________________________\n",
            "block4_conv4 (Conv2D)        (None, 16, 16, 512)       2359808   \n",
            "_________________________________________________________________\n",
            "block4_pool (MaxPooling2D)   (None, 8, 8, 512)         0         \n",
            "_________________________________________________________________\n",
            "block5_conv1 (Conv2D)        (None, 8, 8, 512)         2359808   \n",
            "_________________________________________________________________\n",
            "block5_conv2 (Conv2D)        (None, 8, 8, 512)         2359808   \n",
            "_________________________________________________________________\n",
            "block5_conv3 (Conv2D)        (None, 8, 8, 512)         2359808   \n",
            "_________________________________________________________________\n",
            "block5_conv4 (Conv2D)        (None, 8, 8, 512)         2359808   \n",
            "_________________________________________________________________\n",
            "block5_pool (MaxPooling2D)   (None, 4, 4, 512)         0         \n",
            "=================================================================\n",
            "Total params: 20,024,384\n",
            "Trainable params: 20,024,384\n",
            "Non-trainable params: 0\n",
            "_________________________________________________________________\n"
          ],
          "name": "stdout"
        }
      ]
    },
    {
      "cell_type": "code",
      "metadata": {
        "id": "TX_wBxNeWFPm",
        "colab_type": "code",
        "colab": {}
      },
      "source": [
        "# Preprocessing the input \n",
        "X_train = preprocess_input(X_train)\n",
        "X_test = preprocess_input(X_test)"
      ],
      "execution_count": null,
      "outputs": []
    },
    {
      "cell_type": "code",
      "metadata": {
        "id": "u9y5BHJWWFPp",
        "colab_type": "code",
        "colab": {}
      },
      "source": [
        "# Extracting features\n",
        "train_features = vgg19.predict(np.array(X_train), batch_size=50, verbose=0)\n",
        "test_features = vgg19.predict(np.array(X_test), batch_size=50, verbose=0)"
      ],
      "execution_count": null,
      "outputs": []
    },
    {
      "cell_type": "code",
      "metadata": {
        "id": "8SZJjcsiWFPv",
        "colab_type": "code",
        "colab": {
          "base_uri": "https://localhost:8080/",
          "height": 51
        },
        "outputId": "b25eb31a-e4da-492f-b432-ff3e1447d820"
      },
      "source": [
        "# Current shape of features\n",
        "print(train_features.shape, \"\\n\",  test_features.shape)"
      ],
      "execution_count": null,
      "outputs": [
        {
          "output_type": "stream",
          "text": [
            "(644, 4, 4, 512) \n",
            " (161, 4, 4, 512)\n"
          ],
          "name": "stdout"
        }
      ]
    },
    {
      "cell_type": "code",
      "metadata": {
        "id": "lIoVykERWFPy",
        "colab_type": "code",
        "colab": {}
      },
      "source": [
        "# Flatten extracted features\n",
        "train_features = np.reshape(train_features, (644, 4*4*512))\n",
        "test_features = np.reshape(test_features, (161, 4*4*512))"
      ],
      "execution_count": null,
      "outputs": []
    },
    {
      "cell_type": "markdown",
      "metadata": {
        "id": "DzkPMtyUWFP4",
        "colab_type": "text"
      },
      "source": [
        "Model implementation"
      ]
    },
    {
      "cell_type": "code",
      "metadata": {
        "id": "QOjSPusyWFP4",
        "colab_type": "code",
        "colab": {}
      },
      "source": [
        "def create_model():\n",
        "  classifier = Sequential()\n",
        "  classifier.add(Dense(16, activation='relu', input_dim=4 * 4 * 512))\n",
        "  classifier.add(BatchNormalization())\n",
        "  classifier.add(Dropout(0.5))\n",
        "  #\n",
        "  classifier.add(Flatten())\n",
        "  classifier.add(Dropout(0.5))\n",
        "  classifier.add(Dense(5, activation='softmax'))\n",
        "  classifier.compile(optimizer='adam', loss='categorical_crossentropy', metrics=['accuracy'])\n",
        "  return classifier "
      ],
      "execution_count": null,
      "outputs": []
    },
    {
      "cell_type": "code",
      "metadata": {
        "id": "MdX7UsqiWFP7",
        "colab_type": "code",
        "colab": {
          "base_uri": "https://localhost:8080/",
          "height": 357
        },
        "outputId": "d5be6c8e-be7f-486f-b2d1-6da16dd7e0ce"
      },
      "source": [
        "model = create_model()\n",
        "model.summary()"
      ],
      "execution_count": null,
      "outputs": [
        {
          "output_type": "stream",
          "text": [
            "Model: \"sequential_3\"\n",
            "_________________________________________________________________\n",
            "Layer (type)                 Output Shape              Param #   \n",
            "=================================================================\n",
            "dense_6 (Dense)              (None, 16)                131088    \n",
            "_________________________________________________________________\n",
            "batch_normalization_3 (Batch (None, 16)                64        \n",
            "_________________________________________________________________\n",
            "dropout_7 (Dropout)          (None, 16)                0         \n",
            "_________________________________________________________________\n",
            "flatten_3 (Flatten)          (None, 16)                0         \n",
            "_________________________________________________________________\n",
            "dropout_8 (Dropout)          (None, 16)                0         \n",
            "_________________________________________________________________\n",
            "dense_7 (Dense)              (None, 5)                 85        \n",
            "=================================================================\n",
            "Total params: 131,237\n",
            "Trainable params: 131,205\n",
            "Non-trainable params: 32\n",
            "_________________________________________________________________\n"
          ],
          "name": "stdout"
        }
      ]
    },
    {
      "cell_type": "markdown",
      "metadata": {
        "id": "UwdO4SIaWFQA",
        "colab_type": "text"
      },
      "source": [
        "### Training the Model"
      ]
    },
    {
      "cell_type": "code",
      "metadata": {
        "id": "3_3lZn-dKuxk",
        "colab_type": "code",
        "colab": {}
      },
      "source": [
        "# Early callback\n",
        "cb_early_stopper = EarlyStopping(monitor = 'val_loss', patience = 20)"
      ],
      "execution_count": null,
      "outputs": []
    },
    {
      "cell_type": "code",
      "metadata": {
        "id": "fGrCBMgoWFQA",
        "colab_type": "code",
        "colab": {
          "base_uri": "https://localhost:8080/",
          "height": 1000
        },
        "outputId": "29e30b38-3beb-458c-fcd7-bcbffa2cd50d"
      },
      "source": [
        "# Train the the model\n",
        "history = model.fit(train_features, y_train,\n",
        "          batch_size=50,\n",
        "          epochs=100,\n",
        "          verbose=1,\n",
        "          validation_split=0.2, callbacks = [cb_early_stopper])"
      ],
      "execution_count": null,
      "outputs": [
        {
          "output_type": "stream",
          "text": [
            "Epoch 1/100\n",
            "11/11 [==============================] - 0s 14ms/step - loss: 2.3764 - accuracy: 0.2835 - val_loss: 3.3712 - val_accuracy: 0.3953\n",
            "Epoch 2/100\n",
            "11/11 [==============================] - 0s 5ms/step - loss: 1.6362 - accuracy: 0.4117 - val_loss: 1.4479 - val_accuracy: 0.5736\n",
            "Epoch 3/100\n",
            "11/11 [==============================] - 0s 5ms/step - loss: 1.3044 - accuracy: 0.5320 - val_loss: 1.0696 - val_accuracy: 0.6279\n",
            "Epoch 4/100\n",
            "11/11 [==============================] - 0s 5ms/step - loss: 1.2084 - accuracy: 0.5767 - val_loss: 0.8577 - val_accuracy: 0.7054\n",
            "Epoch 5/100\n",
            "11/11 [==============================] - 0s 5ms/step - loss: 1.0500 - accuracy: 0.6058 - val_loss: 0.8213 - val_accuracy: 0.7132\n",
            "Epoch 6/100\n",
            "11/11 [==============================] - 0s 5ms/step - loss: 0.9383 - accuracy: 0.6466 - val_loss: 0.8368 - val_accuracy: 0.7209\n",
            "Epoch 7/100\n",
            "11/11 [==============================] - 0s 5ms/step - loss: 0.8930 - accuracy: 0.6583 - val_loss: 0.8156 - val_accuracy: 0.7364\n",
            "Epoch 8/100\n",
            "11/11 [==============================] - 0s 5ms/step - loss: 0.9067 - accuracy: 0.6447 - val_loss: 0.8022 - val_accuracy: 0.7054\n",
            "Epoch 9/100\n",
            "11/11 [==============================] - 0s 5ms/step - loss: 0.8882 - accuracy: 0.6563 - val_loss: 0.7777 - val_accuracy: 0.7209\n",
            "Epoch 10/100\n",
            "11/11 [==============================] - 0s 5ms/step - loss: 0.7253 - accuracy: 0.7359 - val_loss: 0.7529 - val_accuracy: 0.7209\n",
            "Epoch 11/100\n",
            "11/11 [==============================] - 0s 5ms/step - loss: 0.6619 - accuracy: 0.7553 - val_loss: 0.7403 - val_accuracy: 0.7132\n",
            "Epoch 12/100\n",
            "11/11 [==============================] - 0s 4ms/step - loss: 0.7315 - accuracy: 0.7398 - val_loss: 0.7110 - val_accuracy: 0.7442\n",
            "Epoch 13/100\n",
            "11/11 [==============================] - 0s 5ms/step - loss: 0.7144 - accuracy: 0.7495 - val_loss: 0.7114 - val_accuracy: 0.7209\n",
            "Epoch 14/100\n",
            "11/11 [==============================] - 0s 4ms/step - loss: 0.6908 - accuracy: 0.7398 - val_loss: 0.7126 - val_accuracy: 0.7287\n",
            "Epoch 15/100\n",
            "11/11 [==============================] - 0s 4ms/step - loss: 0.6019 - accuracy: 0.7553 - val_loss: 0.6900 - val_accuracy: 0.7287\n",
            "Epoch 16/100\n",
            "11/11 [==============================] - 0s 5ms/step - loss: 0.6303 - accuracy: 0.7806 - val_loss: 0.6781 - val_accuracy: 0.7519\n",
            "Epoch 17/100\n",
            "11/11 [==============================] - 0s 5ms/step - loss: 0.6442 - accuracy: 0.7553 - val_loss: 0.6879 - val_accuracy: 0.7597\n",
            "Epoch 18/100\n",
            "11/11 [==============================] - 0s 5ms/step - loss: 0.5293 - accuracy: 0.7942 - val_loss: 0.6866 - val_accuracy: 0.7519\n",
            "Epoch 19/100\n",
            "11/11 [==============================] - 0s 5ms/step - loss: 0.6397 - accuracy: 0.7670 - val_loss: 0.6775 - val_accuracy: 0.7674\n",
            "Epoch 20/100\n",
            "11/11 [==============================] - 0s 5ms/step - loss: 0.6047 - accuracy: 0.7825 - val_loss: 0.6772 - val_accuracy: 0.7597\n",
            "Epoch 21/100\n",
            "11/11 [==============================] - 0s 4ms/step - loss: 0.5495 - accuracy: 0.7903 - val_loss: 0.6617 - val_accuracy: 0.7597\n",
            "Epoch 22/100\n",
            "11/11 [==============================] - 0s 5ms/step - loss: 0.5667 - accuracy: 0.7825 - val_loss: 0.6564 - val_accuracy: 0.7597\n",
            "Epoch 23/100\n",
            "11/11 [==============================] - 0s 5ms/step - loss: 0.5224 - accuracy: 0.7903 - val_loss: 0.6606 - val_accuracy: 0.7519\n",
            "Epoch 24/100\n",
            "11/11 [==============================] - 0s 5ms/step - loss: 0.5291 - accuracy: 0.8136 - val_loss: 0.6669 - val_accuracy: 0.7519\n",
            "Epoch 25/100\n",
            "11/11 [==============================] - 0s 5ms/step - loss: 0.5485 - accuracy: 0.7748 - val_loss: 0.6576 - val_accuracy: 0.7597\n",
            "Epoch 26/100\n",
            "11/11 [==============================] - 0s 5ms/step - loss: 0.5302 - accuracy: 0.7864 - val_loss: 0.6559 - val_accuracy: 0.7597\n",
            "Epoch 27/100\n",
            "11/11 [==============================] - 0s 5ms/step - loss: 0.5193 - accuracy: 0.8039 - val_loss: 0.6589 - val_accuracy: 0.7597\n",
            "Epoch 28/100\n",
            "11/11 [==============================] - 0s 4ms/step - loss: 0.4873 - accuracy: 0.8272 - val_loss: 0.6666 - val_accuracy: 0.7519\n",
            "Epoch 29/100\n",
            "11/11 [==============================] - 0s 5ms/step - loss: 0.4908 - accuracy: 0.8019 - val_loss: 0.6600 - val_accuracy: 0.7597\n",
            "Epoch 30/100\n",
            "11/11 [==============================] - 0s 5ms/step - loss: 0.4233 - accuracy: 0.8350 - val_loss: 0.6514 - val_accuracy: 0.7597\n",
            "Epoch 31/100\n",
            "11/11 [==============================] - 0s 5ms/step - loss: 0.4355 - accuracy: 0.8330 - val_loss: 0.6641 - val_accuracy: 0.7597\n",
            "Epoch 32/100\n",
            "11/11 [==============================] - 0s 5ms/step - loss: 0.4519 - accuracy: 0.8155 - val_loss: 0.6574 - val_accuracy: 0.7519\n",
            "Epoch 33/100\n",
            "11/11 [==============================] - 0s 4ms/step - loss: 0.4672 - accuracy: 0.8175 - val_loss: 0.6678 - val_accuracy: 0.7674\n",
            "Epoch 34/100\n",
            "11/11 [==============================] - 0s 4ms/step - loss: 0.4295 - accuracy: 0.8563 - val_loss: 0.6789 - val_accuracy: 0.7674\n",
            "Epoch 35/100\n",
            "11/11 [==============================] - 0s 5ms/step - loss: 0.4183 - accuracy: 0.8621 - val_loss: 0.6800 - val_accuracy: 0.7674\n",
            "Epoch 36/100\n",
            "11/11 [==============================] - 0s 5ms/step - loss: 0.4497 - accuracy: 0.8252 - val_loss: 0.6759 - val_accuracy: 0.7752\n",
            "Epoch 37/100\n",
            "11/11 [==============================] - 0s 4ms/step - loss: 0.3869 - accuracy: 0.8466 - val_loss: 0.6751 - val_accuracy: 0.7674\n",
            "Epoch 38/100\n",
            "11/11 [==============================] - 0s 4ms/step - loss: 0.4650 - accuracy: 0.8097 - val_loss: 0.6623 - val_accuracy: 0.7597\n",
            "Epoch 39/100\n",
            "11/11 [==============================] - 0s 5ms/step - loss: 0.4224 - accuracy: 0.8330 - val_loss: 0.6683 - val_accuracy: 0.7597\n",
            "Epoch 40/100\n",
            "11/11 [==============================] - 0s 5ms/step - loss: 0.4304 - accuracy: 0.8524 - val_loss: 0.6787 - val_accuracy: 0.7442\n",
            "Epoch 41/100\n",
            "11/11 [==============================] - 0s 5ms/step - loss: 0.3934 - accuracy: 0.8485 - val_loss: 0.6639 - val_accuracy: 0.7519\n",
            "Epoch 42/100\n",
            "11/11 [==============================] - 0s 4ms/step - loss: 0.3913 - accuracy: 0.8641 - val_loss: 0.6509 - val_accuracy: 0.7674\n",
            "Epoch 43/100\n",
            "11/11 [==============================] - 0s 5ms/step - loss: 0.3804 - accuracy: 0.8583 - val_loss: 0.6464 - val_accuracy: 0.7519\n",
            "Epoch 44/100\n",
            "11/11 [==============================] - 0s 5ms/step - loss: 0.4099 - accuracy: 0.8252 - val_loss: 0.6548 - val_accuracy: 0.7519\n",
            "Epoch 45/100\n",
            "11/11 [==============================] - 0s 4ms/step - loss: 0.3715 - accuracy: 0.8583 - val_loss: 0.6655 - val_accuracy: 0.7519\n",
            "Epoch 46/100\n",
            "11/11 [==============================] - 0s 5ms/step - loss: 0.4044 - accuracy: 0.8466 - val_loss: 0.6437 - val_accuracy: 0.7519\n",
            "Epoch 47/100\n",
            "11/11 [==============================] - 0s 5ms/step - loss: 0.4062 - accuracy: 0.8350 - val_loss: 0.6450 - val_accuracy: 0.7674\n",
            "Epoch 48/100\n",
            "11/11 [==============================] - 0s 5ms/step - loss: 0.3402 - accuracy: 0.8738 - val_loss: 0.6429 - val_accuracy: 0.7519\n",
            "Epoch 49/100\n",
            "11/11 [==============================] - 0s 5ms/step - loss: 0.3742 - accuracy: 0.8641 - val_loss: 0.6416 - val_accuracy: 0.7674\n",
            "Epoch 50/100\n",
            "11/11 [==============================] - 0s 4ms/step - loss: 0.3777 - accuracy: 0.8544 - val_loss: 0.6612 - val_accuracy: 0.7674\n",
            "Epoch 51/100\n",
            "11/11 [==============================] - 0s 5ms/step - loss: 0.3543 - accuracy: 0.8718 - val_loss: 0.6736 - val_accuracy: 0.7519\n",
            "Epoch 52/100\n",
            "11/11 [==============================] - 0s 5ms/step - loss: 0.3385 - accuracy: 0.8621 - val_loss: 0.6642 - val_accuracy: 0.7597\n",
            "Epoch 53/100\n",
            "11/11 [==============================] - 0s 5ms/step - loss: 0.3608 - accuracy: 0.8680 - val_loss: 0.6515 - val_accuracy: 0.7597\n",
            "Epoch 54/100\n",
            "11/11 [==============================] - 0s 5ms/step - loss: 0.3194 - accuracy: 0.8951 - val_loss: 0.6561 - val_accuracy: 0.7519\n",
            "Epoch 55/100\n",
            "11/11 [==============================] - 0s 4ms/step - loss: 0.3718 - accuracy: 0.8427 - val_loss: 0.6613 - val_accuracy: 0.7519\n",
            "Epoch 56/100\n",
            "11/11 [==============================] - 0s 5ms/step - loss: 0.3696 - accuracy: 0.8583 - val_loss: 0.6424 - val_accuracy: 0.7597\n",
            "Epoch 57/100\n",
            "11/11 [==============================] - 0s 6ms/step - loss: 0.3310 - accuracy: 0.8738 - val_loss: 0.6182 - val_accuracy: 0.7597\n",
            "Epoch 58/100\n",
            "11/11 [==============================] - 0s 4ms/step - loss: 0.3667 - accuracy: 0.8621 - val_loss: 0.6099 - val_accuracy: 0.7674\n",
            "Epoch 59/100\n",
            "11/11 [==============================] - 0s 5ms/step - loss: 0.3578 - accuracy: 0.8680 - val_loss: 0.6175 - val_accuracy: 0.7674\n",
            "Epoch 60/100\n",
            "11/11 [==============================] - 0s 5ms/step - loss: 0.3323 - accuracy: 0.8718 - val_loss: 0.6352 - val_accuracy: 0.7674\n",
            "Epoch 61/100\n",
            "11/11 [==============================] - 0s 5ms/step - loss: 0.3326 - accuracy: 0.8854 - val_loss: 0.6456 - val_accuracy: 0.7674\n",
            "Epoch 62/100\n",
            "11/11 [==============================] - 0s 4ms/step - loss: 0.3595 - accuracy: 0.8505 - val_loss: 0.6527 - val_accuracy: 0.7597\n",
            "Epoch 63/100\n",
            "11/11 [==============================] - 0s 5ms/step - loss: 0.3240 - accuracy: 0.8699 - val_loss: 0.6547 - val_accuracy: 0.7597\n",
            "Epoch 64/100\n",
            "11/11 [==============================] - 0s 5ms/step - loss: 0.3087 - accuracy: 0.8777 - val_loss: 0.6494 - val_accuracy: 0.7597\n",
            "Epoch 65/100\n",
            "11/11 [==============================] - 0s 5ms/step - loss: 0.3152 - accuracy: 0.8680 - val_loss: 0.6520 - val_accuracy: 0.7597\n",
            "Epoch 66/100\n",
            "11/11 [==============================] - 0s 5ms/step - loss: 0.2879 - accuracy: 0.8835 - val_loss: 0.6613 - val_accuracy: 0.7597\n",
            "Epoch 67/100\n",
            "11/11 [==============================] - 0s 4ms/step - loss: 0.3029 - accuracy: 0.8971 - val_loss: 0.6632 - val_accuracy: 0.7519\n",
            "Epoch 68/100\n",
            "11/11 [==============================] - 0s 5ms/step - loss: 0.3449 - accuracy: 0.8718 - val_loss: 0.6544 - val_accuracy: 0.7442\n",
            "Epoch 69/100\n",
            "11/11 [==============================] - 0s 5ms/step - loss: 0.3488 - accuracy: 0.8447 - val_loss: 0.6480 - val_accuracy: 0.7674\n",
            "Epoch 70/100\n",
            "11/11 [==============================] - 0s 5ms/step - loss: 0.3140 - accuracy: 0.8816 - val_loss: 0.6475 - val_accuracy: 0.7519\n",
            "Epoch 71/100\n",
            "11/11 [==============================] - 0s 5ms/step - loss: 0.2870 - accuracy: 0.8990 - val_loss: 0.6554 - val_accuracy: 0.7519\n",
            "Epoch 72/100\n",
            "11/11 [==============================] - 0s 5ms/step - loss: 0.3027 - accuracy: 0.8835 - val_loss: 0.6749 - val_accuracy: 0.7597\n",
            "Epoch 73/100\n",
            "11/11 [==============================] - 0s 6ms/step - loss: 0.3111 - accuracy: 0.8777 - val_loss: 0.6875 - val_accuracy: 0.7597\n",
            "Epoch 74/100\n",
            "11/11 [==============================] - 0s 6ms/step - loss: 0.2824 - accuracy: 0.8913 - val_loss: 0.6794 - val_accuracy: 0.7674\n",
            "Epoch 75/100\n",
            "11/11 [==============================] - 0s 5ms/step - loss: 0.3202 - accuracy: 0.8816 - val_loss: 0.6770 - val_accuracy: 0.7674\n",
            "Epoch 76/100\n",
            "11/11 [==============================] - 0s 5ms/step - loss: 0.3283 - accuracy: 0.8796 - val_loss: 0.6513 - val_accuracy: 0.7597\n",
            "Epoch 77/100\n",
            "11/11 [==============================] - 0s 5ms/step - loss: 0.2981 - accuracy: 0.8757 - val_loss: 0.6544 - val_accuracy: 0.7519\n",
            "Epoch 78/100\n",
            "11/11 [==============================] - 0s 5ms/step - loss: 0.3176 - accuracy: 0.8738 - val_loss: 0.6510 - val_accuracy: 0.7674\n"
          ],
          "name": "stdout"
        }
      ]
    },
    {
      "cell_type": "code",
      "metadata": {
        "id": "KKEPzYrzUEhQ",
        "colab_type": "code",
        "colab": {
          "base_uri": "https://localhost:8080/",
          "height": 68
        },
        "outputId": "d2d9b70b-5743-4d68-e973-196d4077d3d9"
      },
      "source": [
        "# evaluate the model\n",
        "_, train_acc = model.evaluate(train_features, y_train)\n",
        "_, test_acc = model.evaluate(test_features, y_test)\n",
        "print('Train: %.3f, Test: %.3f' % (train_acc, test_acc))"
      ],
      "execution_count": null,
      "outputs": [
        {
          "output_type": "stream",
          "text": [
            "21/21 [==============================] - 0s 2ms/step - loss: 0.1460 - accuracy: 0.9503\n",
            "6/6 [==============================] - 0s 2ms/step - loss: 0.5464 - accuracy: 0.8199\n",
            "Train: 0.950, Test: 0.820\n"
          ],
          "name": "stdout"
        }
      ]
    },
    {
      "cell_type": "code",
      "metadata": {
        "id": "swVV9bJ1WFQI",
        "colab_type": "code",
        "colab": {
          "base_uri": "https://localhost:8080/",
          "height": 551
        },
        "outputId": "ef3d8882-1568-4845-abef-fe706ef998c0"
      },
      "source": [
        "# plot the loss and accuracy\n",
        "import matplotlib.pyplot as plt\n",
        "%matplotlib inline\n",
        "\n",
        "acc = history.history['accuracy']\n",
        "val_acc = history.history['val_accuracy']\n",
        "loss = history.history['loss']\n",
        "val_loss = history.history['val_loss']\n",
        "epochs = range(1, len(acc) + 1)\n",
        "\n",
        "plt.title('Training and validation accuracy')\n",
        "plt.plot(epochs, acc, 'blue', label='Training accuracy')\n",
        "plt.plot(epochs, val_acc, 'red', label='Validation accuracy')\n",
        "plt.legend()\n",
        "\n",
        "plt.figure()\n",
        "plt.title('Training and validation loss')\n",
        "plt.plot(epochs, loss, 'blue', label='Training loss')\n",
        "plt.plot(epochs, val_loss, 'red', label='Validation loss')\n",
        "\n",
        "plt.legend()\n",
        "\n",
        "plt.show()"
      ],
      "execution_count": null,
      "outputs": [
        {
          "output_type": "display_data",
          "data": {
            "image/png": "[encoded data removed]",
            "text/plain": [
              "<Figure size 432x288 with 1 Axes>"
            ]
          },
          "metadata": {
            "tags": [],
            "needs_background": "light"
          }
        },
        {
          "output_type": "display_data",
          "data": {
            "image/png": "[encoded data removed]",
            "text/plain": [
              "<Figure size 432x288 with 1 Axes>"
            ]
          },
          "metadata": {
            "tags": [],
            "needs_background": "light"
          }
        }
      ]
    },
    {
      "cell_type": "code",
      "metadata": {
        "id": "xbvzpGf4Ublv",
        "colab_type": "code",
        "colab": {
          "base_uri": "https://localhost:8080/",
          "height": 85
        },
        "outputId": "61b0da05-8bf1-4d8b-802b-0a17b41673a8"
      },
      "source": [
        "k_model=KerasClassifier(build_fn=create_model, epochs=100, batch_size=50, verbose=1)\n",
        "kfold = KFold(n_splits=10, shuffle=True, random_state=13)\n",
        "results=cross_val_score(k_model,train_features, y_train,cv=kfold,verbose=10, n_jobs = -1)"
      ],
      "execution_count": null,
      "outputs": [
        {
          "output_type": "stream",
          "text": [
            "[Parallel(n_jobs=-1)]: Using backend LokyBackend with 2 concurrent workers.\n",
            "[Parallel(n_jobs=-1)]: Done   1 tasks      | elapsed:   12.5s\n",
            "[Parallel(n_jobs=-1)]: Done   4 tasks      | elapsed:   20.3s\n",
            "[Parallel(n_jobs=-1)]: Done  10 out of  10 | elapsed:   43.3s finished\n"
          ],
          "name": "stderr"
        }
      ]
    },
    {
      "cell_type": "code",
      "metadata": {
        "id": "sGslRGjIVCFu",
        "colab_type": "code",
        "colab": {
          "base_uri": "https://localhost:8080/",
          "height": 34
        },
        "outputId": "f8c3ba0f-ecdd-45c5-8362-eeb57cf3c481"
      },
      "source": [
        "print(\"Baseline: %.2f%% (%.2f%%)\" % (results.mean()*100, results.std()*100))"
      ],
      "execution_count": null,
      "outputs": [
        {
          "output_type": "stream",
          "text": [
            "Baseline: 76.55% (4.25%)\n"
          ],
          "name": "stdout"
        }
      ]
    },
    {
      "cell_type": "code",
      "metadata": {
        "id": "FjI5r32jY80r",
        "colab_type": "code",
        "colab": {
          "base_uri": "https://localhost:8080/",
          "height": 207
        },
        "outputId": "e4cc7afe-6010-45e1-ff95-3de0412412eb"
      },
      "source": [
        "k_model=KerasClassifier(build_fn=create_model, epochs=100, batch_size=50, verbose=1)\n",
        "kfold = KFold(n_splits=20, shuffle=True, random_state=13)\n",
        "results1 =cross_val_score(k_model,train_features, y_train,cv=kfold,verbose=10, n_jobs = -1)\n",
        "print(\"Baseline: %.2f%% (%.2f%%)\" % (results1.mean()*100, results1.std()*100))"
      ],
      "execution_count": null,
      "outputs": [
        {
          "output_type": "stream",
          "text": [
            "[Parallel(n_jobs=-1)]: Using backend LokyBackend with 2 concurrent workers.\n",
            "[Parallel(n_jobs=-1)]: Done   1 tasks      | elapsed:    8.1s\n",
            "[Parallel(n_jobs=-1)]: Done   4 tasks      | elapsed:   16.4s\n",
            "[Parallel(n_jobs=-1)]: Done   9 tasks      | elapsed:   41.2s\n",
            "[Parallel(n_jobs=-1)]: Done  14 tasks      | elapsed:   57.6s\n",
            "/usr/local/lib/python3.6/dist-packages/joblib/externals/loky/process_executor.py:691: UserWarning: A worker stopped while some jobs were given to the executor. This can be caused by a too short worker timeout or by a memory leak.\n",
            "  \"timeout or by a memory leak.\", UserWarning\n"
          ],
          "name": "stderr"
        },
        {
          "output_type": "stream",
          "text": [
            "Baseline: 77.51% (7.00%)\n"
          ],
          "name": "stdout"
        },
        {
          "output_type": "stream",
          "text": [
            "[Parallel(n_jobs=-1)]: Done  20 out of  20 | elapsed:  1.4min remaining:    0.0s\n",
            "[Parallel(n_jobs=-1)]: Done  20 out of  20 | elapsed:  1.4min finished\n"
          ],
          "name": "stderr"
        }
      ]
    },
    {
      "cell_type": "code",
      "metadata": {
        "id": "w4zu0WHjuU92",
        "colab_type": "code",
        "colab": {
          "base_uri": "https://localhost:8080/",
          "height": 241
        },
        "outputId": "7b725c5f-9644-46ec-806d-34f5665bd2b9"
      },
      "source": [
        "k_model=KerasClassifier(build_fn=create_model, epochs=100, batch_size=50, verbose=1)\n",
        "kfold = KFold(n_splits=50, shuffle=True, random_state=13)\n",
        "results1 =cross_val_score(k_model,train_features, y_train,cv=kfold,verbose=10, n_jobs = -1)"
      ],
      "execution_count": null,
      "outputs": [
        {
          "output_type": "stream",
          "text": [
            "[Parallel(n_jobs=-1)]: Using backend LokyBackend with 2 concurrent workers.\n",
            "[Parallel(n_jobs=-1)]: Done   1 tasks      | elapsed:    8.4s\n",
            "[Parallel(n_jobs=-1)]: Done   4 tasks      | elapsed:   16.9s\n",
            "[Parallel(n_jobs=-1)]: Done   9 tasks      | elapsed:   41.6s\n",
            "[Parallel(n_jobs=-1)]: Done  14 tasks      | elapsed:   59.1s\n",
            "[Parallel(n_jobs=-1)]: Done  21 tasks      | elapsed:  1.5min\n",
            "/usr/local/lib/python3.6/dist-packages/joblib/externals/loky/process_executor.py:691: UserWarning: A worker stopped while some jobs were given to the executor. This can be caused by a too short worker timeout or by a memory leak.\n",
            "  \"timeout or by a memory leak.\", UserWarning\n",
            "[Parallel(n_jobs=-1)]: Done  28 tasks      | elapsed:  2.1min\n",
            "[Parallel(n_jobs=-1)]: Done  37 tasks      | elapsed:  2.6min\n",
            "[Parallel(n_jobs=-1)]: Done  46 tasks      | elapsed:  3.3min\n",
            "[Parallel(n_jobs=-1)]: Done  50 out of  50 | elapsed:  3.6min finished\n"
          ],
          "name": "stderr"
        }
      ]
    },
    {
      "cell_type": "code",
      "metadata": {
        "id": "1XyzOA0CufKe",
        "colab_type": "code",
        "colab": {
          "base_uri": "https://localhost:8080/",
          "height": 34
        },
        "outputId": "9db8cd28-043c-4ecf-f0b9-9bee93745cf8"
      },
      "source": [
        "print(\"Baseline: %.2f%% (%.2f%%)\" % (results1.mean()*100, results1.std()*100))"
      ],
      "execution_count": null,
      "outputs": [
        {
          "output_type": "stream",
          "text": [
            "Baseline: 77.24% (9.61%)\n"
          ],
          "name": "stdout"
        }
      ]
    },
    {
      "cell_type": "markdown",
      "metadata": {
        "id": "LkeHV8m8WFQK",
        "colab_type": "text"
      },
      "source": [
        "### Model Prediction Class Wise"
      ]
    },
    {
      "cell_type": "code",
      "metadata": {
        "id": "K0bTK4qHWFQM",
        "colab_type": "code",
        "colab": {}
      },
      "source": [
        "classes = np.array(df.columns[1:])\n",
        "proba = model.predict(test_features)"
      ],
      "execution_count": null,
      "outputs": []
    },
    {
      "cell_type": "code",
      "metadata": {
        "id": "jAvdRcIAWFQS",
        "colab_type": "code",
        "colab": {
          "base_uri": "https://localhost:8080/",
          "height": 102
        },
        "outputId": "43604b35-3dd6-41b1-d7ea-bff2e1153f12"
      },
      "source": [
        "all_5 = np.argsort(proba[0])\n",
        "for i in range(5):\n",
        "    print(\"{}\".format(classes[all_5[i]])+\" ({:.3})\".format(proba[0][all_5[i]]*100))"
      ],
      "execution_count": null,
      "outputs": [
        {
          "output_type": "stream",
          "text": [
            "category_Cigarette (0.00335)\n",
            "category_Clear plastic bottle (0.00962)\n",
            "category_Drink can (0.174)\n",
            "category_Plastic film (1.02)\n",
            "category_Plastic straw (98.8)\n"
          ],
          "name": "stdout"
        }
      ]
    }
  ]
}