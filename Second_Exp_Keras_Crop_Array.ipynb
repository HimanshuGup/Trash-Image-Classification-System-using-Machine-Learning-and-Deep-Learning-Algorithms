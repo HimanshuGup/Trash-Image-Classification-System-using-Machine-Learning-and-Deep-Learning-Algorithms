{
  "nbformat": 4,
  "nbformat_minor": 0,
  "metadata": {
    "colab": {
      "name": "Second_Exp_Keras_Crop_Array.ipynb",
      "provenance": [],
      "collapsed_sections": []
    },
    "kernelspec": {
      "name": "python3",
      "display_name": "Python 3"
    }
  },
  "cells": [
    {
      "cell_type": "code",
      "metadata": {
        "id": "n3CuAPzqiEFh",
        "colab_type": "code",
        "colab": {
          "base_uri": "https://localhost:8080/",
          "height": 34
        },
        "outputId": "2a484669-1d07-4850-8723-9fcea1c1d9d4"
      },
      "source": [
        "import pandas as pd\n",
        "import tensorflow as tf\n",
        "print(tf.__version__)"
      ],
      "execution_count": 1,
      "outputs": [
        {
          "output_type": "stream",
          "text": [
            "2.3.0\n"
          ],
          "name": "stdout"
        }
      ]
    },
    {
      "cell_type": "code",
      "metadata": {
        "id": "VmKiyfYmefUR",
        "colab_type": "code",
        "colab": {}
      },
      "source": [
        "%matplotlib inline\n",
        "import json\n",
        "import numpy as np\n",
        "import matplotlib.pyplot as plt\n",
        "from matplotlib import pyplot\n",
        "\n",
        "# Data Processing \n",
        "import os\n",
        "import os.path\n",
        "import random\n",
        "import PIL\n",
        "import glob\n",
        "from PIL import Image # to read images"
      ],
      "execution_count": 2,
      "outputs": []
    },
    {
      "cell_type": "markdown",
      "metadata": {
        "id": "HEDNizZeejrN",
        "colab_type": "text"
      },
      "source": [
        "Use Keras Model Architecture"
      ]
    },
    {
      "cell_type": "code",
      "metadata": {
        "id": "gCg7MlxHemy7",
        "colab_type": "code",
        "colab": {}
      },
      "source": [
        "#For Keras model\n",
        "import keras\n",
        "from keras.models import Sequential\n",
        "from keras.layers import Dense, Dropout, Flatten, Activation, BatchNormalization\n",
        "from keras.layers import Conv2D, MaxPooling2D\n",
        "from keras.utils import to_categorical\n",
        "from keras.preprocessing import image\n",
        "from keras.callbacks import EarlyStopping\n",
        "from keras.wrappers.scikit_learn import KerasClassifier"
      ],
      "execution_count": 40,
      "outputs": []
    },
    {
      "cell_type": "code",
      "metadata": {
        "id": "mUhTSjirem16",
        "colab_type": "code",
        "colab": {}
      },
      "source": [
        "from sklearn.model_selection import train_test_split, KFold, cross_val_score\n",
        "from sklearn.metrics import accuracy_score"
      ],
      "execution_count": 43,
      "outputs": []
    },
    {
      "cell_type": "code",
      "metadata": {
        "id": "dMm9bU4uem7R",
        "colab_type": "code",
        "colab": {
          "base_uri": "https://localhost:8080/",
          "height": 122
        },
        "outputId": "107304e8-ea1e-4a06-da0a-f08fda24c708"
      },
      "source": [
        "from google.colab import drive\n",
        "drive.mount('/content/drive')"
      ],
      "execution_count": 9,
      "outputs": [
        {
          "output_type": "stream",
          "text": [
            "Go to this URL in a browser: https://accounts.google.com/o/oauth2/auth?client_id=947318989803-6bn6qk8qdgf4n4g3pfee6491hc0brc4i.apps.googleusercontent.com&redirect_uri=urn%3aietf%3awg%3aoauth%3a2.0%3aoob&response_type=code&scope=email%20https%3a%2f%2fwww.googleapis.com%2fauth%2fdocs.test%20https%3a%2f%2fwww.googleapis.com%2fauth%2fdrive%20https%3a%2f%2fwww.googleapis.com%2fauth%2fdrive.photos.readonly%20https%3a%2f%2fwww.googleapis.com%2fauth%2fpeopleapi.readonly\n",
            "\n",
            "Enter your authorization code:\n",
            "··········\n",
            "Mounted at /content/drive\n"
          ],
          "name": "stdout"
        }
      ]
    },
    {
      "cell_type": "markdown",
      "metadata": {
        "id": "8ENRvfYke10t",
        "colab_type": "text"
      },
      "source": [
        "Dataset Preparation"
      ]
    },
    {
      "cell_type": "code",
      "metadata": {
        "id": "anhWnXY4enA2",
        "colab_type": "code",
        "colab": {}
      },
      "source": [
        "path = \"/content/drive/My Drive/\"\n",
        "anns_file_path = \"/content/drive/My Drive/annotations.json\""
      ],
      "execution_count": 10,
      "outputs": []
    },
    {
      "cell_type": "code",
      "metadata": {
        "id": "XJVn38XWem-s",
        "colab_type": "code",
        "colab": {}
      },
      "source": [
        "# Read Annotations\n",
        "with open(anns_file_path , 'r') as f:\n",
        "    dataset = json.loads(f.read())"
      ],
      "execution_count": 11,
      "outputs": []
    },
    {
      "cell_type": "code",
      "metadata": {
        "id": "rcVJJWn4em5Y",
        "colab_type": "code",
        "colab": {
          "base_uri": "https://localhost:8080/",
          "height": 34
        },
        "outputId": "683ef70a-feba-45c3-bca4-0e699f03f2af"
      },
      "source": [
        "categories = dataset['categories']\n",
        "anns = dataset['annotations']\n",
        "imgs = dataset['images']\n",
        "nr_cats = len(categories)\n",
        "nr_annotations = len(anns)\n",
        "nr_images = len(imgs)\n",
        "\n",
        "print(nr_images) # Total Number of images"
      ],
      "execution_count": 12,
      "outputs": [
        {
          "output_type": "stream",
          "text": [
            "1500\n"
          ],
          "name": "stdout"
        }
      ]
    },
    {
      "cell_type": "code",
      "metadata": {
        "id": "cJ9MVQFTe8dj",
        "colab_type": "code",
        "colab": {}
      },
      "source": [
        "# category Dataframe and  Select 'six new Category(ouput classes)' for category Dataframe\n",
        "cat_df = pd.DataFrame(categories)\n",
        "keyValList = ['Cigarette','Clear plastic bottle','Drink can','Plastic straw','Glass bottle']\n",
        "category_df = pd.DataFrame([d for d in categories if d['name'] in keyValList])\n",
        "\n",
        "# Annotation Dataframe\n",
        "ann_df = pd.DataFrame(anns)\n",
        "# Images Dataframe\n",
        "image_df = pd.DataFrame(imgs)"
      ],
      "execution_count": 13,
      "outputs": []
    },
    {
      "cell_type": "code",
      "metadata": {
        "id": "L6n-ZV3Ge8i-",
        "colab_type": "code",
        "colab": {}
      },
      "source": [
        "# Dropping unncessary columns for Keras fundamental CNN model\n",
        "category_df = category_df.drop(['supercategory'], axis = 1)\n",
        "image_df = image_df.drop(['license','flickr_url','coco_url','date_captured','flickr_640_url'], axis=1)\n",
        "ann_df = ann_df.drop(['id'], axis=1)"
      ],
      "execution_count": 14,
      "outputs": []
    },
    {
      "cell_type": "code",
      "metadata": {
        "id": "LRqISLYQe8ob",
        "colab_type": "code",
        "colab": {
          "base_uri": "https://localhost:8080/",
          "height": 204
        },
        "outputId": "f81add07-4cce-4730-b964-39be1af53da0"
      },
      "source": [
        "merged_img_ann_df = pd.merge(left=image_df, right=ann_df, left_on='id', right_on='image_id')\n",
        "final_merged_df = pd.merge(left=merged_img_ann_df, right=category_df, left_on='category_id', right_on='id') \n",
        "final_merged_df = final_merged_df.drop(['id_x','id_y','category_id','image_id','width','height'], axis = 1 )\n",
        "final_merged_df = final_merged_df.rename(columns={\"file_name\": \"filename\", \"name\": \"category\"})\n",
        "final_merged_df.head()"
      ],
      "execution_count": 15,
      "outputs": [
        {
          "output_type": "execute_result",
          "data": {
            "text/html": [
              "<div>\n",
              "<style scoped>\n",
              "    .dataframe tbody tr th:only-of-type {\n",
              "        vertical-align: middle;\n",
              "    }\n",
              "\n",
              "    .dataframe tbody tr th {\n",
              "        vertical-align: top;\n",
              "    }\n",
              "\n",
              "    .dataframe thead th {\n",
              "        text-align: right;\n",
              "    }\n",
              "</style>\n",
              "<table border=\"1\" class=\"dataframe\">\n",
              "  <thead>\n",
              "    <tr style=\"text-align: right;\">\n",
              "      <th></th>\n",
              "      <th>filename</th>\n",
              "      <th>segmentation</th>\n",
              "      <th>area</th>\n",
              "      <th>bbox</th>\n",
              "      <th>iscrowd</th>\n",
              "      <th>category</th>\n",
              "    </tr>\n",
              "  </thead>\n",
              "  <tbody>\n",
              "    <tr>\n",
              "      <th>0</th>\n",
              "      <td>batch_1/000006.jpg</td>\n",
              "      <td>[[561.0, 1238.0, 568.0, 1201.0, 567.0, 1175.0,...</td>\n",
              "      <td>403954.0</td>\n",
              "      <td>[517.0, 127.0, 447.0, 1322.0]</td>\n",
              "      <td>0</td>\n",
              "      <td>Glass bottle</td>\n",
              "    </tr>\n",
              "    <tr>\n",
              "      <th>1</th>\n",
              "      <td>batch_1/000012.jpg</td>\n",
              "      <td>[[481.0, 1148.0, 505.0, 1163.0, 519.0, 1172.0,...</td>\n",
              "      <td>43489.0</td>\n",
              "      <td>[379.0, 1127.0, 425.0, 318.0]</td>\n",
              "      <td>0</td>\n",
              "      <td>Glass bottle</td>\n",
              "    </tr>\n",
              "    <tr>\n",
              "      <th>2</th>\n",
              "      <td>batch_1/000048.jpg</td>\n",
              "      <td>[[586.0, 820.0, 581.0, 851.0, 579.0, 889.0, 58...</td>\n",
              "      <td>324005.0</td>\n",
              "      <td>[211.0, 1.0, 417.0, 1417.0]</td>\n",
              "      <td>0</td>\n",
              "      <td>Glass bottle</td>\n",
              "    </tr>\n",
              "    <tr>\n",
              "      <th>3</th>\n",
              "      <td>batch_1/000021.jpg</td>\n",
              "      <td>[[1001.0, 867.0, 1163.0, 905.0, 1199.0, 913.0,...</td>\n",
              "      <td>95494.5</td>\n",
              "      <td>[852.0, 638.0, 687.0, 291.0]</td>\n",
              "      <td>0</td>\n",
              "      <td>Glass bottle</td>\n",
              "    </tr>\n",
              "    <tr>\n",
              "      <th>4</th>\n",
              "      <td>batch_1/000022.jpg</td>\n",
              "      <td>[[919.0, 1125.0, 968.0, 1111.0, 1000.0, 1100.0...</td>\n",
              "      <td>142823.0</td>\n",
              "      <td>[647.0, 1033.0, 820.0, 376.0]</td>\n",
              "      <td>0</td>\n",
              "      <td>Glass bottle</td>\n",
              "    </tr>\n",
              "  </tbody>\n",
              "</table>\n",
              "</div>"
            ],
            "text/plain": [
              "             filename  ...      category\n",
              "0  batch_1/000006.jpg  ...  Glass bottle\n",
              "1  batch_1/000012.jpg  ...  Glass bottle\n",
              "2  batch_1/000048.jpg  ...  Glass bottle\n",
              "3  batch_1/000021.jpg  ...  Glass bottle\n",
              "4  batch_1/000022.jpg  ...  Glass bottle\n",
              "\n",
              "[5 rows x 6 columns]"
            ]
          },
          "metadata": {
            "tags": []
          },
          "execution_count": 15
        }
      ]
    },
    {
      "cell_type": "code",
      "metadata": {
        "id": "a1VSMSeSe8ul",
        "colab_type": "code",
        "colab": {}
      },
      "source": [
        "# New Dataframe with selective columns\n",
        "df = final_merged_df[['filename','bbox','category']]"
      ],
      "execution_count": 16,
      "outputs": []
    },
    {
      "cell_type": "code",
      "metadata": {
        "id": "SxncM5fke86f",
        "colab_type": "code",
        "colab": {}
      },
      "source": [
        "# storing bounding box values as seperate columns\n",
        "df = pd.concat([df , df['bbox'].apply(pd.Series)], axis = 1)\n",
        "df.columns = ['filename','bbox','category', 'x_min','y_min','x_max', 'y_max'] # x_max : width and y_max : height\n",
        "df = df.drop(['bbox',], axis=1)"
      ],
      "execution_count": 17,
      "outputs": []
    },
    {
      "cell_type": "code",
      "metadata": {
        "id": "ZZ8f6Jdte9Eb",
        "colab_type": "code",
        "colab": {}
      },
      "source": [
        "# Calculate maximum x and maximum y points\n",
        "df['x_max'] = df['x_max']+df['x_min'] \n",
        "df['y_max'] = df['y_max']+df['y_min']\n",
        "# Convert float columns to integer\n",
        "for col in  df.columns[2:]:\n",
        "    df[col] = df[col].astype(int)"
      ],
      "execution_count": 18,
      "outputs": []
    },
    {
      "cell_type": "markdown",
      "metadata": {
        "id": "zkK_VPMgBGsS",
        "colab_type": "text"
      },
      "source": [
        "Add padding to the bounding boxes"
      ]
    },
    {
      "cell_type": "code",
      "metadata": {
        "id": "uXtyTn4rFRLc",
        "colab_type": "code",
        "colab": {}
      },
      "source": [
        "padding = 20"
      ],
      "execution_count": 19,
      "outputs": []
    },
    {
      "cell_type": "code",
      "metadata": {
        "id": "cG5W8em1A0BE",
        "colab_type": "code",
        "colab": {}
      },
      "source": [
        "df['x_min'] = df['x_min'] - padding\n",
        "df['y_min'] = df['y_min'] - padding\n",
        "df['x_max'] = df['x_max'] + padding\n",
        "df['y_max'] = df['y_max'] + padding"
      ],
      "execution_count": 20,
      "outputs": []
    },
    {
      "cell_type": "code",
      "metadata": {
        "id": "tr1uIm-mFXtZ",
        "colab_type": "code",
        "colab": {
          "base_uri": "https://localhost:8080/",
          "height": 204
        },
        "outputId": "cdbf9422-45e3-4442-eab4-7fceffff1b42"
      },
      "source": [
        "df.head()"
      ],
      "execution_count": 21,
      "outputs": [
        {
          "output_type": "execute_result",
          "data": {
            "text/html": [
              "<div>\n",
              "<style scoped>\n",
              "    .dataframe tbody tr th:only-of-type {\n",
              "        vertical-align: middle;\n",
              "    }\n",
              "\n",
              "    .dataframe tbody tr th {\n",
              "        vertical-align: top;\n",
              "    }\n",
              "\n",
              "    .dataframe thead th {\n",
              "        text-align: right;\n",
              "    }\n",
              "</style>\n",
              "<table border=\"1\" class=\"dataframe\">\n",
              "  <thead>\n",
              "    <tr style=\"text-align: right;\">\n",
              "      <th></th>\n",
              "      <th>filename</th>\n",
              "      <th>category</th>\n",
              "      <th>x_min</th>\n",
              "      <th>y_min</th>\n",
              "      <th>x_max</th>\n",
              "      <th>y_max</th>\n",
              "    </tr>\n",
              "  </thead>\n",
              "  <tbody>\n",
              "    <tr>\n",
              "      <th>0</th>\n",
              "      <td>batch_1/000006.jpg</td>\n",
              "      <td>Glass bottle</td>\n",
              "      <td>497</td>\n",
              "      <td>107</td>\n",
              "      <td>984</td>\n",
              "      <td>1469</td>\n",
              "    </tr>\n",
              "    <tr>\n",
              "      <th>1</th>\n",
              "      <td>batch_1/000012.jpg</td>\n",
              "      <td>Glass bottle</td>\n",
              "      <td>359</td>\n",
              "      <td>1107</td>\n",
              "      <td>824</td>\n",
              "      <td>1465</td>\n",
              "    </tr>\n",
              "    <tr>\n",
              "      <th>2</th>\n",
              "      <td>batch_1/000048.jpg</td>\n",
              "      <td>Glass bottle</td>\n",
              "      <td>191</td>\n",
              "      <td>-19</td>\n",
              "      <td>648</td>\n",
              "      <td>1438</td>\n",
              "    </tr>\n",
              "    <tr>\n",
              "      <th>3</th>\n",
              "      <td>batch_1/000021.jpg</td>\n",
              "      <td>Glass bottle</td>\n",
              "      <td>832</td>\n",
              "      <td>618</td>\n",
              "      <td>1559</td>\n",
              "      <td>949</td>\n",
              "    </tr>\n",
              "    <tr>\n",
              "      <th>4</th>\n",
              "      <td>batch_1/000022.jpg</td>\n",
              "      <td>Glass bottle</td>\n",
              "      <td>627</td>\n",
              "      <td>1013</td>\n",
              "      <td>1487</td>\n",
              "      <td>1429</td>\n",
              "    </tr>\n",
              "  </tbody>\n",
              "</table>\n",
              "</div>"
            ],
            "text/plain": [
              "             filename      category  x_min  y_min  x_max  y_max\n",
              "0  batch_1/000006.jpg  Glass bottle    497    107    984   1469\n",
              "1  batch_1/000012.jpg  Glass bottle    359   1107    824   1465\n",
              "2  batch_1/000048.jpg  Glass bottle    191    -19    648   1438\n",
              "3  batch_1/000021.jpg  Glass bottle    832    618   1559    949\n",
              "4  batch_1/000022.jpg  Glass bottle    627   1013   1487   1429"
            ]
          },
          "metadata": {
            "tags": []
          },
          "execution_count": 21
        }
      ]
    },
    {
      "cell_type": "markdown",
      "metadata": {
        "id": "Kyby_bJmfXKY",
        "colab_type": "text"
      },
      "source": [
        "Fetch the images and crop it using bbox"
      ]
    },
    {
      "cell_type": "code",
      "metadata": {
        "id": "5sU5TvWte896",
        "colab_type": "code",
        "colab": {}
      },
      "source": [
        "train_data = []  \n",
        "for ind in df.index:\n",
        "    bbox = (df['x_min'][ind],df['y_min'][ind],df['x_max'][ind],df['y_max'][ind])\n",
        "    img=Image.open(os.path.join(path+'data/'+df['filename'][ind]))\n",
        "    img=img.crop(bbox)\n",
        "    img = img.resize((128, 128), Image.ANTIALIAS)\n",
        "    img = image.img_to_array(img)\n",
        "    # Save image\n",
        "    train_data.append(img)"
      ],
      "execution_count": 22,
      "outputs": []
    },
    {
      "cell_type": "code",
      "metadata": {
        "id": "7kmlxE3Vn7gS",
        "colab_type": "code",
        "colab": {
          "base_uri": "https://localhost:8080/",
          "height": 34
        },
        "outputId": "b51c256a-2f94-41cc-c615-a997f3e55435"
      },
      "source": [
        "X = np.array(train_data)\n",
        "print(X.shape)"
      ],
      "execution_count": 23,
      "outputs": [
        {
          "output_type": "stream",
          "text": [
            "(1442, 128, 128, 3)\n"
          ],
          "name": "stdout"
        }
      ]
    },
    {
      "cell_type": "code",
      "metadata": {
        "id": "L0h92Yrfi-OF",
        "colab_type": "code",
        "colab": {
          "base_uri": "https://localhost:8080/",
          "height": 204
        },
        "outputId": "a4678517-2452-4a94-8e43-9aa545e2d164"
      },
      "source": [
        "# Create dummy variables\n",
        "df = df.drop(['x_min','x_max','y_min','y_max'], axis=1)\n",
        "df = pd.get_dummies(df, columns=[\"category\"])\n",
        "df.head()"
      ],
      "execution_count": 24,
      "outputs": [
        {
          "output_type": "execute_result",
          "data": {
            "text/html": [
              "<div>\n",
              "<style scoped>\n",
              "    .dataframe tbody tr th:only-of-type {\n",
              "        vertical-align: middle;\n",
              "    }\n",
              "\n",
              "    .dataframe tbody tr th {\n",
              "        vertical-align: top;\n",
              "    }\n",
              "\n",
              "    .dataframe thead th {\n",
              "        text-align: right;\n",
              "    }\n",
              "</style>\n",
              "<table border=\"1\" class=\"dataframe\">\n",
              "  <thead>\n",
              "    <tr style=\"text-align: right;\">\n",
              "      <th></th>\n",
              "      <th>filename</th>\n",
              "      <th>category_Cigarette</th>\n",
              "      <th>category_Clear plastic bottle</th>\n",
              "      <th>category_Drink can</th>\n",
              "      <th>category_Glass bottle</th>\n",
              "      <th>category_Plastic straw</th>\n",
              "    </tr>\n",
              "  </thead>\n",
              "  <tbody>\n",
              "    <tr>\n",
              "      <th>0</th>\n",
              "      <td>batch_1/000006.jpg</td>\n",
              "      <td>0</td>\n",
              "      <td>0</td>\n",
              "      <td>0</td>\n",
              "      <td>1</td>\n",
              "      <td>0</td>\n",
              "    </tr>\n",
              "    <tr>\n",
              "      <th>1</th>\n",
              "      <td>batch_1/000012.jpg</td>\n",
              "      <td>0</td>\n",
              "      <td>0</td>\n",
              "      <td>0</td>\n",
              "      <td>1</td>\n",
              "      <td>0</td>\n",
              "    </tr>\n",
              "    <tr>\n",
              "      <th>2</th>\n",
              "      <td>batch_1/000048.jpg</td>\n",
              "      <td>0</td>\n",
              "      <td>0</td>\n",
              "      <td>0</td>\n",
              "      <td>1</td>\n",
              "      <td>0</td>\n",
              "    </tr>\n",
              "    <tr>\n",
              "      <th>3</th>\n",
              "      <td>batch_1/000021.jpg</td>\n",
              "      <td>0</td>\n",
              "      <td>0</td>\n",
              "      <td>0</td>\n",
              "      <td>1</td>\n",
              "      <td>0</td>\n",
              "    </tr>\n",
              "    <tr>\n",
              "      <th>4</th>\n",
              "      <td>batch_1/000022.jpg</td>\n",
              "      <td>0</td>\n",
              "      <td>0</td>\n",
              "      <td>0</td>\n",
              "      <td>1</td>\n",
              "      <td>0</td>\n",
              "    </tr>\n",
              "  </tbody>\n",
              "</table>\n",
              "</div>"
            ],
            "text/plain": [
              "             filename  ...  category_Plastic straw\n",
              "0  batch_1/000006.jpg  ...                       0\n",
              "1  batch_1/000012.jpg  ...                       0\n",
              "2  batch_1/000048.jpg  ...                       0\n",
              "3  batch_1/000021.jpg  ...                       0\n",
              "4  batch_1/000022.jpg  ...                       0\n",
              "\n",
              "[5 rows x 6 columns]"
            ]
          },
          "metadata": {
            "tags": []
          },
          "execution_count": 24
        }
      ]
    },
    {
      "cell_type": "markdown",
      "metadata": {
        "id": "_BfpfHXbit1D",
        "colab_type": "text"
      },
      "source": [
        "Drop filename Convert image data into numpy array to get y"
      ]
    },
    {
      "cell_type": "code",
      "metadata": {
        "id": "S-FOgRpEitPb",
        "colab_type": "code",
        "colab": {}
      },
      "source": [
        "y = np.array(df.drop(['filename'],axis=1))"
      ],
      "execution_count": 25,
      "outputs": []
    },
    {
      "cell_type": "code",
      "metadata": {
        "id": "jexzJXeEsl7j",
        "colab_type": "code",
        "colab": {
          "base_uri": "https://localhost:8080/",
          "height": 51
        },
        "outputId": "a2e5a02e-8e99-4673-97af-5cbf7f3a9600"
      },
      "source": [
        "print(y.shape)\n",
        "print(X.shape)"
      ],
      "execution_count": 26,
      "outputs": [
        {
          "output_type": "stream",
          "text": [
            "(1442, 5)\n",
            "(1442, 128, 128, 3)\n"
          ],
          "name": "stdout"
        }
      ]
    },
    {
      "cell_type": "code",
      "metadata": {
        "id": "k48RDrTFfoDa",
        "colab_type": "code",
        "colab": {}
      },
      "source": [
        "# Data split Randomly\n",
        "X_train, X_test, y_train, y_test = train_test_split(X, y, random_state=42, test_size=0.2)"
      ],
      "execution_count": 27,
      "outputs": []
    },
    {
      "cell_type": "code",
      "metadata": {
        "id": "vznZTyT0uj-6",
        "colab_type": "code",
        "colab": {}
      },
      "source": [
        "#X_train1 = tf.convert_to_tensor(X_train)\n",
        "#y_train1 = tf.convert_to_tensor(y_train)"
      ],
      "execution_count": 28,
      "outputs": []
    },
    {
      "cell_type": "markdown",
      "metadata": {
        "id": "g7u3APPEz5JM",
        "colab_type": "text"
      },
      "source": [
        "Build Keras Model"
      ]
    },
    {
      "cell_type": "code",
      "metadata": {
        "id": "1L6vQ16Tz1Z5",
        "colab_type": "code",
        "colab": {
          "base_uri": "https://localhost:8080/",
          "height": 527
        },
        "outputId": "aebc828e-0004-44e3-9aee-71c89776a136"
      },
      "source": [
        "keras_model = Sequential()\n",
        "keras_model.add(Conv2D(filters=32, kernel_size=(3, 3), activation=\"relu\", input_shape=(128,128,3)))\n",
        "keras_model.add(MaxPooling2D(pool_size=(2, 2)))\n",
        "keras_model.add(BatchNormalization())\n",
        "#\n",
        "keras_model.add(Conv2D(filters=64, kernel_size=(3, 3), activation=\"relu\"))\n",
        "keras_model.add(MaxPooling2D(pool_size=(2, 2)))\n",
        "keras_model.add(BatchNormalization())\n",
        "keras_model.add(Dropout(0.5))\n",
        "#\n",
        "keras_model.add(Flatten())\n",
        "keras_model.add(Dense(128, activation='relu'))\n",
        "keras_model.add(Dropout(0.5))\n",
        "keras_model.add(Dense(5, activation='softmax'))\n",
        "\n",
        "keras_model.summary()"
      ],
      "execution_count": 29,
      "outputs": [
        {
          "output_type": "stream",
          "text": [
            "Model: \"sequential\"\n",
            "_________________________________________________________________\n",
            "Layer (type)                 Output Shape              Param #   \n",
            "=================================================================\n",
            "conv2d (Conv2D)              (None, 126, 126, 32)      896       \n",
            "_________________________________________________________________\n",
            "max_pooling2d (MaxPooling2D) (None, 63, 63, 32)        0         \n",
            "_________________________________________________________________\n",
            "batch_normalization (BatchNo (None, 63, 63, 32)        128       \n",
            "_________________________________________________________________\n",
            "conv2d_1 (Conv2D)            (None, 61, 61, 64)        18496     \n",
            "_________________________________________________________________\n",
            "max_pooling2d_1 (MaxPooling2 (None, 30, 30, 64)        0         \n",
            "_________________________________________________________________\n",
            "batch_normalization_1 (Batch (None, 30, 30, 64)        256       \n",
            "_________________________________________________________________\n",
            "dropout (Dropout)            (None, 30, 30, 64)        0         \n",
            "_________________________________________________________________\n",
            "flatten (Flatten)            (None, 57600)             0         \n",
            "_________________________________________________________________\n",
            "dense (Dense)                (None, 128)               7372928   \n",
            "_________________________________________________________________\n",
            "dropout_1 (Dropout)          (None, 128)               0         \n",
            "_________________________________________________________________\n",
            "dense_1 (Dense)              (None, 5)                 645       \n",
            "=================================================================\n",
            "Total params: 7,393,349\n",
            "Trainable params: 7,393,157\n",
            "Non-trainable params: 192\n",
            "_________________________________________________________________\n"
          ],
          "name": "stdout"
        }
      ]
    },
    {
      "cell_type": "code",
      "metadata": {
        "id": "mhIp1moG0ETG",
        "colab_type": "code",
        "colab": {}
      },
      "source": [
        "keras_model.compile(optimizer='adam', loss='categorical_crossentropy', metrics=['accuracy'])"
      ],
      "execution_count": 30,
      "outputs": []
    },
    {
      "cell_type": "code",
      "metadata": {
        "id": "vax9vKnL0EmR",
        "colab_type": "code",
        "colab": {}
      },
      "source": [
        "early_stopper = EarlyStopping(monitor = 'val_loss', patience = 50)"
      ],
      "execution_count": 31,
      "outputs": []
    },
    {
      "cell_type": "code",
      "metadata": {
        "id": "M8XjQYNm0Ejq",
        "colab_type": "code",
        "colab": {
          "base_uri": "https://localhost:8080/",
          "height": 1000
        },
        "outputId": "7c1e3b2e-e913-471e-d148-cf668e4b6b62"
      },
      "source": [
        "# Model fit\n",
        "history = keras_model.fit(X_train, y_train, epochs=100, batch_size=50, validation_split=0.20, callbacks = [early_stopper])"
      ],
      "execution_count": 32,
      "outputs": [
        {
          "output_type": "stream",
          "text": [
            "Epoch 1/100\n",
            "19/19 [==============================] - 21s 1s/step - loss: 9.5848 - accuracy: 0.4306 - val_loss: 18.8971 - val_accuracy: 0.4892\n",
            "Epoch 2/100\n",
            "19/19 [==============================] - 21s 1s/step - loss: 4.2680 - accuracy: 0.6226 - val_loss: 30.5663 - val_accuracy: 0.2294\n",
            "Epoch 3/100\n",
            "19/19 [==============================] - 21s 1s/step - loss: 2.3776 - accuracy: 0.7299 - val_loss: 15.1862 - val_accuracy: 0.4459\n",
            "Epoch 4/100\n",
            "19/19 [==============================] - 21s 1s/step - loss: 1.7198 - accuracy: 0.7972 - val_loss: 11.0005 - val_accuracy: 0.6104\n",
            "Epoch 5/100\n",
            "19/19 [==============================] - 21s 1s/step - loss: 1.1890 - accuracy: 0.7928 - val_loss: 9.3176 - val_accuracy: 0.6277\n",
            "Epoch 6/100\n",
            "19/19 [==============================] - 21s 1s/step - loss: 0.9000 - accuracy: 0.8514 - val_loss: 7.1146 - val_accuracy: 0.6364\n",
            "Epoch 7/100\n",
            "19/19 [==============================] - 21s 1s/step - loss: 0.6405 - accuracy: 0.8590 - val_loss: 8.3371 - val_accuracy: 0.6061\n",
            "Epoch 8/100\n",
            "19/19 [==============================] - 21s 1s/step - loss: 0.4863 - accuracy: 0.9013 - val_loss: 5.4255 - val_accuracy: 0.6494\n",
            "Epoch 9/100\n",
            "19/19 [==============================] - 21s 1s/step - loss: 0.6431 - accuracy: 0.8742 - val_loss: 4.2514 - val_accuracy: 0.6970\n",
            "Epoch 10/100\n",
            "19/19 [==============================] - 21s 1s/step - loss: 0.5799 - accuracy: 0.9002 - val_loss: 4.1299 - val_accuracy: 0.6970\n",
            "Epoch 11/100\n",
            "19/19 [==============================] - 21s 1s/step - loss: 0.2944 - accuracy: 0.9143 - val_loss: 4.0308 - val_accuracy: 0.7013\n",
            "Epoch 12/100\n",
            "19/19 [==============================] - 21s 1s/step - loss: 0.3783 - accuracy: 0.9262 - val_loss: 4.9051 - val_accuracy: 0.6450\n",
            "Epoch 13/100\n",
            "19/19 [==============================] - 21s 1s/step - loss: 0.4096 - accuracy: 0.9078 - val_loss: 3.8248 - val_accuracy: 0.6494\n",
            "Epoch 14/100\n",
            "19/19 [==============================] - 21s 1s/step - loss: 0.3693 - accuracy: 0.9284 - val_loss: 4.3413 - val_accuracy: 0.6623\n",
            "Epoch 15/100\n",
            "19/19 [==============================] - 21s 1s/step - loss: 0.4604 - accuracy: 0.8980 - val_loss: 4.1207 - val_accuracy: 0.6883\n",
            "Epoch 16/100\n",
            "19/19 [==============================] - 21s 1s/step - loss: 0.2683 - accuracy: 0.9187 - val_loss: 2.9023 - val_accuracy: 0.6623\n",
            "Epoch 17/100\n",
            "19/19 [==============================] - 21s 1s/step - loss: 0.3539 - accuracy: 0.9219 - val_loss: 5.3836 - val_accuracy: 0.7013\n",
            "Epoch 18/100\n",
            "19/19 [==============================] - 21s 1s/step - loss: 0.3357 - accuracy: 0.9295 - val_loss: 5.4864 - val_accuracy: 0.6883\n",
            "Epoch 19/100\n",
            "19/19 [==============================] - 21s 1s/step - loss: 0.2735 - accuracy: 0.9284 - val_loss: 4.6203 - val_accuracy: 0.6753\n",
            "Epoch 20/100\n",
            "19/19 [==============================] - 21s 1s/step - loss: 0.2815 - accuracy: 0.9349 - val_loss: 5.1664 - val_accuracy: 0.6753\n",
            "Epoch 21/100\n",
            "19/19 [==============================] - 21s 1s/step - loss: 0.3531 - accuracy: 0.9230 - val_loss: 11.0749 - val_accuracy: 0.6277\n",
            "Epoch 22/100\n",
            "19/19 [==============================] - 23s 1s/step - loss: 0.2579 - accuracy: 0.9458 - val_loss: 5.7082 - val_accuracy: 0.6970\n",
            "Epoch 23/100\n",
            "19/19 [==============================] - 21s 1s/step - loss: 0.3069 - accuracy: 0.9458 - val_loss: 7.2967 - val_accuracy: 0.6840\n",
            "Epoch 24/100\n",
            "19/19 [==============================] - 21s 1s/step - loss: 0.1816 - accuracy: 0.9458 - val_loss: 6.0701 - val_accuracy: 0.6753\n",
            "Epoch 25/100\n",
            "19/19 [==============================] - 21s 1s/step - loss: 0.2110 - accuracy: 0.9577 - val_loss: 6.5673 - val_accuracy: 0.6537\n",
            "Epoch 26/100\n",
            "19/19 [==============================] - 21s 1s/step - loss: 0.2403 - accuracy: 0.9523 - val_loss: 4.9951 - val_accuracy: 0.6667\n",
            "Epoch 27/100\n",
            "19/19 [==============================] - 21s 1s/step - loss: 0.1371 - accuracy: 0.9566 - val_loss: 4.8991 - val_accuracy: 0.6494\n",
            "Epoch 28/100\n",
            "19/19 [==============================] - 21s 1s/step - loss: 0.1625 - accuracy: 0.9610 - val_loss: 7.6505 - val_accuracy: 0.6320\n",
            "Epoch 29/100\n",
            "19/19 [==============================] - 21s 1s/step - loss: 0.2313 - accuracy: 0.9534 - val_loss: 4.7820 - val_accuracy: 0.6407\n",
            "Epoch 30/100\n",
            "19/19 [==============================] - 21s 1s/step - loss: 0.1614 - accuracy: 0.9631 - val_loss: 5.5898 - val_accuracy: 0.6580\n",
            "Epoch 31/100\n",
            "19/19 [==============================] - 21s 1s/step - loss: 0.1485 - accuracy: 0.9610 - val_loss: 8.2571 - val_accuracy: 0.6017\n",
            "Epoch 32/100\n",
            "19/19 [==============================] - 21s 1s/step - loss: 0.2079 - accuracy: 0.9653 - val_loss: 8.2941 - val_accuracy: 0.6580\n",
            "Epoch 33/100\n",
            "19/19 [==============================] - 21s 1s/step - loss: 0.1443 - accuracy: 0.9555 - val_loss: 6.6166 - val_accuracy: 0.6580\n",
            "Epoch 34/100\n",
            "19/19 [==============================] - 21s 1s/step - loss: 0.2452 - accuracy: 0.9610 - val_loss: 6.3477 - val_accuracy: 0.7186\n",
            "Epoch 35/100\n",
            "19/19 [==============================] - 21s 1s/step - loss: 0.2282 - accuracy: 0.9544 - val_loss: 5.4556 - val_accuracy: 0.5931\n",
            "Epoch 36/100\n",
            "19/19 [==============================] - 21s 1s/step - loss: 0.1500 - accuracy: 0.9696 - val_loss: 6.5237 - val_accuracy: 0.7056\n",
            "Epoch 37/100\n",
            "19/19 [==============================] - 21s 1s/step - loss: 0.2780 - accuracy: 0.9685 - val_loss: 6.8204 - val_accuracy: 0.6623\n",
            "Epoch 38/100\n",
            "19/19 [==============================] - 21s 1s/step - loss: 0.1770 - accuracy: 0.9631 - val_loss: 7.2062 - val_accuracy: 0.6883\n",
            "Epoch 39/100\n",
            "19/19 [==============================] - 21s 1s/step - loss: 0.2406 - accuracy: 0.9544 - val_loss: 7.4805 - val_accuracy: 0.6667\n",
            "Epoch 40/100\n",
            "19/19 [==============================] - 21s 1s/step - loss: 0.1809 - accuracy: 0.9620 - val_loss: 6.2100 - val_accuracy: 0.6883\n",
            "Epoch 41/100\n",
            "19/19 [==============================] - 21s 1s/step - loss: 0.1071 - accuracy: 0.9761 - val_loss: 7.6077 - val_accuracy: 0.7100\n",
            "Epoch 42/100\n",
            "19/19 [==============================] - 21s 1s/step - loss: 0.0854 - accuracy: 0.9685 - val_loss: 6.5291 - val_accuracy: 0.7013\n",
            "Epoch 43/100\n",
            "19/19 [==============================] - 20s 1s/step - loss: 0.0575 - accuracy: 0.9772 - val_loss: 7.0333 - val_accuracy: 0.6840\n",
            "Epoch 44/100\n",
            "19/19 [==============================] - 20s 1s/step - loss: 0.0905 - accuracy: 0.9740 - val_loss: 7.4814 - val_accuracy: 0.6883\n",
            "Epoch 45/100\n",
            "19/19 [==============================] - 21s 1s/step - loss: 0.1103 - accuracy: 0.9740 - val_loss: 7.1900 - val_accuracy: 0.6883\n",
            "Epoch 46/100\n",
            "19/19 [==============================] - 21s 1s/step - loss: 0.0966 - accuracy: 0.9685 - val_loss: 6.0294 - val_accuracy: 0.7013\n",
            "Epoch 47/100\n",
            "19/19 [==============================] - 21s 1s/step - loss: 0.0883 - accuracy: 0.9805 - val_loss: 5.1799 - val_accuracy: 0.6753\n",
            "Epoch 48/100\n",
            "19/19 [==============================] - 21s 1s/step - loss: 0.1263 - accuracy: 0.9664 - val_loss: 6.1690 - val_accuracy: 0.6840\n",
            "Epoch 49/100\n",
            "19/19 [==============================] - 21s 1s/step - loss: 0.0840 - accuracy: 0.9794 - val_loss: 6.4422 - val_accuracy: 0.5931\n",
            "Epoch 50/100\n",
            "19/19 [==============================] - 23s 1s/step - loss: 0.2043 - accuracy: 0.9642 - val_loss: 8.7009 - val_accuracy: 0.6840\n",
            "Epoch 51/100\n",
            "19/19 [==============================] - 21s 1s/step - loss: 0.1595 - accuracy: 0.9653 - val_loss: 23.5683 - val_accuracy: 0.5801\n",
            "Epoch 52/100\n",
            "19/19 [==============================] - 22s 1s/step - loss: 0.3174 - accuracy: 0.9620 - val_loss: 18.1992 - val_accuracy: 0.6320\n",
            "Epoch 53/100\n",
            "19/19 [==============================] - 22s 1s/step - loss: 0.2998 - accuracy: 0.9620 - val_loss: 22.4809 - val_accuracy: 0.6364\n",
            "Epoch 54/100\n",
            "19/19 [==============================] - 22s 1s/step - loss: 0.1334 - accuracy: 0.9577 - val_loss: 15.6595 - val_accuracy: 0.6753\n",
            "Epoch 55/100\n",
            "19/19 [==============================] - 22s 1s/step - loss: 0.1865 - accuracy: 0.9707 - val_loss: 14.6318 - val_accuracy: 0.6494\n",
            "Epoch 56/100\n",
            "19/19 [==============================] - 22s 1s/step - loss: 0.2383 - accuracy: 0.9534 - val_loss: 6.9409 - val_accuracy: 0.6840\n",
            "Epoch 57/100\n",
            "19/19 [==============================] - 21s 1s/step - loss: 0.1617 - accuracy: 0.9610 - val_loss: 6.5100 - val_accuracy: 0.6450\n",
            "Epoch 58/100\n",
            "19/19 [==============================] - 21s 1s/step - loss: 0.2274 - accuracy: 0.9675 - val_loss: 11.9890 - val_accuracy: 0.6364\n",
            "Epoch 59/100\n",
            "19/19 [==============================] - 21s 1s/step - loss: 0.2062 - accuracy: 0.9620 - val_loss: 12.7641 - val_accuracy: 0.6537\n",
            "Epoch 60/100\n",
            "19/19 [==============================] - 21s 1s/step - loss: 0.1813 - accuracy: 0.9653 - val_loss: 11.8923 - val_accuracy: 0.7013\n",
            "Epoch 61/100\n",
            "19/19 [==============================] - 22s 1s/step - loss: 0.0980 - accuracy: 0.9729 - val_loss: 9.0011 - val_accuracy: 0.6104\n",
            "Epoch 62/100\n",
            "19/19 [==============================] - 21s 1s/step - loss: 0.2569 - accuracy: 0.9610 - val_loss: 14.1737 - val_accuracy: 0.6407\n",
            "Epoch 63/100\n",
            "19/19 [==============================] - 21s 1s/step - loss: 0.2171 - accuracy: 0.9631 - val_loss: 13.1332 - val_accuracy: 0.6753\n",
            "Epoch 64/100\n",
            "19/19 [==============================] - 21s 1s/step - loss: 0.1901 - accuracy: 0.9599 - val_loss: 7.6735 - val_accuracy: 0.6623\n",
            "Epoch 65/100\n",
            "19/19 [==============================] - 22s 1s/step - loss: 0.1729 - accuracy: 0.9631 - val_loss: 7.1345 - val_accuracy: 0.6710\n",
            "Epoch 66/100\n",
            "19/19 [==============================] - 22s 1s/step - loss: 0.1334 - accuracy: 0.9707 - val_loss: 7.6328 - val_accuracy: 0.7100\n"
          ],
          "name": "stdout"
        }
      ]
    },
    {
      "cell_type": "code",
      "metadata": {
        "id": "A2gzDwv10IcN",
        "colab_type": "code",
        "colab": {
          "base_uri": "https://localhost:8080/",
          "height": 68
        },
        "outputId": "1e0e2ba7-bff2-4a4d-ebce-4e270df211c7"
      },
      "source": [
        "# evaluate the model\n",
        "_, train_acc = keras_model.evaluate(X_train, y_train)\n",
        "_, test_acc = keras_model.evaluate(X_test, y_test)\n",
        "print('Train: %.3f, Test: %.3f' % (train_acc, test_acc))"
      ],
      "execution_count": 33,
      "outputs": [
        {
          "output_type": "stream",
          "text": [
            "37/37 [==============================] - 7s 184ms/step - loss: 1.5524 - accuracy: 0.9358\n",
            "10/10 [==============================] - 2s 157ms/step - loss: 4.9392 - accuracy: 0.6886\n",
            "Train: 0.936, Test: 0.689\n"
          ],
          "name": "stdout"
        }
      ]
    },
    {
      "cell_type": "markdown",
      "metadata": {
        "id": "Bg1wAugcyPwc",
        "colab_type": "text"
      },
      "source": [
        ""
      ]
    },
    {
      "cell_type": "code",
      "metadata": {
        "id": "OAL94_jn0IZO",
        "colab_type": "code",
        "colab": {
          "base_uri": "https://localhost:8080/",
          "height": 180
        },
        "outputId": "2f6f8889-5fa8-4021-fb79-4da5d5b070a3"
      },
      "source": [
        "# plot loss during training\n",
        "pyplot.subplot(211)\n",
        "pyplot.title('Loss')\n",
        "pyplot.plot(history.history['loss'], label='train')\n",
        "pyplot.plot(history.history['val_loss'], label='val')\n",
        "pyplot.legend()"
      ],
      "execution_count": 34,
      "outputs": [
        {
          "output_type": "execute_result",
          "data": {
            "text/plain": [
              "<matplotlib.legend.Legend at 0x7f80cf5823c8>"
            ]
          },
          "metadata": {
            "tags": []
          },
          "execution_count": 34
        },
        {
          "output_type": "display_data",
          "data": {
            "image/png": "[encoded data removed]",
            "text/plain": [
              "<Figure size 432x288 with 1 Axes>"
            ]
          },
          "metadata": {
            "tags": [],
            "needs_background": "light"
          }
        }
      ]
    },
    {
      "cell_type": "code",
      "metadata": {
        "id": "rFkCCPj90OCL",
        "colab_type": "code",
        "colab": {
          "base_uri": "https://localhost:8080/",
          "height": 163
        },
        "outputId": "cd877cdf-70fd-4445-8430-e3c47beac0d5"
      },
      "source": [
        "# plot accuracy during training\n",
        "pyplot.subplot(212)\n",
        "pyplot.title('Accuracy')\n",
        "pyplot.plot(history.history['accuracy'], label='train')\n",
        "pyplot.plot(history.history['val_accuracy'], label='test')\n",
        "pyplot.legend()\n",
        "pyplot.show()"
      ],
      "execution_count": 35,
      "outputs": [
        {
          "output_type": "display_data",
          "data": {
            "image/png": "[encoded data removed]",
            "text/plain": [
              "<Figure size 432x288 with 1 Axes>"
            ]
          },
          "metadata": {
            "tags": [],
            "needs_background": "light"
          }
        }
      ]
    },
    {
      "cell_type": "markdown",
      "metadata": {
        "id": "OzeUMKEJ6tlt",
        "colab_type": "text"
      },
      "source": [
        "Prevention of overfitting Model\n",
        "\n",
        "1. Reduce the number of input/output layers and less neurons\n",
        "2. Stop the model training by reducing early patience to '5'\n"
      ]
    },
    {
      "cell_type": "code",
      "metadata": {
        "id": "4N89gV2F6uyv",
        "colab_type": "code",
        "colab": {
          "base_uri": "https://localhost:8080/",
          "height": 442
        },
        "outputId": "9bd88bb2-4591-4e04-f9ca-668f8562abc6"
      },
      "source": [
        "# New simpler keras model\n",
        "new_model = Sequential()\n",
        "new_model.add(Conv2D(filters=16, kernel_size=(3, 3), activation=\"relu\", input_shape=(128,128,3)))\n",
        "new_model.add(MaxPooling2D(pool_size=(2, 2)))\n",
        "new_model.add(BatchNormalization())\n",
        "new_model.add(Dropout(0.5))\n",
        "#\n",
        "new_model.add(Flatten())\n",
        "new_model.add(Dense(32, activation='relu'))\n",
        "new_model.add(Dropout(0.5))\n",
        "new_model.add(Dense(5, activation='softmax'))\n",
        "print(new_model.summary())\n",
        "new_model.compile(optimizer='adam', loss='categorical_crossentropy', metrics=['accuracy'])\n"
      ],
      "execution_count": 50,
      "outputs": [
        {
          "output_type": "stream",
          "text": [
            "Model: \"sequential_10\"\n",
            "_________________________________________________________________\n",
            "Layer (type)                 Output Shape              Param #   \n",
            "=================================================================\n",
            "conv2d_19 (Conv2D)           (None, 126, 126, 16)      448       \n",
            "_________________________________________________________________\n",
            "max_pooling2d_19 (MaxPooling (None, 63, 63, 16)        0         \n",
            "_________________________________________________________________\n",
            "batch_normalization_19 (Batc (None, 63, 63, 16)        64        \n",
            "_________________________________________________________________\n",
            "dropout_20 (Dropout)         (None, 63, 63, 16)        0         \n",
            "_________________________________________________________________\n",
            "flatten_10 (Flatten)         (None, 63504)             0         \n",
            "_________________________________________________________________\n",
            "dense_20 (Dense)             (None, 32)                2032160   \n",
            "_________________________________________________________________\n",
            "dropout_21 (Dropout)         (None, 32)                0         \n",
            "_________________________________________________________________\n",
            "dense_21 (Dense)             (None, 5)                 165       \n",
            "=================================================================\n",
            "Total params: 2,032,837\n",
            "Trainable params: 2,032,805\n",
            "Non-trainable params: 32\n",
            "_________________________________________________________________\n",
            "None\n"
          ],
          "name": "stdout"
        }
      ]
    },
    {
      "cell_type": "code",
      "metadata": {
        "id": "SFJnGCRw7iKB",
        "colab_type": "code",
        "colab": {}
      },
      "source": [
        "early_stopper = EarlyStopping(monitor = 'val_loss', patience = 5)"
      ],
      "execution_count": 51,
      "outputs": []
    },
    {
      "cell_type": "code",
      "metadata": {
        "id": "TWqSIN9W7mgq",
        "colab_type": "code",
        "colab": {
          "base_uri": "https://localhost:8080/",
          "height": 357
        },
        "outputId": "92bbbac7-aad8-46ff-c166-b015f8f0d73f"
      },
      "source": [
        "# Model fit\n",
        "history_new_model = new_model.fit(X_train, y_train, epochs=100, batch_size=50, validation_split=0.20, callbacks = [early_stopper])"
      ],
      "execution_count": 52,
      "outputs": [
        {
          "output_type": "stream",
          "text": [
            "Epoch 1/100\n",
            "19/19 [==============================] - 7s 394ms/step - loss: 7.2178 - accuracy: 0.4067 - val_loss: 33.7825 - val_accuracy: 0.1558\n",
            "Epoch 2/100\n",
            "19/19 [==============================] - 7s 382ms/step - loss: 3.2813 - accuracy: 0.4957 - val_loss: 10.4247 - val_accuracy: 0.5368\n",
            "Epoch 3/100\n",
            "19/19 [==============================] - 8s 402ms/step - loss: 1.9980 - accuracy: 0.5466 - val_loss: 3.4192 - val_accuracy: 0.5455\n",
            "Epoch 4/100\n",
            "19/19 [==============================] - 7s 378ms/step - loss: 1.6006 - accuracy: 0.5900 - val_loss: 1.7137 - val_accuracy: 0.5671\n",
            "Epoch 5/100\n",
            "19/19 [==============================] - 9s 496ms/step - loss: 1.2512 - accuracy: 0.6236 - val_loss: 1.6608 - val_accuracy: 0.5887\n",
            "Epoch 6/100\n",
            "19/19 [==============================] - 7s 378ms/step - loss: 1.1993 - accuracy: 0.6204 - val_loss: 1.9997 - val_accuracy: 0.6017\n",
            "Epoch 7/100\n",
            "19/19 [==============================] - 7s 375ms/step - loss: 1.0570 - accuracy: 0.6117 - val_loss: 2.0002 - val_accuracy: 0.5931\n",
            "Epoch 8/100\n",
            "19/19 [==============================] - 7s 378ms/step - loss: 0.9844 - accuracy: 0.6638 - val_loss: 1.7212 - val_accuracy: 0.6234\n",
            "Epoch 9/100\n",
            "19/19 [==============================] - 7s 378ms/step - loss: 0.9104 - accuracy: 0.6551 - val_loss: 1.8527 - val_accuracy: 0.6017\n",
            "Epoch 10/100\n",
            "19/19 [==============================] - 7s 375ms/step - loss: 0.8719 - accuracy: 0.6822 - val_loss: 1.7737 - val_accuracy: 0.6364\n"
          ],
          "name": "stdout"
        }
      ]
    },
    {
      "cell_type": "code",
      "metadata": {
        "id": "qBC8yr2w8ZWB",
        "colab_type": "code",
        "colab": {
          "base_uri": "https://localhost:8080/",
          "height": 68
        },
        "outputId": "55f0cc9d-03fc-4784-b12b-d860d5c86586"
      },
      "source": [
        "# evaluate the model\n",
        "_, train_acc = new_model.evaluate(X_train, y_train)\n",
        "_, test_acc = new_model.evaluate(X_test, y_test)\n",
        "print('Train: %.3f, Test: %.3f' % (train_acc, test_acc))"
      ],
      "execution_count": 53,
      "outputs": [
        {
          "output_type": "stream",
          "text": [
            "37/37 [==============================] - 3s 82ms/step - loss: 0.8192 - accuracy: 0.7684\n",
            "10/10 [==============================] - 1s 73ms/step - loss: 1.5668 - accuracy: 0.6228\n",
            "Train: 0.768, Test: 0.623\n"
          ],
          "name": "stdout"
        }
      ]
    },
    {
      "cell_type": "code",
      "metadata": {
        "id": "ctsTXXU0szYG",
        "colab_type": "code",
        "colab": {
          "base_uri": "https://localhost:8080/",
          "height": 276
        },
        "outputId": "df83f712-d077-48d3-c89b-a81d183fa307"
      },
      "source": [
        "plt.figure(1, figsize = (15,8)) \n",
        "    \n",
        "plt.subplot(221)  \n",
        "plt.plot(history_new_model.history['accuracy'])  \n",
        "plt.plot(history_new_model.history['val_accuracy'])  \n",
        "plt.title('model accuracy')  \n",
        "plt.ylabel('accuracy')  \n",
        "plt.xlabel('epoch')  \n",
        "plt.legend(['train', 'valid']) \n",
        "    \n",
        "plt.subplot(222)  \n",
        "plt.plot(history_new_model.history['loss'])  \n",
        "plt.plot(history_new_model.history['val_loss'])  \n",
        "plt.title('model loss')  \n",
        "plt.ylabel('loss')  \n",
        "plt.xlabel('epoch')  \n",
        "plt.legend(['train', 'valid']) \n",
        "\n",
        "plt.show()"
      ],
      "execution_count": 70,
      "outputs": [
        {
          "output_type": "display_data",
          "data": {
            "image/png": "[encoded data removed]",
            "text/plain": [
              "<Figure size 1080x576 with 2 Axes>"
            ]
          },
          "metadata": {
            "tags": [],
            "needs_background": "light"
          }
        }
      ]
    },
    {
      "cell_type": "code",
      "metadata": {
        "id": "Vlxp1gazszjz",
        "colab_type": "code",
        "colab": {}
      },
      "source": [
        "# keras library import  for Saving and loading model and weights\n",
        "\n",
        "from keras.models import model_from_json\n",
        "from keras.models import load_model\n",
        "\n",
        "saved_path = path+'saved_model/'\n",
        "# serialize model to JSON\n",
        "#  the keras model which is trained is defined as 'model' in this example\n",
        "model_json = new_model.to_json()\n",
        "\n",
        "\n",
        "with open(\"model_num.json\", \"w\") as json_file:\n",
        "    json_file.write(model_json)\n",
        "\n",
        "# serialize weights to HDF5\n",
        "new_model.save_weights(\"model_num.h5\")"
      ],
      "execution_count": 85,
      "outputs": []
    },
    {
      "cell_type": "markdown",
      "metadata": {
        "id": "3g5jc3fy4Ldo",
        "colab_type": "text"
      },
      "source": [
        "Model Prediction"
      ]
    },
    {
      "cell_type": "code",
      "metadata": {
        "id": "TzNqiJkJ1s7W",
        "colab_type": "code",
        "colab": {}
      },
      "source": [
        "predictions = new_model.predict(x=X_test, steps=len(X_test), verbose=0)\n",
        "classes = np.array(df.columns[1:])"
      ],
      "execution_count": 86,
      "outputs": []
    },
    {
      "cell_type": "code",
      "metadata": {
        "id": "6yVdn8Mx39n_",
        "colab_type": "code",
        "colab": {
          "base_uri": "https://localhost:8080/",
          "height": 102
        },
        "outputId": "149c9ec9-193b-4b10-f8c6-5a9241b380f3"
      },
      "source": [
        "all_5 = np.argsort(predictions[0])\n",
        "for i in range(5):\n",
        "    print(\"{}\".format(classes[all_5[i]])+\" ({:.3})\".format(predictions[0][all_5[i]]*100))\n"
      ],
      "execution_count": 97,
      "outputs": [
        {
          "output_type": "stream",
          "text": [
            "category_Glass bottle (9.7)\n",
            "category_Plastic straw (12.6)\n",
            "category_Drink can (23.2)\n",
            "category_Clear plastic bottle (23.9)\n",
            "category_Cigarette (30.6)\n"
          ],
          "name": "stdout"
        }
      ]
    },
    {
      "cell_type": "markdown",
      "metadata": {
        "id": "FyJbKrsnfDjh",
        "colab_type": "text"
      },
      "source": [
        "**Use K-Fold technique to see overfitting of newly created Model**"
      ]
    },
    {
      "cell_type": "code",
      "metadata": {
        "id": "4M2sAcj68okX",
        "colab_type": "code",
        "colab": {}
      },
      "source": [
        "def create_model():\n",
        "  classifier = Sequential()\n",
        "  classifier.add(Conv2D(filters=16, kernel_size=(3, 3), activation=\"relu\", input_shape=(128,128,3)))\n",
        "  classifier.add(MaxPooling2D(pool_size=(2, 2)))\n",
        "  classifier.add(BatchNormalization())\n",
        "  classifier.add(Dropout(0.5))\n",
        "  #\n",
        "  classifier.add(Flatten())\n",
        "  classifier.add(Dense(32, activation='relu'))\n",
        "  classifier.add(Dropout(0.5))\n",
        "  classifier.add(Dense(5, activation='softmax'))\n",
        "  classifier.compile(optimizer='adam', loss='categorical_crossentropy', metrics=['accuracy'])\n",
        "  return classifier "
      ],
      "execution_count": 56,
      "outputs": []
    },
    {
      "cell_type": "code",
      "metadata": {
        "id": "R-yPwQ8H8orf",
        "colab_type": "code",
        "colab": {
          "base_uri": "https://localhost:8080/",
          "height": 139
        },
        "outputId": "1f02c2a6-5984-4a75-b183-2d4257ea0cc7"
      },
      "source": [
        "model=KerasClassifier(build_fn=create_model, epochs=100, batch_size=50, verbose=1)\n",
        "kfold = KFold(n_splits=10, shuffle=True, random_state=42)\n",
        "results=cross_val_score(model,X_train, y_train,cv=kfold,verbose=10, n_jobs = -1)"
      ],
      "execution_count": 57,
      "outputs": [
        {
          "output_type": "stream",
          "text": [
            "[Parallel(n_jobs=-1)]: Using backend LokyBackend with 2 concurrent workers.\n",
            "[Parallel(n_jobs=-1)]: Done   1 tasks      | elapsed: 25.0min\n",
            "[Parallel(n_jobs=-1)]: Done   4 tasks      | elapsed: 50.1min\n",
            "/usr/local/lib/python3.6/dist-packages/joblib/externals/loky/process_executor.py:691: UserWarning: A worker stopped while some jobs were given to the executor. This can be caused by a too short worker timeout or by a memory leak.\n",
            "  \"timeout or by a memory leak.\", UserWarning\n",
            "[Parallel(n_jobs=-1)]: Done  10 out of  10 | elapsed: 124.7min finished\n"
          ],
          "name": "stderr"
        }
      ]
    },
    {
      "cell_type": "code",
      "metadata": {
        "id": "RTAYGf8Ot8og",
        "colab_type": "code",
        "colab": {
          "base_uri": "https://localhost:8080/",
          "height": 34
        },
        "outputId": "2f17a9bf-a1eb-458e-9863-57b531b8489e"
      },
      "source": [
        "print(\"Baseline: %.2f%% (%.2f%%)\" % (results.mean()*100, results.std()*100))"
      ],
      "execution_count": 71,
      "outputs": [
        {
          "output_type": "stream",
          "text": [
            "Baseline: 63.31% (4.26%)\n"
          ],
          "name": "stdout"
        }
      ]
    }
  ]
}