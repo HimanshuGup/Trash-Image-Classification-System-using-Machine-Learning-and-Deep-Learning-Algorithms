{
 "cells": [
  {
   "cell_type": "code",
   "execution_count": 1,
   "metadata": {},
   "outputs": [],
   "source": [
    "%matplotlib inline\n",
    "import json\n",
    "import numpy as np\n",
    "import pandas as pd\n",
    "import matplotlib.pyplot as plt\n",
    "import seaborn as sns; sns.set() \n",
    "\n",
    "# Data Splitting \n",
    "import os.path\n",
    "import argparse\n",
    "import random\n",
    "import datetime as dt\n",
    "import copy\n",
    "\n",
    "# Data Augmentation \n",
    "import PIL"
   ]
  },
  {
   "cell_type": "code",
   "execution_count": 2,
   "metadata": {},
   "outputs": [
    {
     "name": "stderr",
     "output_type": "stream",
     "text": [
      "Using TensorFlow backend.\n"
     ]
    }
   ],
   "source": [
    "#For Keras model\n",
    "import keras\n",
    "from keras.models import Sequential\n",
    "from keras.layers import Dense, Dropout, Flatten, Activation, BatchNormalization\n",
    "from keras.layers import Conv2D, MaxPooling2D\n",
    "from keras.utils import to_categorical\n",
    "from keras.preprocessing import image\n",
    "from sklearn.model_selection import train_test_split\n",
    "from keras.preprocessing.image import ImageDataGenerator, load_img\n",
    "from keras import regularizers, optimizers"
   ]
  },
  {
   "cell_type": "markdown",
   "metadata": {},
   "source": [
    "## Dataset Preparation"
   ]
  },
  {
   "cell_type": "code",
   "execution_count": 3,
   "metadata": {},
   "outputs": [],
   "source": [
    "dataset_path = './data'\n",
    "anns_file_path = dataset_path + '/' + 'annotations.json'"
   ]
  },
  {
   "cell_type": "code",
   "execution_count": 4,
   "metadata": {},
   "outputs": [],
   "source": [
    "# Read Annotations\n",
    "with open(anns_file_path , 'r') as f:\n",
    "    dataset = json.loads(f.read())"
   ]
  },
  {
   "cell_type": "code",
   "execution_count": 5,
   "metadata": {},
   "outputs": [
    {
     "name": "stdout",
     "output_type": "stream",
     "text": [
      "1500\n"
     ]
    }
   ],
   "source": [
    "categories = dataset['categories']\n",
    "anns = dataset['annotations']\n",
    "imgs = dataset['images']\n",
    "nr_cats = len(categories)\n",
    "nr_annotations = len(anns)\n",
    "nr_images = len(imgs)\n",
    "\n",
    "print(nr_images) # Total Number of images"
   ]
  },
  {
   "cell_type": "code",
   "execution_count": 7,
   "metadata": {},
   "outputs": [],
   "source": [
    "cat_df = pd.DataFrame(categories)"
   ]
  },
  {
   "cell_type": "code",
   "execution_count": 18,
   "metadata": {},
   "outputs": [],
   "source": [
    "# category Dataframe and  Select 'six new Category(ouput classes)' for category Dataframe\n",
    "keyValList = ['Cigarette','Paper cup','Unlabeled litter','Clear plastic bottle','Drink can']\n",
    "category_df = pd.DataFrame([d for d in categories if d['name'] in keyValList])\n",
    "\n",
    "# Annotation Dataframe\n",
    "ann_df = pd.DataFrame(anns)\n",
    "# Images Dataframe\n",
    "image_df = pd.DataFrame(imgs)\n"
   ]
  },
  {
   "cell_type": "code",
   "execution_count": 29,
   "metadata": {},
   "outputs": [
    {
     "data": {
      "text/html": [
       "<div>\n",
       "<style scoped>\n",
       "    .dataframe tbody tr th:only-of-type {\n",
       "        vertical-align: middle;\n",
       "    }\n",
       "\n",
       "    .dataframe tbody tr th {\n",
       "        vertical-align: top;\n",
       "    }\n",
       "\n",
       "    .dataframe thead th {\n",
       "        text-align: right;\n",
       "    }\n",
       "</style>\n",
       "<table border=\"1\" class=\"dataframe\">\n",
       "  <thead>\n",
       "    <tr style=\"text-align: right;\">\n",
       "      <th></th>\n",
       "      <th>id</th>\n",
       "      <th>width</th>\n",
       "      <th>height</th>\n",
       "      <th>file_name</th>\n",
       "    </tr>\n",
       "  </thead>\n",
       "  <tbody>\n",
       "    <tr>\n",
       "      <th>0</th>\n",
       "      <td>0</td>\n",
       "      <td>1537</td>\n",
       "      <td>2049</td>\n",
       "      <td>batch_1/000006.jpg</td>\n",
       "    </tr>\n",
       "    <tr>\n",
       "      <th>1</th>\n",
       "      <td>1</td>\n",
       "      <td>1537</td>\n",
       "      <td>2049</td>\n",
       "      <td>batch_1/000008.jpg</td>\n",
       "    </tr>\n",
       "    <tr>\n",
       "      <th>2</th>\n",
       "      <td>2</td>\n",
       "      <td>1537</td>\n",
       "      <td>2049</td>\n",
       "      <td>batch_1/000010.jpg</td>\n",
       "    </tr>\n",
       "    <tr>\n",
       "      <th>3</th>\n",
       "      <td>3</td>\n",
       "      <td>2049</td>\n",
       "      <td>1537</td>\n",
       "      <td>batch_1/000019.jpg</td>\n",
       "    </tr>\n",
       "    <tr>\n",
       "      <th>4</th>\n",
       "      <td>4</td>\n",
       "      <td>1537</td>\n",
       "      <td>2049</td>\n",
       "      <td>batch_1/000026.jpg</td>\n",
       "    </tr>\n",
       "  </tbody>\n",
       "</table>\n",
       "</div>"
      ],
      "text/plain": [
       "   id  width  height           file_name\n",
       "0   0   1537    2049  batch_1/000006.jpg\n",
       "1   1   1537    2049  batch_1/000008.jpg\n",
       "2   2   1537    2049  batch_1/000010.jpg\n",
       "3   3   2049    1537  batch_1/000019.jpg\n",
       "4   4   1537    2049  batch_1/000026.jpg"
      ]
     },
     "execution_count": 29,
     "metadata": {},
     "output_type": "execute_result"
    }
   ],
   "source": [
    "image_df.head()"
   ]
  },
  {
   "cell_type": "code",
   "execution_count": 19,
   "metadata": {
    "scrolled": false
   },
   "outputs": [],
   "source": [
    "# Dropping unncessary columns for Keras fundamental CNN model\n",
    "category_df = category_df.drop(['supercategory'], axis = 1)\n",
    "image_df = image_df.drop(['license','flickr_url','coco_url','date_captured','flickr_640_url'], axis=1)\n",
    "ann_df = ann_df.drop(['id'], axis=1)"
   ]
  },
  {
   "cell_type": "code",
   "execution_count": 20,
   "metadata": {},
   "outputs": [],
   "source": [
    "merged_img_ann_df = pd.merge(left=image_df, right=ann_df, left_on='id', right_on='image_id')\n",
    "final_merged_df = pd.merge(left=merged_img_ann_df, right=category_df, left_on='category_id', right_on='id') \n",
    "final_merged_df = final_merged_df.drop(['id_x','id_y','category_id','image_id','width','height'], axis = 1 )\n"
   ]
  },
  {
   "cell_type": "code",
   "execution_count": 21,
   "metadata": {},
   "outputs": [
    {
     "data": {
      "text/html": [
       "<div>\n",
       "<style scoped>\n",
       "    .dataframe tbody tr th:only-of-type {\n",
       "        vertical-align: middle;\n",
       "    }\n",
       "\n",
       "    .dataframe tbody tr th {\n",
       "        vertical-align: top;\n",
       "    }\n",
       "\n",
       "    .dataframe thead th {\n",
       "        text-align: right;\n",
       "    }\n",
       "</style>\n",
       "<table border=\"1\" class=\"dataframe\">\n",
       "  <thead>\n",
       "    <tr style=\"text-align: right;\">\n",
       "      <th></th>\n",
       "      <th>file_name</th>\n",
       "      <th>segmentation</th>\n",
       "      <th>area</th>\n",
       "      <th>bbox</th>\n",
       "      <th>iscrowd</th>\n",
       "      <th>name</th>\n",
       "    </tr>\n",
       "  </thead>\n",
       "  <tbody>\n",
       "    <tr>\n",
       "      <th>0</th>\n",
       "      <td>batch_1/000010.jpg</td>\n",
       "      <td>[[670.0, 993.0, 679.0, 998.0, 684.0, 1001.0, 6...</td>\n",
       "      <td>73832.5</td>\n",
       "      <td>[632.0, 987.0, 500.0, 374.0]</td>\n",
       "      <td>0</td>\n",
       "      <td>Clear plastic bottle</td>\n",
       "    </tr>\n",
       "    <tr>\n",
       "      <th>1</th>\n",
       "      <td>batch_1/000019.jpg</td>\n",
       "      <td>[[354.0, 1268.0, 351.0, 1252.0, 347.0, 1237.0,...</td>\n",
       "      <td>98379.5</td>\n",
       "      <td>[209.0, 920.0, 454.0, 562.0]</td>\n",
       "      <td>0</td>\n",
       "      <td>Clear plastic bottle</td>\n",
       "    </tr>\n",
       "    <tr>\n",
       "      <th>2</th>\n",
       "      <td>batch_1/000019.jpg</td>\n",
       "      <td>[[1239.0, 841.0, 1247.0, 842.0, 1252.0, 835.0,...</td>\n",
       "      <td>43678.0</td>\n",
       "      <td>[1212.0, 822.0, 179.0, 446.0]</td>\n",
       "      <td>0</td>\n",
       "      <td>Clear plastic bottle</td>\n",
       "    </tr>\n",
       "    <tr>\n",
       "      <th>3</th>\n",
       "      <td>batch_1/000001.jpg</td>\n",
       "      <td>[[1062.0, 752.0, 1123.0, 744.0, 1153.0, 744.0,...</td>\n",
       "      <td>68667.0</td>\n",
       "      <td>[826.0, 744.0, 464.0, 205.0]</td>\n",
       "      <td>0</td>\n",
       "      <td>Clear plastic bottle</td>\n",
       "    </tr>\n",
       "    <tr>\n",
       "      <th>4</th>\n",
       "      <td>batch_1/000005.jpg</td>\n",
       "      <td>[[825.0, 731.0, 824.0, 670.0, 825.0, 649.0, 82...</td>\n",
       "      <td>17734.0</td>\n",
       "      <td>[824.0, 557.0, 89.0, 236.0]</td>\n",
       "      <td>0</td>\n",
       "      <td>Clear plastic bottle</td>\n",
       "    </tr>\n",
       "    <tr>\n",
       "      <th>...</th>\n",
       "      <td>...</td>\n",
       "      <td>...</td>\n",
       "      <td>...</td>\n",
       "      <td>...</td>\n",
       "      <td>...</td>\n",
       "      <td>...</td>\n",
       "    </tr>\n",
       "    <tr>\n",
       "      <th>1760</th>\n",
       "      <td>batch_9/000090.jpg</td>\n",
       "      <td>[[1482, 1732, 1505, 1710, 1566, 1733, 1579, 17...</td>\n",
       "      <td>3575.0</td>\n",
       "      <td>[1482.0, 1710.0, 97.0, 59.0]</td>\n",
       "      <td>0</td>\n",
       "      <td>Unlabeled litter</td>\n",
       "    </tr>\n",
       "    <tr>\n",
       "      <th>1761</th>\n",
       "      <td>batch_9/000095.jpg</td>\n",
       "      <td>[[435, 1444, 453, 1493, 484, 1492, 509, 1480, ...</td>\n",
       "      <td>3100.0</td>\n",
       "      <td>[435.0, 1439.0, 79.0, 54.0]</td>\n",
       "      <td>0</td>\n",
       "      <td>Unlabeled litter</td>\n",
       "    </tr>\n",
       "    <tr>\n",
       "      <th>1762</th>\n",
       "      <td>batch_9/000095.jpg</td>\n",
       "      <td>[[401, 1896, 421, 1846, 478, 1847, 576, 1892, ...</td>\n",
       "      <td>8854.5</td>\n",
       "      <td>[401.0, 1846.0, 175.0, 93.0]</td>\n",
       "      <td>0</td>\n",
       "      <td>Unlabeled litter</td>\n",
       "    </tr>\n",
       "    <tr>\n",
       "      <th>1763</th>\n",
       "      <td>batch_9/000095.jpg</td>\n",
       "      <td>[[637, 3871, 629, 3812, 614, 3770, 632, 3712, ...</td>\n",
       "      <td>9563.0</td>\n",
       "      <td>[614.0, 3712.0, 93.0, 159.0]</td>\n",
       "      <td>0</td>\n",
       "      <td>Unlabeled litter</td>\n",
       "    </tr>\n",
       "    <tr>\n",
       "      <th>1764</th>\n",
       "      <td>batch_9/000095.jpg</td>\n",
       "      <td>[[1060, 1191, 1129, 1219, 1147, 1237, 1167, 12...</td>\n",
       "      <td>2670.5</td>\n",
       "      <td>[1042.0, 1165.0, 125.0, 72.0]</td>\n",
       "      <td>0</td>\n",
       "      <td>Unlabeled litter</td>\n",
       "    </tr>\n",
       "  </tbody>\n",
       "</table>\n",
       "<p>1765 rows × 6 columns</p>\n",
       "</div>"
      ],
      "text/plain": [
       "               file_name                                       segmentation  \\\n",
       "0     batch_1/000010.jpg  [[670.0, 993.0, 679.0, 998.0, 684.0, 1001.0, 6...   \n",
       "1     batch_1/000019.jpg  [[354.0, 1268.0, 351.0, 1252.0, 347.0, 1237.0,...   \n",
       "2     batch_1/000019.jpg  [[1239.0, 841.0, 1247.0, 842.0, 1252.0, 835.0,...   \n",
       "3     batch_1/000001.jpg  [[1062.0, 752.0, 1123.0, 744.0, 1153.0, 744.0,...   \n",
       "4     batch_1/000005.jpg  [[825.0, 731.0, 824.0, 670.0, 825.0, 649.0, 82...   \n",
       "...                  ...                                                ...   \n",
       "1760  batch_9/000090.jpg  [[1482, 1732, 1505, 1710, 1566, 1733, 1579, 17...   \n",
       "1761  batch_9/000095.jpg  [[435, 1444, 453, 1493, 484, 1492, 509, 1480, ...   \n",
       "1762  batch_9/000095.jpg  [[401, 1896, 421, 1846, 478, 1847, 576, 1892, ...   \n",
       "1763  batch_9/000095.jpg  [[637, 3871, 629, 3812, 614, 3770, 632, 3712, ...   \n",
       "1764  batch_9/000095.jpg  [[1060, 1191, 1129, 1219, 1147, 1237, 1167, 12...   \n",
       "\n",
       "         area                           bbox  iscrowd                  name  \n",
       "0     73832.5   [632.0, 987.0, 500.0, 374.0]        0  Clear plastic bottle  \n",
       "1     98379.5   [209.0, 920.0, 454.0, 562.0]        0  Clear plastic bottle  \n",
       "2     43678.0  [1212.0, 822.0, 179.0, 446.0]        0  Clear plastic bottle  \n",
       "3     68667.0   [826.0, 744.0, 464.0, 205.0]        0  Clear plastic bottle  \n",
       "4     17734.0    [824.0, 557.0, 89.0, 236.0]        0  Clear plastic bottle  \n",
       "...       ...                            ...      ...                   ...  \n",
       "1760   3575.0   [1482.0, 1710.0, 97.0, 59.0]        0      Unlabeled litter  \n",
       "1761   3100.0    [435.0, 1439.0, 79.0, 54.0]        0      Unlabeled litter  \n",
       "1762   8854.5   [401.0, 1846.0, 175.0, 93.0]        0      Unlabeled litter  \n",
       "1763   9563.0   [614.0, 3712.0, 93.0, 159.0]        0      Unlabeled litter  \n",
       "1764   2670.5  [1042.0, 1165.0, 125.0, 72.0]        0      Unlabeled litter  \n",
       "\n",
       "[1765 rows x 6 columns]"
      ]
     },
     "execution_count": 21,
     "metadata": {},
     "output_type": "execute_result"
    }
   ],
   "source": [
    "final_merged_df"
   ]
  },
  {
   "cell_type": "code",
   "execution_count": 22,
   "metadata": {},
   "outputs": [
    {
     "data": {
      "text/html": [
       "<div>\n",
       "<style scoped>\n",
       "    .dataframe tbody tr th:only-of-type {\n",
       "        vertical-align: middle;\n",
       "    }\n",
       "\n",
       "    .dataframe tbody tr th {\n",
       "        vertical-align: top;\n",
       "    }\n",
       "\n",
       "    .dataframe thead th {\n",
       "        text-align: right;\n",
       "    }\n",
       "</style>\n",
       "<table border=\"1\" class=\"dataframe\">\n",
       "  <thead>\n",
       "    <tr style=\"text-align: right;\">\n",
       "      <th></th>\n",
       "      <th>filename</th>\n",
       "      <th>segmentation</th>\n",
       "      <th>area</th>\n",
       "      <th>bbox</th>\n",
       "      <th>iscrowd</th>\n",
       "      <th>category</th>\n",
       "    </tr>\n",
       "  </thead>\n",
       "  <tbody>\n",
       "    <tr>\n",
       "      <th>0</th>\n",
       "      <td>batch_1/000010.jpg</td>\n",
       "      <td>[[670.0, 993.0, 679.0, 998.0, 684.0, 1001.0, 6...</td>\n",
       "      <td>73832.5</td>\n",
       "      <td>[632.0, 987.0, 500.0, 374.0]</td>\n",
       "      <td>0</td>\n",
       "      <td>Clear plastic bottle</td>\n",
       "    </tr>\n",
       "    <tr>\n",
       "      <th>1</th>\n",
       "      <td>batch_1/000019.jpg</td>\n",
       "      <td>[[354.0, 1268.0, 351.0, 1252.0, 347.0, 1237.0,...</td>\n",
       "      <td>98379.5</td>\n",
       "      <td>[209.0, 920.0, 454.0, 562.0]</td>\n",
       "      <td>0</td>\n",
       "      <td>Clear plastic bottle</td>\n",
       "    </tr>\n",
       "    <tr>\n",
       "      <th>2</th>\n",
       "      <td>batch_1/000019.jpg</td>\n",
       "      <td>[[1239.0, 841.0, 1247.0, 842.0, 1252.0, 835.0,...</td>\n",
       "      <td>43678.0</td>\n",
       "      <td>[1212.0, 822.0, 179.0, 446.0]</td>\n",
       "      <td>0</td>\n",
       "      <td>Clear plastic bottle</td>\n",
       "    </tr>\n",
       "    <tr>\n",
       "      <th>3</th>\n",
       "      <td>batch_1/000001.jpg</td>\n",
       "      <td>[[1062.0, 752.0, 1123.0, 744.0, 1153.0, 744.0,...</td>\n",
       "      <td>68667.0</td>\n",
       "      <td>[826.0, 744.0, 464.0, 205.0]</td>\n",
       "      <td>0</td>\n",
       "      <td>Clear plastic bottle</td>\n",
       "    </tr>\n",
       "    <tr>\n",
       "      <th>4</th>\n",
       "      <td>batch_1/000005.jpg</td>\n",
       "      <td>[[825.0, 731.0, 824.0, 670.0, 825.0, 649.0, 82...</td>\n",
       "      <td>17734.0</td>\n",
       "      <td>[824.0, 557.0, 89.0, 236.0]</td>\n",
       "      <td>0</td>\n",
       "      <td>Clear plastic bottle</td>\n",
       "    </tr>\n",
       "  </tbody>\n",
       "</table>\n",
       "</div>"
      ],
      "text/plain": [
       "             filename                                       segmentation  \\\n",
       "0  batch_1/000010.jpg  [[670.0, 993.0, 679.0, 998.0, 684.0, 1001.0, 6...   \n",
       "1  batch_1/000019.jpg  [[354.0, 1268.0, 351.0, 1252.0, 347.0, 1237.0,...   \n",
       "2  batch_1/000019.jpg  [[1239.0, 841.0, 1247.0, 842.0, 1252.0, 835.0,...   \n",
       "3  batch_1/000001.jpg  [[1062.0, 752.0, 1123.0, 744.0, 1153.0, 744.0,...   \n",
       "4  batch_1/000005.jpg  [[825.0, 731.0, 824.0, 670.0, 825.0, 649.0, 82...   \n",
       "\n",
       "      area                           bbox  iscrowd              category  \n",
       "0  73832.5   [632.0, 987.0, 500.0, 374.0]        0  Clear plastic bottle  \n",
       "1  98379.5   [209.0, 920.0, 454.0, 562.0]        0  Clear plastic bottle  \n",
       "2  43678.0  [1212.0, 822.0, 179.0, 446.0]        0  Clear plastic bottle  \n",
       "3  68667.0   [826.0, 744.0, 464.0, 205.0]        0  Clear plastic bottle  \n",
       "4  17734.0    [824.0, 557.0, 89.0, 236.0]        0  Clear plastic bottle  "
      ]
     },
     "execution_count": 22,
     "metadata": {},
     "output_type": "execute_result"
    }
   ],
   "source": [
    "final_merged_df = final_merged_df.rename(columns={\"file_name\": \"filename\", \"name\": \"category\"})\n",
    "final_merged_df.head()\n"
   ]
  },
  {
   "cell_type": "code",
   "execution_count": 23,
   "metadata": {},
   "outputs": [],
   "source": [
    "# For batch 1 , later add for loop for all 15 batches\n",
    "#batch1_df = df[df['file_name'].str.contains(r'batch_1/(?!$)')]\n",
    "#batch1_df = batch1_df[batch1_df['file_name'].str.contains(r'/0(?!$)')]\n",
    "#batch1_df['filename'] = batch1_df['filename'].map(lambda x: x.lstrip('batch_1/'))"
   ]
  },
  {
   "cell_type": "markdown",
   "metadata": {},
   "source": [
    "# First Part using Kears data generation"
   ]
  },
  {
   "cell_type": "code",
   "execution_count": 24,
   "metadata": {},
   "outputs": [],
   "source": [
    "train_df = final_merged_df[['filename','category']]\n",
    "train_df = train_df.drop_duplicates(subset='filename')"
   ]
  },
  {
   "cell_type": "code",
   "execution_count": 25,
   "metadata": {},
   "outputs": [
    {
     "data": {
      "text/plain": [
       "Clear plastic bottle    225\n",
       "Cigarette               152\n",
       "Unlabeled litter        133\n",
       "Drink can               128\n",
       "Paper cup                49\n",
       "Name: category, dtype: int64"
      ]
     },
     "execution_count": 25,
     "metadata": {},
     "output_type": "execute_result"
    }
   ],
   "source": [
    "train_df['category'].value_counts()\n",
    "#sns.countplot(x='name', data=df)"
   ]
  },
  {
   "cell_type": "code",
   "execution_count": 28,
   "metadata": {},
   "outputs": [
    {
     "data": {
      "text/plain": [
       "<matplotlib.axes._subplots.AxesSubplot at 0x1a4ef54a50>"
      ]
     },
     "execution_count": 28,
     "metadata": {},
     "output_type": "execute_result"
    },
    {
     "data": {
      "image/png": "[encoded data removed]",
      "text/plain": [
       "<Figure size 432x288 with 1 Axes>"
      ]
     },
     "metadata": {},
     "output_type": "display_data"
    }
   ],
   "source": [
    "train_df['category'].value_counts().plot.bar()"
   ]
  },
  {
   "cell_type": "code",
   "execution_count": 140,
   "metadata": {},
   "outputs": [],
   "source": [
    "# Data splitting into train and test data and keep this test data aside for model prediction\n",
    "trainData_df, testData_df = train_test_split(train_df, test_size=0.20, random_state=42,stratify = train_df['category'] )\n",
    "trainData_df = trainData_df.reset_index(drop=True)\n",
    "testData_df = testData_df.reset_index(drop=True)"
   ]
  },
  {
   "cell_type": "code",
   "execution_count": 141,
   "metadata": {},
   "outputs": [
    {
     "data": {
      "text/plain": [
       "Clear plastic bottle    180\n",
       "Cigarette               122\n",
       "Unlabeled litter        106\n",
       "Drink can               102\n",
       "Paper cup                39\n",
       "Name: category, dtype: int64"
      ]
     },
     "execution_count": 141,
     "metadata": {},
     "output_type": "execute_result"
    }
   ],
   "source": [
    "trainData_df['category'].value_counts()"
   ]
  },
  {
   "cell_type": "code",
   "execution_count": 142,
   "metadata": {},
   "outputs": [],
   "source": [
    "total_train = trainData_df.shape[0]\n",
    "total_test = testData_df.shape[0]\n",
    "batch_size=1"
   ]
  },
  {
   "cell_type": "code",
   "execution_count": 143,
   "metadata": {},
   "outputs": [
    {
     "data": {
      "text/plain": [
       "138"
      ]
     },
     "execution_count": 143,
     "metadata": {},
     "output_type": "execute_result"
    }
   ],
   "source": [
    "total_test"
   ]
  },
  {
   "cell_type": "code",
   "execution_count": 144,
   "metadata": {},
   "outputs": [],
   "source": [
    "# Define Constants\n",
    "FAST_RUN = False\n",
    "IMAGE_WIDTH=128\n",
    "IMAGE_HEIGHT=128\n",
    "IMAGE_SIZE=(IMAGE_WIDTH, IMAGE_HEIGHT)\n",
    "IMAGE_CHANNELS=3"
   ]
  },
  {
   "cell_type": "code",
   "execution_count": 145,
   "metadata": {},
   "outputs": [],
   "source": [
    "# generic image data generator \n",
    "datagen = ImageDataGenerator(\n",
    "    rotation_range=15,\n",
    "    rescale=1./255,\n",
    "    shear_range=0.1,\n",
    "    zoom_range=0.2,\n",
    "    horizontal_flip=True,\n",
    "    width_shift_range=0.1,\n",
    "    height_shift_range=0.1,\n",
    "    validation_split=0.25\n",
    ")"
   ]
  },
  {
   "cell_type": "code",
   "execution_count": 146,
   "metadata": {},
   "outputs": [
    {
     "name": "stdout",
     "output_type": "stream",
     "text": [
      "Found 412 validated image filenames belonging to 5 classes.\n"
     ]
    }
   ],
   "source": [
    "# Train image data generator\n",
    "# Create new train folder directory which should have images for batch 1\n",
    "train_generator=datagen.flow_from_dataframe(\n",
    "    dataframe=trainData_df,\n",
    "    directory=\"./data/\",\n",
    "    x_col=\"filename\",\n",
    "    y_col=\"category\",\n",
    "    subset=\"training\",\n",
    "    batch_size=batch_size,\n",
    "    seed=42,\n",
    "    shuffle=True,\n",
    "    class_mode=\"categorical\",\n",
    "    target_size=IMAGE_SIZE\n",
    ")\n"
   ]
  },
  {
   "cell_type": "code",
   "execution_count": 147,
   "metadata": {},
   "outputs": [
    {
     "name": "stdout",
     "output_type": "stream",
     "text": [
      "Found 137 validated image filenames belonging to 5 classes.\n"
     ]
    }
   ],
   "source": [
    "# Validation image data generator\n",
    "valid_generator=datagen.flow_from_dataframe(\n",
    "    dataframe=trainData_df,\n",
    "    directory=\"./data/\",\n",
    "    x_col=\"filename\",\n",
    "    y_col=\"category\",\n",
    "    subset=\"validation\",\n",
    "    batch_size=batch_size,\n",
    "    seed=42,\n",
    "    shuffle=True,\n",
    "    class_mode=\"categorical\",\n",
    "    target_size=IMAGE_SIZE\n",
    ")"
   ]
  },
  {
   "cell_type": "code",
   "execution_count": 148,
   "metadata": {},
   "outputs": [
    {
     "name": "stdout",
     "output_type": "stream",
     "text": [
      "Found 138 validated image filenames.\n"
     ]
    }
   ],
   "source": [
    "test_datagen=ImageDataGenerator(rescale=1./255.)\n",
    "test_generator=test_datagen.flow_from_dataframe(\n",
    "    dataframe=testData_df,\n",
    "    directory=\"./data/\",\n",
    "    x_col=\"filename\",\n",
    "    y_col=None,\n",
    "    batch_size=batch_size,\n",
    "    seed=42,\n",
    "    shuffle=False,\n",
    "    class_mode=None,\n",
    "    target_size=IMAGE_SIZE\n",
    ")"
   ]
  },
  {
   "cell_type": "code",
   "execution_count": 149,
   "metadata": {},
   "outputs": [],
   "source": [
    "model = Sequential()\n",
    "\n",
    "model.add(Conv2D(32, (3, 3), activation='relu', input_shape=(IMAGE_WIDTH, IMAGE_HEIGHT, IMAGE_CHANNELS)))\n",
    "model.add(BatchNormalization())\n",
    "model.add(MaxPooling2D(pool_size=(2, 2)))\n",
    "model.add(Dropout(0.25))\n",
    "\n",
    "model.add(Conv2D(64, (3, 3), activation='relu'))\n",
    "model.add(BatchNormalization())\n",
    "model.add(MaxPooling2D(pool_size=(2, 2)))\n",
    "model.add(Dropout(0.25))\n",
    "\n",
    "model.add(Conv2D(128, (3, 3), activation='relu'))\n",
    "model.add(BatchNormalization())\n",
    "model.add(MaxPooling2D(pool_size=(2, 2)))\n",
    "model.add(Dropout(0.25))\n",
    "\n",
    "model.add(Flatten())\n",
    "model.add(Dense(512, activation='relu'))\n",
    "model.add(BatchNormalization())\n",
    "model.add(Dropout(0.5))\n",
    "model.add(Dense(5, activation='softmax'))\n"
   ]
  },
  {
   "cell_type": "code",
   "execution_count": 150,
   "metadata": {},
   "outputs": [
    {
     "name": "stdout",
     "output_type": "stream",
     "text": [
      "Model: \"sequential_3\"\n",
      "_________________________________________________________________\n",
      "Layer (type)                 Output Shape              Param #   \n",
      "=================================================================\n",
      "conv2d_7 (Conv2D)            (None, 126, 126, 32)      896       \n",
      "_________________________________________________________________\n",
      "batch_normalization_9 (Batch (None, 126, 126, 32)      128       \n",
      "_________________________________________________________________\n",
      "max_pooling2d_7 (MaxPooling2 (None, 63, 63, 32)        0         \n",
      "_________________________________________________________________\n",
      "dropout_9 (Dropout)          (None, 63, 63, 32)        0         \n",
      "_________________________________________________________________\n",
      "conv2d_8 (Conv2D)            (None, 61, 61, 64)        18496     \n",
      "_________________________________________________________________\n",
      "batch_normalization_10 (Batc (None, 61, 61, 64)        256       \n",
      "_________________________________________________________________\n",
      "max_pooling2d_8 (MaxPooling2 (None, 30, 30, 64)        0         \n",
      "_________________________________________________________________\n",
      "dropout_10 (Dropout)         (None, 30, 30, 64)        0         \n",
      "_________________________________________________________________\n",
      "conv2d_9 (Conv2D)            (None, 28, 28, 128)       73856     \n",
      "_________________________________________________________________\n",
      "batch_normalization_11 (Batc (None, 28, 28, 128)       512       \n",
      "_________________________________________________________________\n",
      "max_pooling2d_9 (MaxPooling2 (None, 14, 14, 128)       0         \n",
      "_________________________________________________________________\n",
      "dropout_11 (Dropout)         (None, 14, 14, 128)       0         \n",
      "_________________________________________________________________\n",
      "flatten_3 (Flatten)          (None, 25088)             0         \n",
      "_________________________________________________________________\n",
      "dense_5 (Dense)              (None, 512)               12845568  \n",
      "_________________________________________________________________\n",
      "batch_normalization_12 (Batc (None, 512)               2048      \n",
      "_________________________________________________________________\n",
      "dropout_12 (Dropout)         (None, 512)               0         \n",
      "_________________________________________________________________\n",
      "dense_6 (Dense)              (None, 5)                 2565      \n",
      "=================================================================\n",
      "Total params: 12,944,325\n",
      "Trainable params: 12,942,853\n",
      "Non-trainable params: 1,472\n",
      "_________________________________________________________________\n"
     ]
    }
   ],
   "source": [
    "#Model Summary\n",
    "model.summary()"
   ]
  },
  {
   "cell_type": "code",
   "execution_count": 151,
   "metadata": {},
   "outputs": [],
   "source": [
    "# Compile Model\n",
    "model.compile(optimizers.rmsprop(lr=0.0001, decay=1e-6),loss=\"categorical_crossentropy\",metrics=[\"accuracy\"])"
   ]
  },
  {
   "cell_type": "code",
   "execution_count": 152,
   "metadata": {},
   "outputs": [
    {
     "name": "stdout",
     "output_type": "stream",
     "text": [
      "Epoch 1/10\n",
      "412/412 [==============================] - 268s 650ms/step - loss: 1.5959 - accuracy: 0.3058 - val_loss: 28.8359 - val_accuracy: 0.0584\n",
      "Epoch 2/10\n",
      "412/412 [==============================] - 255s 620ms/step - loss: 1.5697 - accuracy: 0.3180 - val_loss: 71.8231 - val_accuracy: 0.0511\n",
      "Epoch 3/10\n",
      "412/412 [==============================] - 227s 552ms/step - loss: 1.5497 - accuracy: 0.3180 - val_loss: 8.4274 - val_accuracy: 0.0730\n",
      "Epoch 4/10\n",
      "412/412 [==============================] - 224s 544ms/step - loss: 1.5386 - accuracy: 0.3180 - val_loss: 157.6800 - val_accuracy: 0.1168\n",
      "Epoch 5/10\n",
      "412/412 [==============================] - 4447s 11s/step - loss: 1.5353 - accuracy: 0.3180 - val_loss: 52.7841 - val_accuracy: 0.1533\n",
      "Epoch 6/10\n",
      "412/412 [==============================] - 275s 668ms/step - loss: 1.5308 - accuracy: 0.3180 - val_loss: 74.7286 - val_accuracy: 0.1168\n",
      "Epoch 7/10\n",
      "412/412 [==============================] - 327s 793ms/step - loss: 1.5321 - accuracy: 0.3180 - val_loss: 75.5369 - val_accuracy: 0.1679\n",
      "Epoch 8/10\n",
      "412/412 [==============================] - 288s 699ms/step - loss: 1.5325 - accuracy: 0.3180 - val_loss: 107.1579 - val_accuracy: 0.1241\n",
      "Epoch 9/10\n",
      "412/412 [==============================] - 287s 697ms/step - loss: 1.5314 - accuracy: 0.3180 - val_loss: 137.5904 - val_accuracy: 0.1022\n",
      "Epoch 10/10\n",
      "412/412 [==============================] - 260s 630ms/step - loss: 1.5322 - accuracy: 0.3180 - val_loss: 128.2748 - val_accuracy: 0.1095\n"
     ]
    },
    {
     "data": {
      "text/plain": [
       "<keras.callbacks.callbacks.History at 0x1a552a0f90>"
      ]
     },
     "execution_count": 152,
     "metadata": {},
     "output_type": "execute_result"
    }
   ],
   "source": [
    "STEP_SIZE_TRAIN=train_generator.n//train_generator.batch_size\n",
    "STEP_SIZE_VALID=valid_generator.n//valid_generator.batch_size\n",
    "STEP_SIZE_TEST=test_generator.n//test_generator.batch_size\n",
    "model.fit_generator(generator=train_generator,\n",
    "                    steps_per_epoch=STEP_SIZE_TRAIN,\n",
    "                    validation_data=valid_generator,\n",
    "                    validation_steps=STEP_SIZE_VALID,\n",
    "                    epochs=10\n",
    ")"
   ]
  },
  {
   "cell_type": "code",
   "execution_count": 51,
   "metadata": {},
   "outputs": [
    {
     "data": {
      "text/plain": [
       "138"
      ]
     },
     "execution_count": 51,
     "metadata": {},
     "output_type": "execute_result"
    }
   ],
   "source": [
    "STEP_SIZE_TEST=test_generator.n//test_generator.batch_size\n",
    "STEP_SIZE_TEST"
   ]
  },
  {
   "cell_type": "code",
   "execution_count": 52,
   "metadata": {},
   "outputs": [
    {
     "data": {
      "text/plain": [
       "[100.31158447265625, 0.18115942180156708]"
      ]
     },
     "execution_count": 52,
     "metadata": {},
     "output_type": "execute_result"
    }
   ],
   "source": [
    "model.evaluate_generator(generator=valid_generator,\n",
    "steps=STEP_SIZE_TEST)"
   ]
  },
  {
   "cell_type": "code",
   "execution_count": 53,
   "metadata": {},
   "outputs": [
    {
     "name": "stdout",
     "output_type": "stream",
     "text": [
      "138/138 [==============================] - 33s 236ms/step\n"
     ]
    }
   ],
   "source": [
    "test_generator.reset()\n",
    "pred=model.predict_generator(test_generator,steps=STEP_SIZE_TEST,\n",
    "verbose= 1)"
   ]
  },
  {
   "cell_type": "code",
   "execution_count": 54,
   "metadata": {},
   "outputs": [],
   "source": [
    "predicted_class_indices=np.argmax(pred,axis=1)"
   ]
  },
  {
   "cell_type": "code",
   "execution_count": 55,
   "metadata": {},
   "outputs": [
    {
     "data": {
      "text/plain": [
       "{'Cigarette': 0,\n",
       " 'Clear plastic bottle': 1,\n",
       " 'Drink can': 2,\n",
       " 'Paper cup': 3,\n",
       " 'Unlabeled litter': 4}"
      ]
     },
     "execution_count": 55,
     "metadata": {},
     "output_type": "execute_result"
    }
   ],
   "source": [
    "labels = (train_generator.class_indices)\n",
    "labels"
   ]
  },
  {
   "cell_type": "code",
   "execution_count": 56,
   "metadata": {},
   "outputs": [],
   "source": [
    "labels = dict((v,k) for k,v in labels.items())\n",
    "predictions = [labels[k] for k in predicted_class_indices]"
   ]
  },
  {
   "cell_type": "code",
   "execution_count": 57,
   "metadata": {},
   "outputs": [],
   "source": [
    "filenames=test_generator.filenames\n",
    "results=pd.DataFrame({\"Filename\":filenames,\"Predictions\":predictions})"
   ]
  },
  {
   "cell_type": "code",
   "execution_count": 58,
   "metadata": {},
   "outputs": [
    {
     "data": {
      "text/plain": [
       "<matplotlib.axes._subplots.AxesSubplot at 0x1a4ebaee90>"
      ]
     },
     "execution_count": 58,
     "metadata": {},
     "output_type": "execute_result"
    },
    {
     "data": {
      "image/png": "[encoded data removed]",
      "text/plain": [
       "<Figure size 432x288 with 1 Axes>"
      ]
     },
     "metadata": {},
     "output_type": "display_data"
    }
   ],
   "source": [
    "results['Predictions'].value_counts().plot.bar()"
   ]
  },
  {
   "cell_type": "markdown",
   "metadata": {},
   "source": [
    "# Second Approach by loading images    , ( Still not decide to use)"
   ]
  },
  {
   "cell_type": "code",
   "execution_count": 319,
   "metadata": {},
   "outputs": [
    {
     "data": {
      "text/plain": [
       "101"
      ]
     },
     "execution_count": 319,
     "metadata": {},
     "output_type": "execute_result"
    }
   ],
   "source": [
    "batch1_df.shape[0]"
   ]
  },
  {
   "cell_type": "code",
   "execution_count": null,
   "metadata": {},
   "outputs": [],
   "source": [
    "# loading and preparing training images\n",
    "train_image = []\n",
    "dataset_path = './data/batch_1'\n",
    "\n",
    "for j in range(15):\n",
    "    for i in tqdm(range(batch1_df.shape[0])):\n",
    "    #for filename in listdir(dataset_path): # both are working\n",
    "        #img = image.load_img('data/'+1+batch1_df['filename'][i]+'.jpg',target_size=(400,400,3))\n",
    "        img = image.load_img('data/batch_'+ j +'/'+filename,target_size=(400,400,3))\n",
    "        img = image.img_to_array(img)\n",
    "        img = img/255\n",
    "        train_image.append(img)\n",
    "    X = np.array(train_image)"
   ]
  },
  {
   "cell_type": "code",
   "execution_count": 773,
   "metadata": {},
   "outputs": [
    {
     "data": {
      "text/plain": [
       "(101, 400, 400, 3)"
      ]
     },
     "execution_count": 773,
     "metadata": {},
     "output_type": "execute_result"
    }
   ],
   "source": [
    "X.shape"
   ]
  },
  {
   "cell_type": "code",
   "execution_count": 322,
   "metadata": {},
   "outputs": [
    {
     "data": {
      "text/plain": [
       "<matplotlib.image.AxesImage at 0x1a6d9f2a90>"
      ]
     },
     "execution_count": 322,
     "metadata": {},
     "output_type": "execute_result"
    },
    {
     "data": {
      "image/png": "[encoded data removed]",
      "text/plain": [
       "<Figure size 432x288 with 1 Axes>"
      ]
     },
     "metadata": {},
     "output_type": "display_data"
    }
   ],
   "source": [
    "plt.imshow(X[2])"
   ]
  },
  {
   "cell_type": "code",
   "execution_count": 323,
   "metadata": {},
   "outputs": [
    {
     "data": {
      "text/html": [
       "<div>\n",
       "<style scoped>\n",
       "    .dataframe tbody tr th:only-of-type {\n",
       "        vertical-align: middle;\n",
       "    }\n",
       "\n",
       "    .dataframe tbody tr th {\n",
       "        vertical-align: top;\n",
       "    }\n",
       "\n",
       "    .dataframe thead th {\n",
       "        text-align: right;\n",
       "    }\n",
       "</style>\n",
       "<table border=\"1\" class=\"dataframe\">\n",
       "  <thead>\n",
       "    <tr style=\"text-align: right;\">\n",
       "      <th></th>\n",
       "      <th>filename</th>\n",
       "      <th>name</th>\n",
       "    </tr>\n",
       "  </thead>\n",
       "  <tbody>\n",
       "    <tr>\n",
       "      <th>0</th>\n",
       "      <td>000006.jpg</td>\n",
       "      <td>Glass bottle</td>\n",
       "    </tr>\n",
       "    <tr>\n",
       "      <th>1</th>\n",
       "      <td>000012.jpg</td>\n",
       "      <td>Glass bottle</td>\n",
       "    </tr>\n",
       "    <tr>\n",
       "      <th>2</th>\n",
       "      <td>000048.jpg</td>\n",
       "      <td>Glass bottle</td>\n",
       "    </tr>\n",
       "    <tr>\n",
       "      <th>3</th>\n",
       "      <td>000021.jpg</td>\n",
       "      <td>Glass bottle</td>\n",
       "    </tr>\n",
       "    <tr>\n",
       "      <th>4</th>\n",
       "      <td>000022.jpg</td>\n",
       "      <td>Glass bottle</td>\n",
       "    </tr>\n",
       "    <tr>\n",
       "      <th>...</th>\n",
       "      <td>...</td>\n",
       "      <td>...</td>\n",
       "    </tr>\n",
       "    <tr>\n",
       "      <th>3942</th>\n",
       "      <td>000119.JPG</td>\n",
       "      <td>Food waste</td>\n",
       "    </tr>\n",
       "    <tr>\n",
       "      <th>3954</th>\n",
       "      <td>000093.JPG</td>\n",
       "      <td>Spread tub</td>\n",
       "    </tr>\n",
       "    <tr>\n",
       "      <th>3969</th>\n",
       "      <td>000096.JPG</td>\n",
       "      <td>Garbage bag</td>\n",
       "    </tr>\n",
       "    <tr>\n",
       "      <th>4067</th>\n",
       "      <td>000064.JPG</td>\n",
       "      <td>Foam cup</td>\n",
       "    </tr>\n",
       "    <tr>\n",
       "      <th>4068</th>\n",
       "      <td>000100.JPG</td>\n",
       "      <td>Foam cup</td>\n",
       "    </tr>\n",
       "  </tbody>\n",
       "</table>\n",
       "<p>101 rows × 2 columns</p>\n",
       "</div>"
      ],
      "text/plain": [
       "        filename          name\n",
       "0     000006.jpg  Glass bottle\n",
       "1     000012.jpg  Glass bottle\n",
       "2     000048.jpg  Glass bottle\n",
       "3     000021.jpg  Glass bottle\n",
       "4     000022.jpg  Glass bottle\n",
       "...          ...           ...\n",
       "3942  000119.JPG    Food waste\n",
       "3954  000093.JPG    Spread tub\n",
       "3969  000096.JPG   Garbage bag\n",
       "4067  000064.JPG      Foam cup\n",
       "4068  000100.JPG      Foam cup\n",
       "\n",
       "[101 rows x 2 columns]"
      ]
     },
     "execution_count": 323,
     "metadata": {},
     "output_type": "execute_result"
    }
   ],
   "source": [
    "batch1_df"
   ]
  },
  {
   "cell_type": "code",
   "execution_count": 324,
   "metadata": {},
   "outputs": [],
   "source": [
    "batch1_df = pd.get_dummies(batch1_df, columns=[\"name\"])"
   ]
  },
  {
   "cell_type": "code",
   "execution_count": 325,
   "metadata": {},
   "outputs": [
    {
     "data": {
      "text/html": [
       "<div>\n",
       "<style scoped>\n",
       "    .dataframe tbody tr th:only-of-type {\n",
       "        vertical-align: middle;\n",
       "    }\n",
       "\n",
       "    .dataframe tbody tr th {\n",
       "        vertical-align: top;\n",
       "    }\n",
       "\n",
       "    .dataframe thead th {\n",
       "        text-align: right;\n",
       "    }\n",
       "</style>\n",
       "<table border=\"1\" class=\"dataframe\">\n",
       "  <thead>\n",
       "    <tr style=\"text-align: right;\">\n",
       "      <th></th>\n",
       "      <th>filename</th>\n",
       "      <th>name_Aerosol</th>\n",
       "      <th>name_Cigarette</th>\n",
       "      <th>name_Clear plastic bottle</th>\n",
       "      <th>name_Crisp packet</th>\n",
       "      <th>name_Disposable food container</th>\n",
       "      <th>name_Drink can</th>\n",
       "      <th>name_Egg carton</th>\n",
       "      <th>name_Foam cup</th>\n",
       "      <th>name_Food Can</th>\n",
       "      <th>...</th>\n",
       "      <th>name_Other carton</th>\n",
       "      <th>name_Other plastic bottle</th>\n",
       "      <th>name_Paper bag</th>\n",
       "      <th>name_Paper cup</th>\n",
       "      <th>name_Plastic bottle cap</th>\n",
       "      <th>name_Plastic film</th>\n",
       "      <th>name_Plastic lid</th>\n",
       "      <th>name_Single-use carrier bag</th>\n",
       "      <th>name_Spread tub</th>\n",
       "      <th>name_Styrofoam piece</th>\n",
       "    </tr>\n",
       "  </thead>\n",
       "  <tbody>\n",
       "    <tr>\n",
       "      <th>0</th>\n",
       "      <td>000006.jpg</td>\n",
       "      <td>0</td>\n",
       "      <td>0</td>\n",
       "      <td>0</td>\n",
       "      <td>0</td>\n",
       "      <td>0</td>\n",
       "      <td>0</td>\n",
       "      <td>0</td>\n",
       "      <td>0</td>\n",
       "      <td>0</td>\n",
       "      <td>...</td>\n",
       "      <td>0</td>\n",
       "      <td>0</td>\n",
       "      <td>0</td>\n",
       "      <td>0</td>\n",
       "      <td>0</td>\n",
       "      <td>0</td>\n",
       "      <td>0</td>\n",
       "      <td>0</td>\n",
       "      <td>0</td>\n",
       "      <td>0</td>\n",
       "    </tr>\n",
       "    <tr>\n",
       "      <th>1</th>\n",
       "      <td>000012.jpg</td>\n",
       "      <td>0</td>\n",
       "      <td>0</td>\n",
       "      <td>0</td>\n",
       "      <td>0</td>\n",
       "      <td>0</td>\n",
       "      <td>0</td>\n",
       "      <td>0</td>\n",
       "      <td>0</td>\n",
       "      <td>0</td>\n",
       "      <td>...</td>\n",
       "      <td>0</td>\n",
       "      <td>0</td>\n",
       "      <td>0</td>\n",
       "      <td>0</td>\n",
       "      <td>0</td>\n",
       "      <td>0</td>\n",
       "      <td>0</td>\n",
       "      <td>0</td>\n",
       "      <td>0</td>\n",
       "      <td>0</td>\n",
       "    </tr>\n",
       "    <tr>\n",
       "      <th>2</th>\n",
       "      <td>000048.jpg</td>\n",
       "      <td>0</td>\n",
       "      <td>0</td>\n",
       "      <td>0</td>\n",
       "      <td>0</td>\n",
       "      <td>0</td>\n",
       "      <td>0</td>\n",
       "      <td>0</td>\n",
       "      <td>0</td>\n",
       "      <td>0</td>\n",
       "      <td>...</td>\n",
       "      <td>0</td>\n",
       "      <td>0</td>\n",
       "      <td>0</td>\n",
       "      <td>0</td>\n",
       "      <td>0</td>\n",
       "      <td>0</td>\n",
       "      <td>0</td>\n",
       "      <td>0</td>\n",
       "      <td>0</td>\n",
       "      <td>0</td>\n",
       "    </tr>\n",
       "    <tr>\n",
       "      <th>3</th>\n",
       "      <td>000021.jpg</td>\n",
       "      <td>0</td>\n",
       "      <td>0</td>\n",
       "      <td>0</td>\n",
       "      <td>0</td>\n",
       "      <td>0</td>\n",
       "      <td>0</td>\n",
       "      <td>0</td>\n",
       "      <td>0</td>\n",
       "      <td>0</td>\n",
       "      <td>...</td>\n",
       "      <td>0</td>\n",
       "      <td>0</td>\n",
       "      <td>0</td>\n",
       "      <td>0</td>\n",
       "      <td>0</td>\n",
       "      <td>0</td>\n",
       "      <td>0</td>\n",
       "      <td>0</td>\n",
       "      <td>0</td>\n",
       "      <td>0</td>\n",
       "    </tr>\n",
       "    <tr>\n",
       "      <th>4</th>\n",
       "      <td>000022.jpg</td>\n",
       "      <td>0</td>\n",
       "      <td>0</td>\n",
       "      <td>0</td>\n",
       "      <td>0</td>\n",
       "      <td>0</td>\n",
       "      <td>0</td>\n",
       "      <td>0</td>\n",
       "      <td>0</td>\n",
       "      <td>0</td>\n",
       "      <td>...</td>\n",
       "      <td>0</td>\n",
       "      <td>0</td>\n",
       "      <td>0</td>\n",
       "      <td>0</td>\n",
       "      <td>0</td>\n",
       "      <td>0</td>\n",
       "      <td>0</td>\n",
       "      <td>0</td>\n",
       "      <td>0</td>\n",
       "      <td>0</td>\n",
       "    </tr>\n",
       "    <tr>\n",
       "      <th>...</th>\n",
       "      <td>...</td>\n",
       "      <td>...</td>\n",
       "      <td>...</td>\n",
       "      <td>...</td>\n",
       "      <td>...</td>\n",
       "      <td>...</td>\n",
       "      <td>...</td>\n",
       "      <td>...</td>\n",
       "      <td>...</td>\n",
       "      <td>...</td>\n",
       "      <td>...</td>\n",
       "      <td>...</td>\n",
       "      <td>...</td>\n",
       "      <td>...</td>\n",
       "      <td>...</td>\n",
       "      <td>...</td>\n",
       "      <td>...</td>\n",
       "      <td>...</td>\n",
       "      <td>...</td>\n",
       "      <td>...</td>\n",
       "      <td>...</td>\n",
       "    </tr>\n",
       "    <tr>\n",
       "      <th>3942</th>\n",
       "      <td>000119.JPG</td>\n",
       "      <td>0</td>\n",
       "      <td>0</td>\n",
       "      <td>0</td>\n",
       "      <td>0</td>\n",
       "      <td>0</td>\n",
       "      <td>0</td>\n",
       "      <td>0</td>\n",
       "      <td>0</td>\n",
       "      <td>0</td>\n",
       "      <td>...</td>\n",
       "      <td>0</td>\n",
       "      <td>0</td>\n",
       "      <td>0</td>\n",
       "      <td>0</td>\n",
       "      <td>0</td>\n",
       "      <td>0</td>\n",
       "      <td>0</td>\n",
       "      <td>0</td>\n",
       "      <td>0</td>\n",
       "      <td>0</td>\n",
       "    </tr>\n",
       "    <tr>\n",
       "      <th>3954</th>\n",
       "      <td>000093.JPG</td>\n",
       "      <td>0</td>\n",
       "      <td>0</td>\n",
       "      <td>0</td>\n",
       "      <td>0</td>\n",
       "      <td>0</td>\n",
       "      <td>0</td>\n",
       "      <td>0</td>\n",
       "      <td>0</td>\n",
       "      <td>0</td>\n",
       "      <td>...</td>\n",
       "      <td>0</td>\n",
       "      <td>0</td>\n",
       "      <td>0</td>\n",
       "      <td>0</td>\n",
       "      <td>0</td>\n",
       "      <td>0</td>\n",
       "      <td>0</td>\n",
       "      <td>0</td>\n",
       "      <td>1</td>\n",
       "      <td>0</td>\n",
       "    </tr>\n",
       "    <tr>\n",
       "      <th>3969</th>\n",
       "      <td>000096.JPG</td>\n",
       "      <td>0</td>\n",
       "      <td>0</td>\n",
       "      <td>0</td>\n",
       "      <td>0</td>\n",
       "      <td>0</td>\n",
       "      <td>0</td>\n",
       "      <td>0</td>\n",
       "      <td>0</td>\n",
       "      <td>0</td>\n",
       "      <td>...</td>\n",
       "      <td>0</td>\n",
       "      <td>0</td>\n",
       "      <td>0</td>\n",
       "      <td>0</td>\n",
       "      <td>0</td>\n",
       "      <td>0</td>\n",
       "      <td>0</td>\n",
       "      <td>0</td>\n",
       "      <td>0</td>\n",
       "      <td>0</td>\n",
       "    </tr>\n",
       "    <tr>\n",
       "      <th>4067</th>\n",
       "      <td>000064.JPG</td>\n",
       "      <td>0</td>\n",
       "      <td>0</td>\n",
       "      <td>0</td>\n",
       "      <td>0</td>\n",
       "      <td>0</td>\n",
       "      <td>0</td>\n",
       "      <td>0</td>\n",
       "      <td>1</td>\n",
       "      <td>0</td>\n",
       "      <td>...</td>\n",
       "      <td>0</td>\n",
       "      <td>0</td>\n",
       "      <td>0</td>\n",
       "      <td>0</td>\n",
       "      <td>0</td>\n",
       "      <td>0</td>\n",
       "      <td>0</td>\n",
       "      <td>0</td>\n",
       "      <td>0</td>\n",
       "      <td>0</td>\n",
       "    </tr>\n",
       "    <tr>\n",
       "      <th>4068</th>\n",
       "      <td>000100.JPG</td>\n",
       "      <td>0</td>\n",
       "      <td>0</td>\n",
       "      <td>0</td>\n",
       "      <td>0</td>\n",
       "      <td>0</td>\n",
       "      <td>0</td>\n",
       "      <td>0</td>\n",
       "      <td>1</td>\n",
       "      <td>0</td>\n",
       "      <td>...</td>\n",
       "      <td>0</td>\n",
       "      <td>0</td>\n",
       "      <td>0</td>\n",
       "      <td>0</td>\n",
       "      <td>0</td>\n",
       "      <td>0</td>\n",
       "      <td>0</td>\n",
       "      <td>0</td>\n",
       "      <td>0</td>\n",
       "      <td>0</td>\n",
       "    </tr>\n",
       "  </tbody>\n",
       "</table>\n",
       "<p>101 rows × 27 columns</p>\n",
       "</div>"
      ],
      "text/plain": [
       "        filename  name_Aerosol  name_Cigarette  name_Clear plastic bottle  \\\n",
       "0     000006.jpg             0               0                          0   \n",
       "1     000012.jpg             0               0                          0   \n",
       "2     000048.jpg             0               0                          0   \n",
       "3     000021.jpg             0               0                          0   \n",
       "4     000022.jpg             0               0                          0   \n",
       "...          ...           ...             ...                        ...   \n",
       "3942  000119.JPG             0               0                          0   \n",
       "3954  000093.JPG             0               0                          0   \n",
       "3969  000096.JPG             0               0                          0   \n",
       "4067  000064.JPG             0               0                          0   \n",
       "4068  000100.JPG             0               0                          0   \n",
       "\n",
       "      name_Crisp packet  name_Disposable food container  name_Drink can  \\\n",
       "0                     0                               0               0   \n",
       "1                     0                               0               0   \n",
       "2                     0                               0               0   \n",
       "3                     0                               0               0   \n",
       "4                     0                               0               0   \n",
       "...                 ...                             ...             ...   \n",
       "3942                  0                               0               0   \n",
       "3954                  0                               0               0   \n",
       "3969                  0                               0               0   \n",
       "4067                  0                               0               0   \n",
       "4068                  0                               0               0   \n",
       "\n",
       "      name_Egg carton  name_Foam cup  name_Food Can  ...  name_Other carton  \\\n",
       "0                   0              0              0  ...                  0   \n",
       "1                   0              0              0  ...                  0   \n",
       "2                   0              0              0  ...                  0   \n",
       "3                   0              0              0  ...                  0   \n",
       "4                   0              0              0  ...                  0   \n",
       "...               ...            ...            ...  ...                ...   \n",
       "3942                0              0              0  ...                  0   \n",
       "3954                0              0              0  ...                  0   \n",
       "3969                0              0              0  ...                  0   \n",
       "4067                0              1              0  ...                  0   \n",
       "4068                0              1              0  ...                  0   \n",
       "\n",
       "      name_Other plastic bottle  name_Paper bag  name_Paper cup  \\\n",
       "0                             0               0               0   \n",
       "1                             0               0               0   \n",
       "2                             0               0               0   \n",
       "3                             0               0               0   \n",
       "4                             0               0               0   \n",
       "...                         ...             ...             ...   \n",
       "3942                          0               0               0   \n",
       "3954                          0               0               0   \n",
       "3969                          0               0               0   \n",
       "4067                          0               0               0   \n",
       "4068                          0               0               0   \n",
       "\n",
       "      name_Plastic bottle cap  name_Plastic film  name_Plastic lid  \\\n",
       "0                           0                  0                 0   \n",
       "1                           0                  0                 0   \n",
       "2                           0                  0                 0   \n",
       "3                           0                  0                 0   \n",
       "4                           0                  0                 0   \n",
       "...                       ...                ...               ...   \n",
       "3942                        0                  0                 0   \n",
       "3954                        0                  0                 0   \n",
       "3969                        0                  0                 0   \n",
       "4067                        0                  0                 0   \n",
       "4068                        0                  0                 0   \n",
       "\n",
       "      name_Single-use carrier bag  name_Spread tub  name_Styrofoam piece  \n",
       "0                               0                0                     0  \n",
       "1                               0                0                     0  \n",
       "2                               0                0                     0  \n",
       "3                               0                0                     0  \n",
       "4                               0                0                     0  \n",
       "...                           ...              ...                   ...  \n",
       "3942                            0                0                     0  \n",
       "3954                            0                1                     0  \n",
       "3969                            0                0                     0  \n",
       "4067                            0                0                     0  \n",
       "4068                            0                0                     0  \n",
       "\n",
       "[101 rows x 27 columns]"
      ]
     },
     "execution_count": 325,
     "metadata": {},
     "output_type": "execute_result"
    }
   ],
   "source": [
    "batch1_df"
   ]
  },
  {
   "cell_type": "code",
   "execution_count": 328,
   "metadata": {},
   "outputs": [
    {
     "data": {
      "text/plain": [
       "(101, 26)"
      ]
     },
     "execution_count": 328,
     "metadata": {},
     "output_type": "execute_result"
    }
   ],
   "source": [
    "# Dropping name from dataframe because we have name_cat for labels in batch1 \n",
    "y = np.array(batch1_df.drop(['filename'],axis=1))\n",
    "y.shape"
   ]
  },
  {
   "cell_type": "code",
   "execution_count": 329,
   "metadata": {},
   "outputs": [],
   "source": [
    "# Data split Randomly\n",
    "X_train, X_test, y_train, y_test = train_test_split(X, y, random_state=42, test_size=0.1)"
   ]
  },
  {
   "cell_type": "code",
   "execution_count": null,
   "metadata": {},
   "outputs": [],
   "source": []
  },
  {
   "cell_type": "code",
   "execution_count": 348,
   "metadata": {},
   "outputs": [],
   "source": [
    "# Build keras model architecture\n",
    "model = Sequential()\n",
    "model.add(Conv2D(filters=16, kernel_size=(5, 5), activation=\"relu\", input_shape=(400,400,3)))\n",
    "model.add(MaxPooling2D(pool_size=(2, 2)))\n",
    "model.add(Dropout(0.25))\n",
    "model.add(Conv2D(filters=32, kernel_size=(5, 5), activation='relu'))\n",
    "model.add(MaxPooling2D(pool_size=(2, 2)))\n",
    "model.add(Dropout(0.25))\n",
    "model.add(Conv2D(filters=64, kernel_size=(5, 5), activation=\"relu\"))\n",
    "model.add(MaxPooling2D(pool_size=(2, 2)))\n",
    "model.add(Dropout(0.25))\n",
    "\n",
    "model.add(Conv2D(filters=64, kernel_size=(5, 5), activation='relu'))\n",
    "model.add(MaxPooling2D(pool_size=(2, 2)))\n",
    "model.add(Dropout(0.25))\n",
    "\n",
    "model.add(Flatten())\n",
    "model.add(Dense(128, activation='relu'))\n",
    "model.add(Dropout(0.5))\n",
    "model.add(Dense(64, activation='relu'))\n",
    "model.add(Dropout(0.5))\n",
    "model.add(Dense(26, activation='softmax'))"
   ]
  },
  {
   "cell_type": "code",
   "execution_count": 349,
   "metadata": {},
   "outputs": [
    {
     "name": "stdout",
     "output_type": "stream",
     "text": [
      "Model: \"sequential_11\"\n",
      "_________________________________________________________________\n",
      "Layer (type)                 Output Shape              Param #   \n",
      "=================================================================\n",
      "conv2d_35 (Conv2D)           (None, 396, 396, 16)      1216      \n",
      "_________________________________________________________________\n",
      "max_pooling2d_35 (MaxPooling (None, 198, 198, 16)      0         \n",
      "_________________________________________________________________\n",
      "dropout_55 (Dropout)         (None, 198, 198, 16)      0         \n",
      "_________________________________________________________________\n",
      "conv2d_36 (Conv2D)           (None, 194, 194, 32)      12832     \n",
      "_________________________________________________________________\n",
      "max_pooling2d_36 (MaxPooling (None, 97, 97, 32)        0         \n",
      "_________________________________________________________________\n",
      "dropout_56 (Dropout)         (None, 97, 97, 32)        0         \n",
      "_________________________________________________________________\n",
      "conv2d_37 (Conv2D)           (None, 93, 93, 64)        51264     \n",
      "_________________________________________________________________\n",
      "max_pooling2d_37 (MaxPooling (None, 46, 46, 64)        0         \n",
      "_________________________________________________________________\n",
      "dropout_57 (Dropout)         (None, 46, 46, 64)        0         \n",
      "_________________________________________________________________\n",
      "conv2d_38 (Conv2D)           (None, 42, 42, 64)        102464    \n",
      "_________________________________________________________________\n",
      "max_pooling2d_38 (MaxPooling (None, 21, 21, 64)        0         \n",
      "_________________________________________________________________\n",
      "dropout_58 (Dropout)         (None, 21, 21, 64)        0         \n",
      "_________________________________________________________________\n",
      "flatten_11 (Flatten)         (None, 28224)             0         \n",
      "_________________________________________________________________\n",
      "dense_31 (Dense)             (None, 128)               3612800   \n",
      "_________________________________________________________________\n",
      "dropout_59 (Dropout)         (None, 128)               0         \n",
      "_________________________________________________________________\n",
      "dense_32 (Dense)             (None, 64)                8256      \n",
      "_________________________________________________________________\n",
      "dropout_60 (Dropout)         (None, 64)                0         \n",
      "_________________________________________________________________\n",
      "dense_33 (Dense)             (None, 26)                1690      \n",
      "=================================================================\n",
      "Total params: 3,790,522\n",
      "Trainable params: 3,790,522\n",
      "Non-trainable params: 0\n",
      "_________________________________________________________________\n"
     ]
    }
   ],
   "source": [
    "#Model Summary\n",
    "model.summary()"
   ]
  },
  {
   "cell_type": "code",
   "execution_count": 350,
   "metadata": {},
   "outputs": [],
   "source": [
    "# Compile Model\n",
    "model.compile(optimizer='adam', loss='categorical_crossentropy', metrics=['mean_absolute_error'])"
   ]
  },
  {
   "cell_type": "code",
   "execution_count": 351,
   "metadata": {},
   "outputs": [
    {
     "name": "stdout",
     "output_type": "stream",
     "text": [
      "Train on 90 samples, validate on 11 samples\n",
      "Epoch 1/5\n",
      "90/90 [==============================] - 38s 423ms/step - loss: 3.5647 - mean_absolute_error: 0.0740 - val_loss: 3.2374 - val_mean_absolute_error: 0.0739\n",
      "Epoch 2/5\n",
      "90/90 [==============================] - 27s 299ms/step - loss: 3.3730 - mean_absolute_error: 0.0740 - val_loss: 3.2534 - val_mean_absolute_error: 0.0740\n",
      "Epoch 3/5\n",
      "90/90 [==============================] - 23s 251ms/step - loss: 3.2494 - mean_absolute_error: 0.0739 - val_loss: 3.2507 - val_mean_absolute_error: 0.0739\n",
      "Epoch 4/5\n",
      "90/90 [==============================] - 23s 255ms/step - loss: 3.2452 - mean_absolute_error: 0.0739 - val_loss: 3.2375 - val_mean_absolute_error: 0.0739\n",
      "Epoch 5/5\n",
      "90/90 [==============================] - 37s 406ms/step - loss: 3.2291 - mean_absolute_error: 0.0738 - val_loss: 3.2088 - val_mean_absolute_error: 0.0738\n"
     ]
    },
    {
     "data": {
      "text/plain": [
       "<keras.callbacks.callbacks.History at 0x1a404b4810>"
      ]
     },
     "execution_count": 351,
     "metadata": {},
     "output_type": "execute_result"
    }
   ],
   "source": [
    "# Model fit\n",
    "model.fit(X_train, y_train, epochs=5, validation_data=(X_test, y_test), batch_size=64)"
   ]
  }
 ],
 "metadata": {
  "kernelspec": {
   "display_name": "Python 3",
   "language": "python",
   "name": "python3"
  },
  "language_info": {
   "codemirror_mode": {
    "name": "ipython",
    "version": 3
   },
   "file_extension": ".py",
   "mimetype": "text/x-python",
   "name": "python",
   "nbconvert_exporter": "python",
   "pygments_lexer": "ipython3",
   "version": "3.7.6"
  }
 },
 "nbformat": 4,
 "nbformat_minor": 4
}
