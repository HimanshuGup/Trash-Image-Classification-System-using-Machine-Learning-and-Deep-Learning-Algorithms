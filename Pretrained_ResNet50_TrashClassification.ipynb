{
  "nbformat": 4,
  "nbformat_minor": 0,
  "metadata": {
    "kernelspec": {
      "display_name": "Python 3",
      "language": "python",
      "name": "python3"
    },
    "language_info": {
      "codemirror_mode": {
        "name": "ipython",
        "version": 3
      },
      "file_extension": ".py",
      "mimetype": "text/x-python",
      "name": "python",
      "nbconvert_exporter": "python",
      "pygments_lexer": "ipython3",
      "version": "3.7.7"
    },
    "colab": {
      "name": "Pretrained_ResNet50_TrashClassification.ipynb",
      "provenance": [],
      "collapsed_sections": []
    },
    "accelerator": "GPU"
  },
  "cells": [
    {
      "cell_type": "code",
      "metadata": {
        "id": "ppNn0CVdXuu0",
        "colab_type": "code",
        "colab": {
          "base_uri": "https://localhost:8080/",
          "height": 71
        },
        "outputId": "53ecb03d-eab4-47a2-840d-bc899c119119"
      },
      "source": [
        "%matplotlib inline\n",
        "import json\n",
        "import numpy as np\n",
        "import pandas as pd\n",
        "import matplotlib.pyplot as plt\n",
        "import seaborn as sns; sns.set() \n",
        "from matplotlib import pyplot\n",
        "\n",
        "# Data Processing \n",
        "import os\n",
        "import os.path\n",
        "import random\n",
        "import PIL\n",
        "import glob\n",
        "from PIL import Image # to read images\n",
        "#\n",
        "%matplotlib inline\n",
        "plt.rcParams['figure.figsize'] = (10.0, 8.0) # set default size of plots\n",
        "plt.rcParams['image.interpolation'] = 'nearest'\n",
        "plt.rcParams['image.cmap'] = 'gray'\n"
      ],
      "execution_count": null,
      "outputs": [
        {
          "output_type": "stream",
          "text": [
            "/usr/local/lib/python3.6/dist-packages/statsmodels/tools/_testing.py:19: FutureWarning: pandas.util.testing is deprecated. Use the functions in the public API at pandas.testing instead.\n",
            "  import pandas.util.testing as tm\n"
          ],
          "name": "stderr"
        }
      ]
    },
    {
      "cell_type": "markdown",
      "metadata": {
        "id": "lXoQpsfgXuu6",
        "colab_type": "text"
      },
      "source": [
        "### Use Keras Model Architecture "
      ]
    },
    {
      "cell_type": "code",
      "metadata": {
        "id": "CfJyHIEbXuu7",
        "colab_type": "code",
        "colab": {}
      },
      "source": [
        "#For Keras model\n",
        "import keras\n",
        "from keras.models import Sequential,Model\n",
        "from keras.applications import ResNet50\n",
        "from keras.layers import Dense, Dropout, Flatten, Activation, BatchNormalization, Input\n",
        "from keras.layers import Conv2D, MaxPooling2D\n",
        "from keras.callbacks import EarlyStopping, ReduceLROnPlateau, ModelCheckpoint\n",
        "from keras.utils import to_categorical\n",
        "from keras.preprocessing import image\n",
        "from keras import backend as k\n",
        "import tensorflow as tf\n",
        "from tensorflow.python.keras.optimizers import TFOptimizer"
      ],
      "execution_count": null,
      "outputs": []
    },
    {
      "cell_type": "code",
      "metadata": {
        "id": "xHTBeUr4XuvA",
        "colab_type": "code",
        "colab": {}
      },
      "source": [
        "config = tf.compat.v1.ConfigProto() \n",
        "config.gpu_options.per_process_gpu_memory_fraction = 0.1\n",
        "config.gpu_options.allow_growth = True\n",
        "%load_ext autoreload\n",
        "%autoreload 2"
      ],
      "execution_count": null,
      "outputs": []
    },
    {
      "cell_type": "code",
      "metadata": {
        "id": "2CzGRB6_XuvD",
        "colab_type": "code",
        "colab": {}
      },
      "source": [
        "from sklearn.model_selection import train_test_split\n",
        "from sklearn.metrics import accuracy_score\n",
        "from sklearn.metrics import confusion_matrix,classification_report"
      ],
      "execution_count": null,
      "outputs": []
    },
    {
      "cell_type": "code",
      "metadata": {
        "id": "6N3I5LnyYDxn",
        "colab_type": "code",
        "colab": {
          "base_uri": "https://localhost:8080/",
          "height": 122
        },
        "outputId": "5cd55575-e5d8-40b3-d264-70cece7303f0"
      },
      "source": [
        "from google.colab import drive\n",
        "drive.mount('/content/drive')"
      ],
      "execution_count": null,
      "outputs": [
        {
          "output_type": "stream",
          "text": [
            "Go to this URL in a browser: https://accounts.google.com/o/oauth2/auth?client_id=947318989803-6bn6qk8qdgf4n4g3pfee6491hc0brc4i.apps.googleusercontent.com&redirect_uri=urn%3aietf%3awg%3aoauth%3a2.0%3aoob&response_type=code&scope=email%20https%3a%2f%2fwww.googleapis.com%2fauth%2fdocs.test%20https%3a%2f%2fwww.googleapis.com%2fauth%2fdrive%20https%3a%2f%2fwww.googleapis.com%2fauth%2fdrive.photos.readonly%20https%3a%2f%2fwww.googleapis.com%2fauth%2fpeopleapi.readonly\n",
            "\n",
            "Enter your authorization code:\n",
            "··········\n",
            "Mounted at /content/drive\n"
          ],
          "name": "stdout"
        }
      ]
    },
    {
      "cell_type": "markdown",
      "metadata": {
        "id": "MN9FgETUXuvG",
        "colab_type": "text"
      },
      "source": [
        "### Dataset Preparation "
      ]
    },
    {
      "cell_type": "code",
      "metadata": {
        "id": "n3ugU4B2XuvH",
        "colab_type": "code",
        "colab": {}
      },
      "source": [
        "dataset_path = './data'\n",
        "anns_file_path = dataset_path + '/' + 'annotations.json'"
      ],
      "execution_count": null,
      "outputs": []
    },
    {
      "cell_type": "code",
      "metadata": {
        "id": "vCZDUv3NYVjD",
        "colab_type": "code",
        "colab": {}
      },
      "source": [
        "path = \"/content/drive/My Drive/\"\n",
        "annot = \"/content/drive/My Drive/annotations.json\""
      ],
      "execution_count": null,
      "outputs": []
    },
    {
      "cell_type": "code",
      "metadata": {
        "id": "XU5GZG69XuvL",
        "colab_type": "code",
        "colab": {},
        "outputId": "acefd2c4-c7f3-43b4-c81d-ebcc3fca1784"
      },
      "source": [
        "anns_file_path"
      ],
      "execution_count": null,
      "outputs": [
        {
          "output_type": "execute_result",
          "data": {
            "text/plain": [
              "'./data/annotations.json'"
            ]
          },
          "metadata": {
            "tags": []
          },
          "execution_count": 6
        }
      ]
    },
    {
      "cell_type": "code",
      "metadata": {
        "id": "6jaA2pj0XuvQ",
        "colab_type": "code",
        "colab": {}
      },
      "source": [
        "# Read Annotations\n",
        "with open(annot , 'r') as f:\n",
        "    dataset = json.loads(f.read())"
      ],
      "execution_count": null,
      "outputs": []
    },
    {
      "cell_type": "code",
      "metadata": {
        "id": "9UzGHoxqXuvU",
        "colab_type": "code",
        "colab": {
          "base_uri": "https://localhost:8080/",
          "height": 34
        },
        "outputId": "e43b54c1-3957-4f61-9126-406cc9a122d7"
      },
      "source": [
        "categories = dataset['categories']\n",
        "anns = dataset['annotations']\n",
        "imgs = dataset['images']\n",
        "nr_cats = len(categories)\n",
        "nr_annotations = len(anns)\n",
        "nr_images = len(imgs)\n",
        "\n",
        "print(nr_images) # Total Number of images"
      ],
      "execution_count": null,
      "outputs": [
        {
          "output_type": "stream",
          "text": [
            "1500\n"
          ],
          "name": "stdout"
        }
      ]
    },
    {
      "cell_type": "code",
      "metadata": {
        "id": "mR0a2LOdXuvX",
        "colab_type": "code",
        "colab": {}
      },
      "source": [
        "# category Dataframe and  Select 'six new Category(ouput classes)' for category Dataframe\n",
        "cat_df = pd.DataFrame(categories)\n",
        "keyValList = ['Cigarette','Clear plastic bottle','Drink can','Plastic straw','Glass bottle']\n",
        "category_df = pd.DataFrame([d for d in categories if d['name'] in keyValList])\n",
        "\n",
        "# Annotation Dataframe\n",
        "ann_df = pd.DataFrame(anns)\n",
        "# Images Dataframe\n",
        "image_df = pd.DataFrame(imgs)"
      ],
      "execution_count": null,
      "outputs": []
    },
    {
      "cell_type": "code",
      "metadata": {
        "id": "dtRcwy-fXuva",
        "colab_type": "code",
        "colab": {}
      },
      "source": [
        "# Dropping unncessary columns for Keras fundamental CNN model\n",
        "category_df = category_df.drop(['supercategory'], axis = 1)\n",
        "image_df = image_df.drop(['license','flickr_url','coco_url','date_captured','flickr_640_url'], axis=1)\n",
        "ann_df = ann_df.drop(['id'], axis=1)"
      ],
      "execution_count": null,
      "outputs": []
    },
    {
      "cell_type": "code",
      "metadata": {
        "id": "k8lTHMsoXuve",
        "colab_type": "code",
        "colab": {
          "base_uri": "https://localhost:8080/",
          "height": 204
        },
        "outputId": "a12f3cb2-f67a-4a34-abd3-48ab1e4eda26"
      },
      "source": [
        "merged_img_ann_df = pd.merge(left=image_df, right=ann_df, left_on='id', right_on='image_id')\n",
        "final_merged_df = pd.merge(left=merged_img_ann_df, right=category_df, left_on='category_id', right_on='id') \n",
        "final_merged_df = final_merged_df.drop(['id_x','id_y','category_id','image_id','width','height'], axis = 1 )\n",
        "final_merged_df = final_merged_df.rename(columns={\"file_name\": \"filename\", \"name\": \"category\"})\n",
        "final_merged_df.head()"
      ],
      "execution_count": null,
      "outputs": [
        {
          "output_type": "execute_result",
          "data": {
            "text/html": [
              "<div>\n",
              "<style scoped>\n",
              "    .dataframe tbody tr th:only-of-type {\n",
              "        vertical-align: middle;\n",
              "    }\n",
              "\n",
              "    .dataframe tbody tr th {\n",
              "        vertical-align: top;\n",
              "    }\n",
              "\n",
              "    .dataframe thead th {\n",
              "        text-align: right;\n",
              "    }\n",
              "</style>\n",
              "<table border=\"1\" class=\"dataframe\">\n",
              "  <thead>\n",
              "    <tr style=\"text-align: right;\">\n",
              "      <th></th>\n",
              "      <th>filename</th>\n",
              "      <th>segmentation</th>\n",
              "      <th>area</th>\n",
              "      <th>bbox</th>\n",
              "      <th>iscrowd</th>\n",
              "      <th>category</th>\n",
              "    </tr>\n",
              "  </thead>\n",
              "  <tbody>\n",
              "    <tr>\n",
              "      <th>0</th>\n",
              "      <td>batch_1/000006.jpg</td>\n",
              "      <td>[[561.0, 1238.0, 568.0, 1201.0, 567.0, 1175.0,...</td>\n",
              "      <td>403954.0</td>\n",
              "      <td>[517.0, 127.0, 447.0, 1322.0]</td>\n",
              "      <td>0</td>\n",
              "      <td>Glass bottle</td>\n",
              "    </tr>\n",
              "    <tr>\n",
              "      <th>1</th>\n",
              "      <td>batch_1/000012.jpg</td>\n",
              "      <td>[[481.0, 1148.0, 505.0, 1163.0, 519.0, 1172.0,...</td>\n",
              "      <td>43489.0</td>\n",
              "      <td>[379.0, 1127.0, 425.0, 318.0]</td>\n",
              "      <td>0</td>\n",
              "      <td>Glass bottle</td>\n",
              "    </tr>\n",
              "    <tr>\n",
              "      <th>2</th>\n",
              "      <td>batch_1/000048.jpg</td>\n",
              "      <td>[[586.0, 820.0, 581.0, 851.0, 579.0, 889.0, 58...</td>\n",
              "      <td>324005.0</td>\n",
              "      <td>[211.0, 1.0, 417.0, 1417.0]</td>\n",
              "      <td>0</td>\n",
              "      <td>Glass bottle</td>\n",
              "    </tr>\n",
              "    <tr>\n",
              "      <th>3</th>\n",
              "      <td>batch_1/000021.jpg</td>\n",
              "      <td>[[1001.0, 867.0, 1163.0, 905.0, 1199.0, 913.0,...</td>\n",
              "      <td>95494.5</td>\n",
              "      <td>[852.0, 638.0, 687.0, 291.0]</td>\n",
              "      <td>0</td>\n",
              "      <td>Glass bottle</td>\n",
              "    </tr>\n",
              "    <tr>\n",
              "      <th>4</th>\n",
              "      <td>batch_1/000022.jpg</td>\n",
              "      <td>[[919.0, 1125.0, 968.0, 1111.0, 1000.0, 1100.0...</td>\n",
              "      <td>142823.0</td>\n",
              "      <td>[647.0, 1033.0, 820.0, 376.0]</td>\n",
              "      <td>0</td>\n",
              "      <td>Glass bottle</td>\n",
              "    </tr>\n",
              "  </tbody>\n",
              "</table>\n",
              "</div>"
            ],
            "text/plain": [
              "             filename  ...      category\n",
              "0  batch_1/000006.jpg  ...  Glass bottle\n",
              "1  batch_1/000012.jpg  ...  Glass bottle\n",
              "2  batch_1/000048.jpg  ...  Glass bottle\n",
              "3  batch_1/000021.jpg  ...  Glass bottle\n",
              "4  batch_1/000022.jpg  ...  Glass bottle\n",
              "\n",
              "[5 rows x 6 columns]"
            ]
          },
          "metadata": {
            "tags": []
          },
          "execution_count": 11
        }
      ]
    },
    {
      "cell_type": "code",
      "metadata": {
        "id": "vt8VqLO4Xuvi",
        "colab_type": "code",
        "colab": {}
      },
      "source": [
        "# New Dataframe with selective columns\n",
        "df = final_merged_df[['filename','bbox','category']]"
      ],
      "execution_count": null,
      "outputs": []
    },
    {
      "cell_type": "code",
      "metadata": {
        "id": "lK2mlb6CXuvl",
        "colab_type": "code",
        "colab": {}
      },
      "source": [
        "# storing bounding box values as seperate columns\n",
        "df = pd.concat([df , df['bbox'].apply(pd.Series)], axis = 1)\n",
        "df.columns = ['filename','bbox','category', 'x_min','y_min','x_max', 'y_max'] # x_max : width and y_max : height\n",
        "df = df.drop(['bbox',], axis=1)"
      ],
      "execution_count": null,
      "outputs": []
    },
    {
      "cell_type": "code",
      "metadata": {
        "id": "MakzSCT-Xuvo",
        "colab_type": "code",
        "colab": {
          "base_uri": "https://localhost:8080/",
          "height": 204
        },
        "outputId": "6cfc3fb7-0d15-458b-d8e4-cadaa1c03442"
      },
      "source": [
        "df.head()"
      ],
      "execution_count": null,
      "outputs": [
        {
          "output_type": "execute_result",
          "data": {
            "text/html": [
              "<div>\n",
              "<style scoped>\n",
              "    .dataframe tbody tr th:only-of-type {\n",
              "        vertical-align: middle;\n",
              "    }\n",
              "\n",
              "    .dataframe tbody tr th {\n",
              "        vertical-align: top;\n",
              "    }\n",
              "\n",
              "    .dataframe thead th {\n",
              "        text-align: right;\n",
              "    }\n",
              "</style>\n",
              "<table border=\"1\" class=\"dataframe\">\n",
              "  <thead>\n",
              "    <tr style=\"text-align: right;\">\n",
              "      <th></th>\n",
              "      <th>filename</th>\n",
              "      <th>category</th>\n",
              "      <th>x_min</th>\n",
              "      <th>y_min</th>\n",
              "      <th>x_max</th>\n",
              "      <th>y_max</th>\n",
              "    </tr>\n",
              "  </thead>\n",
              "  <tbody>\n",
              "    <tr>\n",
              "      <th>0</th>\n",
              "      <td>batch_1/000006.jpg</td>\n",
              "      <td>Glass bottle</td>\n",
              "      <td>517.0</td>\n",
              "      <td>127.0</td>\n",
              "      <td>447.0</td>\n",
              "      <td>1322.0</td>\n",
              "    </tr>\n",
              "    <tr>\n",
              "      <th>1</th>\n",
              "      <td>batch_1/000012.jpg</td>\n",
              "      <td>Glass bottle</td>\n",
              "      <td>379.0</td>\n",
              "      <td>1127.0</td>\n",
              "      <td>425.0</td>\n",
              "      <td>318.0</td>\n",
              "    </tr>\n",
              "    <tr>\n",
              "      <th>2</th>\n",
              "      <td>batch_1/000048.jpg</td>\n",
              "      <td>Glass bottle</td>\n",
              "      <td>211.0</td>\n",
              "      <td>1.0</td>\n",
              "      <td>417.0</td>\n",
              "      <td>1417.0</td>\n",
              "    </tr>\n",
              "    <tr>\n",
              "      <th>3</th>\n",
              "      <td>batch_1/000021.jpg</td>\n",
              "      <td>Glass bottle</td>\n",
              "      <td>852.0</td>\n",
              "      <td>638.0</td>\n",
              "      <td>687.0</td>\n",
              "      <td>291.0</td>\n",
              "    </tr>\n",
              "    <tr>\n",
              "      <th>4</th>\n",
              "      <td>batch_1/000022.jpg</td>\n",
              "      <td>Glass bottle</td>\n",
              "      <td>647.0</td>\n",
              "      <td>1033.0</td>\n",
              "      <td>820.0</td>\n",
              "      <td>376.0</td>\n",
              "    </tr>\n",
              "  </tbody>\n",
              "</table>\n",
              "</div>"
            ],
            "text/plain": [
              "             filename      category  x_min   y_min  x_max   y_max\n",
              "0  batch_1/000006.jpg  Glass bottle  517.0   127.0  447.0  1322.0\n",
              "1  batch_1/000012.jpg  Glass bottle  379.0  1127.0  425.0   318.0\n",
              "2  batch_1/000048.jpg  Glass bottle  211.0     1.0  417.0  1417.0\n",
              "3  batch_1/000021.jpg  Glass bottle  852.0   638.0  687.0   291.0\n",
              "4  batch_1/000022.jpg  Glass bottle  647.0  1033.0  820.0   376.0"
            ]
          },
          "metadata": {
            "tags": []
          },
          "execution_count": 14
        }
      ]
    },
    {
      "cell_type": "code",
      "metadata": {
        "id": "dkrqWcY8Xuvr",
        "colab_type": "code",
        "colab": {}
      },
      "source": [
        "# Calculate maximum x and maximum y points\n",
        "df['x_max'] = df['x_max']+df['x_min']\n",
        "df['y_max'] = df['y_max']+df['y_min']\n",
        "# Convert float columns to integer\n",
        "for col in  df.columns[2:]:\n",
        "    df[col] = df[col].astype(int)\n",
        "    "
      ],
      "execution_count": null,
      "outputs": []
    },
    {
      "cell_type": "code",
      "metadata": {
        "id": "PfO-t7NcXuvw",
        "colab_type": "code",
        "colab": {
          "base_uri": "https://localhost:8080/",
          "height": 601
        },
        "outputId": "73a9c2c2-961f-4499-cfc2-9e27f3bdf9f9"
      },
      "source": [
        "df['category'].value_counts().plot.bar()"
      ],
      "execution_count": null,
      "outputs": [
        {
          "output_type": "execute_result",
          "data": {
            "text/plain": [
              "<matplotlib.axes._subplots.AxesSubplot at 0x7fabf31840b8>"
            ]
          },
          "metadata": {
            "tags": []
          },
          "execution_count": 16
        },
        {
          "output_type": "display_data",
          "data": {
            "image/png": "[encoded data removed]",
            "text/plain": [
              "<Figure size 720x576 with 1 Axes>"
            ]
          },
          "metadata": {
            "tags": [],
            "needs_background": "light"
          }
        }
      ]
    },
    {
      "cell_type": "markdown",
      "metadata": {
        "id": "O0BHWQldXuvz",
        "colab_type": "text"
      },
      "source": [
        "Data splitting into train and test data and keep this test data aside for model prediction\n",
        "train_df, test_df = train_test_split(df, test_size=0.10, random_state=42)\n",
        "train_df = train_df.reset_index(drop=True)\n",
        "test_df = test_df.reset_index(drop=True)"
      ]
    },
    {
      "cell_type": "markdown",
      "metadata": {
        "id": "J19CpqVnXuvz",
        "colab_type": "text"
      },
      "source": [
        "### Fetch, crop and store image data"
      ]
    },
    {
      "cell_type": "code",
      "metadata": {
        "id": "7HEaS7ZsXuv0",
        "colab_type": "code",
        "colab": {}
      },
      "source": [
        "# path of the folder containing the original images \n",
        "inPath = path+'data' \n",
        "# path of the folder that will contain the cropped image \n",
        "outPath = path+'trainDataTACO' \n",
        "train_data = []  \n",
        "for ind in df.index:\n",
        "  bbox = (df['x_min'][ind],df['y_min'][ind],df['x_max'][ind],df['y_max'][ind])\n",
        "  imagePath = os.path.join(inPath+'/'+df['filename'][ind])\n",
        "  img = Image.open(imagePath)\n",
        "  img = img.crop(bbox)\n",
        "  fullOutPath = os.path.join(outPath +'/'+df['filename'][ind]) \n",
        "  img.save(fullOutPath)"
      ],
      "execution_count": null,
      "outputs": []
    },
    {
      "cell_type": "code",
      "metadata": {
        "id": "3ANzAIHtXuv2",
        "colab_type": "code",
        "colab": {
          "base_uri": "https://localhost:8080/",
          "height": 204
        },
        "outputId": "d93bdbda-4884-4712-893e-be23eb61d59a"
      },
      "source": [
        "df = df.drop(['x_min','x_max','y_min','y_max'], axis=1)\n",
        "df.head()"
      ],
      "execution_count": null,
      "outputs": [
        {
          "output_type": "execute_result",
          "data": {
            "text/html": [
              "<div>\n",
              "<style scoped>\n",
              "    .dataframe tbody tr th:only-of-type {\n",
              "        vertical-align: middle;\n",
              "    }\n",
              "\n",
              "    .dataframe tbody tr th {\n",
              "        vertical-align: top;\n",
              "    }\n",
              "\n",
              "    .dataframe thead th {\n",
              "        text-align: right;\n",
              "    }\n",
              "</style>\n",
              "<table border=\"1\" class=\"dataframe\">\n",
              "  <thead>\n",
              "    <tr style=\"text-align: right;\">\n",
              "      <th></th>\n",
              "      <th>filename</th>\n",
              "      <th>category</th>\n",
              "    </tr>\n",
              "  </thead>\n",
              "  <tbody>\n",
              "    <tr>\n",
              "      <th>0</th>\n",
              "      <td>batch_1/000006.jpg</td>\n",
              "      <td>Glass bottle</td>\n",
              "    </tr>\n",
              "    <tr>\n",
              "      <th>1</th>\n",
              "      <td>batch_1/000012.jpg</td>\n",
              "      <td>Glass bottle</td>\n",
              "    </tr>\n",
              "    <tr>\n",
              "      <th>2</th>\n",
              "      <td>batch_1/000048.jpg</td>\n",
              "      <td>Glass bottle</td>\n",
              "    </tr>\n",
              "    <tr>\n",
              "      <th>3</th>\n",
              "      <td>batch_1/000021.jpg</td>\n",
              "      <td>Glass bottle</td>\n",
              "    </tr>\n",
              "    <tr>\n",
              "      <th>4</th>\n",
              "      <td>batch_1/000022.jpg</td>\n",
              "      <td>Glass bottle</td>\n",
              "    </tr>\n",
              "  </tbody>\n",
              "</table>\n",
              "</div>"
            ],
            "text/plain": [
              "             filename      category\n",
              "0  batch_1/000006.jpg  Glass bottle\n",
              "1  batch_1/000012.jpg  Glass bottle\n",
              "2  batch_1/000048.jpg  Glass bottle\n",
              "3  batch_1/000021.jpg  Glass bottle\n",
              "4  batch_1/000022.jpg  Glass bottle"
            ]
          },
          "metadata": {
            "tags": []
          },
          "execution_count": 36
        }
      ]
    },
    {
      "cell_type": "code",
      "metadata": {
        "id": "L1wq6V2NXuv8",
        "colab_type": "code",
        "colab": {}
      },
      "source": [
        "df = df.astype({\"category\":'category'})"
      ],
      "execution_count": null,
      "outputs": []
    },
    {
      "cell_type": "code",
      "metadata": {
        "id": "Df6XNLMlXuwA",
        "colab_type": "code",
        "colab": {
          "base_uri": "https://localhost:8080/",
          "height": 170
        },
        "outputId": "3c48c052-74f5-461b-dad2-63da9d2cfc26"
      },
      "source": [
        "df.info()"
      ],
      "execution_count": null,
      "outputs": [
        {
          "output_type": "stream",
          "text": [
            "<class 'pandas.core.frame.DataFrame'>\n",
            "Int64Index: 1442 entries, 0 to 1441\n",
            "Data columns (total 2 columns):\n",
            " #   Column    Non-Null Count  Dtype   \n",
            "---  ------    --------------  -----   \n",
            " 0   filename  1442 non-null   object  \n",
            " 1   category  1442 non-null   category\n",
            "dtypes: category(1), object(1)\n",
            "memory usage: 24.1+ KB\n"
          ],
          "name": "stdout"
        }
      ]
    },
    {
      "cell_type": "markdown",
      "metadata": {
        "id": "39jyI3Z2XuwE",
        "colab_type": "text"
      },
      "source": [
        "### Data Split "
      ]
    },
    {
      "cell_type": "code",
      "metadata": {
        "id": "vH8zRsnVXuwF",
        "colab_type": "code",
        "colab": {}
      },
      "source": [
        "# Data split Randomly\n",
        "trainData_df, testData_df = train_test_split(df, test_size=0.20, random_state=42,stratify = df['category'] )\n"
      ],
      "execution_count": null,
      "outputs": []
    },
    {
      "cell_type": "code",
      "metadata": {
        "id": "rR-_1j-DXuwH",
        "colab_type": "code",
        "colab": {
          "base_uri": "https://localhost:8080/",
          "height": 51
        },
        "outputId": "b3db7928-f2ea-4dc6-99d6-037211ffbef3"
      },
      "source": [
        "print(trainData_df.shape)\n",
        "print(testData_df.shape)"
      ],
      "execution_count": null,
      "outputs": [
        {
          "output_type": "stream",
          "text": [
            "(1153, 2)\n",
            "(289, 2)\n"
          ],
          "name": "stdout"
        }
      ]
    },
    {
      "cell_type": "markdown",
      "metadata": {
        "id": "qutyCx_2XuwK",
        "colab_type": "text"
      },
      "source": [
        "#### Global Constants "
      ]
    },
    {
      "cell_type": "code",
      "metadata": {
        "id": "pC6zG1duXuwK",
        "colab_type": "code",
        "colab": {}
      },
      "source": [
        "# Fixed for our 'Cigarette','Clear plastic bottle','Drink can','Plastic straw','Glass bottle' classes\n",
        "NUM_CLASSES = 5\n",
        "CHANNELS = 3\n",
        "\n",
        "#\n",
        "IMAGE_RESIZE = 224\n",
        "RESNET50_POOLING_AVERAGE = 'avg'\n",
        "DENSE_LAYER_ACTIVATION = 'softmax'\n",
        "OBJECTIVE_FUNCTION = 'categorical_crossentropy'\n",
        "input_shape = (IMAGE_RESIZE,IMAGE_RESIZE,CHANNELS)\n",
        "# Common accuracy metric for all outputs, but can use different metrics for different output\n",
        "LOSS_METRICS = ['accuracy']\n",
        "\n",
        "# EARLY_STOP_PATIENCE must be < NUM_EPOCHS\n",
        "NUM_EPOCHS = 200\n",
        "EARLY_STOP_PATIENCE = 3\n",
        "FAST_RUN = False\n",
        "\n",
        "# These steps value should be proper FACTOR of no.-of-images in train & valid folders respectively\n",
        "# Training images processed in each step would be no.-of-train-images / STEPS_PER_EPOCH_TRAINING\n",
        "STEPS_PER_EPOCH_TRAINING = 10\n",
        "STEPS_PER_EPOCH_VALIDATION = 10\n",
        "\n",
        "# These steps value should be proper FACTOR of no.-of-images in train & valid folders respectively\n",
        "# NOTE that these BATCH* are for Keras ImageDataGenerator batching to fill epoch step input\n",
        "BATCH_SIZE_TRAINING = 50\n",
        "BATCH_SIZE_VALIDATION = 10\n",
        "\n",
        "# Using 1 to easily manage mapping between test_generator & prediction for submission preparation\n",
        "BATCH_SIZE_TESTING = 1"
      ],
      "execution_count": 70,
      "outputs": []
    },
    {
      "cell_type": "code",
      "metadata": {
        "id": "e4kXE38dXuwO",
        "colab_type": "code",
        "colab": {}
      },
      "source": [
        "resnet_weights_path = path + 'resnet50/resnet50_weights_tf_dim_ordering_tf_kernels_notop.h5'"
      ],
      "execution_count": null,
      "outputs": []
    },
    {
      "cell_type": "code",
      "metadata": {
        "id": "tNBvDCHEXuwS",
        "colab_type": "code",
        "colab": {
          "base_uri": "https://localhost:8080/",
          "height": 71
        },
        "outputId": "136f28b3-8f48-4cb0-a91f-9df407882934"
      },
      "source": [
        "#Still not talking about our train/test data or any pre-processing.\n",
        "\n",
        "model = Sequential()\n",
        "\n",
        "# 1st layer as the lumpsum weights from resnet50_weights_tf_dim_ordering_tf_kernels_notop.h5\n",
        "# NOTE that this layer will be set below as NOT TRAINABLE, i.e., use it as is\n",
        "model.add(ResNet50(include_top = False, pooling = RESNET50_POOLING_AVERAGE, weights = 'imagenet'))\n",
        "\n",
        "# 2nd layer as Dense for 2-class classification, i.e., dog or cat using SoftMax activation\n",
        "model.add(Dense(NUM_CLASSES, activation = DENSE_LAYER_ACTIVATION))\n",
        "\n",
        "# Say not to train first layer (ResNet) model as it is already trained\n",
        "model.layers[0].trainable = False"
      ],
      "execution_count": null,
      "outputs": [
        {
          "output_type": "stream",
          "text": [
            "Downloading data from https://github.com/fchollet/deep-learning-models/releases/download/v0.2/resnet50_weights_tf_dim_ordering_tf_kernels_notop.h5\n",
            "94658560/94653016 [==============================] - 3s 0us/step\n"
          ],
          "name": "stdout"
        }
      ]
    },
    {
      "cell_type": "code",
      "metadata": {
        "id": "Zwo_67z-XuwV",
        "colab_type": "code",
        "colab": {
          "base_uri": "https://localhost:8080/",
          "height": 221
        },
        "outputId": "7c56a5b8-a928-4963-f839-d3d5c8447ef0"
      },
      "source": [
        "model.summary()"
      ],
      "execution_count": null,
      "outputs": [
        {
          "output_type": "stream",
          "text": [
            "Model: \"sequential_3\"\n",
            "_________________________________________________________________\n",
            "Layer (type)                 Output Shape              Param #   \n",
            "=================================================================\n",
            "resnet50 (Model)             (None, 2048)              23587712  \n",
            "_________________________________________________________________\n",
            "dense_1 (Dense)              (None, 5)                 10245     \n",
            "=================================================================\n",
            "Total params: 23,597,957\n",
            "Trainable params: 10,245\n",
            "Non-trainable params: 23,587,712\n",
            "_________________________________________________________________\n"
          ],
          "name": "stdout"
        }
      ]
    },
    {
      "cell_type": "code",
      "metadata": {
        "id": "Cp9m4GYnXuwY",
        "colab_type": "code",
        "colab": {}
      },
      "source": [
        "from tensorflow.python.keras import optimizers"
      ],
      "execution_count": null,
      "outputs": []
    },
    {
      "cell_type": "code",
      "metadata": {
        "id": "YhPmECDXgwq1",
        "colab_type": "code",
        "colab": {}
      },
      "source": [
        "sgd = optimizers.SGD(lr = 0.01, decay = 1e-6, momentum = 0.9, nesterov = True)\n",
        "model.compile(optimizer = 'adam', loss = OBJECTIVE_FUNCTION, metrics = LOSS_METRICS)"
      ],
      "execution_count": null,
      "outputs": []
    },
    {
      "cell_type": "code",
      "metadata": {
        "id": "9h8JTQxAXuwc",
        "colab_type": "code",
        "colab": {}
      },
      "source": [
        "from keras.applications.resnet50 import preprocess_input\n",
        "from keras.preprocessing.image import ImageDataGenerator\n"
      ],
      "execution_count": null,
      "outputs": []
    },
    {
      "cell_type": "code",
      "metadata": {
        "id": "3LLDJfQzXuwf",
        "colab_type": "code",
        "colab": {}
      },
      "source": [
        "# Batch Normalization helps in faster convergence\n",
        "data_generator = ImageDataGenerator(preprocessing_function=preprocess_input, validation_split=0.10)"
      ],
      "execution_count": null,
      "outputs": []
    },
    {
      "cell_type": "code",
      "metadata": {
        "id": "4rqk_heyXuwi",
        "colab_type": "code",
        "colab": {
          "base_uri": "https://localhost:8080/",
          "height": 34
        },
        "outputId": "b2579ba2-a4d9-407f-85f2-c9ac8414c26d"
      },
      "source": [
        "# Train image data generator\n",
        "# Create new train folder directory which should have images\n",
        "newPath = path +'trainDataTACO'\n",
        "train_generator=data_generator.flow_from_dataframe(\n",
        "    dataframe=trainData_df,\n",
        "    directory=newPath,\n",
        "    x_col=\"filename\",\n",
        "    y_col=\"category\",\n",
        "    subset=\"training\",\n",
        "    batch_size=BATCH_SIZE_TRAINING,\n",
        "    seed=21,\n",
        "    shuffle=True,\n",
        "    class_mode=\"categorical\",\n",
        "    target_size=(IMAGE_RESIZE,IMAGE_RESIZE)\n",
        ")"
      ],
      "execution_count": null,
      "outputs": [
        {
          "output_type": "stream",
          "text": [
            "Found 1038 validated image filenames belonging to 5 classes.\n"
          ],
          "name": "stdout"
        }
      ]
    },
    {
      "cell_type": "code",
      "metadata": {
        "id": "5YZltcR6Xuwm",
        "colab_type": "code",
        "colab": {
          "base_uri": "https://localhost:8080/",
          "height": 34
        },
        "outputId": "36dbec90-2592-4274-d920-2c029d9b4688"
      },
      "source": [
        "# Validation image data generator\n",
        "validation_generator=data_generator.flow_from_dataframe(\n",
        "    dataframe=trainData_df,\n",
        "    directory=newPath,\n",
        "    x_col=\"filename\",\n",
        "    y_col=\"category\",\n",
        "    subset=\"validation\",\n",
        "    batch_size=BATCH_SIZE_TRAINING,\n",
        "    seed=21,\n",
        "    shuffle=True,\n",
        "    class_mode=\"categorical\",\n",
        "    target_size=(IMAGE_RESIZE,IMAGE_RESIZE)\n",
        ")"
      ],
      "execution_count": null,
      "outputs": [
        {
          "output_type": "stream",
          "text": [
            "Found 115 validated image filenames belonging to 5 classes.\n"
          ],
          "name": "stdout"
        }
      ]
    },
    {
      "cell_type": "code",
      "metadata": {
        "id": "AEPMmZZnXuwo",
        "colab_type": "code",
        "colab": {
          "base_uri": "https://localhost:8080/",
          "height": 34
        },
        "outputId": "c3ab94e2-2a3a-4fab-ceac-6bc83468010a"
      },
      "source": [
        "(BATCH_SIZE_TRAINING, len(train_generator), BATCH_SIZE_VALIDATION, len(validation_generator))"
      ],
      "execution_count": null,
      "outputs": [
        {
          "output_type": "execute_result",
          "data": {
            "text/plain": [
              "(50, 21, 10, 3)"
            ]
          },
          "metadata": {
            "tags": []
          },
          "execution_count": 57
        }
      ]
    },
    {
      "cell_type": "code",
      "metadata": {
        "id": "wZRs7dTAXuwq",
        "colab_type": "code",
        "colab": {}
      },
      "source": [
        "filepath_model = path + '/resnet50/working/best.hdf5'\n",
        "cb_early_stopper = EarlyStopping(monitor = 'val_loss', patience = EARLY_STOP_PATIENCE)\n",
        "cb_checkpointer = ModelCheckpoint(filepath = filepath_model, monitor = 'val_loss', save_best_only = True, mode = 'auto')"
      ],
      "execution_count": 68,
      "outputs": []
    },
    {
      "cell_type": "code",
      "metadata": {
        "id": "5NU-f2Z0Xuwv",
        "colab_type": "code",
        "colab": {
          "base_uri": "https://localhost:8080/",
          "height": 221
        },
        "outputId": "b585aad3-027d-4de7-fedc-9ba5618bb64b"
      },
      "source": [
        "fit_history = model.fit_generator(\n",
        "        train_generator,\n",
        "        steps_per_epoch=STEPS_PER_EPOCH_TRAINING,\n",
        "        epochs = NUM_EPOCHS,\n",
        "        validation_data=validation_generator,\n",
        "        validation_steps=STEPS_PER_EPOCH_VALIDATION,\n",
        "        callbacks=[cb_checkpointer, cb_early_stopper]\n",
        ")\n",
        "model.load_weights(filepath_model)"
      ],
      "execution_count": 71,
      "outputs": [
        {
          "output_type": "stream",
          "text": [
            "Epoch 1/200\n",
            "10/10 [==============================] - 6s 647ms/step - loss: 0.5683 - accuracy: 0.8156 - val_loss: 1.1783 - val_accuracy: 0.6810\n",
            "Epoch 2/200\n",
            "10/10 [==============================] - 5s 522ms/step - loss: 0.6118 - accuracy: 0.7860 - val_loss: 0.9915 - val_accuracy: 0.6810\n",
            "Epoch 3/200\n",
            "10/10 [==============================] - 6s 592ms/step - loss: 0.5653 - accuracy: 0.7910 - val_loss: 0.9254 - val_accuracy: 0.6972\n",
            "Epoch 4/200\n",
            "10/10 [==============================] - 5s 522ms/step - loss: 0.5259 - accuracy: 0.8140 - val_loss: 1.1670 - val_accuracy: 0.6709\n",
            "Epoch 5/200\n",
            "10/10 [==============================] - 6s 624ms/step - loss: 0.5059 - accuracy: 0.8340 - val_loss: 1.3782 - val_accuracy: 0.6759\n",
            "Epoch 6/200\n",
            "10/10 [==============================] - 5s 504ms/step - loss: 0.4609 - accuracy: 0.8463 - val_loss: 1.0075 - val_accuracy: 0.6583\n"
          ],
          "name": "stdout"
        }
      ]
    },
    {
      "cell_type": "code",
      "metadata": {
        "id": "KtT4kCN9h24S",
        "colab_type": "code",
        "colab": {
          "base_uri": "https://localhost:8080/",
          "height": 34
        },
        "outputId": "8866ed4d-89eb-4562-8154-1cd7f5fdabde"
      },
      "source": [
        "print(fit_history.history.keys())"
      ],
      "execution_count": 72,
      "outputs": [
        {
          "output_type": "stream",
          "text": [
            "dict_keys(['val_loss', 'val_accuracy', 'loss', 'accuracy'])\n"
          ],
          "name": "stdout"
        }
      ]
    },
    {
      "cell_type": "code",
      "metadata": {
        "id": "xVm6p3qxj4Qz",
        "colab_type": "code",
        "colab": {
          "base_uri": "https://localhost:8080/",
          "height": 281
        },
        "outputId": "f4875c1c-cb56-4265-eb42-c0979f00d739"
      },
      "source": [
        "plt.figure(1, figsize = (15,8)) \n",
        "    \n",
        "plt.subplot(221)  \n",
        "plt.plot(fit_history.history['accuracy'])  \n",
        "plt.plot(fit_history.history['val_accuracy'])  \n",
        "plt.title('model accuracy')  \n",
        "plt.ylabel('accuracy')  \n",
        "plt.xlabel('epoch')  \n",
        "plt.legend(['train', 'valid']) \n",
        "    \n",
        "plt.subplot(222)  \n",
        "plt.plot(fit_history.history['loss'])  \n",
        "plt.plot(fit_history.history['val_loss'])  \n",
        "plt.title('model loss')  \n",
        "plt.ylabel('loss')  \n",
        "plt.xlabel('epoch')  \n",
        "plt.legend(['train', 'valid']) \n",
        "\n",
        "plt.show()"
      ],
      "execution_count": 75,
      "outputs": [
        {
          "output_type": "display_data",
          "data": {
            "image/png": "[encoded data removed]",
            "text/plain": [
              "<Figure size 1080x576 with 2 Axes>"
            ]
          },
          "metadata": {
            "tags": [],
            "needs_background": "light"
          }
        }
      ]
    },
    {
      "cell_type": "code",
      "metadata": {
        "id": "8FM5dacmj7Oq",
        "colab_type": "code",
        "colab": {
          "base_uri": "https://localhost:8080/",
          "height": 34
        },
        "outputId": "d53bdfdc-ceab-42d8-900e-af1f05d84b90"
      },
      "source": [
        "# test image data generator\n",
        "test_generator=data_generator.flow_from_dataframe(\n",
        "    dataframe=testData_df,\n",
        "    directory=newPath,\n",
        "    x_col=\"filename\",\n",
        "    y_col=\"category\",\n",
        "    batch_size=BATCH_SIZE_TESTING,\n",
        "    seed=21,\n",
        "    shuffle=False,\n",
        "    class_mode=None,\n",
        "    target_size=(IMAGE_RESIZE,IMAGE_RESIZE)\n",
        ")"
      ],
      "execution_count": 76,
      "outputs": [
        {
          "output_type": "stream",
          "text": [
            "Found 289 validated image filenames.\n"
          ],
          "name": "stdout"
        }
      ]
    },
    {
      "cell_type": "code",
      "metadata": {
        "id": "0RiWEtq8lfrG",
        "colab_type": "code",
        "colab": {
          "base_uri": "https://localhost:8080/",
          "height": 34
        },
        "outputId": "9f76fce4-11b7-4788-e2c2-9875298c48c8"
      },
      "source": [
        "# Reset before each call to predict\n",
        "test_generator.reset()\n",
        "\n",
        "pred = model.predict_generator(test_generator, steps = len(test_generator), verbose = 1)\n",
        "\n",
        "predicted_class_indices = np.argmax(pred, axis = 1)"
      ],
      "execution_count": 77,
      "outputs": [
        {
          "output_type": "stream",
          "text": [
            "289/289 [==============================] - 6s 21ms/step\n"
          ],
          "name": "stdout"
        }
      ]
    },
    {
      "cell_type": "code",
      "metadata": {
        "id": "4QL631iVlpM6",
        "colab_type": "code",
        "colab": {
          "base_uri": "https://localhost:8080/",
          "height": 255
        },
        "outputId": "6cf338e7-f651-43ca-a611-522b4efa15f8"
      },
      "source": [
        "predicted_class_indices"
      ],
      "execution_count": 78,
      "outputs": [
        {
          "output_type": "execute_result",
          "data": {
            "text/plain": [
              "array([0, 0, 4, 0, 2, 0, 0, 1, 0, 0, 0, 0, 0, 0, 0, 1, 1, 0, 2, 0, 0, 1,\n",
              "       0, 0, 0, 0, 0, 0, 0, 0, 0, 0, 0, 1, 0, 0, 0, 0, 0, 0, 0, 0, 0, 0,\n",
              "       0, 0, 0, 0, 0, 1, 0, 0, 0, 0, 2, 0, 0, 0, 0, 0, 0, 4, 0, 2, 0, 0,\n",
              "       0, 0, 0, 0, 0, 0, 0, 0, 0, 3, 0, 0, 0, 0, 0, 0, 0, 0, 1, 0, 0, 0,\n",
              "       4, 0, 0, 0, 1, 3, 0, 0, 0, 0, 0, 4, 1, 0, 0, 0, 1, 0, 0, 0, 0, 1,\n",
              "       1, 0, 0, 0, 4, 0, 0, 1, 0, 0, 1, 1, 1, 0, 3, 0, 1, 0, 0, 0, 0, 1,\n",
              "       0, 0, 1, 3, 3, 1, 1, 4, 0, 0, 1, 0, 0, 2, 0, 0, 0, 0, 0, 2, 0, 4,\n",
              "       0, 0, 0, 0, 0, 0, 0, 0, 1, 2, 1, 0, 0, 0, 0, 0, 0, 0, 0, 0, 0, 1,\n",
              "       1, 1, 0, 0, 1, 0, 0, 0, 0, 0, 0, 3, 0, 4, 0, 0, 0, 0, 0, 3, 0, 0,\n",
              "       1, 0, 0, 0, 0, 0, 0, 2, 2, 0, 2, 0, 0, 1, 0, 0, 0, 0, 0, 2, 0, 0,\n",
              "       0, 0, 0, 1, 0, 4, 0, 0, 1, 1, 1, 0, 2, 0, 1, 0, 0, 0, 0, 0, 0, 0,\n",
              "       1, 0, 0, 0, 0, 0, 0, 0, 0, 0, 0, 0, 3, 4, 3, 0, 0, 1, 0, 0, 0, 2,\n",
              "       0, 0, 0, 0, 0, 1, 0, 0, 2, 0, 1, 0, 0, 1, 4, 0, 0, 0, 0, 1, 0, 4,\n",
              "       1, 0, 0])"
            ]
          },
          "metadata": {
            "tags": []
          },
          "execution_count": 78
        }
      ]
    },
    {
      "cell_type": "code",
      "metadata": {
        "id": "F13yTksCl0TC",
        "colab_type": "code",
        "colab": {}
      },
      "source": [
        "results_df = pd.DataFrame(\n",
        "    {\n",
        "        'id': pd.Series(testData_df['filename']), \n",
        "        'label': pd.Series(predicted_class_indices)\n",
        "    })"
      ],
      "execution_count": 80,
      "outputs": []
    },
    {
      "cell_type": "code",
      "metadata": {
        "id": "tKcm-puBmUAy",
        "colab_type": "code",
        "colab": {
          "base_uri": "https://localhost:8080/",
          "height": 204
        },
        "outputId": "f338455c-d391-455c-9413-9b8cc876248c"
      },
      "source": [
        "results_df['id'] = results_df.id.str.extract('(\\d+)')\n",
        "results_df['id'] = pd.to_numeric(results_df['id'], errors = 'coerce')\n",
        "results_df.sort_values(by='id', inplace = True)\n",
        "\n",
        "results_df.to_csv('submission.csv', index=False)\n",
        "results_df.head()"
      ],
      "execution_count": 81,
      "outputs": [
        {
          "output_type": "execute_result",
          "data": {
            "text/html": [
              "<div>\n",
              "<style scoped>\n",
              "    .dataframe tbody tr th:only-of-type {\n",
              "        vertical-align: middle;\n",
              "    }\n",
              "\n",
              "    .dataframe tbody tr th {\n",
              "        vertical-align: top;\n",
              "    }\n",
              "\n",
              "    .dataframe thead th {\n",
              "        text-align: right;\n",
              "    }\n",
              "</style>\n",
              "<table border=\"1\" class=\"dataframe\">\n",
              "  <thead>\n",
              "    <tr style=\"text-align: right;\">\n",
              "      <th></th>\n",
              "      <th>id</th>\n",
              "      <th>label</th>\n",
              "    </tr>\n",
              "  </thead>\n",
              "  <tbody>\n",
              "    <tr>\n",
              "      <th>0</th>\n",
              "      <td>1.0</td>\n",
              "      <td>0.0</td>\n",
              "    </tr>\n",
              "    <tr>\n",
              "      <th>391</th>\n",
              "      <td>1.0</td>\n",
              "      <td>NaN</td>\n",
              "    </tr>\n",
              "    <tr>\n",
              "      <th>104</th>\n",
              "      <td>1.0</td>\n",
              "      <td>1.0</td>\n",
              "    </tr>\n",
              "    <tr>\n",
              "      <th>106</th>\n",
              "      <td>1.0</td>\n",
              "      <td>0.0</td>\n",
              "    </tr>\n",
              "    <tr>\n",
              "      <th>108</th>\n",
              "      <td>1.0</td>\n",
              "      <td>0.0</td>\n",
              "    </tr>\n",
              "  </tbody>\n",
              "</table>\n",
              "</div>"
            ],
            "text/plain": [
              "      id  label\n",
              "0    1.0    0.0\n",
              "391  1.0    NaN\n",
              "104  1.0    1.0\n",
              "106  1.0    0.0\n",
              "108  1.0    0.0"
            ]
          },
          "metadata": {
            "tags": []
          },
          "execution_count": 81
        }
      ]
    },
    {
      "cell_type": "code",
      "metadata": {
        "id": "wNApGjtsmY4U",
        "colab_type": "code",
        "colab": {}
      },
      "source": [
        ""
      ],
      "execution_count": null,
      "outputs": []
    }
  ]
}