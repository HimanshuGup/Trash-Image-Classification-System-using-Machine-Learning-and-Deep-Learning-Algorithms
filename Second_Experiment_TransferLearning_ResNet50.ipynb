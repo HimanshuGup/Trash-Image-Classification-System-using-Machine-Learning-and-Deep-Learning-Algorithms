{
  "nbformat": 4,
  "nbformat_minor": 0,
  "metadata": {
    "colab": {
      "name": "Second_Experiment_TransferLearning_ResNet50.ipynb",
      "provenance": [],
      "collapsed_sections": []
    },
    "kernelspec": {
      "name": "python3",
      "display_name": "Python 3"
    }
  },
  "cells": [
    {
      "cell_type": "markdown",
      "metadata": {
        "id": "KcTPUAXF6hDK",
        "colab_type": "text"
      },
      "source": [
        "Theses Project Experiment with ResNet-50 Model\n",
        "\n",
        "Submitted by Himanshu Gupta"
      ]
    },
    {
      "cell_type": "code",
      "metadata": {
        "id": "GZLRYnQ8kFun",
        "colab_type": "code",
        "colab": {
          "base_uri": "https://localhost:8080/",
          "height": 35
        },
        "outputId": "f3c922ed-ff56-4638-adb6-0884397fc940"
      },
      "source": [
        "import pandas as pd\n",
        "import tensorflow as tf\n",
        "import warnings\n",
        "warnings.filterwarnings('ignore')\n",
        "tf.test.gpu_device_name()"
      ],
      "execution_count": null,
      "outputs": [
        {
          "output_type": "execute_result",
          "data": {
            "application/vnd.google.colaboratory.intrinsic+json": {
              "type": "string"
            },
            "text/plain": [
              "'/device:GPU:0'"
            ]
          },
          "metadata": {
            "tags": []
          },
          "execution_count": 3
        }
      ]
    },
    {
      "cell_type": "code",
      "metadata": {
        "id": "WFpKJJ4NkL3E",
        "colab_type": "code",
        "colab": {}
      },
      "source": [
        "%matplotlib inline\n",
        "import json\n",
        "import numpy as np\n",
        "import pandas as pd\n",
        "import matplotlib.pyplot as plt\n",
        "import seaborn as sns; sns.set() \n",
        "from matplotlib import pyplot\n",
        "\n",
        "# Data Processing \n",
        "import os\n",
        "import os.path\n",
        "import random\n",
        "import PIL\n",
        "import glob\n",
        "from PIL import Image # to read images\n",
        "#\n",
        "%matplotlib inline\n",
        "plt.rcParams['figure.figsize'] = (10.0, 8.0) # set default size of plots\n",
        "plt.rcParams['image.interpolation'] = 'nearest'\n",
        "plt.rcParams['image.cmap'] = 'gray'\n"
      ],
      "execution_count": null,
      "outputs": []
    },
    {
      "cell_type": "code",
      "metadata": {
        "id": "2MJg-IWakOAO",
        "colab_type": "code",
        "colab": {}
      },
      "source": [
        "#For Keras model\n",
        "import keras\n",
        "\n",
        "from keras.optimizers import SGD\n",
        "from keras.models import Sequential,Model\n",
        "from keras.applications import ResNet50\n",
        "from keras.layers import Dense, Dropout, Flatten, Activation, BatchNormalization, Input\n",
        "from keras.layers import Conv2D, MaxPooling2D\n",
        "from keras.callbacks import EarlyStopping, ReduceLROnPlateau, ModelCheckpoint\n",
        "from keras.utils import to_categorical\n",
        "from keras.preprocessing import image\n",
        "from keras import backend as k\n",
        "import tensorflow as tf\n",
        "from tensorflow.python.keras.optimizers import TFOptimizer\n",
        "from keras.applications.resnet50 import preprocess_input\n",
        "from keras.preprocessing.image import ImageDataGenerator\n",
        "from keras.wrappers.scikit_learn import KerasClassifier"
      ],
      "execution_count": null,
      "outputs": []
    },
    {
      "cell_type": "code",
      "metadata": {
        "id": "tN1_EacSkQIz",
        "colab_type": "code",
        "colab": {}
      },
      "source": [
        "from sklearn.model_selection import train_test_split, KFold, cross_val_score"
      ],
      "execution_count": null,
      "outputs": []
    },
    {
      "cell_type": "code",
      "metadata": {
        "id": "G7zGJqVDkR1U",
        "colab_type": "code",
        "colab": {
          "base_uri": "https://localhost:8080/",
          "height": 118
        },
        "outputId": "c7688bc3-2b04-419d-c1df-a608f71f0d39"
      },
      "source": [
        "from google.colab import drive\n",
        "drive.mount('/content/drive')"
      ],
      "execution_count": null,
      "outputs": [
        {
          "output_type": "stream",
          "text": [
            "Go to this URL in a browser: https://accounts.google.com/o/oauth2/auth?client_id=947318989803-6bn6qk8qdgf4n4g3pfee6491hc0brc4i.apps.googleusercontent.com&redirect_uri=urn%3aietf%3awg%3aoauth%3a2.0%3aoob&scope=email%20https%3a%2f%2fwww.googleapis.com%2fauth%2fdocs.test%20https%3a%2f%2fwww.googleapis.com%2fauth%2fdrive%20https%3a%2f%2fwww.googleapis.com%2fauth%2fdrive.photos.readonly%20https%3a%2f%2fwww.googleapis.com%2fauth%2fpeopleapi.readonly&response_type=code\n",
            "\n",
            "Enter your authorization code:\n",
            "··········\n",
            "Mounted at /content/drive\n"
          ],
          "name": "stdout"
        }
      ]
    },
    {
      "cell_type": "markdown",
      "metadata": {
        "id": "UYiuubsekZzI",
        "colab_type": "text"
      },
      "source": [
        "### Dataset Path "
      ]
    },
    {
      "cell_type": "code",
      "metadata": {
        "id": "YaWTZjLfkTmD",
        "colab_type": "code",
        "colab": {}
      },
      "source": [
        "# Initial Dataset Path\n",
        "initial_data_path = \"/content/drive/My Drive/data/\"\n",
        "initial_data_csv_path = \"/content/drive/My Drive/InitialData.csv\"\n",
        "\n",
        "# Augmented Data Path\n",
        "data_path = \"/content/drive/My Drive/trainDataTACO/\"\n",
        "final_data_csv_path = \"/content/drive/My Drive/FinalData.csv\""
      ],
      "execution_count": null,
      "outputs": []
    },
    {
      "cell_type": "code",
      "metadata": {
        "id": "nz4LAnf67Ou3",
        "colab_type": "code",
        "colab": {}
      },
      "source": [
        "def create_data(df , path):\n",
        "  train_data = []  \n",
        "  for ind in df.index:\n",
        "      img=Image.open(os.path.join(path+ df['filename'][ind]))\n",
        "      img = img.resize((128, 128), Image.ANTIALIAS)\n",
        "      img = image.img_to_array(img)\n",
        "      # Append image\n",
        "      train_data.append(img)\n",
        "\n",
        "  # Create data arrays\n",
        "  X = np.array(train_data)\n",
        "  # Create dummy variables\n",
        "  df = pd.get_dummies(df, columns=[\"category\"])\n",
        "  y = np.array(df.drop(['filename'],axis=1))\n",
        "\n",
        "  # Here I split original training data to sub-training (80%) and testing data (20%)\n",
        "  X_train, X_test, y_train, y_test = train_test_split(X, y, random_state=13, test_size=0.2, stratify=y)\n",
        "\n",
        "  return (X_train, X_test, y_train, y_test)"
      ],
      "execution_count": null,
      "outputs": []
    },
    {
      "cell_type": "markdown",
      "metadata": {
        "id": "QL4eSbBF8dzn",
        "colab_type": "text"
      },
      "source": [
        "ResNet Model Initialisation"
      ]
    },
    {
      "cell_type": "code",
      "metadata": {
        "id": "DYZQEHje8bjl",
        "colab_type": "code",
        "colab": {}
      },
      "source": [
        "def create_model():\n",
        "  model = Sequential()\n",
        "  model.add(ResNet50(include_top = False, pooling = 'avg', weights = 'imagenet'))\n",
        "  # Second layer added for dropout\n",
        "  model.add(keras.layers.Dropout(0.3))\n",
        "  # Third layer as Dense for output 5-class classification\n",
        "  model.add(Dense(5, activation = 'softmax'))\n",
        "  # No need to train first layer (ResNet) model as it is already trained\n",
        "  model.layers[0].trainable = False\n",
        "  model.compile(optimizer='adam', loss='categorical_crossentropy', metrics=['accuracy'])\n",
        "  return model"
      ],
      "execution_count": null,
      "outputs": []
    },
    {
      "cell_type": "code",
      "metadata": {
        "id": "RVryG5IQ8oBd",
        "colab_type": "code",
        "colab": {}
      },
      "source": [
        " # Early Stopping Parameter\n",
        "cb_early_stopper = EarlyStopping(monitor = 'val_loss', patience = 50)"
      ],
      "execution_count": null,
      "outputs": []
    },
    {
      "cell_type": "markdown",
      "metadata": {
        "id": "Dtxjxm8e8lMH",
        "colab_type": "text"
      },
      "source": [
        "Model 1 implementation"
      ]
    },
    {
      "cell_type": "code",
      "metadata": {
        "id": "un0WYVXZ7X9y",
        "colab_type": "code",
        "colab": {
          "base_uri": "https://localhost:8080/",
          "height": 50
        },
        "outputId": "f07a4313-da60-4f53-ed88-f3f7e4d50a0c"
      },
      "source": [
        "df1 = pd.read_csv(initial_data_csv_path)\n",
        "df1 = df1.drop(['x_min','x_max','y_min','y_max'], axis=1)\n",
        "# Create Data   \n",
        "print(\"Generating data........\")\n",
        "(X_train, X_test, y_train, y_test) = create_data(df1 ,initial_data_path)\n",
        "# Check the data size\n",
        "X_train.shape, X_test.shape, y_train.shape, y_test.shape"
      ],
      "execution_count": null,
      "outputs": [
        {
          "output_type": "stream",
          "text": [
            "Generating data........\n"
          ],
          "name": "stdout"
        },
        {
          "output_type": "execute_result",
          "data": {
            "text/plain": [
              "((644, 128, 128, 3), (161, 128, 128, 3), (644, 5), (161, 5))"
            ]
          },
          "metadata": {
            "tags": []
          },
          "execution_count": 17
        }
      ]
    },
    {
      "cell_type": "code",
      "metadata": {
        "id": "rh1hBWPQi2T-",
        "colab_type": "code",
        "colab": {
          "base_uri": "https://localhost:8080/",
          "height": 245
        },
        "outputId": "91bc0c49-cd30-460e-cc00-9bd2cf6b856b"
      },
      "source": [
        "model_1 = create_model() # Call ResNet Model Object\n",
        "model_1.summary()"
      ],
      "execution_count": null,
      "outputs": [
        {
          "output_type": "stream",
          "text": [
            "Model: \"sequential_1\"\n",
            "_________________________________________________________________\n",
            "Layer (type)                 Output Shape              Param #   \n",
            "=================================================================\n",
            "resnet50 (Functional)        (None, 2048)              23587712  \n",
            "_________________________________________________________________\n",
            "dropout (Dropout)            (None, 2048)              0         \n",
            "_________________________________________________________________\n",
            "dense_1 (Dense)              (None, 5)                 10245     \n",
            "=================================================================\n",
            "Total params: 23,597,957\n",
            "Trainable params: 10,245\n",
            "Non-trainable params: 23,587,712\n",
            "_________________________________________________________________\n"
          ],
          "name": "stdout"
        }
      ]
    },
    {
      "cell_type": "code",
      "metadata": {
        "id": "zRQuDVxzm0XK",
        "colab_type": "code",
        "colab": {
          "base_uri": "https://localhost:8080/",
          "height": 1000
        },
        "outputId": "de571219-3749-4bbf-b55d-149d24f6341b"
      },
      "source": [
        "# Model fit\n",
        "history = model_1.fit(X_train, y_train, epochs=100, batch_size=50, validation_split=0.20, callbacks = [cb_early_stopper])"
      ],
      "execution_count": null,
      "outputs": [
        {
          "output_type": "stream",
          "text": [
            "Epoch 1/100\n",
            "11/11 [==============================] - 2s 227ms/step - loss: 2.3583 - accuracy: 0.2058 - val_loss: 1.8466 - val_accuracy: 0.2481\n",
            "Epoch 2/100\n",
            "11/11 [==============================] - 1s 129ms/step - loss: 1.8987 - accuracy: 0.3126 - val_loss: 1.5621 - val_accuracy: 0.3953\n",
            "Epoch 3/100\n",
            "11/11 [==============================] - 1s 127ms/step - loss: 1.5788 - accuracy: 0.4097 - val_loss: 1.6591 - val_accuracy: 0.4031\n",
            "Epoch 4/100\n",
            "11/11 [==============================] - 1s 127ms/step - loss: 1.4152 - accuracy: 0.4291 - val_loss: 1.5729 - val_accuracy: 0.3643\n",
            "Epoch 5/100\n",
            "11/11 [==============================] - 1s 129ms/step - loss: 1.3579 - accuracy: 0.4641 - val_loss: 1.6447 - val_accuracy: 0.3876\n",
            "Epoch 6/100\n",
            "11/11 [==============================] - 1s 129ms/step - loss: 1.1768 - accuracy: 0.5223 - val_loss: 1.6287 - val_accuracy: 0.4186\n",
            "Epoch 7/100\n",
            "11/11 [==============================] - 1s 129ms/step - loss: 1.0656 - accuracy: 0.5825 - val_loss: 1.6364 - val_accuracy: 0.4651\n",
            "Epoch 8/100\n",
            "11/11 [==============================] - 1s 130ms/step - loss: 1.0074 - accuracy: 0.6000 - val_loss: 1.6286 - val_accuracy: 0.4574\n",
            "Epoch 9/100\n",
            "11/11 [==============================] - 1s 129ms/step - loss: 0.9466 - accuracy: 0.6272 - val_loss: 1.6826 - val_accuracy: 0.3953\n",
            "Epoch 10/100\n",
            "11/11 [==============================] - 1s 127ms/step - loss: 0.9560 - accuracy: 0.6175 - val_loss: 1.6997 - val_accuracy: 0.4109\n",
            "Epoch 11/100\n",
            "11/11 [==============================] - 1s 127ms/step - loss: 0.8313 - accuracy: 0.6796 - val_loss: 1.7205 - val_accuracy: 0.4186\n",
            "Epoch 12/100\n",
            "11/11 [==============================] - 1s 129ms/step - loss: 0.7938 - accuracy: 0.7243 - val_loss: 1.7016 - val_accuracy: 0.4264\n",
            "Epoch 13/100\n",
            "11/11 [==============================] - 1s 128ms/step - loss: 0.7705 - accuracy: 0.7029 - val_loss: 1.7314 - val_accuracy: 0.4031\n",
            "Epoch 14/100\n",
            "11/11 [==============================] - 1s 127ms/step - loss: 0.7689 - accuracy: 0.7146 - val_loss: 1.7149 - val_accuracy: 0.4419\n",
            "Epoch 15/100\n",
            "11/11 [==============================] - 1s 128ms/step - loss: 0.7385 - accuracy: 0.7301 - val_loss: 1.7478 - val_accuracy: 0.3953\n",
            "Epoch 16/100\n",
            "11/11 [==============================] - 1s 129ms/step - loss: 0.6645 - accuracy: 0.7689 - val_loss: 1.7750 - val_accuracy: 0.3798\n",
            "Epoch 17/100\n",
            "11/11 [==============================] - 1s 128ms/step - loss: 0.6293 - accuracy: 0.7709 - val_loss: 1.7844 - val_accuracy: 0.3798\n",
            "Epoch 18/100\n",
            "11/11 [==============================] - 1s 128ms/step - loss: 0.5945 - accuracy: 0.7864 - val_loss: 1.8110 - val_accuracy: 0.3643\n",
            "Epoch 19/100\n",
            "11/11 [==============================] - 1s 127ms/step - loss: 0.5956 - accuracy: 0.8019 - val_loss: 1.8086 - val_accuracy: 0.3953\n",
            "Epoch 20/100\n",
            "11/11 [==============================] - 1s 128ms/step - loss: 0.5479 - accuracy: 0.8117 - val_loss: 1.8203 - val_accuracy: 0.3876\n",
            "Epoch 21/100\n",
            "11/11 [==============================] - 1s 128ms/step - loss: 0.5676 - accuracy: 0.7922 - val_loss: 1.8377 - val_accuracy: 0.3798\n",
            "Epoch 22/100\n",
            "11/11 [==============================] - 1s 129ms/step - loss: 0.5303 - accuracy: 0.8155 - val_loss: 1.8419 - val_accuracy: 0.3876\n",
            "Epoch 23/100\n",
            "11/11 [==============================] - 1s 129ms/step - loss: 0.5023 - accuracy: 0.8350 - val_loss: 1.8742 - val_accuracy: 0.3953\n",
            "Epoch 24/100\n",
            "11/11 [==============================] - 1s 128ms/step - loss: 0.4927 - accuracy: 0.8155 - val_loss: 1.9145 - val_accuracy: 0.3798\n",
            "Epoch 25/100\n",
            "11/11 [==============================] - 1s 129ms/step - loss: 0.4593 - accuracy: 0.8408 - val_loss: 1.9240 - val_accuracy: 0.3643\n",
            "Epoch 26/100\n",
            "11/11 [==============================] - 1s 128ms/step - loss: 0.4537 - accuracy: 0.8485 - val_loss: 1.9363 - val_accuracy: 0.3488\n",
            "Epoch 27/100\n",
            "11/11 [==============================] - 1s 129ms/step - loss: 0.4247 - accuracy: 0.8718 - val_loss: 1.9122 - val_accuracy: 0.3643\n",
            "Epoch 28/100\n",
            "11/11 [==============================] - 1s 130ms/step - loss: 0.4511 - accuracy: 0.8485 - val_loss: 1.9123 - val_accuracy: 0.3411\n",
            "Epoch 29/100\n",
            "11/11 [==============================] - 1s 128ms/step - loss: 0.4464 - accuracy: 0.8621 - val_loss: 1.9473 - val_accuracy: 0.3798\n",
            "Epoch 30/100\n",
            "11/11 [==============================] - 1s 127ms/step - loss: 0.4048 - accuracy: 0.8718 - val_loss: 1.9315 - val_accuracy: 0.3411\n",
            "Epoch 31/100\n",
            "11/11 [==============================] - 1s 129ms/step - loss: 0.4026 - accuracy: 0.8777 - val_loss: 1.9464 - val_accuracy: 0.3643\n",
            "Epoch 32/100\n",
            "11/11 [==============================] - 1s 128ms/step - loss: 0.3973 - accuracy: 0.8874 - val_loss: 1.9597 - val_accuracy: 0.3333\n",
            "Epoch 33/100\n",
            "11/11 [==============================] - 1s 128ms/step - loss: 0.3773 - accuracy: 0.8893 - val_loss: 1.9690 - val_accuracy: 0.3411\n",
            "Epoch 34/100\n",
            "11/11 [==============================] - 1s 128ms/step - loss: 0.3561 - accuracy: 0.8913 - val_loss: 1.9487 - val_accuracy: 0.3411\n",
            "Epoch 35/100\n",
            "11/11 [==============================] - 1s 128ms/step - loss: 0.3357 - accuracy: 0.9087 - val_loss: 1.9684 - val_accuracy: 0.3643\n",
            "Epoch 36/100\n",
            "11/11 [==============================] - 1s 129ms/step - loss: 0.3508 - accuracy: 0.9049 - val_loss: 1.9778 - val_accuracy: 0.3488\n",
            "Epoch 37/100\n",
            "11/11 [==============================] - 1s 129ms/step - loss: 0.3186 - accuracy: 0.9223 - val_loss: 1.9906 - val_accuracy: 0.4031\n",
            "Epoch 38/100\n",
            "11/11 [==============================] - 1s 129ms/step - loss: 0.3432 - accuracy: 0.8990 - val_loss: 2.0227 - val_accuracy: 0.3643\n",
            "Epoch 39/100\n",
            "11/11 [==============================] - 1s 129ms/step - loss: 0.3170 - accuracy: 0.9087 - val_loss: 1.9999 - val_accuracy: 0.3488\n",
            "Epoch 40/100\n",
            "11/11 [==============================] - 1s 129ms/step - loss: 0.3604 - accuracy: 0.8913 - val_loss: 2.0605 - val_accuracy: 0.3566\n",
            "Epoch 41/100\n",
            "11/11 [==============================] - 1s 129ms/step - loss: 0.3011 - accuracy: 0.9126 - val_loss: 2.0288 - val_accuracy: 0.3643\n",
            "Epoch 42/100\n",
            "11/11 [==============================] - 1s 128ms/step - loss: 0.2921 - accuracy: 0.9340 - val_loss: 2.0278 - val_accuracy: 0.3488\n",
            "Epoch 43/100\n",
            "11/11 [==============================] - 1s 130ms/step - loss: 0.2884 - accuracy: 0.9223 - val_loss: 2.0584 - val_accuracy: 0.3643\n",
            "Epoch 44/100\n",
            "11/11 [==============================] - 1s 129ms/step - loss: 0.2736 - accuracy: 0.9262 - val_loss: 2.0898 - val_accuracy: 0.3411\n",
            "Epoch 45/100\n",
            "11/11 [==============================] - 1s 129ms/step - loss: 0.2722 - accuracy: 0.9262 - val_loss: 2.0796 - val_accuracy: 0.3411\n",
            "Epoch 46/100\n",
            "11/11 [==============================] - 1s 129ms/step - loss: 0.2599 - accuracy: 0.9456 - val_loss: 2.0892 - val_accuracy: 0.3411\n",
            "Epoch 47/100\n",
            "11/11 [==============================] - 1s 130ms/step - loss: 0.2802 - accuracy: 0.9282 - val_loss: 2.1237 - val_accuracy: 0.3256\n",
            "Epoch 48/100\n",
            "11/11 [==============================] - 1s 129ms/step - loss: 0.2665 - accuracy: 0.9320 - val_loss: 2.1113 - val_accuracy: 0.3488\n",
            "Epoch 49/100\n",
            "11/11 [==============================] - 1s 129ms/step - loss: 0.2629 - accuracy: 0.9379 - val_loss: 2.1808 - val_accuracy: 0.3488\n",
            "Epoch 50/100\n",
            "11/11 [==============================] - 1s 129ms/step - loss: 0.2432 - accuracy: 0.9456 - val_loss: 2.1381 - val_accuracy: 0.3101\n",
            "Epoch 51/100\n",
            "11/11 [==============================] - 1s 130ms/step - loss: 0.2464 - accuracy: 0.9476 - val_loss: 2.1454 - val_accuracy: 0.3178\n",
            "Epoch 52/100\n",
            "11/11 [==============================] - 1s 130ms/step - loss: 0.2494 - accuracy: 0.9398 - val_loss: 2.1749 - val_accuracy: 0.3566\n"
          ],
          "name": "stdout"
        }
      ]
    },
    {
      "cell_type": "code",
      "metadata": {
        "id": "tRfXJ5cBm9TA",
        "colab_type": "code",
        "colab": {
          "base_uri": "https://localhost:8080/",
          "height": 66
        },
        "outputId": "877d846b-05e1-4968-93c8-a16e96eebe3b"
      },
      "source": [
        "# evaluate the model\n",
        "_, train_acc = model_1.evaluate(X_train, y_train)\n",
        "_, test_acc = model_1.evaluate(X_test, y_test)\n",
        "print('Train: %.3f, Test: %.3f' % (train_acc, test_acc))"
      ],
      "execution_count": null,
      "outputs": [
        {
          "output_type": "stream",
          "text": [
            "21/21 [==============================] - 2s 92ms/step - loss: 0.5565 - accuracy: 0.8680\n",
            "6/6 [==============================] - 1s 103ms/step - loss: 2.2451 - accuracy: 0.4037\n",
            "Train: 0.868, Test: 0.404\n"
          ],
          "name": "stdout"
        }
      ]
    },
    {
      "cell_type": "code",
      "metadata": {
        "id": "Frawr25Vm-wG",
        "colab_type": "code",
        "colab": {
          "base_uri": "https://localhost:8080/",
          "height": 527
        },
        "outputId": "dc9f8f2f-0391-4b65-cb00-42535e0cb329"
      },
      "source": [
        "\n",
        "# plot accuracy during training\n",
        "pyplot.subplot(211)\n",
        "pyplot.title('Accuracy')\n",
        "pyplot.plot(history.history['accuracy'], label='train')\n",
        "pyplot.plot(history.history['val_accuracy'], label='test')\n",
        "pyplot.legend()\n",
        "pyplot.show()\n",
        "\n",
        "# plot loss during training\n",
        "pyplot.subplot(212)\n",
        "pyplot.title('Loss')\n",
        "pyplot.plot(history.history['loss'], label='train')\n",
        "pyplot.plot(history.history['val_loss'], label='val')\n",
        "pyplot.legend()\n"
      ],
      "execution_count": null,
      "outputs": [
        {
          "output_type": "display_data",
          "data": {
            "image/png": "[encoded data removed]",
            "text/plain": [
              "<Figure size 720x576 with 1 Axes>"
            ]
          },
          "metadata": {
            "tags": [],
            "needs_background": "light"
          }
        },
        {
          "output_type": "execute_result",
          "data": {
            "text/plain": [
              "<matplotlib.legend.Legend at 0x7ff2670648d0>"
            ]
          },
          "metadata": {
            "tags": []
          },
          "execution_count": 26
        },
        {
          "output_type": "display_data",
          "data": {
            "image/png": "[encoded data removed]",
            "text/plain": [
              "<Figure size 720x576 with 1 Axes>"
            ]
          },
          "metadata": {
            "tags": [],
            "needs_background": "light"
          }
        }
      ]
    },
    {
      "cell_type": "markdown",
      "metadata": {
        "id": "Y8uHKi-W34zK",
        "colab_type": "text"
      },
      "source": [
        "# **Model implementation on Augmented Data**"
      ]
    },
    {
      "cell_type": "code",
      "metadata": {
        "id": "NCM5xbmwR2-7",
        "colab_type": "code",
        "colab": {
          "base_uri": "https://localhost:8080/",
          "height": 50
        },
        "outputId": "c2e55ae3-238d-43d3-da9f-355283e89ad7"
      },
      "source": [
        "df2 = pd.read_csv(final_data_csv_path)\n",
        "# Create Data   \n",
        "print(\"Generating data........\")\n",
        "(x_train, x_test, Y_train, Y_test) = create_data(df2 ,data_path)\n",
        "# Check the data size\n",
        "x_train.shape, x_test.shape, Y_train.shape, Y_test.shape"
      ],
      "execution_count": null,
      "outputs": [
        {
          "output_type": "stream",
          "text": [
            "Generating data........\n"
          ],
          "name": "stdout"
        },
        {
          "output_type": "execute_result",
          "data": {
            "text/plain": [
              "((2753, 128, 128, 3), (689, 128, 128, 3), (2753, 5), (689, 5))"
            ]
          },
          "metadata": {
            "tags": []
          },
          "execution_count": 28
        }
      ]
    },
    {
      "cell_type": "code",
      "metadata": {
        "id": "xMX_iAiPBv81",
        "colab_type": "code",
        "colab": {
          "base_uri": "https://localhost:8080/",
          "height": 1000
        },
        "outputId": "4e0324a2-02ea-42ed-8fb6-1d79fbd11e00"
      },
      "source": [
        "model_2 = create_model() # Call ResNet Model Object\n",
        "# Model fit\n",
        "history_2 = model_2.fit(x_train, Y_train, epochs=100, batch_size=50, validation_split=0.20, callbacks = [cb_early_stopper])"
      ],
      "execution_count": null,
      "outputs": [
        {
          "output_type": "stream",
          "text": [
            "Epoch 1/100\n",
            "45/45 [==============================] - 8s 172ms/step - loss: 1.3836 - accuracy: 0.5304 - val_loss: 0.8568 - val_accuracy: 0.6878\n",
            "Epoch 2/100\n",
            "45/45 [==============================] - 6s 140ms/step - loss: 0.7709 - accuracy: 0.7103 - val_loss: 0.6592 - val_accuracy: 0.7550\n",
            "Epoch 3/100\n",
            "45/45 [==============================] - 6s 140ms/step - loss: 0.6066 - accuracy: 0.7661 - val_loss: 0.6045 - val_accuracy: 0.7731\n",
            "Epoch 4/100\n",
            "45/45 [==============================] - 6s 139ms/step - loss: 0.5108 - accuracy: 0.8115 - val_loss: 0.5748 - val_accuracy: 0.7967\n",
            "Epoch 5/100\n",
            "45/45 [==============================] - 6s 140ms/step - loss: 0.4519 - accuracy: 0.8333 - val_loss: 0.5423 - val_accuracy: 0.8113\n",
            "Epoch 6/100\n",
            "45/45 [==============================] - 6s 140ms/step - loss: 0.4073 - accuracy: 0.8456 - val_loss: 0.5238 - val_accuracy: 0.8221\n",
            "Epoch 7/100\n",
            "45/45 [==============================] - 6s 140ms/step - loss: 0.3875 - accuracy: 0.8492 - val_loss: 0.5041 - val_accuracy: 0.8203\n",
            "Epoch 8/100\n",
            "45/45 [==============================] - 6s 140ms/step - loss: 0.3347 - accuracy: 0.8765 - val_loss: 0.4819 - val_accuracy: 0.8312\n",
            "Epoch 9/100\n",
            "45/45 [==============================] - 6s 141ms/step - loss: 0.2933 - accuracy: 0.8992 - val_loss: 0.4490 - val_accuracy: 0.8494\n",
            "Epoch 10/100\n",
            "45/45 [==============================] - 6s 141ms/step - loss: 0.2914 - accuracy: 0.8915 - val_loss: 0.4584 - val_accuracy: 0.8421\n",
            "Epoch 11/100\n",
            "45/45 [==============================] - 6s 141ms/step - loss: 0.2566 - accuracy: 0.9092 - val_loss: 0.4291 - val_accuracy: 0.8603\n",
            "Epoch 12/100\n",
            "45/45 [==============================] - 6s 141ms/step - loss: 0.2485 - accuracy: 0.9060 - val_loss: 0.4292 - val_accuracy: 0.8548\n",
            "Epoch 13/100\n",
            "45/45 [==============================] - 6s 140ms/step - loss: 0.2436 - accuracy: 0.9119 - val_loss: 0.4391 - val_accuracy: 0.8512\n",
            "Epoch 14/100\n",
            "45/45 [==============================] - 6s 141ms/step - loss: 0.2168 - accuracy: 0.9260 - val_loss: 0.4354 - val_accuracy: 0.8475\n",
            "Epoch 15/100\n",
            "45/45 [==============================] - 6s 141ms/step - loss: 0.2255 - accuracy: 0.9192 - val_loss: 0.4061 - val_accuracy: 0.8584\n",
            "Epoch 16/100\n",
            "45/45 [==============================] - 6s 141ms/step - loss: 0.2038 - accuracy: 0.9282 - val_loss: 0.4137 - val_accuracy: 0.8621\n",
            "Epoch 17/100\n",
            "45/45 [==============================] - 6s 141ms/step - loss: 0.1970 - accuracy: 0.9319 - val_loss: 0.4051 - val_accuracy: 0.8639\n",
            "Epoch 18/100\n",
            "45/45 [==============================] - 6s 141ms/step - loss: 0.2065 - accuracy: 0.9287 - val_loss: 0.3909 - val_accuracy: 0.8566\n",
            "Epoch 19/100\n",
            "45/45 [==============================] - 6s 141ms/step - loss: 0.1857 - accuracy: 0.9378 - val_loss: 0.3872 - val_accuracy: 0.8711\n",
            "Epoch 20/100\n",
            "45/45 [==============================] - 6s 141ms/step - loss: 0.1693 - accuracy: 0.9455 - val_loss: 0.3755 - val_accuracy: 0.8766\n",
            "Epoch 21/100\n",
            "45/45 [==============================] - 6s 141ms/step - loss: 0.1766 - accuracy: 0.9423 - val_loss: 0.3714 - val_accuracy: 0.8621\n",
            "Epoch 22/100\n",
            "45/45 [==============================] - 6s 141ms/step - loss: 0.1688 - accuracy: 0.9423 - val_loss: 0.3869 - val_accuracy: 0.8675\n",
            "Epoch 23/100\n",
            "45/45 [==============================] - 6s 140ms/step - loss: 0.1696 - accuracy: 0.9414 - val_loss: 0.3770 - val_accuracy: 0.8711\n",
            "Epoch 24/100\n",
            "45/45 [==============================] - 6s 142ms/step - loss: 0.1654 - accuracy: 0.9391 - val_loss: 0.3586 - val_accuracy: 0.8820\n",
            "Epoch 25/100\n",
            "45/45 [==============================] - 6s 142ms/step - loss: 0.1522 - accuracy: 0.9491 - val_loss: 0.3674 - val_accuracy: 0.8766\n",
            "Epoch 26/100\n",
            "45/45 [==============================] - 6s 141ms/step - loss: 0.1586 - accuracy: 0.9405 - val_loss: 0.3960 - val_accuracy: 0.8766\n",
            "Epoch 27/100\n",
            "45/45 [==============================] - 6s 141ms/step - loss: 0.1509 - accuracy: 0.9519 - val_loss: 0.3692 - val_accuracy: 0.8748\n",
            "Epoch 28/100\n",
            "45/45 [==============================] - 6s 141ms/step - loss: 0.1377 - accuracy: 0.9537 - val_loss: 0.3735 - val_accuracy: 0.8748\n",
            "Epoch 29/100\n",
            "45/45 [==============================] - 6s 141ms/step - loss: 0.1420 - accuracy: 0.9491 - val_loss: 0.3900 - val_accuracy: 0.8675\n",
            "Epoch 30/100\n",
            "45/45 [==============================] - 6s 141ms/step - loss: 0.1290 - accuracy: 0.9600 - val_loss: 0.3703 - val_accuracy: 0.8784\n",
            "Epoch 31/100\n",
            "45/45 [==============================] - 6s 141ms/step - loss: 0.1276 - accuracy: 0.9564 - val_loss: 0.3856 - val_accuracy: 0.8748\n",
            "Epoch 32/100\n",
            "45/45 [==============================] - 6s 141ms/step - loss: 0.1450 - accuracy: 0.9523 - val_loss: 0.3767 - val_accuracy: 0.8711\n",
            "Epoch 33/100\n",
            "45/45 [==============================] - 6s 142ms/step - loss: 0.1401 - accuracy: 0.9514 - val_loss: 0.3987 - val_accuracy: 0.8748\n",
            "Epoch 34/100\n",
            "45/45 [==============================] - 6s 141ms/step - loss: 0.1266 - accuracy: 0.9591 - val_loss: 0.3811 - val_accuracy: 0.8748\n",
            "Epoch 35/100\n",
            "45/45 [==============================] - 6s 141ms/step - loss: 0.1170 - accuracy: 0.9605 - val_loss: 0.3799 - val_accuracy: 0.8766\n",
            "Epoch 36/100\n",
            "45/45 [==============================] - 6s 141ms/step - loss: 0.1349 - accuracy: 0.9519 - val_loss: 0.3837 - val_accuracy: 0.8748\n",
            "Epoch 37/100\n",
            "45/45 [==============================] - 6s 141ms/step - loss: 0.1154 - accuracy: 0.9600 - val_loss: 0.4015 - val_accuracy: 0.8784\n",
            "Epoch 38/100\n",
            "45/45 [==============================] - 6s 141ms/step - loss: 0.1230 - accuracy: 0.9596 - val_loss: 0.3912 - val_accuracy: 0.8748\n",
            "Epoch 39/100\n",
            "45/45 [==============================] - 6s 141ms/step - loss: 0.1274 - accuracy: 0.9546 - val_loss: 0.3766 - val_accuracy: 0.8730\n",
            "Epoch 40/100\n",
            "45/45 [==============================] - 6s 141ms/step - loss: 0.1228 - accuracy: 0.9596 - val_loss: 0.4000 - val_accuracy: 0.8748\n",
            "Epoch 41/100\n",
            "45/45 [==============================] - 6s 143ms/step - loss: 0.1271 - accuracy: 0.9569 - val_loss: 0.3926 - val_accuracy: 0.8730\n",
            "Epoch 42/100\n",
            "45/45 [==============================] - 6s 142ms/step - loss: 0.1130 - accuracy: 0.9628 - val_loss: 0.4010 - val_accuracy: 0.8748\n",
            "Epoch 43/100\n",
            "45/45 [==============================] - 6s 141ms/step - loss: 0.1381 - accuracy: 0.9523 - val_loss: 0.3855 - val_accuracy: 0.8802\n",
            "Epoch 44/100\n",
            "45/45 [==============================] - 6s 141ms/step - loss: 0.1338 - accuracy: 0.9532 - val_loss: 0.4241 - val_accuracy: 0.8603\n",
            "Epoch 45/100\n",
            "45/45 [==============================] - 6s 141ms/step - loss: 0.1091 - accuracy: 0.9614 - val_loss: 0.4050 - val_accuracy: 0.8711\n",
            "Epoch 46/100\n",
            "45/45 [==============================] - 6s 141ms/step - loss: 0.1148 - accuracy: 0.9596 - val_loss: 0.4014 - val_accuracy: 0.8748\n",
            "Epoch 47/100\n",
            "45/45 [==============================] - 6s 141ms/step - loss: 0.1190 - accuracy: 0.9600 - val_loss: 0.4156 - val_accuracy: 0.8766\n",
            "Epoch 48/100\n",
            "45/45 [==============================] - 6s 141ms/step - loss: 0.1055 - accuracy: 0.9659 - val_loss: 0.3895 - val_accuracy: 0.8730\n",
            "Epoch 49/100\n",
            "45/45 [==============================] - 6s 141ms/step - loss: 0.1212 - accuracy: 0.9564 - val_loss: 0.3968 - val_accuracy: 0.8784\n",
            "Epoch 50/100\n",
            "45/45 [==============================] - 6s 141ms/step - loss: 0.1137 - accuracy: 0.9573 - val_loss: 0.3777 - val_accuracy: 0.8820\n",
            "Epoch 51/100\n",
            "45/45 [==============================] - 6s 141ms/step - loss: 0.1038 - accuracy: 0.9659 - val_loss: 0.3788 - val_accuracy: 0.8766\n",
            "Epoch 52/100\n",
            "45/45 [==============================] - 6s 141ms/step - loss: 0.0990 - accuracy: 0.9687 - val_loss: 0.4303 - val_accuracy: 0.8802\n",
            "Epoch 53/100\n",
            "45/45 [==============================] - 6s 141ms/step - loss: 0.1311 - accuracy: 0.9537 - val_loss: 0.3943 - val_accuracy: 0.8766\n",
            "Epoch 54/100\n",
            "45/45 [==============================] - 6s 140ms/step - loss: 0.1053 - accuracy: 0.9578 - val_loss: 0.4084 - val_accuracy: 0.8820\n",
            "Epoch 55/100\n",
            "45/45 [==============================] - 6s 141ms/step - loss: 0.0958 - accuracy: 0.9700 - val_loss: 0.3843 - val_accuracy: 0.8748\n",
            "Epoch 56/100\n",
            "45/45 [==============================] - 6s 141ms/step - loss: 0.1045 - accuracy: 0.9668 - val_loss: 0.3956 - val_accuracy: 0.8875\n",
            "Epoch 57/100\n",
            "45/45 [==============================] - 6s 141ms/step - loss: 0.1028 - accuracy: 0.9650 - val_loss: 0.3902 - val_accuracy: 0.8857\n",
            "Epoch 58/100\n",
            "45/45 [==============================] - 6s 140ms/step - loss: 0.1066 - accuracy: 0.9600 - val_loss: 0.4091 - val_accuracy: 0.8802\n",
            "Epoch 59/100\n",
            "45/45 [==============================] - 6s 141ms/step - loss: 0.1148 - accuracy: 0.9578 - val_loss: 0.3959 - val_accuracy: 0.8893\n",
            "Epoch 60/100\n",
            "45/45 [==============================] - 6s 141ms/step - loss: 0.0860 - accuracy: 0.9714 - val_loss: 0.3943 - val_accuracy: 0.8784\n",
            "Epoch 61/100\n",
            "45/45 [==============================] - 6s 141ms/step - loss: 0.1000 - accuracy: 0.9664 - val_loss: 0.3750 - val_accuracy: 0.8820\n",
            "Epoch 62/100\n",
            "45/45 [==============================] - 6s 141ms/step - loss: 0.0892 - accuracy: 0.9718 - val_loss: 0.3894 - val_accuracy: 0.8820\n",
            "Epoch 63/100\n",
            "45/45 [==============================] - 6s 141ms/step - loss: 0.1018 - accuracy: 0.9687 - val_loss: 0.3764 - val_accuracy: 0.8838\n",
            "Epoch 64/100\n",
            "45/45 [==============================] - 6s 141ms/step - loss: 0.0954 - accuracy: 0.9687 - val_loss: 0.3804 - val_accuracy: 0.8893\n",
            "Epoch 65/100\n",
            "45/45 [==============================] - 6s 141ms/step - loss: 0.0922 - accuracy: 0.9664 - val_loss: 0.4087 - val_accuracy: 0.8893\n",
            "Epoch 66/100\n",
            "45/45 [==============================] - 6s 141ms/step - loss: 0.1011 - accuracy: 0.9632 - val_loss: 0.4046 - val_accuracy: 0.8784\n",
            "Epoch 67/100\n",
            "45/45 [==============================] - 6s 141ms/step - loss: 0.0918 - accuracy: 0.9668 - val_loss: 0.4060 - val_accuracy: 0.8893\n",
            "Epoch 68/100\n",
            "45/45 [==============================] - 6s 141ms/step - loss: 0.1049 - accuracy: 0.9623 - val_loss: 0.4010 - val_accuracy: 0.8820\n",
            "Epoch 69/100\n",
            "45/45 [==============================] - 6s 141ms/step - loss: 0.0955 - accuracy: 0.9696 - val_loss: 0.3938 - val_accuracy: 0.8802\n",
            "Epoch 70/100\n",
            "45/45 [==============================] - 6s 141ms/step - loss: 0.0988 - accuracy: 0.9605 - val_loss: 0.3931 - val_accuracy: 0.8838\n",
            "Epoch 71/100\n",
            "45/45 [==============================] - 6s 141ms/step - loss: 0.0791 - accuracy: 0.9755 - val_loss: 0.3859 - val_accuracy: 0.8875\n",
            "Epoch 72/100\n",
            "45/45 [==============================] - 6s 141ms/step - loss: 0.0959 - accuracy: 0.9664 - val_loss: 0.3800 - val_accuracy: 0.8857\n",
            "Epoch 73/100\n",
            "45/45 [==============================] - 6s 141ms/step - loss: 0.0813 - accuracy: 0.9709 - val_loss: 0.4035 - val_accuracy: 0.8838\n",
            "Epoch 74/100\n",
            "45/45 [==============================] - 6s 141ms/step - loss: 0.0902 - accuracy: 0.9714 - val_loss: 0.4097 - val_accuracy: 0.8893\n"
          ],
          "name": "stdout"
        }
      ]
    },
    {
      "cell_type": "code",
      "metadata": {
        "id": "vbOTiEcjT4oY",
        "colab_type": "code",
        "colab": {
          "base_uri": "https://localhost:8080/",
          "height": 66
        },
        "outputId": "98fd70ee-875c-4431-d2b7-65b8a89b0108"
      },
      "source": [
        "# Evaluate the model on test Data\n",
        "_, train_acc = model_2.evaluate(x_train, Y_train)\n",
        "_, test_acc = model_2.evaluate(x_test, Y_test)\n",
        "print('Train: %.3f, Test: %.3f' % (train_acc, test_acc))"
      ],
      "execution_count": null,
      "outputs": [
        {
          "output_type": "stream",
          "text": [
            "87/87 [==============================] - 7s 80ms/step - loss: 0.1059 - accuracy: 0.9731\n",
            "22/22 [==============================] - 2s 94ms/step - loss: 0.3670 - accuracy: 0.8824\n",
            "Train: 0.973, Test: 0.882\n"
          ],
          "name": "stdout"
        }
      ]
    },
    {
      "cell_type": "code",
      "metadata": {
        "id": "CJGSHiHdUPx-",
        "colab_type": "code",
        "colab": {
          "base_uri": "https://localhost:8080/",
          "height": 527
        },
        "outputId": "0fd25594-6311-4c88-825e-92a36b877927"
      },
      "source": [
        "# plot accuracy during training\n",
        "pyplot.subplot(211)\n",
        "pyplot.title('Accuracy')\n",
        "pyplot.plot(history_2.history['accuracy'], label='train')\n",
        "pyplot.plot(history_2.history['val_accuracy'], label='test')\n",
        "pyplot.legend()\n",
        "pyplot.show()\n",
        "\n",
        "# plot loss during training\n",
        "pyplot.subplot(212)\n",
        "pyplot.title('Loss')\n",
        "pyplot.plot(history_2.history['loss'], label='train')\n",
        "pyplot.plot(history_2.history['val_loss'], label='val')\n",
        "pyplot.legend()\n"
      ],
      "execution_count": null,
      "outputs": [
        {
          "output_type": "display_data",
          "data": {
            "image/png": "[encoded data removed]",
            "text/plain": [
              "<Figure size 720x576 with 1 Axes>"
            ]
          },
          "metadata": {
            "tags": [],
            "needs_background": "light"
          }
        },
        {
          "output_type": "execute_result",
          "data": {
            "text/plain": [
              "<matplotlib.legend.Legend at 0x7ff26e8d92b0>"
            ]
          },
          "metadata": {
            "tags": []
          },
          "execution_count": 33
        },
        {
          "output_type": "display_data",
          "data": {
            "image/png": "[encoded data removed]",
            "text/plain": [
              "<Figure size 720x576 with 1 Axes>"
            ]
          },
          "metadata": {
            "tags": [],
            "needs_background": "light"
          }
        }
      ]
    },
    {
      "cell_type": "markdown",
      "metadata": {
        "id": "l4DS8sHXnp5m",
        "colab_type": "text"
      },
      "source": [
        "Use K-Fold technique to cross validate"
      ]
    },
    {
      "cell_type": "code",
      "metadata": {
        "id": "_QfQ16-Dndky",
        "colab_type": "code",
        "colab": {}
      },
      "source": [
        "model = KerasClassifier(build_fn = create_model, epochs=50, batch_size=50, verbose=1)\n",
        "kfold = KFold(n_splits=5, shuffle=True, random_state=13)\n",
        "results = cross_val_score(model, x_train, Y_train, cv = kfold, verbose=10, n_jobs = -1)"
      ],
      "execution_count": null,
      "outputs": []
    },
    {
      "cell_type": "code",
      "metadata": {
        "id": "4BiLfiJ_n7IG",
        "colab_type": "code",
        "colab": {
          "base_uri": "https://localhost:8080/",
          "height": 33
        },
        "outputId": "c2ac34d2-a88d-4e77-c0fd-a55ff27935cc"
      },
      "source": [
        "print(\"Baseline: %.2f%% (%.2f%%)\" % (results.mean()*100, results.std()*100))"
      ],
      "execution_count": null,
      "outputs": [
        {
          "output_type": "stream",
          "text": [
            "Baseline: nan% (nan%)\n"
          ],
          "name": "stdout"
        }
      ]
    }
  ]
}