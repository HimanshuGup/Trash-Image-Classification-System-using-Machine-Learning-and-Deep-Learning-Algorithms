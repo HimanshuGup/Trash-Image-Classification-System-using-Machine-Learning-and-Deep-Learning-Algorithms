{
  "nbformat": 4,
  "nbformat_minor": 0,
  "metadata": {
    "colab": {
      "name": "Second_Experiment_TransferLearning_ResNet50.ipynb",
      "provenance": [],
      "collapsed_sections": []
    },
    "kernelspec": {
      "name": "python3",
      "display_name": "Python 3"
    },
    "accelerator": "GPU"
  },
  "cells": [
    {
      "cell_type": "markdown",
      "metadata": {
        "id": "KcTPUAXF6hDK",
        "colab_type": "text"
      },
      "source": [
        "Theses Project Experiment with ResNet-50 Model\n",
        "\n",
        "Submitted by Himanshu Gupta"
      ]
    },
    {
      "cell_type": "code",
      "metadata": {
        "id": "GZLRYnQ8kFun",
        "colab_type": "code",
        "colab": {
          "base_uri": "https://localhost:8080/",
          "height": 35
        },
        "outputId": "5a1b340b-e6db-4289-822e-4b50e89f4151"
      },
      "source": [
        "import pandas as pd\n",
        "import tensorflow as tf\n",
        "import warnings\n",
        "warnings.filterwarnings('ignore')\n",
        "tf.test.gpu_device_name()"
      ],
      "execution_count": 83,
      "outputs": [
        {
          "output_type": "execute_result",
          "data": {
            "application/vnd.google.colaboratory.intrinsic+json": {
              "type": "string"
            },
            "text/plain": [
              "'/device:GPU:0'"
            ]
          },
          "metadata": {
            "tags": []
          },
          "execution_count": 83
        }
      ]
    },
    {
      "cell_type": "code",
      "metadata": {
        "id": "WFpKJJ4NkL3E",
        "colab_type": "code",
        "colab": {}
      },
      "source": [
        "%matplotlib inline\n",
        "import json\n",
        "import numpy as np\n",
        "import pandas as pd\n",
        "import matplotlib.pyplot as plt\n",
        "import seaborn as sns; sns.set() \n",
        "from matplotlib import pyplot\n",
        "\n",
        "# Data Processing \n",
        "import os\n",
        "import os.path\n",
        "import random\n",
        "import PIL\n",
        "import glob\n",
        "from PIL import Image # to read images\n",
        "#\n",
        "%matplotlib inline\n",
        "plt.rcParams['figure.figsize'] = (10.0, 8.0) # set default size of plots\n",
        "plt.rcParams['image.interpolation'] = 'nearest'\n",
        "plt.rcParams['image.cmap'] = 'gray'\n"
      ],
      "execution_count": 84,
      "outputs": []
    },
    {
      "cell_type": "code",
      "metadata": {
        "id": "2MJg-IWakOAO",
        "colab_type": "code",
        "colab": {}
      },
      "source": [
        "#For Keras model\n",
        "import keras\n",
        "\n",
        "from keras.optimizers import SGD\n",
        "from keras.models import Sequential,Model\n",
        "from keras.applications import ResNet50\n",
        "from keras.layers import Dense, Dropout, Flatten, Activation, BatchNormalization, Input\n",
        "from keras.layers import Conv2D, MaxPooling2D\n",
        "from keras.callbacks import EarlyStopping, ReduceLROnPlateau, ModelCheckpoint\n",
        "from keras.utils import to_categorical\n",
        "from keras.preprocessing import image\n",
        "from keras import backend as k\n",
        "import tensorflow as tf\n",
        "from tensorflow.python.keras.optimizers import TFOptimizer\n",
        "from keras.wrappers.scikit_learn import KerasClassifier"
      ],
      "execution_count": 85,
      "outputs": []
    },
    {
      "cell_type": "code",
      "metadata": {
        "id": "tN1_EacSkQIz",
        "colab_type": "code",
        "colab": {}
      },
      "source": [
        "from sklearn.model_selection import train_test_split, KFold, cross_val_score\n",
        "from sklearn.metrics import confusion_matrix"
      ],
      "execution_count": 86,
      "outputs": []
    },
    {
      "cell_type": "code",
      "metadata": {
        "id": "G7zGJqVDkR1U",
        "colab_type": "code",
        "colab": {
          "base_uri": "https://localhost:8080/",
          "height": 125
        },
        "outputId": "59ea59c7-1d52-4433-e738-7698150d2517"
      },
      "source": [
        "from google.colab import drive\n",
        "drive.mount('/content/drive')"
      ],
      "execution_count": 6,
      "outputs": [
        {
          "output_type": "stream",
          "text": [
            "Go to this URL in a browser: https://accounts.google.com/o/oauth2/auth?client_id=947318989803-6bn6qk8qdgf4n4g3pfee6491hc0brc4i.apps.googleusercontent.com&redirect_uri=urn%3aietf%3awg%3aoauth%3a2.0%3aoob&scope=email%20https%3a%2f%2fwww.googleapis.com%2fauth%2fdocs.test%20https%3a%2f%2fwww.googleapis.com%2fauth%2fdrive%20https%3a%2f%2fwww.googleapis.com%2fauth%2fdrive.photos.readonly%20https%3a%2f%2fwww.googleapis.com%2fauth%2fpeopleapi.readonly&response_type=code\n",
            "\n",
            "Enter your authorization code:\n",
            "··········\n",
            "Mounted at /content/drive\n"
          ],
          "name": "stdout"
        }
      ]
    },
    {
      "cell_type": "markdown",
      "metadata": {
        "id": "UYiuubsekZzI",
        "colab_type": "text"
      },
      "source": [
        "### Dataset Path "
      ]
    },
    {
      "cell_type": "code",
      "metadata": {
        "id": "YaWTZjLfkTmD",
        "colab_type": "code",
        "colab": {}
      },
      "source": [
        "# Initial Dataset Path\n",
        "initial_data_path = \"/content/drive/My Drive/data/\"\n",
        "initial_data_csv_path = \"/content/drive/My Drive/InitialData.csv\"\n",
        "\n",
        "# Augmented Data Path\n",
        "data_path = \"/content/drive/My Drive/trainDataTACO/\"\n",
        "final_data_csv_path = \"/content/drive/My Drive/FinalData.csv\""
      ],
      "execution_count": 87,
      "outputs": []
    },
    {
      "cell_type": "code",
      "metadata": {
        "id": "nz4LAnf67Ou3",
        "colab_type": "code",
        "colab": {}
      },
      "source": [
        "def create_data(df , path):\n",
        "  train_data = []  \n",
        "  for ind in df.index:\n",
        "      img=Image.open(os.path.join(path+ df['filename'][ind]))\n",
        "      img = img.resize((128, 128), Image.ANTIALIAS)\n",
        "      img = image.img_to_array(img)\n",
        "      # Append image\n",
        "      train_data.append(img)\n",
        "\n",
        "  # Create data arrays\n",
        "  X = np.array(train_data)\n",
        "  # Create dummy variables\n",
        "  df = pd.get_dummies(df, columns=[\"category\"])\n",
        "  y = np.array(df.drop(['filename'],axis=1))\n",
        "\n",
        "  # Here I split original training data to sub-training (80%) and testing data (20%)\n",
        "  X_train, X_test, y_train, y_test = train_test_split(X, y, random_state=13, test_size=0.2, stratify=y)\n",
        "\n",
        "  return (X_train, X_test, y_train, y_test)"
      ],
      "execution_count": 88,
      "outputs": []
    },
    {
      "cell_type": "markdown",
      "metadata": {
        "id": "QL4eSbBF8dzn",
        "colab_type": "text"
      },
      "source": [
        "ResNet Model Initialisation"
      ]
    },
    {
      "cell_type": "code",
      "metadata": {
        "id": "DYZQEHje8bjl",
        "colab_type": "code",
        "colab": {}
      },
      "source": [
        "def create_model():\n",
        "  model = Sequential()\n",
        "  model.add(ResNet50(include_top = False, pooling = 'avg', weights = 'imagenet'))\n",
        "  # Second layer added for dropout\n",
        "  model.add(keras.layers.Dropout(0.3))\n",
        "  # Third layer as Dense for output 5-class classification\n",
        "  model.add(Dense(5, activation = 'softmax'))\n",
        "  # No need to train first layer (ResNet) model as it is already trained\n",
        "  model.layers[0].trainable = False\n",
        "  model.compile(optimizer='adam', loss='categorical_crossentropy', metrics=['accuracy'])\n",
        "  return model"
      ],
      "execution_count": 89,
      "outputs": []
    },
    {
      "cell_type": "code",
      "metadata": {
        "id": "RVryG5IQ8oBd",
        "colab_type": "code",
        "colab": {}
      },
      "source": [
        " # Early Stopping Parameter\n",
        "cb_early_stopper = EarlyStopping(monitor = 'val_loss', patience = 50)"
      ],
      "execution_count": 90,
      "outputs": []
    },
    {
      "cell_type": "markdown",
      "metadata": {
        "id": "Dtxjxm8e8lMH",
        "colab_type": "text"
      },
      "source": [
        "Model 1 implementation"
      ]
    },
    {
      "cell_type": "code",
      "metadata": {
        "id": "un0WYVXZ7X9y",
        "colab_type": "code",
        "colab": {
          "base_uri": "https://localhost:8080/",
          "height": 50
        },
        "outputId": "f07a4313-da60-4f53-ed88-f3f7e4d50a0c"
      },
      "source": [
        "df1 = pd.read_csv(initial_data_csv_path)\n",
        "df1 = df1.drop(['x_min','x_max','y_min','y_max'], axis=1)\n",
        "# Create Data   \n",
        "print(\"Generating data........\")\n",
        "(X_train, X_test, y_train, y_test) = create_data(df1 ,initial_data_path)\n",
        "# Check the data size\n",
        "X_train.shape, X_test.shape, y_train.shape, y_test.shape"
      ],
      "execution_count": null,
      "outputs": [
        {
          "output_type": "stream",
          "text": [
            "Generating data........\n"
          ],
          "name": "stdout"
        },
        {
          "output_type": "execute_result",
          "data": {
            "text/plain": [
              "((644, 128, 128, 3), (161, 128, 128, 3), (644, 5), (161, 5))"
            ]
          },
          "metadata": {
            "tags": []
          },
          "execution_count": 17
        }
      ]
    },
    {
      "cell_type": "code",
      "metadata": {
        "id": "rh1hBWPQi2T-",
        "colab_type": "code",
        "colab": {
          "base_uri": "https://localhost:8080/",
          "height": 245
        },
        "outputId": "91bc0c49-cd30-460e-cc00-9bd2cf6b856b"
      },
      "source": [
        "model_1 = create_model() # Call ResNet Model Object\n",
        "model_1.summary()"
      ],
      "execution_count": null,
      "outputs": [
        {
          "output_type": "stream",
          "text": [
            "Model: \"sequential_1\"\n",
            "_________________________________________________________________\n",
            "Layer (type)                 Output Shape              Param #   \n",
            "=================================================================\n",
            "resnet50 (Functional)        (None, 2048)              23587712  \n",
            "_________________________________________________________________\n",
            "dropout (Dropout)            (None, 2048)              0         \n",
            "_________________________________________________________________\n",
            "dense_1 (Dense)              (None, 5)                 10245     \n",
            "=================================================================\n",
            "Total params: 23,597,957\n",
            "Trainable params: 10,245\n",
            "Non-trainable params: 23,587,712\n",
            "_________________________________________________________________\n"
          ],
          "name": "stdout"
        }
      ]
    },
    {
      "cell_type": "code",
      "metadata": {
        "id": "zRQuDVxzm0XK",
        "colab_type": "code",
        "colab": {
          "base_uri": "https://localhost:8080/",
          "height": 1000
        },
        "outputId": "de571219-3749-4bbf-b55d-149d24f6341b"
      },
      "source": [
        "# Model fit\n",
        "history = model_1.fit(X_train, y_train, epochs=100, batch_size=50, validation_split=0.20, callbacks = [cb_early_stopper])"
      ],
      "execution_count": null,
      "outputs": [
        {
          "output_type": "stream",
          "text": [
            "Epoch 1/100\n",
            "11/11 [==============================] - 2s 227ms/step - loss: 2.3583 - accuracy: 0.2058 - val_loss: 1.8466 - val_accuracy: 0.2481\n",
            "Epoch 2/100\n",
            "11/11 [==============================] - 1s 129ms/step - loss: 1.8987 - accuracy: 0.3126 - val_loss: 1.5621 - val_accuracy: 0.3953\n",
            "Epoch 3/100\n",
            "11/11 [==============================] - 1s 127ms/step - loss: 1.5788 - accuracy: 0.4097 - val_loss: 1.6591 - val_accuracy: 0.4031\n",
            "Epoch 4/100\n",
            "11/11 [==============================] - 1s 127ms/step - loss: 1.4152 - accuracy: 0.4291 - val_loss: 1.5729 - val_accuracy: 0.3643\n",
            "Epoch 5/100\n",
            "11/11 [==============================] - 1s 129ms/step - loss: 1.3579 - accuracy: 0.4641 - val_loss: 1.6447 - val_accuracy: 0.3876\n",
            "Epoch 6/100\n",
            "11/11 [==============================] - 1s 129ms/step - loss: 1.1768 - accuracy: 0.5223 - val_loss: 1.6287 - val_accuracy: 0.4186\n",
            "Epoch 7/100\n",
            "11/11 [==============================] - 1s 129ms/step - loss: 1.0656 - accuracy: 0.5825 - val_loss: 1.6364 - val_accuracy: 0.4651\n",
            "Epoch 8/100\n",
            "11/11 [==============================] - 1s 130ms/step - loss: 1.0074 - accuracy: 0.6000 - val_loss: 1.6286 - val_accuracy: 0.4574\n",
            "Epoch 9/100\n",
            "11/11 [==============================] - 1s 129ms/step - loss: 0.9466 - accuracy: 0.6272 - val_loss: 1.6826 - val_accuracy: 0.3953\n",
            "Epoch 10/100\n",
            "11/11 [==============================] - 1s 127ms/step - loss: 0.9560 - accuracy: 0.6175 - val_loss: 1.6997 - val_accuracy: 0.4109\n",
            "Epoch 11/100\n",
            "11/11 [==============================] - 1s 127ms/step - loss: 0.8313 - accuracy: 0.6796 - val_loss: 1.7205 - val_accuracy: 0.4186\n",
            "Epoch 12/100\n",
            "11/11 [==============================] - 1s 129ms/step - loss: 0.7938 - accuracy: 0.7243 - val_loss: 1.7016 - val_accuracy: 0.4264\n",
            "Epoch 13/100\n",
            "11/11 [==============================] - 1s 128ms/step - loss: 0.7705 - accuracy: 0.7029 - val_loss: 1.7314 - val_accuracy: 0.4031\n",
            "Epoch 14/100\n",
            "11/11 [==============================] - 1s 127ms/step - loss: 0.7689 - accuracy: 0.7146 - val_loss: 1.7149 - val_accuracy: 0.4419\n",
            "Epoch 15/100\n",
            "11/11 [==============================] - 1s 128ms/step - loss: 0.7385 - accuracy: 0.7301 - val_loss: 1.7478 - val_accuracy: 0.3953\n",
            "Epoch 16/100\n",
            "11/11 [==============================] - 1s 129ms/step - loss: 0.6645 - accuracy: 0.7689 - val_loss: 1.7750 - val_accuracy: 0.3798\n",
            "Epoch 17/100\n",
            "11/11 [==============================] - 1s 128ms/step - loss: 0.6293 - accuracy: 0.7709 - val_loss: 1.7844 - val_accuracy: 0.3798\n",
            "Epoch 18/100\n",
            "11/11 [==============================] - 1s 128ms/step - loss: 0.5945 - accuracy: 0.7864 - val_loss: 1.8110 - val_accuracy: 0.3643\n",
            "Epoch 19/100\n",
            "11/11 [==============================] - 1s 127ms/step - loss: 0.5956 - accuracy: 0.8019 - val_loss: 1.8086 - val_accuracy: 0.3953\n",
            "Epoch 20/100\n",
            "11/11 [==============================] - 1s 128ms/step - loss: 0.5479 - accuracy: 0.8117 - val_loss: 1.8203 - val_accuracy: 0.3876\n",
            "Epoch 21/100\n",
            "11/11 [==============================] - 1s 128ms/step - loss: 0.5676 - accuracy: 0.7922 - val_loss: 1.8377 - val_accuracy: 0.3798\n",
            "Epoch 22/100\n",
            "11/11 [==============================] - 1s 129ms/step - loss: 0.5303 - accuracy: 0.8155 - val_loss: 1.8419 - val_accuracy: 0.3876\n",
            "Epoch 23/100\n",
            "11/11 [==============================] - 1s 129ms/step - loss: 0.5023 - accuracy: 0.8350 - val_loss: 1.8742 - val_accuracy: 0.3953\n",
            "Epoch 24/100\n",
            "11/11 [==============================] - 1s 128ms/step - loss: 0.4927 - accuracy: 0.8155 - val_loss: 1.9145 - val_accuracy: 0.3798\n",
            "Epoch 25/100\n",
            "11/11 [==============================] - 1s 129ms/step - loss: 0.4593 - accuracy: 0.8408 - val_loss: 1.9240 - val_accuracy: 0.3643\n",
            "Epoch 26/100\n",
            "11/11 [==============================] - 1s 128ms/step - loss: 0.4537 - accuracy: 0.8485 - val_loss: 1.9363 - val_accuracy: 0.3488\n",
            "Epoch 27/100\n",
            "11/11 [==============================] - 1s 129ms/step - loss: 0.4247 - accuracy: 0.8718 - val_loss: 1.9122 - val_accuracy: 0.3643\n",
            "Epoch 28/100\n",
            "11/11 [==============================] - 1s 130ms/step - loss: 0.4511 - accuracy: 0.8485 - val_loss: 1.9123 - val_accuracy: 0.3411\n",
            "Epoch 29/100\n",
            "11/11 [==============================] - 1s 128ms/step - loss: 0.4464 - accuracy: 0.8621 - val_loss: 1.9473 - val_accuracy: 0.3798\n",
            "Epoch 30/100\n",
            "11/11 [==============================] - 1s 127ms/step - loss: 0.4048 - accuracy: 0.8718 - val_loss: 1.9315 - val_accuracy: 0.3411\n",
            "Epoch 31/100\n",
            "11/11 [==============================] - 1s 129ms/step - loss: 0.4026 - accuracy: 0.8777 - val_loss: 1.9464 - val_accuracy: 0.3643\n",
            "Epoch 32/100\n",
            "11/11 [==============================] - 1s 128ms/step - loss: 0.3973 - accuracy: 0.8874 - val_loss: 1.9597 - val_accuracy: 0.3333\n",
            "Epoch 33/100\n",
            "11/11 [==============================] - 1s 128ms/step - loss: 0.3773 - accuracy: 0.8893 - val_loss: 1.9690 - val_accuracy: 0.3411\n",
            "Epoch 34/100\n",
            "11/11 [==============================] - 1s 128ms/step - loss: 0.3561 - accuracy: 0.8913 - val_loss: 1.9487 - val_accuracy: 0.3411\n",
            "Epoch 35/100\n",
            "11/11 [==============================] - 1s 128ms/step - loss: 0.3357 - accuracy: 0.9087 - val_loss: 1.9684 - val_accuracy: 0.3643\n",
            "Epoch 36/100\n",
            "11/11 [==============================] - 1s 129ms/step - loss: 0.3508 - accuracy: 0.9049 - val_loss: 1.9778 - val_accuracy: 0.3488\n",
            "Epoch 37/100\n",
            "11/11 [==============================] - 1s 129ms/step - loss: 0.3186 - accuracy: 0.9223 - val_loss: 1.9906 - val_accuracy: 0.4031\n",
            "Epoch 38/100\n",
            "11/11 [==============================] - 1s 129ms/step - loss: 0.3432 - accuracy: 0.8990 - val_loss: 2.0227 - val_accuracy: 0.3643\n",
            "Epoch 39/100\n",
            "11/11 [==============================] - 1s 129ms/step - loss: 0.3170 - accuracy: 0.9087 - val_loss: 1.9999 - val_accuracy: 0.3488\n",
            "Epoch 40/100\n",
            "11/11 [==============================] - 1s 129ms/step - loss: 0.3604 - accuracy: 0.8913 - val_loss: 2.0605 - val_accuracy: 0.3566\n",
            "Epoch 41/100\n",
            "11/11 [==============================] - 1s 129ms/step - loss: 0.3011 - accuracy: 0.9126 - val_loss: 2.0288 - val_accuracy: 0.3643\n",
            "Epoch 42/100\n",
            "11/11 [==============================] - 1s 128ms/step - loss: 0.2921 - accuracy: 0.9340 - val_loss: 2.0278 - val_accuracy: 0.3488\n",
            "Epoch 43/100\n",
            "11/11 [==============================] - 1s 130ms/step - loss: 0.2884 - accuracy: 0.9223 - val_loss: 2.0584 - val_accuracy: 0.3643\n",
            "Epoch 44/100\n",
            "11/11 [==============================] - 1s 129ms/step - loss: 0.2736 - accuracy: 0.9262 - val_loss: 2.0898 - val_accuracy: 0.3411\n",
            "Epoch 45/100\n",
            "11/11 [==============================] - 1s 129ms/step - loss: 0.2722 - accuracy: 0.9262 - val_loss: 2.0796 - val_accuracy: 0.3411\n",
            "Epoch 46/100\n",
            "11/11 [==============================] - 1s 129ms/step - loss: 0.2599 - accuracy: 0.9456 - val_loss: 2.0892 - val_accuracy: 0.3411\n",
            "Epoch 47/100\n",
            "11/11 [==============================] - 1s 130ms/step - loss: 0.2802 - accuracy: 0.9282 - val_loss: 2.1237 - val_accuracy: 0.3256\n",
            "Epoch 48/100\n",
            "11/11 [==============================] - 1s 129ms/step - loss: 0.2665 - accuracy: 0.9320 - val_loss: 2.1113 - val_accuracy: 0.3488\n",
            "Epoch 49/100\n",
            "11/11 [==============================] - 1s 129ms/step - loss: 0.2629 - accuracy: 0.9379 - val_loss: 2.1808 - val_accuracy: 0.3488\n",
            "Epoch 50/100\n",
            "11/11 [==============================] - 1s 129ms/step - loss: 0.2432 - accuracy: 0.9456 - val_loss: 2.1381 - val_accuracy: 0.3101\n",
            "Epoch 51/100\n",
            "11/11 [==============================] - 1s 130ms/step - loss: 0.2464 - accuracy: 0.9476 - val_loss: 2.1454 - val_accuracy: 0.3178\n",
            "Epoch 52/100\n",
            "11/11 [==============================] - 1s 130ms/step - loss: 0.2494 - accuracy: 0.9398 - val_loss: 2.1749 - val_accuracy: 0.3566\n"
          ],
          "name": "stdout"
        }
      ]
    },
    {
      "cell_type": "code",
      "metadata": {
        "id": "tRfXJ5cBm9TA",
        "colab_type": "code",
        "colab": {
          "base_uri": "https://localhost:8080/",
          "height": 66
        },
        "outputId": "877d846b-05e1-4968-93c8-a16e96eebe3b"
      },
      "source": [
        "# evaluate the model\n",
        "_, train_acc = model_1.evaluate(X_train, y_train)\n",
        "_, test_acc = model_1.evaluate(X_test, y_test)\n",
        "print('Train: %.3f, Test: %.3f' % (train_acc, test_acc))"
      ],
      "execution_count": null,
      "outputs": [
        {
          "output_type": "stream",
          "text": [
            "21/21 [==============================] - 2s 92ms/step - loss: 0.5565 - accuracy: 0.8680\n",
            "6/6 [==============================] - 1s 103ms/step - loss: 2.2451 - accuracy: 0.4037\n",
            "Train: 0.868, Test: 0.404\n"
          ],
          "name": "stdout"
        }
      ]
    },
    {
      "cell_type": "code",
      "metadata": {
        "id": "Frawr25Vm-wG",
        "colab_type": "code",
        "colab": {
          "base_uri": "https://localhost:8080/",
          "height": 527
        },
        "outputId": "dc9f8f2f-0391-4b65-cb00-42535e0cb329"
      },
      "source": [
        "\n",
        "# plot accuracy during training\n",
        "pyplot.subplot(211)\n",
        "pyplot.title('Accuracy')\n",
        "pyplot.plot(history.history['accuracy'], label='train')\n",
        "pyplot.plot(history.history['val_accuracy'], label='test')\n",
        "pyplot.legend()\n",
        "pyplot.show()\n",
        "\n",
        "# plot loss during training\n",
        "pyplot.subplot(212)\n",
        "pyplot.title('Loss')\n",
        "pyplot.plot(history.history['loss'], label='train')\n",
        "pyplot.plot(history.history['val_loss'], label='val')\n",
        "pyplot.legend()\n"
      ],
      "execution_count": null,
      "outputs": [
        {
          "output_type": "display_data",
          "data": {
            "image/png": "[encoded data removed]",
            "text/plain": [
              "<Figure size 720x576 with 1 Axes>"
            ]
          },
          "metadata": {
            "tags": [],
            "needs_background": "light"
          }
        },
        {
          "output_type": "execute_result",
          "data": {
            "text/plain": [
              "<matplotlib.legend.Legend at 0x7ff2670648d0>"
            ]
          },
          "metadata": {
            "tags": []
          },
          "execution_count": 26
        },
        {
          "output_type": "display_data",
          "data": {
            "image/png": "[encoded data removed]",
            "text/plain": [
              "<Figure size 720x576 with 1 Axes>"
            ]
          },
          "metadata": {
            "tags": [],
            "needs_background": "light"
          }
        }
      ]
    },
    {
      "cell_type": "markdown",
      "metadata": {
        "id": "Y8uHKi-W34zK",
        "colab_type": "text"
      },
      "source": [
        "# **Model implementation on Augmented Data**"
      ]
    },
    {
      "cell_type": "code",
      "metadata": {
        "id": "NCM5xbmwR2-7",
        "colab_type": "code",
        "colab": {
          "base_uri": "https://localhost:8080/",
          "height": 52
        },
        "outputId": "32722bad-90cd-43bb-fe0e-10be402f41e6"
      },
      "source": [
        "df2 = pd.read_csv(final_data_csv_path)\n",
        "# Create Data   \n",
        "print(\"Generating data........\")\n",
        "(x_train, x_test, Y_train, Y_test) = create_data(df2 ,data_path)\n",
        "# Check the data size\n",
        "x_train.shape, x_test.shape, Y_train.shape, Y_test.shape"
      ],
      "execution_count": 104,
      "outputs": [
        {
          "output_type": "stream",
          "text": [
            "Generating data........\n"
          ],
          "name": "stdout"
        },
        {
          "output_type": "execute_result",
          "data": {
            "text/plain": [
              "((2753, 128, 128, 3), (689, 128, 128, 3), (2753, 5), (689, 5))"
            ]
          },
          "metadata": {
            "tags": []
          },
          "execution_count": 104
        }
      ]
    },
    {
      "cell_type": "code",
      "metadata": {
        "id": "xMX_iAiPBv81",
        "colab_type": "code",
        "colab": {
          "base_uri": "https://localhost:8080/",
          "height": 1000
        },
        "outputId": "36af2548-afed-49ae-ea68-12b7b7887349"
      },
      "source": [
        "model_2 = create_model() # Call ResNet Model Object\n",
        "# Model fit\n",
        "history_2 = model_2.fit(x_train, Y_train, epochs=100, batch_size=50, validation_split=0.20, callbacks = [cb_early_stopper])"
      ],
      "execution_count": 32,
      "outputs": [
        {
          "output_type": "stream",
          "text": [
            "Epoch 1/100\n",
            "45/45 [==============================] - 7s 162ms/step - loss: 1.3438 - accuracy: 0.5381 - val_loss: 0.8488 - val_accuracy: 0.6951\n",
            "Epoch 2/100\n",
            "45/45 [==============================] - 6s 137ms/step - loss: 0.7471 - accuracy: 0.7371 - val_loss: 0.6846 - val_accuracy: 0.7423\n",
            "Epoch 3/100\n",
            "45/45 [==============================] - 6s 137ms/step - loss: 0.5824 - accuracy: 0.7720 - val_loss: 0.6452 - val_accuracy: 0.7604\n",
            "Epoch 4/100\n",
            "45/45 [==============================] - 6s 138ms/step - loss: 0.5464 - accuracy: 0.7902 - val_loss: 0.6020 - val_accuracy: 0.7768\n",
            "Epoch 5/100\n",
            "45/45 [==============================] - 6s 138ms/step - loss: 0.4427 - accuracy: 0.8324 - val_loss: 0.5330 - val_accuracy: 0.8040\n",
            "Epoch 6/100\n",
            "45/45 [==============================] - 6s 138ms/step - loss: 0.3973 - accuracy: 0.8483 - val_loss: 0.5131 - val_accuracy: 0.8167\n",
            "Epoch 7/100\n",
            "45/45 [==============================] - 6s 140ms/step - loss: 0.3540 - accuracy: 0.8660 - val_loss: 0.4991 - val_accuracy: 0.8058\n",
            "Epoch 8/100\n",
            "45/45 [==============================] - 6s 139ms/step - loss: 0.3356 - accuracy: 0.8697 - val_loss: 0.4718 - val_accuracy: 0.8258\n",
            "Epoch 9/100\n",
            "45/45 [==============================] - 6s 139ms/step - loss: 0.2976 - accuracy: 0.8865 - val_loss: 0.4917 - val_accuracy: 0.8258\n",
            "Epoch 10/100\n",
            "45/45 [==============================] - 6s 139ms/step - loss: 0.2889 - accuracy: 0.8910 - val_loss: 0.4487 - val_accuracy: 0.8421\n",
            "Epoch 11/100\n",
            "45/45 [==============================] - 6s 139ms/step - loss: 0.2600 - accuracy: 0.9069 - val_loss: 0.4345 - val_accuracy: 0.8457\n",
            "Epoch 12/100\n",
            "45/45 [==============================] - 6s 139ms/step - loss: 0.2536 - accuracy: 0.9137 - val_loss: 0.4482 - val_accuracy: 0.8421\n",
            "Epoch 13/100\n",
            "45/45 [==============================] - 6s 140ms/step - loss: 0.2565 - accuracy: 0.9028 - val_loss: 0.4423 - val_accuracy: 0.8385\n",
            "Epoch 14/100\n",
            "45/45 [==============================] - 6s 139ms/step - loss: 0.2237 - accuracy: 0.9264 - val_loss: 0.4542 - val_accuracy: 0.8348\n",
            "Epoch 15/100\n",
            "45/45 [==============================] - 6s 139ms/step - loss: 0.2200 - accuracy: 0.9237 - val_loss: 0.4481 - val_accuracy: 0.8367\n",
            "Epoch 16/100\n",
            "45/45 [==============================] - 6s 139ms/step - loss: 0.2116 - accuracy: 0.9273 - val_loss: 0.4262 - val_accuracy: 0.8457\n",
            "Epoch 17/100\n",
            "45/45 [==============================] - 6s 139ms/step - loss: 0.1961 - accuracy: 0.9355 - val_loss: 0.4120 - val_accuracy: 0.8530\n",
            "Epoch 18/100\n",
            "45/45 [==============================] - 6s 140ms/step - loss: 0.1983 - accuracy: 0.9278 - val_loss: 0.4037 - val_accuracy: 0.8603\n",
            "Epoch 19/100\n",
            "45/45 [==============================] - 6s 140ms/step - loss: 0.1889 - accuracy: 0.9355 - val_loss: 0.4126 - val_accuracy: 0.8639\n",
            "Epoch 20/100\n",
            "45/45 [==============================] - 6s 139ms/step - loss: 0.1758 - accuracy: 0.9441 - val_loss: 0.4089 - val_accuracy: 0.8548\n",
            "Epoch 21/100\n",
            "45/45 [==============================] - 6s 140ms/step - loss: 0.1689 - accuracy: 0.9382 - val_loss: 0.4049 - val_accuracy: 0.8548\n",
            "Epoch 22/100\n",
            "45/45 [==============================] - 6s 139ms/step - loss: 0.1627 - accuracy: 0.9460 - val_loss: 0.3929 - val_accuracy: 0.8530\n",
            "Epoch 23/100\n",
            "45/45 [==============================] - 6s 139ms/step - loss: 0.1774 - accuracy: 0.9369 - val_loss: 0.3838 - val_accuracy: 0.8603\n",
            "Epoch 24/100\n",
            "45/45 [==============================] - 6s 140ms/step - loss: 0.1624 - accuracy: 0.9432 - val_loss: 0.3852 - val_accuracy: 0.8603\n",
            "Epoch 25/100\n",
            "45/45 [==============================] - 6s 140ms/step - loss: 0.1727 - accuracy: 0.9391 - val_loss: 0.3881 - val_accuracy: 0.8657\n",
            "Epoch 26/100\n",
            "45/45 [==============================] - 6s 140ms/step - loss: 0.1722 - accuracy: 0.9342 - val_loss: 0.4258 - val_accuracy: 0.8639\n",
            "Epoch 27/100\n",
            "45/45 [==============================] - 6s 139ms/step - loss: 0.1530 - accuracy: 0.9505 - val_loss: 0.4127 - val_accuracy: 0.8494\n",
            "Epoch 28/100\n",
            "45/45 [==============================] - 6s 139ms/step - loss: 0.1522 - accuracy: 0.9478 - val_loss: 0.4032 - val_accuracy: 0.8639\n",
            "Epoch 29/100\n",
            "45/45 [==============================] - 6s 140ms/step - loss: 0.1520 - accuracy: 0.9460 - val_loss: 0.3861 - val_accuracy: 0.8639\n",
            "Epoch 30/100\n",
            "45/45 [==============================] - 6s 139ms/step - loss: 0.1374 - accuracy: 0.9546 - val_loss: 0.3969 - val_accuracy: 0.8639\n",
            "Epoch 31/100\n",
            "45/45 [==============================] - 6s 139ms/step - loss: 0.1413 - accuracy: 0.9460 - val_loss: 0.3902 - val_accuracy: 0.8603\n",
            "Epoch 32/100\n",
            "45/45 [==============================] - 6s 139ms/step - loss: 0.1523 - accuracy: 0.9437 - val_loss: 0.3854 - val_accuracy: 0.8748\n",
            "Epoch 33/100\n",
            "45/45 [==============================] - 6s 139ms/step - loss: 0.1463 - accuracy: 0.9505 - val_loss: 0.3660 - val_accuracy: 0.8820\n",
            "Epoch 34/100\n",
            "45/45 [==============================] - 6s 139ms/step - loss: 0.1223 - accuracy: 0.9559 - val_loss: 0.3678 - val_accuracy: 0.8639\n",
            "Epoch 35/100\n",
            "45/45 [==============================] - 6s 140ms/step - loss: 0.1317 - accuracy: 0.9555 - val_loss: 0.4039 - val_accuracy: 0.8711\n",
            "Epoch 36/100\n",
            "45/45 [==============================] - 6s 139ms/step - loss: 0.1285 - accuracy: 0.9564 - val_loss: 0.3665 - val_accuracy: 0.8784\n",
            "Epoch 37/100\n",
            "45/45 [==============================] - 6s 139ms/step - loss: 0.1382 - accuracy: 0.9514 - val_loss: 0.3881 - val_accuracy: 0.8748\n",
            "Epoch 38/100\n",
            "45/45 [==============================] - 6s 139ms/step - loss: 0.1311 - accuracy: 0.9559 - val_loss: 0.3811 - val_accuracy: 0.8748\n",
            "Epoch 39/100\n",
            "45/45 [==============================] - 6s 139ms/step - loss: 0.1264 - accuracy: 0.9587 - val_loss: 0.3762 - val_accuracy: 0.8730\n",
            "Epoch 40/100\n",
            "45/45 [==============================] - 6s 140ms/step - loss: 0.1216 - accuracy: 0.9573 - val_loss: 0.3835 - val_accuracy: 0.8820\n",
            "Epoch 41/100\n",
            "45/45 [==============================] - 6s 139ms/step - loss: 0.1105 - accuracy: 0.9655 - val_loss: 0.3716 - val_accuracy: 0.8784\n",
            "Epoch 42/100\n",
            "45/45 [==============================] - 6s 139ms/step - loss: 0.0996 - accuracy: 0.9687 - val_loss: 0.3848 - val_accuracy: 0.8748\n",
            "Epoch 43/100\n",
            "45/45 [==============================] - 6s 140ms/step - loss: 0.1252 - accuracy: 0.9569 - val_loss: 0.4084 - val_accuracy: 0.8730\n",
            "Epoch 44/100\n",
            "45/45 [==============================] - 6s 139ms/step - loss: 0.1372 - accuracy: 0.9500 - val_loss: 0.3901 - val_accuracy: 0.8748\n",
            "Epoch 45/100\n",
            "45/45 [==============================] - 6s 139ms/step - loss: 0.1231 - accuracy: 0.9573 - val_loss: 0.3819 - val_accuracy: 0.8730\n",
            "Epoch 46/100\n",
            "45/45 [==============================] - 6s 140ms/step - loss: 0.1148 - accuracy: 0.9605 - val_loss: 0.3766 - val_accuracy: 0.8766\n",
            "Epoch 47/100\n",
            "45/45 [==============================] - 6s 140ms/step - loss: 0.1569 - accuracy: 0.9414 - val_loss: 0.3863 - val_accuracy: 0.8766\n",
            "Epoch 48/100\n",
            "45/45 [==============================] - 6s 139ms/step - loss: 0.1086 - accuracy: 0.9619 - val_loss: 0.3767 - val_accuracy: 0.8748\n",
            "Epoch 49/100\n",
            "45/45 [==============================] - 6s 140ms/step - loss: 0.1095 - accuracy: 0.9637 - val_loss: 0.3765 - val_accuracy: 0.8802\n",
            "Epoch 50/100\n",
            "45/45 [==============================] - 6s 139ms/step - loss: 0.1262 - accuracy: 0.9555 - val_loss: 0.3885 - val_accuracy: 0.8784\n",
            "Epoch 51/100\n",
            "45/45 [==============================] - 6s 139ms/step - loss: 0.1069 - accuracy: 0.9637 - val_loss: 0.4009 - val_accuracy: 0.8711\n",
            "Epoch 52/100\n",
            "45/45 [==============================] - 6s 139ms/step - loss: 0.0978 - accuracy: 0.9655 - val_loss: 0.3973 - val_accuracy: 0.8802\n",
            "Epoch 53/100\n",
            "45/45 [==============================] - 6s 139ms/step - loss: 0.1115 - accuracy: 0.9623 - val_loss: 0.3836 - val_accuracy: 0.8730\n",
            "Epoch 54/100\n",
            "45/45 [==============================] - 6s 139ms/step - loss: 0.1076 - accuracy: 0.9619 - val_loss: 0.3774 - val_accuracy: 0.8711\n",
            "Epoch 55/100\n",
            "45/45 [==============================] - 6s 140ms/step - loss: 0.1103 - accuracy: 0.9605 - val_loss: 0.3812 - val_accuracy: 0.8802\n",
            "Epoch 56/100\n",
            "45/45 [==============================] - 6s 141ms/step - loss: 0.0993 - accuracy: 0.9678 - val_loss: 0.3899 - val_accuracy: 0.8875\n",
            "Epoch 57/100\n",
            "45/45 [==============================] - 6s 139ms/step - loss: 0.1041 - accuracy: 0.9632 - val_loss: 0.3845 - val_accuracy: 0.8911\n",
            "Epoch 58/100\n",
            "45/45 [==============================] - 6s 139ms/step - loss: 0.0995 - accuracy: 0.9596 - val_loss: 0.3854 - val_accuracy: 0.8802\n",
            "Epoch 59/100\n",
            "45/45 [==============================] - 6s 139ms/step - loss: 0.0967 - accuracy: 0.9687 - val_loss: 0.3784 - val_accuracy: 0.8875\n",
            "Epoch 60/100\n",
            "45/45 [==============================] - 6s 139ms/step - loss: 0.0947 - accuracy: 0.9682 - val_loss: 0.3941 - val_accuracy: 0.8711\n",
            "Epoch 61/100\n",
            "45/45 [==============================] - 6s 140ms/step - loss: 0.1086 - accuracy: 0.9605 - val_loss: 0.3675 - val_accuracy: 0.8893\n",
            "Epoch 62/100\n",
            "45/45 [==============================] - 6s 140ms/step - loss: 0.0922 - accuracy: 0.9718 - val_loss: 0.3895 - val_accuracy: 0.8857\n",
            "Epoch 63/100\n",
            "45/45 [==============================] - 6s 139ms/step - loss: 0.0937 - accuracy: 0.9700 - val_loss: 0.3739 - val_accuracy: 0.8911\n",
            "Epoch 64/100\n",
            "45/45 [==============================] - 6s 139ms/step - loss: 0.0955 - accuracy: 0.9696 - val_loss: 0.4030 - val_accuracy: 0.8784\n",
            "Epoch 65/100\n",
            "45/45 [==============================] - 6s 138ms/step - loss: 0.0927 - accuracy: 0.9709 - val_loss: 0.4289 - val_accuracy: 0.8820\n",
            "Epoch 66/100\n",
            "45/45 [==============================] - 6s 140ms/step - loss: 0.1439 - accuracy: 0.9487 - val_loss: 0.4206 - val_accuracy: 0.8820\n",
            "Epoch 67/100\n",
            "45/45 [==============================] - 6s 139ms/step - loss: 0.0908 - accuracy: 0.9737 - val_loss: 0.3832 - val_accuracy: 0.8893\n",
            "Epoch 68/100\n",
            "45/45 [==============================] - 6s 139ms/step - loss: 0.0960 - accuracy: 0.9673 - val_loss: 0.4104 - val_accuracy: 0.8838\n",
            "Epoch 69/100\n",
            "45/45 [==============================] - 6s 139ms/step - loss: 0.0888 - accuracy: 0.9732 - val_loss: 0.3988 - val_accuracy: 0.8820\n",
            "Epoch 70/100\n",
            "45/45 [==============================] - 6s 139ms/step - loss: 0.0979 - accuracy: 0.9605 - val_loss: 0.3829 - val_accuracy: 0.8838\n",
            "Epoch 71/100\n",
            "45/45 [==============================] - 6s 139ms/step - loss: 0.0919 - accuracy: 0.9705 - val_loss: 0.3835 - val_accuracy: 0.8911\n",
            "Epoch 72/100\n",
            "45/45 [==============================] - 6s 138ms/step - loss: 0.0922 - accuracy: 0.9696 - val_loss: 0.3986 - val_accuracy: 0.8911\n",
            "Epoch 73/100\n",
            "45/45 [==============================] - 6s 139ms/step - loss: 0.0743 - accuracy: 0.9759 - val_loss: 0.4134 - val_accuracy: 0.8784\n",
            "Epoch 74/100\n",
            "45/45 [==============================] - 6s 138ms/step - loss: 0.0816 - accuracy: 0.9741 - val_loss: 0.4145 - val_accuracy: 0.8766\n",
            "Epoch 75/100\n",
            "45/45 [==============================] - 6s 138ms/step - loss: 0.0894 - accuracy: 0.9700 - val_loss: 0.4258 - val_accuracy: 0.8875\n",
            "Epoch 76/100\n",
            "45/45 [==============================] - 6s 139ms/step - loss: 0.0883 - accuracy: 0.9687 - val_loss: 0.4147 - val_accuracy: 0.8784\n",
            "Epoch 77/100\n",
            "45/45 [==============================] - 6s 139ms/step - loss: 0.0910 - accuracy: 0.9664 - val_loss: 0.4202 - val_accuracy: 0.8911\n",
            "Epoch 78/100\n",
            "45/45 [==============================] - 6s 140ms/step - loss: 0.0839 - accuracy: 0.9737 - val_loss: 0.4278 - val_accuracy: 0.8857\n",
            "Epoch 79/100\n",
            "45/45 [==============================] - 6s 140ms/step - loss: 0.1076 - accuracy: 0.9587 - val_loss: 0.4385 - val_accuracy: 0.8621\n",
            "Epoch 80/100\n",
            "45/45 [==============================] - 6s 139ms/step - loss: 0.0916 - accuracy: 0.9650 - val_loss: 0.4147 - val_accuracy: 0.8838\n",
            "Epoch 81/100\n",
            "45/45 [==============================] - 6s 139ms/step - loss: 0.1099 - accuracy: 0.9600 - val_loss: 0.4088 - val_accuracy: 0.8820\n",
            "Epoch 82/100\n",
            "45/45 [==============================] - 6s 139ms/step - loss: 0.0896 - accuracy: 0.9673 - val_loss: 0.4051 - val_accuracy: 0.8784\n",
            "Epoch 83/100\n",
            "45/45 [==============================] - 6s 138ms/step - loss: 0.0820 - accuracy: 0.9700 - val_loss: 0.4449 - val_accuracy: 0.8766\n"
          ],
          "name": "stdout"
        }
      ]
    },
    {
      "cell_type": "code",
      "metadata": {
        "id": "vbOTiEcjT4oY",
        "colab_type": "code",
        "colab": {
          "base_uri": "https://localhost:8080/",
          "height": 70
        },
        "outputId": "98178271-0de3-4923-b2a6-2cd4ff85d4bc"
      },
      "source": [
        "# Evaluate the model on test Data\n",
        "_, train_acc = model_2.evaluate(x_train, Y_train)\n",
        "_, test_acc = model_2.evaluate(x_test, Y_test)\n",
        "print('Train: %.3f, Test: %.3f' % (train_acc, test_acc))"
      ],
      "execution_count": 33,
      "outputs": [
        {
          "output_type": "stream",
          "text": [
            "87/87 [==============================] - 7s 78ms/step - loss: 0.1118 - accuracy: 0.9717\n",
            "22/22 [==============================] - 2s 73ms/step - loss: 0.4244 - accuracy: 0.8592\n",
            "Train: 0.972, Test: 0.859\n"
          ],
          "name": "stdout"
        }
      ]
    },
    {
      "cell_type": "code",
      "metadata": {
        "id": "CJGSHiHdUPx-",
        "colab_type": "code",
        "colab": {
          "base_uri": "https://localhost:8080/",
          "height": 528
        },
        "outputId": "a1953095-7381-4fc4-ecf1-62b071cf9418"
      },
      "source": [
        "# plot accuracy during training\n",
        "pyplot.subplot(211)\n",
        "pyplot.title('Accuracy')\n",
        "pyplot.plot(history_2.history['accuracy'], label='train')\n",
        "pyplot.plot(history_2.history['val_accuracy'], label='test')\n",
        "pyplot.legend()\n",
        "pyplot.show()\n",
        "\n",
        "# plot loss during training\n",
        "pyplot.subplot(212)\n",
        "pyplot.title('Loss')\n",
        "pyplot.plot(history_2.history['loss'], label='train')\n",
        "pyplot.plot(history_2.history['val_loss'], label='val')\n",
        "pyplot.legend()\n"
      ],
      "execution_count": 34,
      "outputs": [
        {
          "output_type": "display_data",
          "data": {
            "image/png": "[encoded data removed]",
            "text/plain": [
              "<Figure size 720x576 with 1 Axes>"
            ]
          },
          "metadata": {
            "tags": [],
            "needs_background": "light"
          }
        },
        {
          "output_type": "execute_result",
          "data": {
            "text/plain": [
              "<matplotlib.legend.Legend at 0x7fed0ed0ba58>"
            ]
          },
          "metadata": {
            "tags": []
          },
          "execution_count": 34
        },
        {
          "output_type": "display_data",
          "data": {
            "image/png": "[encoded data removed]",
            "text/plain": [
              "<Figure size 720x576 with 1 Axes>"
            ]
          },
          "metadata": {
            "tags": [],
            "needs_background": "light"
          }
        }
      ]
    },
    {
      "cell_type": "markdown",
      "metadata": {
        "id": "l4DS8sHXnp5m",
        "colab_type": "text"
      },
      "source": [
        "Use K-Fold technique to cross validate"
      ]
    },
    {
      "cell_type": "code",
      "metadata": {
        "id": "_QfQ16-Dndky",
        "colab_type": "code",
        "colab": {
          "base_uri": "https://localhost:8080/",
          "height": 70
        },
        "outputId": "46811afd-4c85-4693-8e1a-dfddb3cc73d8"
      },
      "source": [
        "model_k = KerasClassifier(build_fn = create_model, epochs=50, batch_size=30, verbose=1)\n",
        "kfold = KFold(n_splits=2, shuffle=True, random_state=13)\n",
        "results = cross_val_score(model_k, x_train, Y_train, cv = kfold, verbose=10, n_jobs = -1)"
      ],
      "execution_count": 94,
      "outputs": [
        {
          "output_type": "stream",
          "text": [
            "[Parallel(n_jobs=-1)]: Using backend LokyBackend with 2 concurrent workers.\n",
            "[Parallel(n_jobs=-1)]: Done   2 out of   2 | elapsed:  6.1min remaining:    0.0s\n",
            "[Parallel(n_jobs=-1)]: Done   2 out of   2 | elapsed:  6.1min finished\n"
          ],
          "name": "stderr"
        }
      ]
    },
    {
      "cell_type": "code",
      "metadata": {
        "id": "4BiLfiJ_n7IG",
        "colab_type": "code",
        "colab": {
          "base_uri": "https://localhost:8080/",
          "height": 34
        },
        "outputId": "1aff18b3-8e56-4a04-ee1b-c84a76d85eea"
      },
      "source": [
        "print(\"Baseline: %.2f%% (%.2f%%)\" % (results.mean()*100, results.std()*100))"
      ],
      "execution_count": 96,
      "outputs": [
        {
          "output_type": "stream",
          "text": [
            "Baseline: 84.27% (0.41%)\n"
          ],
          "name": "stdout"
        }
      ]
    },
    {
      "cell_type": "markdown",
      "metadata": {
        "id": "wEtExQxeWV1i",
        "colab_type": "text"
      },
      "source": [
        "## **ResNet50 Model Prediction**"
      ]
    },
    {
      "cell_type": "code",
      "metadata": {
        "id": "XfWL08IIReCb",
        "colab_type": "code",
        "colab": {}
      },
      "source": [
        "#Making prediction\n",
        "y_pred=model_3.predict_classes(x_test)\n",
        "y_true=np.argmax(Y_test,axis=1)"
      ],
      "execution_count": 35,
      "outputs": []
    },
    {
      "cell_type": "code",
      "metadata": {
        "id": "oJ8ILhKeRmhD",
        "colab_type": "code",
        "colab": {}
      },
      "source": [
        "#Defining function for confusion matrix plot\n",
        "def plot_confusion_matrix(y_true, y_pred, classes,\n",
        "                          normalize=False,\n",
        "                          title=None,\n",
        "                          cmap=plt.cm.Blues):\n",
        "\n",
        "    if not title:\n",
        "        if normalize:\n",
        "            title = 'Normalized confusion matrix'\n",
        "        else:\n",
        "            title = 'Confusion matrix, without normalization'\n",
        "\n",
        "    #Compute confusion matrix\n",
        "    cm = confusion_matrix(y_true, y_pred)\n",
        "    if normalize:\n",
        "        cm = cm.astype('float') / cm.sum(axis=1)[:, np.newaxis]\n",
        "        print(\"Normalized confusion matrix\")\n",
        "    else:\n",
        "        print('Confusion matrix, without normalization')\n",
        "\n",
        "\n",
        "    fig, ax = plt.subplots(figsize=(8,8))\n",
        "    im = ax.imshow(cm, interpolation='nearest', cmap=cmap)\n",
        "    ax.figure.colorbar(im, ax=ax)\n",
        "    # We want to show all ticks...\n",
        "    ax.set(xticks=np.arange(cm.shape[1]),\n",
        "           yticks=np.arange(cm.shape[0]),\n",
        "           # ... and label them with the respective list entries\n",
        "           xticklabels=classes, yticklabels=classes,\n",
        "           title=title,\n",
        "           ylabel='True label',\n",
        "           xlabel='Predicted label')\n",
        "\n",
        "\n",
        "    #Rotate the tick labels and set their alignment.\n",
        "    plt.setp(ax.get_xticklabels(), rotation=45, ha=\"right\",\n",
        "             rotation_mode=\"anchor\")\n",
        "    # Loop over data dimensions and create text annotations.\n",
        "    fmt = '.2f' if normalize else 'd'\n",
        "    thresh = cm.max() / 2.\n",
        "    for i in range(cm.shape[0]):\n",
        "        for j in range(cm.shape[1]):\n",
        "            ax.text(j, i, format(cm[i, j], fmt),\n",
        "                    ha=\"center\", va=\"center\",\n",
        "                    color=\"white\" if cm[i, j] > thresh else \"black\")\n",
        "    fig.tight_layout()\n",
        "    return ax\n",
        "\n",
        "np.set_printoptions(precision=2)\n"
      ],
      "execution_count": 69,
      "outputs": []
    },
    {
      "cell_type": "code",
      "metadata": {
        "id": "cGQMtgzwRsve",
        "colab_type": "code",
        "colab": {}
      },
      "source": [
        "#Plotting the confusion matrix\n",
        "confusion_mtx = confusion_matrix(y_true, y_pred)\n",
        "\n",
        "#Defining the class labels\n",
        "class_names=['Clear plastic bottle', 'Drink can', 'Plastic film', 'Cigarette','Plastic straw']"
      ],
      "execution_count": 70,
      "outputs": []
    },
    {
      "cell_type": "code",
      "metadata": {
        "id": "09ncLQoQV_8y",
        "colab_type": "code",
        "colab": {
          "base_uri": "https://localhost:8080/",
          "height": 586
        },
        "outputId": "2c1e0c99-6f37-46e6-ea04-4dc9d7da153d"
      },
      "source": [
        "#Plotting normalized confusion matrix\n",
        "plot_confusion_matrix(y_true, y_pred, classes = class_names, normalize = True, title = 'Normalized confusion matrix')"
      ],
      "execution_count": 71,
      "outputs": [
        {
          "output_type": "stream",
          "text": [
            "Normalized confusion matrix\n"
          ],
          "name": "stdout"
        },
        {
          "output_type": "execute_result",
          "data": {
            "text/plain": [
              "<matplotlib.axes._subplots.AxesSubplot at 0x7fed0e2df048>"
            ]
          },
          "metadata": {
            "tags": []
          },
          "execution_count": 71
        },
        {
          "output_type": "display_data",
          "data": {
            "image/png": "[encoded data removed]",
            "text/plain": [
              "<Figure size 576x576 with 2 Axes>"
            ]
          },
          "metadata": {
            "tags": [],
            "needs_background": "light"
          }
        }
      ]
    }
  ]
}